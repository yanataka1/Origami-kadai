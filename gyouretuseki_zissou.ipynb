{
 "cells": [
  {
   "cell_type": "markdown",
   "id": "3531d32d",
   "metadata": {},
   "source": [
    "# 行列積の実装"
   ]
  },
  {
   "cell_type": "markdown",
   "id": "994ccc6c",
   "metadata": {},
   "source": [
    "import numpy as np\n",
    "\n",
    "a_ndarray = np.array$([[-1, 2, 3], [4, -5, 6], [7, 8, -9]])$\n",
    "\n",
    "b_ndarray = np.array$([[0, 2, 1], [0, 2, -8], [2, 9, -1]])$\n",
    "\n",
    "## 【問題1】行列積を手計算する\n",
    "AとBの行列積を手計算で解いてください。\n",
    "\n",
    "計算過程もマークダウンテキストを用いて説明してください。"
   ]
  },
  {
   "cell_type": "markdown",
   "id": "171bc19d",
   "metadata": {},
   "source": [
    "### 計算過程\n",
    "[A] * [B] =[[(-1*0+2*0+3+2),(-1*2+2*2+3*9),(-1*1+2*(-8)+3*(-1)],\n",
    "        [(4*0+(-5)*0+6*2),(4*2+(-5)*2+6*9),(4*1+(-5)*(-8)+6*(-1))],\n",
    "        [(7*0+8*0+(-9)*2),(7*2+8*2+(-9)*9),(7*1+8*(-8)+(-9)*(-1))]] \n",
    "        \n",
    "[A] * [B]=[[6 29 -20]\n",
    "          [12 52 38]\n",
    "          [-18 -51 -48]]\n",
    "          \n",
    "[A] * [B] = \\begin{bmatrix}\n",
    "6 & 29 &-20\\\\ 12 & 52 &38\\\\ -18 & -51 & -48\n",
    "\\end{bmatrix}"
   ]
  },
  {
   "cell_type": "markdown",
   "id": "7a0c431c",
   "metadata": {},
   "source": [
    "\n",
    "## 【問題2】NumPyの関数による計算\n",
    "この行列積はNumPyのnp.matmul()やnp.dot()、または@演算子を使うことで簡単に計算できます。\n",
    "\n",
    "\n",
    "これらを使い行列積を計算してください。\n",
    "\n",
    "\n",
    "numpy.matmul — NumPy v1.16 Manual\n",
    "\n",
    "\n",
    "numpy.dot — NumPy v1.16 Manual\n",
    "\n",
    "\n",
    "《3種類の違い》\n",
    "\n",
    "\n",
    "np.matmul()とnp.dot()は3次元以上の配列で挙動が変わります。@演算子はnp.matmul()と同じ働きをします。\n",
    "\n",
    "\n",
    "今回のような2次元配列の行列積ではnp.matmul()や@演算子が公式に推奨されています。以下はnp.dot()の説明からの引用です。\n",
    "\n",
    "### If both a and b are 2-D arrays, it is matrix multiplication, but using matmul or a @ b is preferred."
   ]
  },
  {
   "cell_type": "code",
   "execution_count": 1,
   "id": "22d9fed1",
   "metadata": {},
   "outputs": [
    {
     "data": {
      "text/plain": [
       "array([[  6,  29, -20],\n",
       "       [ 12,  52,  38],\n",
       "       [-18, -51, -48]])"
      ]
     },
     "execution_count": 1,
     "metadata": {},
     "output_type": "execute_result"
    }
   ],
   "source": [
    "import numpy as np\n",
    "a_ndarray = np.array([[-1, 2, 3], [4, -5, 6], [7, 8, -9]])\n",
    "b_ndarray = np.array([[0, 2, 1], [0, 2, -8], [2, 9, -1]])\n",
    "np.matmul(a_ndarray, b_ndarray)"
   ]
  },
  {
   "cell_type": "markdown",
   "id": "2671c660",
   "metadata": {},
   "source": [
    "np.matmul()やnp.dot()、または@演算子を使わずに、手計算で行った計算過程をNumPyによるスクラッチ実装で再現していきましょう。これにより、行列積の計算に対する理解を深めます。ここで考えるのは行列AとBのような次元が2の配列に限定します。\n",
    "\n",
    "## 【問題3】ある要素の計算を実装\n",
    "手計算をする際はまず行列Aの0行目と行列Bの0列目に注目し、以下の計算を行ったかと思います。\n",
    "\n",
    "\n",
    "$1.行列Aの(0,0)の要素 $a_{0, 0}$ と行列Bの(0,0)の要素 $b_{0, 0}$ を掛け合わせる$\n",
    "$2.行列Aの(0,1)の要素 $a_{0, 1}$ と行列Bの(1,0)の要素 $b_{1, 0}$ を掛け合わせる$\n",
    "$3.行列Aの(0,2)の要素 $a_{0, 2}$ と行列Bの(2,0)の要素 $b_{2, 0}$ を掛け合わせる$\n",
    "$4.それらの値をすべて足し合わせる$\n",
    "\n",
    "数式で表すと\n",
    "$$a = \\sum_{k=0}^{2}a_{0,k}b_{k,0} \\quad$$\n",
    "\n",
    "\n",
    "この計算をnp.matmul()やnp.dot()、または@演算子を使わずに行うコードを書いてください。"
   ]
  },
  {
   "cell_type": "code",
   "execution_count": 20,
   "id": "7bab9592",
   "metadata": {},
   "outputs": [
    {
     "name": "stdout",
     "output_type": "stream",
     "text": [
      "[[  6.  29. -20.]\n",
      " [ 12.  52.  38.]\n",
      " [-18. -51. -48.]]\n"
     ]
    }
   ],
   "source": [
    "import numpy as np\n",
    "\n",
    "a = np.array([[-1, 2, 3],\n",
    "              [4, -5, 6],\n",
    "              [7, 8, -9]])\n",
    "b = np.array([[0, 2, 1],\n",
    "              [0, 2, -8],\n",
    "              [2, 9, -1]])\n",
    "x = np.zeros((3, 3))\n",
    "ii = 3\n",
    "kk = 3\n",
    "jj = 3\n",
    "\n",
    "for i in range(ii):\n",
    "    for j in range(jj):\n",
    "        for k in range(kk):\n",
    "            x[i][j] = x[i][j] + a[i][k] * b[k][j]\n",
    "print(x)"
   ]
  },
  {
   "cell_type": "markdown",
   "id": "56447a4d",
   "metadata": {},
   "source": [
    "### 別回答1"
   ]
  },
  {
   "cell_type": "code",
   "execution_count": 33,
   "id": "277f5dc5",
   "metadata": {},
   "outputs": [
    {
     "name": "stdout",
     "output_type": "stream",
     "text": [
      "[[  6.  29. -20.]\n",
      " [ 12.  52.  38.]\n",
      " [-18. -51. -48.]]\n"
     ]
    }
   ],
   "source": [
    "a = np.array([[-1, 2, 3],\n",
    "              [4, -5, 6],\n",
    "              [7, 8, -9]])\n",
    "b = np.array([[0, 2, 1],\n",
    "              [0, 2, -8],\n",
    "              [2, 9, -1]])\n",
    "    \n",
    "c = np.zeros((len(a[0]), len(a)))\n",
    "\n",
    "for i in range(len(a[0])):\n",
    "    for j in range(len(a)):\n",
    "        for k in range(len(a[0])):\n",
    "            c[i][j] =  c[i][j] + a[i][k] * b[k][j]\n",
    "\n",
    "print(c)"
   ]
  },
  {
   "cell_type": "markdown",
   "id": "e587bbe5",
   "metadata": {},
   "source": [
    "### 別回答2"
   ]
  },
  {
   "cell_type": "code",
   "execution_count": 51,
   "id": "c9d03fd2",
   "metadata": {},
   "outputs": [
    {
     "data": {
      "text/plain": [
       "[[6, 29, -20], [12, 52, 38], [-18, -51, -48]]"
      ]
     },
     "execution_count": 51,
     "metadata": {},
     "output_type": "execute_result"
    }
   ],
   "source": [
    "from operator import mul\n",
    "a_ndarray = [[-1, 2, 3], [4, -5, 6], [7, 8, -9]]\n",
    "b_ndarray = [[0, 2, 1], [0, 2, -8], [2, 9, -1]]\n",
    "[[sum(map(mul, row, col)) for col in zip(*array2)] for row in array1]"
   ]
  },
  {
   "cell_type": "markdown",
   "id": "7495e79a",
   "metadata": {},
   "source": [
    "## 【問題4】行列積を行う関数の作成\n",
    "問題3のコードを拡張し、行列積のスクラッチ実装を完成させてください。行列AとBを引数に受け取り、行列積を返す関数としてください。\n",
    "\n",
    "\n",
    "行列積を計算する場合は、問題3の計算を異なる行や列に対して繰り返していくことになります。\n",
    "\n",
    "\n",
    "計算結果である $3 \\times 3$ の行列Cの各要素 $c_{i, j}$ は数式で表すと次のようになります。\n",
    "\n",
    "\n",
    "$$c_{i,j} = \\sum^{2}_{k=0}a_{i,k}b_{k,j}\\quad$$\n",
    "for文を使い、ndarrayのインデックスを動かしていくことで、合計9つの要素が計算できます。インデックス $i$ や $j$ を1増やすと、次の行や列に移ることができます。"
   ]
  },
  {
   "cell_type": "code",
   "execution_count": 61,
   "id": "94efd444",
   "metadata": {},
   "outputs": [
    {
     "name": "stdout",
     "output_type": "stream",
     "text": [
      "[[  6.  29. -20.]\n",
      " [ 12.  52.  38.]\n",
      " [-18. -51. -48.]]\n"
     ]
    }
   ],
   "source": [
    "import numpy as np\n",
    "a_ndarray = np.array([[-1, 2, 3], [4, -5, 6], [7, 8, -9]])\n",
    "b_ndarray = np.array([[0, 2, 1], [0, 2, -8], [2, 9, -1]])\n",
    "\n",
    "\n",
    "\n",
    "x = np.zeros((3, 3))\n",
    "ii = 3\n",
    "kk = 3\n",
    "jj = 3\n",
    "def matrix_products(queue1, queue2):\n",
    "    for i in range(ii):\n",
    "        for j in range(jj):\n",
    "            for k in range(kk):\n",
    "                x[i][j] = x[i][j] + a[i][k] * b[k][j]\n",
    "    return x        \n",
    "            \n",
    "print(matrix_products(a_ndarray,b_ndarray))"
   ]
  },
  {
   "cell_type": "markdown",
   "id": "348ab838",
   "metadata": {},
   "source": [
    "### 別回答１"
   ]
  },
  {
   "cell_type": "code",
   "execution_count": 36,
   "id": "3a654ddd",
   "metadata": {},
   "outputs": [
    {
     "name": "stdout",
     "output_type": "stream",
     "text": [
      "[[  6.  29. -20.]\n",
      " [ 12.  52.  38.]\n",
      " [-18. -51. -48.]]\n"
     ]
    }
   ],
   "source": [
    "import numpy as np\n",
    "a_ndarray = np.array([[-1, 2, 3], [4, -5, 6], [7, 8, -9]])\n",
    "b_ndarray = np.array([[0, 2, 1], [0, 2, -8], [2, 9, -1]])\n",
    "\n",
    "def matrix_product(a,b):\n",
    "    \n",
    "    c = np.zeros((len(a[0]), len(a)))\n",
    "\n",
    "    for i in range(len(a[0])):\n",
    "        for j in range(len(a)):\n",
    "            for k in range(len(a[0])):\n",
    "                c[i][j] =  c[i][j] + a[i][k] * b[k][j]\n",
    "    return c\n",
    "print(matrix_product(a_ndarray,b_ndarray))"
   ]
  },
  {
   "cell_type": "code",
   "execution_count": 60,
   "id": "02837fda",
   "metadata": {},
   "outputs": [
    {
     "name": "stdout",
     "output_type": "stream",
     "text": [
      "[[  6.  29. -20.]\n",
      " [ 12.  52.  38.]\n",
      " [-18. -51. -48.]]\n"
     ]
    }
   ],
   "source": []
  },
  {
   "cell_type": "markdown",
   "id": "97fc3f25",
   "metadata": {},
   "source": [
    "## 【問題5】計算が定義されない入力を判定する\n",
    "問題4で作成した関数は、実装方法によってはこのDとEの配列を入力しても動いてしまう可能性があります。この場合、不適切な計算が行われることになります。また、途中でエラーになる場合でも、なぜエラーになったかが直接的には分かりづらいメッセージが表示されます。\n",
    "\n",
    "\n",
    "if文などによってこれを防ぎ、入力される形に問題があることをprint()を使い表示するコードを書き加えてください。"
   ]
  },
  {
   "cell_type": "code",
   "execution_count": 50,
   "id": "0bcf473b",
   "metadata": {},
   "outputs": [
    {
     "name": "stdout",
     "output_type": "stream",
     "text": [
      "入力される形式に問題があります。\n",
      "None\n",
      "[[  6.  29. -20.]\n",
      " [ 12.  52.  38.]\n",
      " [-18. -51. -48.]]\n"
     ]
    }
   ],
   "source": [
    "import numpy as np\n",
    "a_ndarray = np.array([[-1, 2, 3], [4, -5, 6], [7, 8, -9]])\n",
    "b_ndarray = np.array([[0, 2, 1], [0, 2, -8], [2, 9, -1]])\n",
    "d_ndarray = np.array([[-1, 2, 3],[4, -5, 6]])\n",
    "e_ndarray = np.array([[-9, 8, 7],[6, -5, 4]])\n",
    "\n",
    "def matrix_product_error(a,b):\n",
    "    \n",
    "    c = np.zeros((len(a[0]), len(b)))\n",
    "    if len(a) == len(b[0]):\n",
    "        for i in range(len(a[0])):\n",
    "            for j in range(len(a)):\n",
    "                for k in range(len(a[0])):\n",
    "                    c[i][j] =  c[i][j] + a[i][k] * b[k][j]\n",
    "        return c\n",
    "    else:\n",
    "        print(\"入力される形式に問題があります。\")\n",
    "print(matrix_product_error(d_ndarray,e_ndarray))#エラー\n",
    "print(matrix_product_error(a_ndarray,b_ndarray))"
   ]
  },
  {
   "cell_type": "markdown",
   "id": "093ad628",
   "metadata": {},
   "source": [
    "## 【問題6】転置\n",
    "片方の行列を転置することで、行列積が計算できるようになります。\n",
    "\n",
    "np.transpose()や.Tアトリビュートを用いて転置し、行列積を計算してください。"
   ]
  },
  {
   "cell_type": "code",
   "execution_count": 43,
   "id": "4218142f",
   "metadata": {},
   "outputs": [
    {
     "name": "stdout",
     "output_type": "stream",
     "text": [
      "[[ 14  69 -40]\n",
      " [ 16  66  34]\n",
      " [-18 -63 -36]]\n",
      "[[ 14  69 -40]\n",
      " [ 16  66  34]\n",
      " [-18 -63 -36]]\n"
     ]
    }
   ],
   "source": [
    "print(np.transpose(a_ndarray) @ b_ndarray) #np.transpose()\n",
    "\n",
    "print(a_ndarray.T @ b_ndarray) #.T"
   ]
  }
 ],
 "metadata": {
  "kernelspec": {
   "display_name": "Python 3",
   "language": "python",
   "name": "python3"
  },
  "language_info": {
   "codemirror_mode": {
    "name": "ipython",
    "version": 3
   },
   "file_extension": ".py",
   "mimetype": "text/x-python",
   "name": "python",
   "nbconvert_exporter": "python",
   "pygments_lexer": "ipython3",
   "version": "3.8.8"
  }
 },
 "nbformat": 4,
 "nbformat_minor": 5
}
