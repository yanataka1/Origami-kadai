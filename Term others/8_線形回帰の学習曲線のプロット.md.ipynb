{
 "cells": [
  {
   "cell_type": "markdown",
   "id": "9dcadd36",
   "metadata": {},
   "source": [
    "# 線形回帰の学習曲線のプロット\n",
    "\n",
    "## ゴール\n",
    "- **【Sprint 機械学習スクラッチ 線形回帰】の【問題7】を解くうえで必要な知識や技術について理解する**\n",
    "\n",
    "### Sprintの目的\n",
    "- 実装が正しいか確認する\n",
    "- 学習過程の可視化方法を理解する\n",
    "\n",
    "## どのように学ぶか\n",
    "\n",
    "【Sprint 機械学習スクラッチ 線形回帰】の【問題7】と照らし合わせながら、進めていきましょう。\n",
    "\n",
    "## 【問題7】学習曲線のプロット\n",
    "\n",
    "機械学習においては、学習が順調に進んでいるか確認する必要があります。学習の進捗を確認するためには、損失関数の値を可視化するのが早いです。\n",
    "\n",
    "【問題6】の過程でインスタンス変数として損失値を保持していると思います。していない場合はするようにしましょう。\n",
    "これを利用して損失値が減少していることを確認します。\n",
    "\n",
    "`train`と`test`それぞれのデータで損失値を保持し、同じグラフに出力して比較してみましょう。\n",
    "\n",
    "ヒント：グラフの描画については、前回までの講座のmatplotlibを参照してください\n",
    "\n",
    "## まとめ\n",
    "- 学習がどの様に進んでいるか確認するためにグラフ描画する必要があります\n",
    "- 実装がうまくいっているか確かめる意味でも可視化は重要になります"
   ]
  },
  {
   "cell_type": "code",
   "execution_count": null,
   "id": "b10cd889",
   "metadata": {},
   "outputs": [],
   "source": []
  }
 ],
 "metadata": {
  "kernelspec": {
   "display_name": "Python 3",
   "language": "python",
   "name": "python3"
  },
  "language_info": {
   "codemirror_mode": {
    "name": "ipython",
    "version": 3
   },
   "file_extension": ".py",
   "mimetype": "text/x-python",
   "name": "python",
   "nbconvert_exporter": "python",
   "pygments_lexer": "ipython3",
   "version": "3.8.8"
  }
 },
 "nbformat": 4,
 "nbformat_minor": 5
}
