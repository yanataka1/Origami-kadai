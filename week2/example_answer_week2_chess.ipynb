{
 "cells": [
  {
   "cell_type": "markdown",
   "metadata": {},
   "source": [
    "# 解答例：Week2 授業前課題1 小麦とチェス盤問題"
   ]
  },
  {
   "cell_type": "markdown",
   "metadata": {},
   "source": [
    "**ポイント：numpyを使い数値計算を効率的に行える事を知ろう**"
   ]
  },
  {
   "cell_type": "markdown",
   "metadata": {},
   "source": [
    "## 小麦とチェス盤問題\n",
    "\n",
    "曽呂利新左衛門の米の逸話に似たものとして、小麦とチェス盤の話があります。これを題材に多次元配列を扱うための数値計算ライブラリ **NumPy** の使い方に慣れていきます。\n",
    "\n",
    "> If a chessboard were to have wheat placed upon each square such that one grain were placed on the first square, two on the second, four on the third, and so on (doubling the number of grains on each subsequent square), how many grains of wheat would be on the chessboard at the finish?\n",
    "\n",
    "[Wheat and chessboard problem - Wikipedia](https://en.wikipedia.org/wiki/Wheat_and_chessboard_problem)（最終閲覧日：2019年5月31日）\n",
    "\n",
    "8×8マスのチェス盤の上に、小麦の粒を1, 2, 4と順番に置いていくと最終的な小麦の数はどのようになるかという問題です。\n"
   ]
  },
  {
   "cell_type": "code",
   "execution_count": 2,
   "metadata": {},
   "outputs": [],
   "source": [
    "from matplotlib import pyplot as plt\n",
    "%matplotlib inline\n",
    "import numpy as np"
   ]
  },
  {
   "cell_type": "code",
   "execution_count": 3,
   "metadata": {},
   "outputs": [
    {
     "name": "stdout",
     "output_type": "stream",
     "text": [
      "4マスの板に小麦を並べる（リスト）：[1, 2, 4, 8]\n",
      "4マスの板に小麦を並べる（ndarray）：[1 2 4 8]\n"
     ]
    }
   ],
   "source": [
    "n_squares = 4\n",
    "small_board_list = [1]\n",
    "for _ in range(n_squares - 1):\n",
    "    small_board_list.append(2*small_board_list[-1])\n",
    "print(\"4マスの板に小麦を並べる（リスト）：{}\".format(small_board_list))\n",
    "\n",
    "small_board_ndarray = np.array(small_board_list)\n",
    "print(\"4マスの板に小麦を並べる（ndarray）：{}\".format(small_board_ndarray))"
   ]
  },
  {
   "cell_type": "markdown",
   "metadata": {},
   "source": [
    "listとndarrayの表示上の違いは、listはカンマで区切られ、ndarrayは区切られています。"
   ]
  },
  {
   "cell_type": "markdown",
   "metadata": {},
   "source": [
    "### 【問題1】2×2マスのチェス盤の小麦の数\n",
    "**ポイント：numpyを使い行列操作をしてみよう**\n",
    "\n",
    "2×2マスのチェス盤をndarrayによって表現し、各マスの小麦の数を計算してください。左上のマスに小麦を1つ置いた後、その右が2つ、左下が4つ、右下が8つという風に進みます。\n",
    "\n",
    "サンプルコードで作成したndarrayのshapeの変形を行ってください。\n",
    "\n",
    "#### （解説）\n",
    "\n",
    "`reshape`メソッドを使うことでndarrayの変形が行えます。"
   ]
  },
  {
   "cell_type": "code",
   "execution_count": 4,
   "metadata": {},
   "outputs": [
    {
     "name": "stdout",
     "output_type": "stream",
     "text": [
      "2×2マスのチェス盤：\n",
      "[[1 2]\n",
      " [4 8]]\n"
     ]
    }
   ],
   "source": [
    "square_size = (2, 2)\n",
    "small_board_ndarray = small_board_ndarray.reshape(square_size)\n",
    "print(\"2×2マスのチェス盤：\\n{}\".format(small_board_ndarray))"
   ]
  },
  {
   "cell_type": "code",
   "execution_count": 5,
   "metadata": {},
   "outputs": [
    {
     "name": "stdout",
     "output_type": "stream",
     "text": [
      "2×2マスのチェス盤：\n",
      "[[1 2]\n",
      " [4 8]]\n"
     ]
    }
   ],
   "source": [
    "small_board_ndarray = small_board_ndarray.reshape(2, 2)\n",
    "print(\"2×2マスのチェス盤：\\n{}\".format(small_board_ndarray))"
   ]
  },
  {
   "cell_type": "markdown",
   "metadata": {},
   "source": [
    "### 【問題2】n×mマスへの拡張\n",
    "**ポイント：list.appendのおさらいとnp.arrayの組み合わせ**\n",
    "\n",
    "n×mマスのチェス盤の小麦の数を記したndarrayを返す関数を作成してください。そして、この関数を使い8×8マスのチェス盤の小麦の数を求めてください。\n",
    "\n",
    "#### （解説）\n",
    "\n",
    "問題1をベースに関数化します。マス目の数に関係する部分を引数として受け取るようにします。\n",
    "\n",
    "以下の例では表示桁数が多く一行が長くなり見にくいことを解決するため、`np.set_printoptions(precision=1)`を実行しています。これによりndarrayの出力時の桁数を小数点以下1桁に指定しています。\n",
    "\n",
    "[numpy.set_printoptions — NumPy v1.16 Manual](https://docs.scipy.org/doc/numpy/reference/generated/numpy.set_printoptions.html)\n",
    "\n",
    "元の状態に戻すためには以下の引数で実行します。\n",
    "\n",
    "```py\n",
    "np.set_printoptions(edgeitems=3,infstr='inf',\n",
    "                            linewidth=75, nanstr='nan', precision=8,\n",
    "                            suppress=False, threshold=1000, formatter=None)\n",
    "```"
   ]
  },
  {
   "cell_type": "code",
   "execution_count": 4,
   "metadata": {},
   "outputs": [
    {
     "name": "stdout",
     "output_type": "stream",
     "text": [
      "(8, 8)マスのチェス盤：\n",
      "[[1.0e+00 2.0e+00 4.0e+00 8.0e+00 1.6e+01 3.2e+01 6.4e+01 1.3e+02]\n",
      " [2.6e+02 5.1e+02 1.0e+03 2.0e+03 4.1e+03 8.2e+03 1.6e+04 3.3e+04]\n",
      " [6.6e+04 1.3e+05 2.6e+05 5.2e+05 1.0e+06 2.1e+06 4.2e+06 8.4e+06]\n",
      " [1.7e+07 3.4e+07 6.7e+07 1.3e+08 2.7e+08 5.4e+08 1.1e+09 2.1e+09]\n",
      " [4.3e+09 8.6e+09 1.7e+10 3.4e+10 6.9e+10 1.4e+11 2.7e+11 5.5e+11]\n",
      " [1.1e+12 2.2e+12 4.4e+12 8.8e+12 1.8e+13 3.5e+13 7.0e+13 1.4e+14]\n",
      " [2.8e+14 5.6e+14 1.1e+15 2.3e+15 4.5e+15 9.0e+15 1.8e+16 3.6e+16]\n",
      " [7.2e+16 1.4e+17 2.9e+17 5.8e+17 1.2e+18 2.3e+18 4.6e+18 9.2e+18]]\n"
     ]
    }
   ],
   "source": [
    "def chess_board(square_size=(8, 8)):\n",
    "    \"\"\"\n",
    "    小麦とチェス盤の逸話の計算を行う関数\n",
    "    \n",
    "    Parameters:\n",
    "    -----------------\n",
    "    square_size : tuple of int\n",
    "        マス目の数（default: (8, 8)）\n",
    "    Returns\n",
    "    -----------------\n",
    "    board_ndarray：ndarray, shape(square_size)\n",
    "        チェス盤の上の小麦の数を記録した配列\n",
    "    \"\"\"\n",
    "    n_squares = square_size[0]*square_size[1]\n",
    "    board_list = [1]\n",
    "    for _ in range(n_squares - 1):\n",
    "        board_list.append(2*board_list[-1])\n",
    "    board_ndarray = np.array(board_list).reshape(square_size)\n",
    "    return board_ndarray\n",
    "\n",
    "square_size = (8, 8)\n",
    "board_ndarray = chess_board(square_size=square_size)\n",
    "\n",
    "np.set_printoptions(precision=1) # ndarrayを出力する際の桁数を指定し見やすくする\n",
    "print(\"{}マスのチェス盤：\\n{}\".format(square_size, board_ndarray))"
   ]
  },
  {
   "cell_type": "markdown",
   "metadata": {},
   "source": [
    "#### （別解）\n",
    "\n",
    "`n_squares = square_size[0]*square_size[1]`の箇所は、以下のようにndarrayに変換し`prod`メソッドまたは`prod`関数を使うことでも計算できます。要素全てを掛け合わた数を返す総積の計算を行います。\n",
    "\n",
    "[numpy.ndarray.prod — NumPy v1.15 Manual](https://docs.scipy.org/doc/numpy-1.15.1/reference/generated/numpy.ndarray.prod.html)\n",
    "\n",
    "[numpy.prod — NumPy v1.15 Manual](https://docs.scipy.org/doc/numpy-1.15.1/reference/generated/numpy.prod.html)"
   ]
  },
  {
   "cell_type": "code",
   "execution_count": 5,
   "metadata": {},
   "outputs": [
    {
     "name": "stdout",
     "output_type": "stream",
     "text": [
      "n_squares : 64\n"
     ]
    }
   ],
   "source": [
    "square_size = (8, 8)\n",
    "n_squares = np.array(square_size).prod()\n",
    "print(\"n_squares : {}\".format(n_squares))"
   ]
  },
  {
   "cell_type": "markdown",
   "metadata": {},
   "source": [
    "### 【問題3】小麦の数の合計\n",
    "**ポイント：numpyメソッドと軸の概念（axis）**\n",
    "\n",
    "8×8マスのチェス盤の小麦の数の合計を求めてください。また、各列の平均を求め、それを棒グラフで可視化してください。\n",
    "\n",
    "棒グラフはサンプルコードを用意しています。\n",
    "\n",
    "#### （解説）  \n",
    "numpy の合計は`sum`メソッドで求め、平均は`mean`メソッドを使います。\n",
    "axis(軸)は作用させる方向で考えましょう。`axis=0` であれば行（縦）方向のイメージ、`axis=1`であれば列（横）のイメージです。\n",
    "列に対しての平均は、行方向に平均を求める作用を起こすので、axis=0という風に軸を指定します。\n",
    "\n",
    "どの軸を指定すれば良いかが間違えやすいですが、shapeが(a, b)の時、平均を求め(a,)の形の配列を得たいのであれば、消したいbは1軸目なので、`axis=1`を指定するという風に捉えておくと便利です。(b,)の形の配列を得たいのであれば、消したいaは0軸目なので、`axis=0`です。今回は(8, 8)でどちらの軸を指定しても形が同じなので、一度行と列のマス目が異なるndarrayを作って試しておくと良いでしょう。\n",
    "\n",
    "\n",
    "問題2で`np.set_printoptions()`により桁数は指定していますが、以下のようにndarrayになっていないNumPyの値を出力する場合は反映されません。Pythonのintやfloat同様にformatメソッドを使う中で指定します。ここでは指数表示した上で小数点以下1桁にしたいため、`{:.1e}`とします。"
   ]
  },
  {
   "cell_type": "code",
   "execution_count": 6,
   "metadata": {},
   "outputs": [
    {
     "name": "stdout",
     "output_type": "stream",
     "text": [
      "(8, 8)マスのチェス盤の小麦の合計：1.8e+19\n"
     ]
    },
    {
     "data": {
      "image/png": "[encoded data removed]",
      "text/plain": [
       "<matplotlib.figure.Figure at 0x108580c88>"
      ]
     },
     "metadata": {},
     "output_type": "display_data"
    }
   ],
   "source": [
    "square_size = (8, 8)\n",
    "board_ndarray = chess_board(square_size=square_size)\n",
    "\n",
    "sum_board = board_ndarray.sum()\n",
    "mean_board_columns = board_ndarray.mean(axis=0)\n",
    "\n",
    "print(\"{}マスのチェス盤の小麦の合計：{:.1e}\".format(square_size, sum_board))\n",
    "\n",
    "plt.xlabel(\"column\")\n",
    "plt.ylabel(\"number\")\n",
    "plt.title(\"number in each column\")\n",
    "plt.bar(np.arange(1,9), mean_board_columns)\n",
    "plt.show()"
   ]
  },
  {
   "cell_type": "code",
   "execution_count": 7,
   "metadata": {},
   "outputs": [
    {
     "name": "stdout",
     "output_type": "stream",
     "text": [
      "(3, 5)マスのチェス盤で各列の平均を求めるとshapeは：(5,)\n"
     ]
    }
   ],
   "source": [
    "# meanメソッドで正しく軸が指定できているか確認\n",
    "\n",
    "square_size = (3, 5)\n",
    "board_ndarray = chess_board(square_size=square_size)\n",
    "\n",
    "mean_board_columns = board_ndarray.mean(axis=0)\n",
    "print(\"{}マスのチェス盤で各列の平均を求めるとshapeは：{}\".format(square_size, mean_board_columns.shape)) #(5,)->正しい"
   ]
  },
  {
   "cell_type": "code",
   "execution_count": 8,
   "metadata": {},
   "outputs": [
    {
     "name": "stdout",
     "output_type": "stream",
     "text": [
      "元のndarray：(3, 5, 7)\n",
      "axis=0で平均をとった場合：(5, 7)\n",
      "axis=1で平均をとった場合：(3, 7)\n",
      "axis=2で平均をとった場合：(3, 5)\n"
     ]
    }
   ],
   "source": [
    "# meanメソッドの軸の関係の確認\n",
    "\n",
    "sample_ndarray = np.ones((3, 5, 7))\n",
    "print(\"元のndarray：{}\".format(sample_ndarray.shape))\n",
    "print(\"axis=0で平均をとった場合：{}\".format(sample_ndarray.mean(axis=0).shape))\n",
    "print(\"axis=1で平均をとった場合：{}\".format(sample_ndarray.mean(axis=1).shape))\n",
    "print(\"axis=2で平均をとった場合：{}\".format(sample_ndarray.mean(axis=2).shape))"
   ]
  },
  {
   "cell_type": "code",
   "execution_count": 9,
   "metadata": {},
   "outputs": [
    {
     "name": "stdout",
     "output_type": "stream",
     "text": [
      "sum_boardの型：<class 'numpy.float64'>\n"
     ]
    }
   ],
   "source": [
    "# sumメソッドで返ってきた値はndarrayではなくnumpy.float64型になっている。\n",
    "print(\"sum_boardの型：{}\".format(type(sum_board)))"
   ]
  },
  {
   "cell_type": "markdown",
   "metadata": {},
   "source": [
    "### 【問題4】小麦の数のヒートマップ\n",
    "**ポイント：heat_mapの使い方**\n",
    "\n",
    "8×8マスのチェス盤の小麦の数をヒートマップとして可視化してください。\n",
    "\n",
    "#### （解説）\n",
    "\n",
    "`plt.pcolor()`にndarrayを渡すだけです。\n"
   ]
  },
  {
   "cell_type": "code",
   "execution_count": 10,
   "metadata": {},
   "outputs": [
    {
     "data": {
      "image/png": "[encoded data removed]",
      "text/plain": [
       "<matplotlib.figure.Figure at 0x1085807b8>"
      ]
     },
     "metadata": {},
     "output_type": "display_data"
    }
   ],
   "source": [
    "square_size = (8, 8)\n",
    "board_ndarray = chess_board(square_size=square_size)\n",
    "\n",
    "plt.xlabel(\"column\")\n",
    "plt.ylabel(\"row\")\n",
    "plt.title(\"heatmap\")\n",
    "plt.pcolor(board_ndarray)\n",
    "# plt.pcolor(board_ndarray[::-1]) # スライシングで上下を反転させる事も可能。\n",
    "plt.show()"
   ]
  },
  {
   "cell_type": "markdown",
   "metadata": {},
   "source": [
    "### 【問題5】後半は前半の何倍か\n",
    "**ポイント：スライスとsumの学習**\n",
    "\n",
    "チェス盤の後半にある小麦の数は前半にある小麦の数の何倍かを求めてください。前半とは配列の0から3行目、後半は4から7行目です。\n",
    "\n",
    "#### （解説）\n",
    "\n",
    "スライシングで半分の行だけを取得した上で`sum`メソッドを使います。"
   ]
  },
  {
   "cell_type": "code",
   "execution_count": 11,
   "metadata": {},
   "outputs": [
    {
     "name": "stdout",
     "output_type": "stream",
     "text": [
      "後半は前半の4294967296.0倍\n"
     ]
    }
   ],
   "source": [
    "square_size = (8, 8)\n",
    "board_ndarray = chess_board(square_size=square_size)\n",
    "\n",
    "first_half = board_ndarray[:4, :].sum()\n",
    "second_half = board_ndarray[4:, :].sum()\n",
    "\n",
    "rate = second_half/first_half\n",
    "\n",
    "print(\"後半は前半の{}倍\".format(rate))"
   ]
  },
  {
   "cell_type": "markdown",
   "metadata": {},
   "source": [
    "### 【問題6】他の計算方法によるn×mマスへの拡張\n",
    "**ポイント：pythonのリスト以外に、numpyのappendとブロードキャストで動かしてみよう！！**\n",
    "\n",
    "問題2と同様の「n×mマスのチェス盤の小麦の数を記したndarrayを返す関数」を、`np.append()`を使ったものと、ブロードキャストを使ったもので新たに作成してください。\n",
    "\n",
    "それらの関数を使い8×8マスのチェス盤の小麦の数を再び求めてください。\n",
    "\n",
    "#### （解説）\n",
    "\n",
    "サンプルコードを参考に関数化してください。\n",
    "\n",
    "型に気をつけないと最後のマスの値が正しく計算できません。`uint64`で扱われるように`astype`メソッドで指定していきます。"
   ]
  },
  {
   "cell_type": "code",
   "execution_count": 12,
   "metadata": {},
   "outputs": [
    {
     "name": "stdout",
     "output_type": "stream",
     "text": [
      "(8, 8)マスのチェス盤：\n",
      "[[                  1                   2                   4\n",
      "                    8                  16                  32\n",
      "                   64                 128]\n",
      " [                256                 512                1024\n",
      "                 2048                4096                8192\n",
      "                16384               32768]\n",
      " [              65536              131072              262144\n",
      "               524288             1048576             2097152\n",
      "              4194304             8388608]\n",
      " [           16777216            33554432            67108864\n",
      "            134217728           268435456           536870912\n",
      "           1073741824          2147483648]\n",
      " [         4294967296          8589934592         17179869184\n",
      "          34359738368         68719476736        137438953472\n",
      "         274877906944        549755813888]\n",
      " [      1099511627776       2199023255552       4398046511104\n",
      "        8796093022208      17592186044416      35184372088832\n",
      "       70368744177664     140737488355328]\n",
      " [    281474976710656     562949953421312    1125899906842624\n",
      "     2251799813685248    4503599627370496    9007199254740992\n",
      "    18014398509481984   36028797018963968]\n",
      " [  72057594037927936  144115188075855872  288230376151711744\n",
      "   576460752303423488 1152921504606846976 2305843009213693952\n",
      "  4611686018427387904 9223372036854775808]]\n"
     ]
    }
   ],
   "source": [
    "def chess_board_with_npappend(square_size=(8, 8)):\n",
    "    \"\"\"\n",
    "    小麦とチェス盤の逸話の計算を行う関数\n",
    "    \n",
    "    Parameters:\n",
    "    -----------------\n",
    "    square_size : tuple of int\n",
    "        マス目の数（default: (8, 8)）\n",
    "    Returns\n",
    "    -----------------\n",
    "    board_ndarray：ndarray, shape(square_size)\n",
    "        チェス盤の上の小麦の数を記録した配列\n",
    "    \"\"\"\n",
    "    n_squares = square_size[0]*square_size[1]\n",
    "    board_ndarray = np.array([1]).astype(np.uint64) # uinit64の指定をする\n",
    "    times = np.array([2]).astype(np.uint64)\n",
    "    for _ in range(n_squares - 1):\n",
    "        board_ndarray = np.append(board_ndarray, times*board_ndarray[-1])\n",
    "    board_ndarray = board_ndarray.reshape(square_size)\n",
    "    return board_ndarray\n",
    "\n",
    "square_size = (8, 8)\n",
    "board_ndarray = chess_board_with_npappend(square_size=square_size)\n",
    "\n",
    "print(\"{}マスのチェス盤：\\n{}\".format(square_size, board_ndarray))"
   ]
  },
  {
   "cell_type": "code",
   "execution_count": 13,
   "metadata": {},
   "outputs": [
    {
     "name": "stdout",
     "output_type": "stream",
     "text": [
      "(8, 8)マスのチェス盤：\n",
      "[[                  1                   2                   4\n",
      "                    8                  16                  32\n",
      "                   64                 128]\n",
      " [                256                 512                1024\n",
      "                 2048                4096                8192\n",
      "                16384               32768]\n",
      " [              65536              131072              262144\n",
      "               524288             1048576             2097152\n",
      "              4194304             8388608]\n",
      " [           16777216            33554432            67108864\n",
      "            134217728           268435456           536870912\n",
      "           1073741824          2147483648]\n",
      " [         4294967296          8589934592         17179869184\n",
      "          34359738368         68719476736        137438953472\n",
      "         274877906944        549755813888]\n",
      " [      1099511627776       2199023255552       4398046511104\n",
      "        8796093022208      17592186044416      35184372088832\n",
      "       70368744177664     140737488355328]\n",
      " [    281474976710656     562949953421312    1125899906842624\n",
      "     2251799813685248    4503599627370496    9007199254740992\n",
      "    18014398509481984   36028797018963968]\n",
      " [  72057594037927936  144115188075855872  288230376151711744\n",
      "   576460752303423488 1152921504606846976 2305843009213693952\n",
      "  4611686018427387904 9223372036854775808]]\n"
     ]
    }
   ],
   "source": [
    "def chess_board_with_broadcast(square_size=(8, 8)):\n",
    "    \"\"\"\n",
    "    小麦とチェス盤の逸話の計算を行う関数\n",
    "    \n",
    "    Parameters:\n",
    "    -----------------\n",
    "    square_size : tuple of int\n",
    "        マス目の数（default: (8, 8)）\n",
    "    Returns\n",
    "    -----------------\n",
    "    board_ndarray：ndarray, shape(square_size)\n",
    "        チェス盤の上の小麦の数を記録した配列\n",
    "    \"\"\"\n",
    "    n_squares = square_size[0]*square_size[1]\n",
    "    indices_of_squares = np.arange(n_squares).astype(np.uint64)\n",
    "    board_ndarray = 2**indices_of_squares\n",
    "    board_ndarray = board_ndarray.reshape(square_size)\n",
    "    return board_ndarray\n",
    "\n",
    "square_size = (8, 8)\n",
    "board_ndarray = chess_board_with_broadcast(square_size=square_size)\n",
    "\n",
    "print(\"{}マスのチェス盤：\\n{}\".format(square_size, board_ndarray))"
   ]
  },
  {
   "cell_type": "markdown",
   "metadata": {},
   "source": [
    "### 【問題7】計算時間の比較\n",
    "**ポイント：計算時間は ブロードキャスト＜pythonのappend＜np.append、とブロードキャストが早い！！**\n",
    "\n",
    "3種類の方法を見てきました。それぞれの計算時間をJupyter Notebookの`%%timeit`を用いて計測し、比較と考察を行ってください。\n",
    "\n",
    "`%%timeit`はセル内のコードを複数回実行し、その平均実行時間を出力する働きをします。\n",
    "\n",
    "#### （解説）\n",
    "\n",
    "それぞれの関数を`%%timeit`で計算してみましょう。\n",
    "\n",
    "複数のマス目で実験してみると、それぞれの特徴がより掴みやすいかと思います。\n",
    "\n",
    "ndarrayの`np.append()`はPythonのリストの`append()`よりもかなり遅くなる点が重要です。ndarrayの場合、要素を追加するためにメモリの領域を毎回確保しなおすため動作が遅くなります。\n",
    "\n",
    "ブロードキャストはある程度マス目が増えてくるとPythonのリストの`append()`を使った場合よりも早くなります。べき乗の計算を複数行うのは一見非効率ですが、ndarrayに対する演算がそれだけ高速に行えるということです。"
   ]
  },
  {
   "cell_type": "code",
   "execution_count": 14,
   "metadata": {},
   "outputs": [],
   "source": [
    "square_size = (8, 8)"
   ]
  },
  {
   "cell_type": "code",
   "execution_count": 15,
   "metadata": {
    "scrolled": true
   },
   "outputs": [
    {
     "name": "stdout",
     "output_type": "stream",
     "text": [
      "18.3 µs ± 2.23 µs per loop (mean ± std. dev. of 7 runs, 100000 loops each)\n"
     ]
    }
   ],
   "source": [
    "%%timeit # リストのappend計算\n",
    "board_ndarray = chess_board(square_size=square_size)"
   ]
  },
  {
   "cell_type": "code",
   "execution_count": 16,
   "metadata": {},
   "outputs": [
    {
     "name": "stdout",
     "output_type": "stream",
     "text": [
      "318 µs ± 5.44 µs per loop (mean ± std. dev. of 7 runs, 1000 loops each)\n"
     ]
    }
   ],
   "source": [
    "%%timeit # npappend計算\n",
    "board_ndarray = chess_board_with_npappend(square_size=square_size)"
   ]
  },
  {
   "cell_type": "code",
   "execution_count": 17,
   "metadata": {},
   "outputs": [
    {
     "name": "stdout",
     "output_type": "stream",
     "text": [
      "3.84 µs ± 49.6 ns per loop (mean ± std. dev. of 7 runs, 100000 loops each)\n"
     ]
    }
   ],
   "source": [
    "%%timeit # ブロードキャスト計算（ある程度マス目が増えるとpython の append よりも早い）\n",
    "board_ndarray = chess_board_with_broadcast(square_size=square_size)"
   ]
  },
  {
   "cell_type": "code",
   "execution_count": 18,
   "metadata": {},
   "outputs": [],
   "source": [
    "square_size = (100, 100)"
   ]
  },
  {
   "cell_type": "code",
   "execution_count": 19,
   "metadata": {},
   "outputs": [
    {
     "name": "stdout",
     "output_type": "stream",
     "text": [
      "10 ms ± 513 µs per loop (mean ± std. dev. of 7 runs, 100 loops each)\n"
     ]
    }
   ],
   "source": [
    "%%timeit # リストのappend計算\n",
    "board_ndarray = chess_board(square_size=square_size)"
   ]
  },
  {
   "cell_type": "code",
   "execution_count": 20,
   "metadata": {},
   "outputs": [
    {
     "name": "stdout",
     "output_type": "stream",
     "text": [
      "69.7 ms ± 3.12 ms per loop (mean ± std. dev. of 7 runs, 10 loops each)\n"
     ]
    }
   ],
   "source": [
    "%%timeit # npappend計算\n",
    "board_ndarray = chess_board_with_npappend(square_size=square_size)"
   ]
  },
  {
   "cell_type": "code",
   "execution_count": 21,
   "metadata": {},
   "outputs": [
    {
     "name": "stdout",
     "output_type": "stream",
     "text": [
      "110 µs ± 2.72 µs per loop (mean ± std. dev. of 7 runs, 10000 loops each)\n"
     ]
    }
   ],
   "source": [
    "%%timeit # ブロードキャスト計算（ある程度マス目が増えるとpython の append よりも早い）\n",
    "board_ndarray = chess_board_with_broadcast(square_size=square_size)"
   ]
  },
  {
   "cell_type": "code",
   "execution_count": null,
   "metadata": {},
   "outputs": [],
   "source": []
  }
 ],
 "metadata": {
  "kernelspec": {
   "display_name": "Python 3",
   "language": "python",
   "name": "python3"
  },
  "language_info": {
   "codemirror_mode": {
    "name": "ipython",
    "version": 3
   },
   "file_extension": ".py",
   "mimetype": "text/x-python",
   "name": "python",
   "nbconvert_exporter": "python",
   "pygments_lexer": "ipython3",
   "version": "3.6.4"
  },
  "toc": {
   "base_numbering": 1,
   "nav_menu": {},
   "number_sections": true,
   "sideBar": true,
   "skip_h1_title": false,
   "title_cell": "Table of Contents",
   "title_sidebar": "Contents",
   "toc_cell": false,
   "toc_position": {},
   "toc_section_display": true,
   "toc_window_display": false
  },
  "varInspector": {
   "cols": {
    "lenName": 16,
    "lenType": 16,
    "lenVar": 40
   },
   "kernels_config": {
    "python": {
     "delete_cmd_postfix": "",
     "delete_cmd_prefix": "del ",
     "library": "var_list.py",
     "varRefreshCmd": "print(var_dic_list())"
    },
    "r": {
     "delete_cmd_postfix": ") ",
     "delete_cmd_prefix": "rm(",
     "library": "var_list.r",
     "varRefreshCmd": "cat(var_dic_list()) "
    }
   },
   "types_to_exclude": [
    "module",
    "function",
    "builtin_function_or_method",
    "instance",
    "_Feature"
   ],
   "window_display": false
  }
 },
 "nbformat": 4,
 "nbformat_minor": 2
}
