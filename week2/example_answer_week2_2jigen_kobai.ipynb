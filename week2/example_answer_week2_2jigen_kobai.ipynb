{
 "cells": [
  {
   "cell_type": "markdown",
   "metadata": {
    "colab_type": "text",
    "id": "LVpyPBQtJiID"
   },
   "source": [
    "# 解答例：Week2 授業課題1 二次元配列と勾配問題"
   ]
  },
  {
   "cell_type": "markdown",
   "metadata": {
    "colab_type": "text",
    "id": "cN4s8-klJiIE"
   },
   "source": [
    "## 二次元配列と勾配問題\n",
    "\n",
    "機械学習においては関数の最小値を見つけることが重要になってきます。そのために使われるのが勾配降下法です。\n",
    "\n",
    "この課題では勾配降下法を理解する準備として、NumPyを用いて関数の勾配を考えていきます。"
   ]
  },
  {
   "cell_type": "code",
   "execution_count": 0,
   "metadata": {
    "colab": {},
    "colab_type": "code",
    "id": "ToykIOptJiIF"
   },
   "outputs": [],
   "source": [
    "import matplotlib.pyplot as plt\n",
    "%matplotlib inline\n",
    "import numpy as np"
   ]
  },
  {
   "cell_type": "markdown",
   "metadata": {
    "colab_type": "text",
    "id": "ZOinKdr4JiIJ"
   },
   "source": [
    "### 【問題1】1次関数\n",
    "\n",
    "$x$ が-50から50の範囲で次の式を考えます。\n",
    "\n",
    "$$\n",
    "y = \\frac{1}{2}x + 1\n",
    "$$\n",
    "\n",
    "-50から50まで0.1間隔のxを表すndarrayと、各要素に対するyを表すndarrayを作成してください。\n"
   ]
  },
  {
   "cell_type": "code",
   "execution_count": 0,
   "metadata": {
    "colab": {
     "base_uri": "https://localhost:8080/",
     "height": 51
    },
    "colab_type": "code",
    "executionInfo": {
     "elapsed": 1004,
     "status": "ok",
     "timestamp": 1571025071687,
     "user": {
      "displayName": "冨永修司",
      "photoUrl": "",
      "userId": "03180776926989276683"
     },
     "user_tz": -540
    },
    "id": "9ChXycNFJiIK",
    "outputId": "8d38009d-d4b9-4e21-8d32-1c0624fa3587"
   },
   "outputs": [
    {
     "name": "stdout",
     "output_type": "stream",
     "text": [
      "[-50.  -49.9 -49.8 ...  49.8  49.9  50. ]\n",
      "[-24.   -23.95 -23.9  ...  25.9   25.95  26.  ]\n"
     ]
    }
   ],
   "source": [
    "array_x = np.arange(-50, 50.1, 0.1) \n",
    "array_y = array_x/2 + 1\n",
    "print(array_x)\n",
    "print(array_y)"
   ]
  },
  {
   "cell_type": "code",
   "execution_count": 0,
   "metadata": {
    "colab": {
     "base_uri": "https://localhost:8080/",
     "height": 34
    },
    "colab_type": "code",
    "executionInfo": {
     "elapsed": 994,
     "status": "ok",
     "timestamp": 1571025071688,
     "user": {
      "displayName": "冨永修司",
      "photoUrl": "",
      "userId": "03180776926989276683"
     },
     "user_tz": -540
    },
    "id": "phe7qckhJiIO",
    "outputId": "9784043b-15b2-4934-810b-c0fbcdbb7424"
   },
   "outputs": [
    {
     "data": {
      "text/plain": [
       "(1001,)"
      ]
     },
     "execution_count": 3,
     "metadata": {
      "tags": []
     },
     "output_type": "execute_result"
    }
   ],
   "source": [
    "array_x.shape"
   ]
  },
  {
   "cell_type": "markdown",
   "metadata": {
    "colab_type": "text",
    "id": "Id9KOneGJiIR"
   },
   "source": [
    "### 【問題2】配列の結合\n",
    "\n",
    "問題1で作成したndarrayを結合し、(1001, 2)の形の配列にしてください。0列目にx、1列目にyが来るようにします。\n"
   ]
  },
  {
   "cell_type": "code",
   "execution_count": 0,
   "metadata": {
    "colab": {
     "base_uri": "https://localhost:8080/",
     "height": 153
    },
    "colab_type": "code",
    "executionInfo": {
     "elapsed": 2121,
     "status": "ok",
     "timestamp": 1571025072825,
     "user": {
      "displayName": "冨永修司",
      "photoUrl": "",
      "userId": "03180776926989276683"
     },
     "user_tz": -540
    },
    "id": "Utio9MgTJiIS",
    "outputId": "b6952e40-96a4-4cec-f4f0-07e8cd0d2394"
   },
   "outputs": [
    {
     "name": "stdout",
     "output_type": "stream",
     "text": [
      "[[-50.   -24.  ]\n",
      " [-49.9  -23.95]\n",
      " [-49.8  -23.9 ]\n",
      " ...\n",
      " [ 49.8   25.9 ]\n",
      " [ 49.9   25.95]\n",
      " [ 50.    26.  ]]\n",
      "(1001, 2)\n"
     ]
    }
   ],
   "source": [
    "array_xy = np.concatenate((array_x[:, np.newaxis], array_y[:, np.newaxis]), axis=1)\n",
    "print(array_xy)\n",
    "print(array_xy.shape) # (3, 2)"
   ]
  },
  {
   "cell_type": "markdown",
   "metadata": {
    "colab_type": "text",
    "id": "p2JiuNj3JiIW"
   },
   "source": [
    "### 【問題3】勾配を求める\n",
    "\n",
    "各x座標における勾配を求めます。ここで勾配はyの変化量をxの変化量で割ることで計算します。\n",
    "\n",
    "[![Image from Gyazo](https://t.gyazo.com/teams/diveintocode/7fd04c4808b8a0150a49c908e21f3cd2.png)](https://diveintocode.gyazo.com/7fd04c4808b8a0150a49c908e21f3cd2)\n",
    "\n",
    "各変化量は以下の図のように隣同士の要素の差から近似的に求めます。\n",
    "\n",
    "[![Image from Gyazo](https://t.gyazo.com/teams/diveintocode/398d8c5b4b1bd4151dea6488059226a1.png)](https://diveintocode.gyazo.com/398d8c5b4b1bd4151dea6488059226a1)\n",
    "\n",
    "**注意**\n",
    "\n",
    "- 厳密に各点における勾配を求めるには極限（微分）を利用する必要があります\n",
    "- 勾配はx座標の間隔を使うので、xの要素数に対して一つ少なくなります"
   ]
  },
  {
   "cell_type": "code",
   "execution_count": 0,
   "metadata": {
    "colab": {
     "base_uri": "https://localhost:8080/",
     "height": 986
    },
    "colab_type": "code",
    "executionInfo": {
     "elapsed": 2107,
     "status": "ok",
     "timestamp": 1571025072827,
     "user": {
      "displayName": "冨永修司",
      "photoUrl": "",
      "userId": "03180776926989276683"
     },
     "user_tz": -540
    },
    "id": "pQvdBpn4JiIX",
    "outputId": "993b1c69-a0ce-490d-80b5-cf79bbba5697"
   },
   "outputs": [
    {
     "name": "stdout",
     "output_type": "stream",
     "text": [
      "[0.5 0.5 0.5 0.5 0.5 0.5 0.5 0.5 0.5 0.5 0.5 0.5 0.5 0.5 0.5 0.5 0.5 0.5\n",
      " 0.5 0.5 0.5 0.5 0.5 0.5 0.5 0.5 0.5 0.5 0.5 0.5 0.5 0.5 0.5 0.5 0.5 0.5\n",
      " 0.5 0.5 0.5 0.5 0.5 0.5 0.5 0.5 0.5 0.5 0.5 0.5 0.5 0.5 0.5 0.5 0.5 0.5\n",
      " 0.5 0.5 0.5 0.5 0.5 0.5 0.5 0.5 0.5 0.5 0.5 0.5 0.5 0.5 0.5 0.5 0.5 0.5\n",
      " 0.5 0.5 0.5 0.5 0.5 0.5 0.5 0.5 0.5 0.5 0.5 0.5 0.5 0.5 0.5 0.5 0.5 0.5\n",
      " 0.5 0.5 0.5 0.5 0.5 0.5 0.5 0.5 0.5 0.5 0.5 0.5 0.5 0.5 0.5 0.5 0.5 0.5\n",
      " 0.5 0.5 0.5 0.5 0.5 0.5 0.5 0.5 0.5 0.5 0.5 0.5 0.5 0.5 0.5 0.5 0.5 0.5\n",
      " 0.5 0.5 0.5 0.5 0.5 0.5 0.5 0.5 0.5 0.5 0.5 0.5 0.5 0.5 0.5 0.5 0.5 0.5\n",
      " 0.5 0.5 0.5 0.5 0.5 0.5 0.5 0.5 0.5 0.5 0.5 0.5 0.5 0.5 0.5 0.5 0.5 0.5\n",
      " 0.5 0.5 0.5 0.5 0.5 0.5 0.5 0.5 0.5 0.5 0.5 0.5 0.5 0.5 0.5 0.5 0.5 0.5\n",
      " 0.5 0.5 0.5 0.5 0.5 0.5 0.5 0.5 0.5 0.5 0.5 0.5 0.5 0.5 0.5 0.5 0.5 0.5\n",
      " 0.5 0.5 0.5 0.5 0.5 0.5 0.5 0.5 0.5 0.5 0.5 0.5 0.5 0.5 0.5 0.5 0.5 0.5\n",
      " 0.5 0.5 0.5 0.5 0.5 0.5 0.5 0.5 0.5 0.5 0.5 0.5 0.5 0.5 0.5 0.5 0.5 0.5\n",
      " 0.5 0.5 0.5 0.5 0.5 0.5 0.5 0.5 0.5 0.5 0.5 0.5 0.5 0.5 0.5 0.5 0.5 0.5\n",
      " 0.5 0.5 0.5 0.5 0.5 0.5 0.5 0.5 0.5 0.5 0.5 0.5 0.5 0.5 0.5 0.5 0.5 0.5\n",
      " 0.5 0.5 0.5 0.5 0.5 0.5 0.5 0.5 0.5 0.5 0.5 0.5 0.5 0.5 0.5 0.5 0.5 0.5\n",
      " 0.5 0.5 0.5 0.5 0.5 0.5 0.5 0.5 0.5 0.5 0.5 0.5 0.5 0.5 0.5 0.5 0.5 0.5\n",
      " 0.5 0.5 0.5 0.5 0.5 0.5 0.5 0.5 0.5 0.5 0.5 0.5 0.5 0.5 0.5 0.5 0.5 0.5\n",
      " 0.5 0.5 0.5 0.5 0.5 0.5 0.5 0.5 0.5 0.5 0.5 0.5 0.5 0.5 0.5 0.5 0.5 0.5\n",
      " 0.5 0.5 0.5 0.5 0.5 0.5 0.5 0.5 0.5 0.5 0.5 0.5 0.5 0.5 0.5 0.5 0.5 0.5\n",
      " 0.5 0.5 0.5 0.5 0.5 0.5 0.5 0.5 0.5 0.5 0.5 0.5 0.5 0.5 0.5 0.5 0.5 0.5\n",
      " 0.5 0.5 0.5 0.5 0.5 0.5 0.5 0.5 0.5 0.5 0.5 0.5 0.5 0.5 0.5 0.5 0.5 0.5\n",
      " 0.5 0.5 0.5 0.5 0.5 0.5 0.5 0.5 0.5 0.5 0.5 0.5 0.5 0.5 0.5 0.5 0.5 0.5\n",
      " 0.5 0.5 0.5 0.5 0.5 0.5 0.5 0.5 0.5 0.5 0.5 0.5 0.5 0.5 0.5 0.5 0.5 0.5\n",
      " 0.5 0.5 0.5 0.5 0.5 0.5 0.5 0.5 0.5 0.5 0.5 0.5 0.5 0.5 0.5 0.5 0.5 0.5\n",
      " 0.5 0.5 0.5 0.5 0.5 0.5 0.5 0.5 0.5 0.5 0.5 0.5 0.5 0.5 0.5 0.5 0.5 0.5\n",
      " 0.5 0.5 0.5 0.5 0.5 0.5 0.5 0.5 0.5 0.5 0.5 0.5 0.5 0.5 0.5 0.5 0.5 0.5\n",
      " 0.5 0.5 0.5 0.5 0.5 0.5 0.5 0.5 0.5 0.5 0.5 0.5 0.5 0.5 0.5 0.5 0.5 0.5\n",
      " 0.5 0.5 0.5 0.5 0.5 0.5 0.5 0.5 0.5 0.5 0.5 0.5 0.5 0.5 0.5 0.5 0.5 0.5\n",
      " 0.5 0.5 0.5 0.5 0.5 0.5 0.5 0.5 0.5 0.5 0.5 0.5 0.5 0.5 0.5 0.5 0.5 0.5\n",
      " 0.5 0.5 0.5 0.5 0.5 0.5 0.5 0.5 0.5 0.5 0.5 0.5 0.5 0.5 0.5 0.5 0.5 0.5\n",
      " 0.5 0.5 0.5 0.5 0.5 0.5 0.5 0.5 0.5 0.5 0.5 0.5 0.5 0.5 0.5 0.5 0.5 0.5\n",
      " 0.5 0.5 0.5 0.5 0.5 0.5 0.5 0.5 0.5 0.5 0.5 0.5 0.5 0.5 0.5 0.5 0.5 0.5\n",
      " 0.5 0.5 0.5 0.5 0.5 0.5 0.5 0.5 0.5 0.5 0.5 0.5 0.5 0.5 0.5 0.5 0.5 0.5\n",
      " 0.5 0.5 0.5 0.5 0.5 0.5 0.5 0.5 0.5 0.5 0.5 0.5 0.5 0.5 0.5 0.5 0.5 0.5\n",
      " 0.5 0.5 0.5 0.5 0.5 0.5 0.5 0.5 0.5 0.5 0.5 0.5 0.5 0.5 0.5 0.5 0.5 0.5\n",
      " 0.5 0.5 0.5 0.5 0.5 0.5 0.5 0.5 0.5 0.5 0.5 0.5 0.5 0.5 0.5 0.5 0.5 0.5\n",
      " 0.5 0.5 0.5 0.5 0.5 0.5 0.5 0.5 0.5 0.5 0.5 0.5 0.5 0.5 0.5 0.5 0.5 0.5\n",
      " 0.5 0.5 0.5 0.5 0.5 0.5 0.5 0.5 0.5 0.5 0.5 0.5 0.5 0.5 0.5 0.5 0.5 0.5\n",
      " 0.5 0.5 0.5 0.5 0.5 0.5 0.5 0.5 0.5 0.5 0.5 0.5 0.5 0.5 0.5 0.5 0.5 0.5\n",
      " 0.5 0.5 0.5 0.5 0.5 0.5 0.5 0.5 0.5 0.5 0.5 0.5 0.5 0.5 0.5 0.5 0.5 0.5\n",
      " 0.5 0.5 0.5 0.5 0.5 0.5 0.5 0.5 0.5 0.5 0.5 0.5 0.5 0.5 0.5 0.5 0.5 0.5\n",
      " 0.5 0.5 0.5 0.5 0.5 0.5 0.5 0.5 0.5 0.5 0.5 0.5 0.5 0.5 0.5 0.5 0.5 0.5\n",
      " 0.5 0.5 0.5 0.5 0.5 0.5 0.5 0.5 0.5 0.5 0.5 0.5 0.5 0.5 0.5 0.5 0.5 0.5\n",
      " 0.5 0.5 0.5 0.5 0.5 0.5 0.5 0.5 0.5 0.5 0.5 0.5 0.5 0.5 0.5 0.5 0.5 0.5\n",
      " 0.5 0.5 0.5 0.5 0.5 0.5 0.5 0.5 0.5 0.5 0.5 0.5 0.5 0.5 0.5 0.5 0.5 0.5\n",
      " 0.5 0.5 0.5 0.5 0.5 0.5 0.5 0.5 0.5 0.5 0.5 0.5 0.5 0.5 0.5 0.5 0.5 0.5\n",
      " 0.5 0.5 0.5 0.5 0.5 0.5 0.5 0.5 0.5 0.5 0.5 0.5 0.5 0.5 0.5 0.5 0.5 0.5\n",
      " 0.5 0.5 0.5 0.5 0.5 0.5 0.5 0.5 0.5 0.5 0.5 0.5 0.5 0.5 0.5 0.5 0.5 0.5\n",
      " 0.5 0.5 0.5 0.5 0.5 0.5 0.5 0.5 0.5 0.5 0.5 0.5 0.5 0.5 0.5 0.5 0.5 0.5\n",
      " 0.5 0.5 0.5 0.5 0.5 0.5 0.5 0.5 0.5 0.5 0.5 0.5 0.5 0.5 0.5 0.5 0.5 0.5\n",
      " 0.5 0.5 0.5 0.5 0.5 0.5 0.5 0.5 0.5 0.5 0.5 0.5 0.5 0.5 0.5 0.5 0.5 0.5\n",
      " 0.5 0.5 0.5 0.5 0.5 0.5 0.5 0.5 0.5 0.5 0.5 0.5 0.5 0.5 0.5 0.5 0.5 0.5\n",
      " 0.5 0.5 0.5 0.5 0.5 0.5 0.5 0.5 0.5 0.5 0.5 0.5 0.5 0.5 0.5 0.5 0.5 0.5\n",
      " 0.5 0.5 0.5 0.5 0.5 0.5 0.5 0.5 0.5 0.5 0.5 0.5 0.5 0.5 0.5 0.5 0.5 0.5\n",
      " 0.5 0.5 0.5 0.5 0.5 0.5 0.5 0.5 0.5 0.5]\n",
      "(1000,)\n"
     ]
    }
   ],
   "source": [
    "gradient = (array_xy[1:, 1] - array_xy[:-1, 1])/(array_xy[1:, 0] - array_xy[:-1, 0])\n",
    "print(gradient)\n",
    "print(gradient.shape)"
   ]
  },
  {
   "cell_type": "markdown",
   "metadata": {
    "colab_type": "text",
    "id": "wcDQCD1uJiIa"
   },
   "source": [
    "### 【問題4】グラフを描く\n",
    "\n",
    "1次関数のグラフをMatplotlibを用いて描いてください。また、それとは別に横軸をx、縦軸を勾配としたグラフも描いてください。\n",
    "\n",
    "[matplotlib.pyplot.plot — Matplotlib 3.1.0 documentation](https://matplotlib.org/3.1.0/api/_as_gen/matplotlib.pyplot.plot.html)\n"
   ]
  },
  {
   "cell_type": "code",
   "execution_count": 0,
   "metadata": {
    "colab": {
     "base_uri": "https://localhost:8080/",
     "height": 573
    },
    "colab_type": "code",
    "executionInfo": {
     "elapsed": 2815,
     "status": "ok",
     "timestamp": 1571025073545,
     "user": {
      "displayName": "冨永修司",
      "photoUrl": "",
      "userId": "03180776926989276683"
     },
     "user_tz": -540
    },
    "id": "VFBJYo6gJiIb",
    "outputId": "8fb028be-977a-48c6-93a3-a746778ffdcd"
   },
   "outputs": [
    {
     "data": {
      "image/png": "[encoded data removed]",
      "text/plain": [
       "<Figure size 432x288 with 1 Axes>"
      ]
     },
     "metadata": {
      "tags": []
     },
     "output_type": "display_data"
    },
    {
     "data": {
      "image/png": "[encoded data removed]",
      "text/plain": [
       "<Figure size 432x288 with 1 Axes>"
      ]
     },
     "metadata": {
      "tags": []
     },
     "output_type": "display_data"
    }
   ],
   "source": [
    "plt.title(\"y=x/2 + 1\")\n",
    "plt.xlabel(\"x\")\n",
    "plt.ylabel(\"y\")\n",
    "plt.plot(array_xy[:, 0], array_xy[:, 1])\n",
    "plt.show()\n",
    "\n",
    "plt.title(\"gradient of y=x/2 + 1\")\n",
    "plt.xlabel(\"x\")\n",
    "plt.ylabel(\"gradient\")\n",
    "plt.plot(array_xy[:-1, 0], gradient)\n",
    "plt.show()"
   ]
  },
  {
   "cell_type": "markdown",
   "metadata": {
    "colab_type": "text",
    "id": "yyWYCbL5JiIe"
   },
   "source": [
    "### 【問題5】Pythonの関数化\n",
    "\n",
    "問題1から問題3までの範囲をまとめて行うPythonの関数を雛形を参考に作成してください。\n",
    "\n",
    "そして、 $y = x^{2},y = 2x^{2}+2^{x},y = sin(x^{\\frac{1}{2}})$ についての勾配を求めてください。$x$ の範囲は前2つが-50から50、最後の1つが0から50です。0.1間隔でndarrayを作成してください。\n",
    "\n",
    "また、問題4と同様にグラフを描いてください。\n",
    "\n",
    "ndarrayに対して三角関数のsinの計算を行うには `np.sin()`を用います。\n",
    "\n",
    "[numpy.sin — NumPy v1.16 Manual](https://docs.scipy.org/doc/numpy/reference/generated/numpy.sin.html#numpy.sin)\n"
   ]
  },
  {
   "cell_type": "code",
   "execution_count": 0,
   "metadata": {
    "colab": {},
    "colab_type": "code",
    "id": "qKltAAhWJiIf"
   },
   "outputs": [],
   "source": [
    "def compute_gradient(function, x_range=(-50, 50.1, 0.1)):\n",
    "    \"\"\"\n",
    "    勾配を計算する。\n",
    "\n",
    "    Parameters\n",
    "    ----------------\n",
    "    function : function\n",
    "    求めたい関数、xのndarrayを入れるとyのndarrayを返すもの。\n",
    "    x_range : tuple\n",
    "    np.arange()の引数と同じ方法で範囲を指定する。\n",
    "\n",
    "    Returns\n",
    "    ----------------\n",
    "    array_xy : ndarray, shape(n, 2)\n",
    "    xとyを結合したもの。nはx_rangeに依存する。\n",
    "    gradient : ndarray, shape(n,)\n",
    "    関数の勾配\n",
    "    \"\"\"\n",
    "    array_x = np.arange(*x_range) # 展開して引数として渡す\n",
    "    array_y = function(array_x)\n",
    "    array_xy = np.concatenate((array_x[:, np.newaxis], array_y[:, np.newaxis]), axis=1)\n",
    "    gradient = (array_xy[1:, 1] - array_xy[:-1, 1])/(array_xy[1:, 0] - array_xy[:-1, 0])\n",
    "    return array_xy, gradient"
   ]
  },
  {
   "cell_type": "code",
   "execution_count": 0,
   "metadata": {
    "colab": {
     "base_uri": "https://localhost:8080/",
     "height": 573
    },
    "colab_type": "code",
    "executionInfo": {
     "elapsed": 2802,
     "status": "ok",
     "timestamp": 1571025073547,
     "user": {
      "displayName": "冨永修司",
      "photoUrl": "",
      "userId": "03180776926989276683"
     },
     "user_tz": -540
    },
    "id": "j3A2X7sWJiIh",
    "outputId": "500548c9-3f7a-44b5-c954-10c89972701c"
   },
   "outputs": [
    {
     "data": {
      "image/png": "[encoded data removed]",
      "text/plain": [
       "<Figure size 432x288 with 1 Axes>"
      ]
     },
     "metadata": {
      "tags": []
     },
     "output_type": "display_data"
    },
    {
     "data": {
      "image/png": "[encoded data removed]",
      "text/plain": [
       "<Figure size 432x288 with 1 Axes>"
      ]
     },
     "metadata": {
      "tags": []
     },
     "output_type": "display_data"
    }
   ],
   "source": [
    "def function_a(array_x):\n",
    "    \"\"\"\n",
    "    y = x**2の関数。xのndarrayを入れるとyのndarrayを返す。\n",
    "\n",
    "    Parameters\n",
    "    ----------------\n",
    "    array_x : ndarray, shape(n,)\n",
    "\n",
    "    Returns\n",
    "    ----------------\n",
    "    ndarray, shape(n,)  \n",
    "    \"\"\"\n",
    "    return array_x**2\n",
    "  \n",
    "array_xy2, gradient2 = compute_gradient(function_a)\n",
    "\n",
    "plt.title(\"y=x**2\")\n",
    "plt.xlabel(\"x\")\n",
    "plt.ylabel(\"y\")\n",
    "plt.plot(array_xy2[:, 0], array_xy2[:, 1])\n",
    "plt.show()\n",
    "\n",
    "plt.title(\"gradient of y=x**2\")\n",
    "plt.xlabel(\"x\")\n",
    "plt.ylabel(\"gradient\")\n",
    "plt.plot(array_xy2[:-1, 0], gradient2)\n",
    "plt.show()"
   ]
  },
  {
   "cell_type": "code",
   "execution_count": 0,
   "metadata": {
    "colab": {
     "base_uri": "https://localhost:8080/",
     "height": 573
    },
    "colab_type": "code",
    "executionInfo": {
     "elapsed": 3508,
     "status": "ok",
     "timestamp": 1571025074264,
     "user": {
      "displayName": "冨永修司",
      "photoUrl": "",
      "userId": "03180776926989276683"
     },
     "user_tz": -540
    },
    "id": "lbfD8BB4JiIk",
    "outputId": "95446b0b-786e-4d2e-f802-959698e92e86"
   },
   "outputs": [
    {
     "data": {
      "image/png": "[encoded data removed]",
      "text/plain": [
       "<Figure size 432x288 with 1 Axes>"
      ]
     },
     "metadata": {
      "tags": []
     },
     "output_type": "display_data"
    },
    {
     "data": {
      "image/png": "[encoded data removed]",
      "text/plain": [
       "<Figure size 432x288 with 1 Axes>"
      ]
     },
     "metadata": {
      "tags": []
     },
     "output_type": "display_data"
    }
   ],
   "source": [
    "def function_b(array_x):\n",
    "    \"\"\"\n",
    "    y = 2**xの関数。xのndarrayを入れるとyのndarrayを返す。\n",
    "\n",
    "    Parameters\n",
    "    ----------------\n",
    "    array_x : ndarray, shape(n,)\n",
    "\n",
    "    Returns\n",
    "    ----------------\n",
    "    ndarray, shape(n,)  \n",
    "    \"\"\"\n",
    "    return 2*array_x**2 + 2**array_x\n",
    "  \n",
    "array_xy3, gradient3 = compute_gradient(function_b)\n",
    "\n",
    "plt.title(\"y=2*x**2 + 2**x\")\n",
    "plt.xlabel(\"x\")\n",
    "plt.ylabel(\"y\")\n",
    "plt.plot(array_xy3[:, 0], array_xy3[:, 1])\n",
    "plt.show()\n",
    "\n",
    "plt.title(\"gradient of y=2*x**2 + 2**x\")\n",
    "plt.xlabel(\"x\")\n",
    "plt.ylabel(\"gradient\")\n",
    "plt.plot(array_xy3[:-1, 0], gradient3)\n",
    "plt.show()"
   ]
  },
  {
   "cell_type": "code",
   "execution_count": 0,
   "metadata": {
    "colab": {
     "base_uri": "https://localhost:8080/",
     "height": 573
    },
    "colab_type": "code",
    "executionInfo": {
     "elapsed": 3498,
     "status": "ok",
     "timestamp": 1571025074265,
     "user": {
      "displayName": "冨永修司",
      "photoUrl": "",
      "userId": "03180776926989276683"
     },
     "user_tz": -540
    },
    "id": "6TxTU_mkJiIp",
    "outputId": "e187f615-6093-4847-fc2a-2fe9b0adc491"
   },
   "outputs": [
    {
     "data": {
      "image/png": "[encoded data removed]",
      "text/plain": [
       "<Figure size 432x288 with 1 Axes>"
      ]
     },
     "metadata": {
      "tags": []
     },
     "output_type": "display_data"
    },
    {
     "data": {
      "image/png": "[encoded data removed]",
      "text/plain": [
       "<Figure size 432x288 with 1 Axes>"
      ]
     },
     "metadata": {
      "tags": []
     },
     "output_type": "display_data"
    }
   ],
   "source": [
    "def function_c(array_x):\n",
    "    \"\"\"\n",
    "    y = sin(x**0.5)の関数。xのndarrayを入れるとyのndarrayを返す。\n",
    "\n",
    "    Parameters\n",
    "    ----------------\n",
    "    array_x : ndarray, shape(n,)\n",
    "\n",
    "    Returns\n",
    "    ----------------\n",
    "    ndarray, shape(n,)  \n",
    "    \"\"\"\n",
    "    return np.sin(array_x**0.5)\n",
    "\n",
    "array_xy4, gradient4 = compute_gradient(function_c, x_range=(0, 50.1, 0.1))# 開始をマイナスにすると警告が出るので０開始にしている\n",
    "\n",
    "plt.title(\"y=sin(x**0.5)\")\n",
    "plt.xlabel(\"x\")\n",
    "plt.ylabel(\"y\")\n",
    "plt.plot(array_xy4[:, 0], array_xy4[:, 1])\n",
    "plt.show()\n",
    "\n",
    "plt.title(\"gradient of y=sin(x**0.5)\")\n",
    "plt.xlabel(\"x\")\n",
    "plt.ylabel(\"gradient\")\n",
    "plt.plot(array_xy4[:-1, 0], gradient4)\n",
    "plt.show()"
   ]
  },
  {
   "cell_type": "markdown",
   "metadata": {
    "colab_type": "text",
    "id": "89mkwgk9JiIt"
   },
   "source": [
    "### 【問題6】最小値を求める\n",
    "\n",
    "問題5で扱った関数のyの最小値を求めます。xの範囲も問題5と同様とします。\n",
    "\n",
    "今回は勾配降下法ではなく、ndarrayのminメソッド、argminメソッドを用いてください。minメソッドは最小値を、argminメソッドは最小値のインデックスを取得することができます。\n",
    "\n",
    "また、最小のyをとる前後の勾配を表示してください。\n",
    "\n",
    "\n",
    "[numpy.ndarray.min — NumPy v1.16 Manual](https://docs.scipy.org/doc/numpy/reference/generated/numpy.ndarray.min.html)\n",
    "\n",
    "[numpy.ndarray.argmin — NumPy v1.16 Manual](https://docs.scipy.org/doc/numpy/reference/generated/numpy.ndarray.argmin.html)\n"
   ]
  },
  {
   "cell_type": "code",
   "execution_count": 0,
   "metadata": {
    "colab": {
     "base_uri": "https://localhost:8080/",
     "height": 68
    },
    "colab_type": "code",
    "executionInfo": {
     "elapsed": 3487,
     "status": "ok",
     "timestamp": 1571025074266,
     "user": {
      "displayName": "冨永修司",
      "photoUrl": "",
      "userId": "03180776926989276683"
     },
     "user_tz": -540
    },
    "id": "phvrsABSJiIu",
    "outputId": "1c3e832c-c1b7-4d7a-fb5d-85b342713640"
   },
   "outputs": [
    {
     "name": "stdout",
     "output_type": "stream",
     "text": [
      "5.048709793414476e-25 500\n",
      "0.9505505632959851 498\n",
      "-0.9999997540298113 222\n"
     ]
    }
   ],
   "source": [
    "print(array_xy2.min(axis=0)[1], array_xy2.argmin(axis=0)[1])\n",
    "print(array_xy3.min(axis=0)[1], array_xy3.argmin(axis=0)[1])\n",
    "print(array_xy4.min(axis=0)[1], array_xy4.argmin(axis=0)[1])"
   ]
  },
  {
   "cell_type": "code",
   "execution_count": 0,
   "metadata": {
    "colab": {
     "base_uri": "https://localhost:8080/",
     "height": 51
    },
    "colab_type": "code",
    "executionInfo": {
     "elapsed": 3474,
     "status": "ok",
     "timestamp": 1571025074267,
     "user": {
      "displayName": "冨永修司",
      "photoUrl": "",
      "userId": "03180776926989276683"
     },
     "user_tz": -540
    },
    "id": "hJjjVz50JiIx",
    "outputId": "ce655d08-caed-48bc-9eac-1da70d707007"
   },
   "outputs": [
    {
     "data": {
      "text/plain": [
       "array([-1.9, -1.7, -1.5, -1.3, -1.1, -0.9, -0.7, -0.5, -0.3, -0.1,  0.1,\n",
       "        0.3,  0.5,  0.7,  0.9,  1.1,  1.3,  1.5,  1.7,  1.9])"
      ]
     },
     "execution_count": 12,
     "metadata": {
      "tags": []
     },
     "output_type": "execute_result"
    }
   ],
   "source": [
    "# 前後の勾配の±10を取得している。\n",
    "gradient2[490:510]"
   ]
  },
  {
   "cell_type": "code",
   "execution_count": 0,
   "metadata": {
    "colab": {
     "base_uri": "https://localhost:8080/",
     "height": 85
    },
    "colab_type": "code",
    "executionInfo": {
     "elapsed": 3465,
     "status": "ok",
     "timestamp": 1571025074268,
     "user": {
      "displayName": "冨永修司",
      "photoUrl": "",
      "userId": "03180776926989276683"
     },
     "user_tz": -540
    },
    "id": "2Ihv6uSLJiI2",
    "outputId": "7bd7ef0a-d045-463d-e95b-544d04a45c4b"
   },
   "outputs": [
    {
     "data": {
      "text/plain": [
       "array([-4.28758786, -3.86516496, -3.44113269, -3.01537554, -2.58776971,\n",
       "       -2.15818251, -1.72647174, -1.29248498, -0.85605887, -0.41701833,\n",
       "        0.02482428,  0.46967008,  0.91773463,  1.36924892,  1.82446058,\n",
       "        2.28363497,  2.74705652,  3.21503004,  3.68788226,  4.16596334])"
      ]
     },
     "execution_count": 13,
     "metadata": {
      "tags": []
     },
     "output_type": "execute_result"
    }
   ],
   "source": [
    "gradient3[488:508]"
   ]
  },
  {
   "cell_type": "code",
   "execution_count": 0,
   "metadata": {
    "colab": {
     "base_uri": "https://localhost:8080/",
     "height": 85
    },
    "colab_type": "code",
    "executionInfo": {
     "elapsed": 3453,
     "status": "ok",
     "timestamp": 1571025074268,
     "user": {
      "displayName": "冨永修司",
      "photoUrl": "",
      "userId": "03180776926989276683"
     },
     "user_tz": -540
    },
    "id": "lnYXSB2UJiI7",
    "outputId": "dbdb6ddb-fffd-4e0e-9233-6150cc97bc4a"
   },
   "outputs": [
    {
     "data": {
      "text/plain": [
       "array([-0.01111112, -0.00991828, -0.00873263, -0.00755423, -0.00638312,\n",
       "       -0.00521937, -0.00406302, -0.00291412, -0.00177271, -0.00063884,\n",
       "        0.00048745,  0.00160612,  0.00271712,  0.00382043,  0.004916  ,\n",
       "        0.0060038 ,  0.00708379,  0.00815594,  0.00922022,  0.0102766 ])"
      ]
     },
     "execution_count": 14,
     "metadata": {
      "tags": []
     },
     "output_type": "execute_result"
    }
   ],
   "source": [
    "gradient4[212:232]"
   ]
  }
 ],
 "metadata": {
  "colab": {
   "collapsed_sections": [],
   "name": "example_answer_week2_session1.ipynb",
   "provenance": []
  },
  "kernelspec": {
   "display_name": "Python 3",
   "language": "python",
   "name": "python3"
  },
  "language_info": {
   "codemirror_mode": {
    "name": "ipython",
    "version": 3
   },
   "file_extension": ".py",
   "mimetype": "text/x-python",
   "name": "python",
   "nbconvert_exporter": "python",
   "pygments_lexer": "ipython3",
   "version": "3.6.4"
  },
  "varInspector": {
   "cols": {
    "lenName": 16,
    "lenType": 16,
    "lenVar": 40
   },
   "kernels_config": {
    "python": {
     "delete_cmd_postfix": "",
     "delete_cmd_prefix": "del ",
     "library": "var_list.py",
     "varRefreshCmd": "print(var_dic_list())"
    },
    "r": {
     "delete_cmd_postfix": ") ",
     "delete_cmd_prefix": "rm(",
     "library": "var_list.r",
     "varRefreshCmd": "cat(var_dic_list()) "
    }
   },
   "types_to_exclude": [
    "module",
    "function",
    "builtin_function_or_method",
    "instance",
    "_Feature"
   ],
   "window_display": false
  }
 },
 "nbformat": 4,
 "nbformat_minor": 1
}
