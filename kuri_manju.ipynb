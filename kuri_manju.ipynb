{
 "cells": [
  {
   "cell_type": "markdown",
   "id": "985d6f5f",
   "metadata": {},
   "source": [
    "# 栗まんじゅう問題\n",
    "\n",
    "漫画ドラえもんには「バイバイン」という道具が登場する、2のn乗に関する有名なエピソード[1]があります。\n",
    "\n",
    "\n",
    "[1] 藤子・Ｆ・不二雄(1979)『ドラえもん（１７）』小学館.\n",
    "\n",
    "\n",
    "「バイバイン」は薬品で、これを振掛けるとその物体は5分ごとに倍に増えるという働きがあります。作中では栗まんじゅうを増やしますが、食べきれなくなったためロケットを使い宇宙に捨てました。\n",
    "\n",
    "\n",
    "ここで度々話題になるのが、栗まんじゅうはその後宇宙でどのように増えていくのかについてです。さまざまな議論がされていますが、今回は単純に栗まんじゅうの体積がどう増えるかを計算してみましょう。\n",
    "\n",
    "## 【問題】栗まんじゅうが太陽系を覆う日\n",
    "1個の栗まんじゅうにバイバインを振りかけた場合、太陽系が栗まんじゅうで覆われるのは何分後でしょうか。これを計算するプログラムを作成してください。\n",
    "\n",
    "\n",
    "栗まんじゅうや太陽系の体積を調査した上で仮定して計算してください。栗まんじゅうの隙間や重力などは考えず、問題を単純化して構いません。\n",
    "\n",
    "\n",
    "ボールにバイバインを振りかけた時、東京ドームが一杯になる時間など他の状況にも適用できるような汎用的なプログラムを作成してください。また、グラフを表示するなど分かりやすいノートブックを作成してください。"
   ]
  },
  {
   "cell_type": "markdown",
   "id": "368bb499",
   "metadata": {},
   "source": [
    "太陽の直径:1392700000m   \n",
    "太陽系の半径:15000000000000000m\n",
    "\n",
    "太陽系の形: 双円錐\n",
    "\n",
    "太陽系の推定体積\n",
    "V = $\\frac{2}{3}\\pi r^2 h$"
   ]
  },
  {
   "cell_type": "code",
   "execution_count": 2,
   "id": "db90e93e",
   "metadata": {},
   "outputs": [
    {
     "ename": "NameError",
     "evalue": "name 'baibain_object' is not defined",
     "output_type": "error",
     "traceback": [
      "\u001b[1;31m---------------------------------------------------------------------------\u001b[0m",
      "\u001b[1;31mNameError\u001b[0m                                 Traceback (most recent call last)",
      "\u001b[1;32m<ipython-input-2-2a89434effc7>\u001b[0m in \u001b[0;36m<module>\u001b[1;34m\u001b[0m\n\u001b[0;32m     20\u001b[0m     \u001b[1;33m-\u001b[0m\u001b[1;33m-\u001b[0m\u001b[1;33m-\u001b[0m\u001b[1;33m-\u001b[0m\u001b[1;33m-\u001b[0m\u001b[1;33m-\u001b[0m\u001b[1;33m-\u001b[0m\u001b[1;33m-\u001b[0m\u001b[1;33m\u001b[0m\u001b[1;33m\u001b[0m\u001b[0m\n\u001b[0;32m     21\u001b[0m     \"\"\"\n\u001b[1;32m---> 22\u001b[1;33m \u001b[0mlist_baibain\u001b[0m \u001b[1;33m=\u001b[0m \u001b[1;33m[\u001b[0m\u001b[0mbaibain_object\u001b[0m\u001b[1;33m]\u001b[0m\u001b[1;33m\u001b[0m\u001b[1;33m\u001b[0m\u001b[0m\n\u001b[0m\u001b[0;32m     23\u001b[0m \u001b[0mcount\u001b[0m \u001b[1;33m=\u001b[0m \u001b[1;36m0\u001b[0m\u001b[1;33m\u001b[0m\u001b[1;33m\u001b[0m\u001b[0m\n\u001b[0;32m     24\u001b[0m \u001b[1;32mwhile\u001b[0m \u001b[1;32mTrue\u001b[0m\u001b[1;33m:\u001b[0m\u001b[1;33m\u001b[0m\u001b[1;33m\u001b[0m\u001b[0m\n",
      "\u001b[1;31mNameError\u001b[0m: name 'baibain_object' is not defined"
     ]
    }
   ],
   "source": [
    "import math\n",
    "def baibain(space, baibain_object):\n",
    "#何分後に空間が覆われるか表す関数\n",
    "    \"\"\"\n",
    "Parameters\n",
    "----------\n",
    "space :int\n",
    "    空間の体積(m^3)\n",
    "baibain_object: int\n",
    "    バイバイン後の体積(m^3)\n",
    "minutes_count=5　(default:5)\n",
    "    倍になるまでの時間\n",
    "\n",
    "Rebeakturn\n",
    "------------   \n",
    "minutes\n",
    "    覆われるまでの時間\n",
    "count\n",
    "    倍になる回数-\n",
    "    --------\n",
    "    \"\"\"\n",
    "list_baibain = [baibain_object]\n",
    "count = 0\n",
    "while True:\n",
    "    count += 1\n",
    "    list_baibain.append(2 * list_baibain[-1])\n",
    "    if list_baibain[-1] >= space:\n",
    "        break\n",
    "    minutes = count * minutes_count\n",
    "    \n",
    "    return minutes, count\n",
    "\n",
    "TAIYOKEI = 2/3 * math.pi*15000000000000000 ** 2 * 1392700000\n",
    "KURIMANJU = 0.001\n",
    "\n",
    "baibain(TAIYOKEI, 12)\n",
    "        "
   ]
  },
  {
   "cell_type": "code",
   "execution_count": 28,
   "id": "26959ec5",
   "metadata": {},
   "outputs": [
    {
     "name": "stdout",
     "output_type": "stream",
     "text": [
      "太陽系が栗饅頭で覆われるのは12.75時間です。\n"
     ]
    },
    {
     "data": {
      "image/png": "[encoded data removed]",
      "text/plain": [
       "<Figure size 432x288 with 1 Axes>"
      ]
     },
     "metadata": {
      "needs_background": "light"
     },
     "output_type": "display_data"
    }
   ],
   "source": [
    "import math\n",
    "\n",
    "KURIMANJU = 0.0001 \n",
    "TAIYOKEI = 2/3*3.14*15000000000000000**2 * 1392700000\n",
    "\n",
    "def fold_baibain(taiseki):\n",
    "    KURIMANJU = 0.0001\n",
    "    TAIYOKEI = 6.562944132981758e+41\n",
    "    count = 0\n",
    "    baibain_list = []\n",
    "    while KURIMANJU < taiseki:\n",
    "        KURIMANJU = KURIMANJU * 2\n",
    "        count += 5\n",
    "        baibain_list.append(KURIMANJU)\n",
    "    return baibain_list, count/60\n",
    "\n",
    "\n",
    "taiyokei,n_time = fold_baibain(TAIYOKEI)\n",
    "\n",
    "print(\"太陽系が栗饅頭で覆われるのは{:.2f}時間です。\".format(n_time))\n",
    "\n",
    "\n",
    "import matplotlib.pyplot as plt\n",
    "%matplotlib inline\n",
    "plt.title(\"manju_suppression\")\n",
    "plt.xlabel(\"time\")\n",
    "plt.ylabel(\"taiseki[m**3]\")\n",
    "plt.plot(taiyokei, color='blue',label='TAIYOKEI')\n",
    "plt.legend()\n",
    "plt.show()"
   ]
  },
  {
   "cell_type": "code",
   "execution_count": null,
   "id": "95338e3a",
   "metadata": {},
   "outputs": [],
   "source": []
  }
 ],
 "metadata": {
  "kernelspec": {
   "display_name": "Python 3",
   "language": "python",
   "name": "python3"
  },
  "language_info": {
   "codemirror_mode": {
    "name": "ipython",
    "version": 3
   },
   "file_extension": ".py",
   "mimetype": "text/x-python",
   "name": "python",
   "nbconvert_exporter": "python",
   "pygments_lexer": "ipython3",
   "version": "3.8.8"
  }
 },
 "nbformat": 4,
 "nbformat_minor": 5
}
