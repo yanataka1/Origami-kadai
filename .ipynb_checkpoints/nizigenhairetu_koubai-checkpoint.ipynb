{
 "cells": [
  {
   "cell_type": "markdown",
   "id": "e5dae62f",
   "metadata": {},
   "source": [
    "# 二次元配列と勾配問題\n",
    "機械学習においては関数の最小値を見つけることが重要になってきます。そのために使われるのが勾配降下法です。\n",
    "\n",
    "\n",
    "この課題では勾配降下法を理解する準備として、NumPyを用いて関数の勾配を考えていきます。\n",
    "\n",
    "## 【問題1】1次関数\n",
    "xが-50から50の範囲で次の式を考えます。\n",
    "\n",
    "$$y=\\frac{1}{2}x+1$$\n",
    "\n",
    "-50から50まで0.1間隔のxを表すndarrayと、各要素に対するyを表すndarrayを作成してください。"
   ]
  },
  {
   "cell_type": "code",
   "execution_count": 1,
   "id": "9c66320e",
   "metadata": {},
   "outputs": [
    {
     "name": "stdout",
     "output_type": "stream",
     "text": [
      "[-50.  -49.9 -49.8 ...  49.8  49.9  50. ]\n",
      "[-24.   -23.95 -23.9  ...  25.9   25.95  26.  ]\n"
     ]
    }
   ],
   "source": [
    "import numpy as np\n",
    "#-50から50まで0.1間隔のxを表すndarray\n",
    "x_ndarray = np.arange(-50, 50.1, 0.1)\n",
    "y_ndarray = (1/2) * x_ndarray + 1\n",
    "print(x_ndarray)\n",
    "print(y_ndarray)"
   ]
  },
  {
   "cell_type": "markdown",
   "id": "21d68731",
   "metadata": {},
   "source": [
    "## 【問題2】配列の結合\n",
    "問題1で作成したndarrayを結合し、(1001, 2)の形の配列にしてください。0列目にx、1列目にyが来るようにします。"
   ]
  },
  {
   "cell_type": "code",
   "execution_count": 2,
   "id": "5ae103dc",
   "metadata": {},
   "outputs": [
    {
     "name": "stdout",
     "output_type": "stream",
     "text": [
      "(1001, 2)\n",
      "[[-50.   -24.  ]\n",
      " [-49.9  -23.95]\n",
      " [-49.8  -23.9 ]\n",
      " ...\n",
      " [ 49.8   25.9 ]\n",
      " [ 49.9   25.95]\n",
      " [ 50.    26.  ]]\n"
     ]
    }
   ],
   "source": [
    "import numpy as np\n",
    "#-50から50まで0.1間隔のxを表すndarray\n",
    "x_ndarray = np.arange(-50, 50+0.1, 0.1)\n",
    "y_ndarray = (1/2) * x_ndarray + 1 \n",
    "\n",
    "x1_ndarray = x_ndarray.reshape(-1, 1)#xの配列\n",
    "y1_ndarray = y_ndarray.reshape(1001,1)#yの配列\n",
    "\n",
    "mix_ndarray = np.concatenate([x1_ndarray,y1_ndarray],axis=1)\n",
    "print(mix_ndarray.shape)\n",
    "print(mix_ndarray)"
   ]
  },
  {
   "cell_type": "markdown",
   "id": "e6d00b47",
   "metadata": {},
   "source": [
    "### 別回答\n"
   ]
  },
  {
   "cell_type": "code",
   "execution_count": 3,
   "id": "6012f61c",
   "metadata": {},
   "outputs": [
    {
     "name": "stdout",
     "output_type": "stream",
     "text": [
      "(1001, 2)\n",
      "[[-50.   -24.  ]\n",
      " [-49.9  -23.95]\n",
      " [-49.8  -23.9 ]\n",
      " ...\n",
      " [ 49.8   25.9 ]\n",
      " [ 49.9   25.95]\n",
      " [ 50.    26.  ]]\n"
     ]
    }
   ],
   "source": [
    "mix1_ndarray = np.hstack((x_ndarray.reshape(1001,1), y_ndarray.reshape(1001,1)))\n",
    "print(mix1_ndarray.shape)\n",
    "print(mix1_ndarray)"
   ]
  },
  {
   "cell_type": "markdown",
   "id": "ee449fdc",
   "metadata": {},
   "source": [
    "## 【問題3】勾配を求める\n",
    "各x座標における勾配を求めます。ここで勾配はyの変化量をxの変化量で割ることで計算します。\n",
    "\n",
    "$$勾配 = \\frac{yの変化量}{xの変化量}$$\n",
    "各変化量は以下の図のように隣同士の要素の差から近似的に求めます。\n",
    "\n",
    "ある配列がある==>スライスする==>差を計算する==>変化量を得る\n",
    "\n",
    "厳密に各点における勾配を求めるには極限（微分）を利用する必要があります\n",
    "勾配はx座標の間隔を使うので、xの要素数に対して一つ少なくなります\n"
   ]
  },
  {
   "cell_type": "code",
   "execution_count": 21,
   "id": "eda290c6",
   "metadata": {},
   "outputs": [
    {
     "name": "stdout",
     "output_type": "stream",
     "text": [
      "[0.5 0.5 0.5 0.5 0.5]\n",
      "(1000,)\n"
     ]
    }
   ],
   "source": [
    "n_ndarray = mix_ndarray[1:,:] - mix_ndarray[:-1,:] \n",
    "gradient = n_ndarray[:,1] / n_ndarray[:,0]#yの変化量をxの変化量で割る\n",
    "print(gradient[0:5]) #先頭の５つで確認\n",
    "print(gradient.shape)"
   ]
  },
  {
   "cell_type": "markdown",
   "id": "e025c7f0",
   "metadata": {},
   "source": [
    "## 【問題4】グラフを描く\n",
    "1次関数のグラフをMatplotlibを用いて描いてください。また、それとは別に横軸をx、縦軸を勾配としたグラフも描いてください。"
   ]
  },
  {
   "cell_type": "code",
   "execution_count": 5,
   "id": "86f13729",
   "metadata": {},
   "outputs": [
    {
     "data": {
      "image/png": "[encoded data removed]",
      "text/plain": [
       "<Figure size 432x288 with 1 Axes>"
      ]
     },
     "metadata": {
      "needs_background": "light"
     },
     "output_type": "display_data"
    }
   ],
   "source": [
    "import matplotlib.pyplot as plt\n",
    "plt.title(\"one_dimensional\")\n",
    "plt.plot(x_ndarray,y_ndarray)\n",
    "plt.grid()\n",
    "plt.show()"
   ]
  },
  {
   "cell_type": "code",
   "execution_count": 6,
   "id": "4ce6b982",
   "metadata": {},
   "outputs": [
    {
     "data": {
      "image/png": "[encoded data removed]",
      "text/plain": [
       "<Figure size 432x288 with 1 Axes>"
      ]
     },
     "metadata": {
      "needs_background": "light"
     },
     "output_type": "display_data"
    }
   ],
   "source": [
    "import numpy as np\n",
    "import matplotlib.pyplot as plt\n",
    "gradient = n_ndarray[:,1] / n_ndarray[:,0]\n",
    "\n",
    "plt.title(\"slope xy\")\n",
    "plt.xlabel(\"x\")\n",
    "plt.ylabel(\"slope\")\n",
    "plt.plot(x_ndarray[:-1],gradient)\n",
    "plt.xlim(-50, 50)\n",
    "plt.ylim(0,1)\n",
    "plt.grid()\n",
    "plt.show()\n"
   ]
  },
  {
   "cell_type": "markdown",
   "id": "393f69c4",
   "metadata": {},
   "source": [
    "## 【問題5】Pythonの関数化\n",
    "問題1から問題3までの範囲をまとめて行うPythonの関数を雛形を参考に作成してください。\n",
    "\n",
    "\n",
    "そして、以下の3式の勾配を0.1間隔で求めてndarrayで出力してください。\n",
    "\n",
    "\n",
    "$$y = x^{2} \\quad (-50\\leq x \\leq 50)\\\\ y = 2x^{2}+2^{x} \\quad (-50\\leq x \\leq 50)\\\\ y = sin(x^{\\frac{1}{2}}) \\quad (0\\leq x \\leq 50)$$\n",
    "また、問題4と同様にグラフを描いてください。\n",
    "\n",
    "\n",
    "ndarrayに対して三角関数のsinの計算を行うには np.sin()を用います。"
   ]
  },
  {
   "cell_type": "code",
   "execution_count": 7,
   "id": "793f6cc1",
   "metadata": {},
   "outputs": [],
   "source": [
    "#問題１：-50から50まで0.1間隔のxを表すndarrayと、各要素に対するyを表すndarrayを作成してください：\n",
    "#問題２:問題1で作成したndarrayを結合し、(1001, 2)の形の配列にしてください。0列目にx、1列目にyが来るようにします。\n",
    "#問題３：各x座標における勾配を求めます。ここで勾配はyの変化量をxの変化量で割ることで計算します：\n",
    "\n",
    "#ｘ間　0.1\n",
    "#y間   0.05\n",
    "#a(変化量)間 0.5"
   ]
  },
  {
   "cell_type": "code",
   "execution_count": 8,
   "id": "7c8abbaf",
   "metadata": {},
   "outputs": [],
   "source": [
    "def compute_gradient(function, x_range=(-50, 50.1, 0.1)):\n",
    "    \"\"\"\n",
    "    変化量を使い勾配を計算する。\n",
    "    Parameters\n",
    "    ----------------\n",
    "    function : function\n",
    "      求めたい関数、xのndarrayを入れるとyのndarrayを返すもの。\n",
    "    x_range : tuple\n",
    "      np.arange()の引数と同じ方法で範囲を指定する。\n",
    "    Returns\n",
    "    ----------------\n",
    "    array_xy : ndarray, shape(n, 2)\n",
    "      xとyを結合したもの。nはx_rangeに依存する。\n",
    "    gradient : ndarray, shape(n-1,)\n",
    "      関数の勾配。差をとるため要素は1つ減る\n",
    "    \"\"\" \n",
    "    x = np.arange(*x_range) #xの範囲\n",
    "    x1 = x.reshape(len(x),1) #x縦変換\n",
    "    y1 = function(x1) #xをyに代入(function:引数)\n",
    "    x1_d = x1[1:] - x1[:-1] #xの変化量(x間の差)\n",
    "    y1_d = y1[1:] - y1[:-1] #yの変化量(y間の差)\n",
    "    array_xy = np.hstack((x1, y1))#x:1列目　y:2列目\n",
    "    gradient = y1_d / x1_d # a:(yの変化量をxの変化量で割る)\n",
    "    \n",
    "    \n",
    "    return array_xy, gradient, y1"
   ]
  },
  {
   "cell_type": "code",
   "execution_count": 9,
   "id": "781e95c0",
   "metadata": {},
   "outputs": [
    {
     "data": {
      "image/png": "[encoded data removed]",
      "text/plain": [
       "<Figure size 432x288 with 1 Axes>"
      ]
     },
     "metadata": {
      "needs_background": "light"
     },
     "output_type": "display_data"
    }
   ],
   "source": [
    "#一次関数\n",
    "def function0(array_x):\n",
    "   \n",
    "    return array_x/2 + 1\n",
    "\n",
    "\n",
    "array_xy0, gradient, y0 = compute_gradient(function0)\n",
    "\n",
    "import matplotlib.pyplot as plt\n",
    "plt.title(\"y=x/2+1\")\n",
    "plt.xlabel(\"x\")\n",
    "plt.ylabel(\"y\")\n",
    "plt.plot(array_xy0[:,0], array_xy0[:,1], label=\"function graph\")\n",
    "plt.plot(array_xy0[:-1,0], gradient[:,0], label=\"gradient graph\")\n",
    "plt.legend()\n",
    "plt.grid()\n",
    "plt.show()"
   ]
  },
  {
   "cell_type": "code",
   "execution_count": 10,
   "id": "8fa6549e",
   "metadata": {},
   "outputs": [
    {
     "data": {
      "image/png": "[encoded data removed]",
      "text/plain": [
       "<Figure size 432x288 with 1 Axes>"
      ]
     },
     "metadata": {
      "needs_background": "light"
     },
     "output_type": "display_data"
    }
   ],
   "source": [
    "# 二次関数\n",
    "def function1(array_x):\n",
    "   \n",
    "    return array_x**2\n",
    "\n",
    "\n",
    "array_xy0, gradient, y0 = compute_gradient(function1)\n",
    "\n",
    "import matplotlib.pyplot as plt\n",
    "plt.title(\"y=x^2\")\n",
    "plt.xlabel(\"x\")\n",
    "plt.ylabel(\"y\")\n",
    "plt.plot(array_xy0[:,0], array_xy0[:,1], label=\"function graph\")\n",
    "plt.plot(array_xy0[:-1,0], gradient[:,0], label=\"gradient graph\")\n",
    "plt.legend()\n",
    "plt.grid()\n",
    "plt.show()"
   ]
  },
  {
   "cell_type": "code",
   "execution_count": 11,
   "id": "bdd70bb2",
   "metadata": {},
   "outputs": [
    {
     "data": {
      "image/png": "[encoded data removed]",
      "text/plain": [
       "<Figure size 432x288 with 1 Axes>"
      ]
     },
     "metadata": {
      "needs_background": "light"
     },
     "output_type": "display_data"
    }
   ],
   "source": [
    "#二次関数\n",
    "def function2(array_x):\n",
    "   \n",
    "    return 2*(array_x**2)+(2**array_x)\n",
    "\n",
    "\n",
    "array_xy0, gradient, y0 = compute_gradient(function2)\n",
    "\n",
    "import matplotlib.pyplot as plt\n",
    "plt.title(\"y=x^2+2^x\")\n",
    "plt.xlabel(\"x\")\n",
    "plt.ylabel(\"y\")\n",
    "plt.plot(array_xy0[:,0], array_xy0[:,1], label=\"function graph\")\n",
    "plt.plot(array_xy0[:-1,0], gradient[:,0], label=\"gradient graph\")\n",
    "plt.legend()\n",
    "plt.grid()\n",
    "plt.show()"
   ]
  },
  {
   "cell_type": "code",
   "execution_count": 12,
   "id": "7e6de816",
   "metadata": {},
   "outputs": [
    {
     "data": {
      "image/png": "[encoded data removed]",
      "text/plain": [
       "<Figure size 432x288 with 1 Axes>"
      ]
     },
     "metadata": {
      "needs_background": "light"
     },
     "output_type": "display_data"
    }
   ],
   "source": [
    "#三角関数(sin)\n",
    "def function3(array_x):\n",
    "   \n",
    "    return np.sin(array_x**(1/2))\n",
    "\n",
    "\n",
    "array_xy0, gradient, y0 = compute_gradient(function3,(0,50,0.1))\n",
    "\n",
    "import matplotlib.pyplot as plt\n",
    "plt.title(\"y=sin(x^1/2)\")\n",
    "plt.xlabel(\"x\")\n",
    "plt.ylabel(\"y\")\n",
    "plt.plot(array_xy0[:,0], array_xy0[:,1], label=\"function graph\")\n",
    "plt.plot(array_xy0[:-1,0], gradient[:,0], label=\"gradient graph\")\n",
    "plt.legend()\n",
    "plt.grid()\n",
    "plt.show()"
   ]
  },
  {
   "cell_type": "markdown",
   "id": "6b287b59",
   "metadata": {},
   "source": [
    "## 【問題6】最小値を求める\n",
    "問題5で扱った関数のyの最小値を求めます。xの範囲も問題5と同様とします。\n",
    "\n",
    "\n",
    "今回は勾配降下法ではなく、ndarrayのminメソッド、argminメソッドを用いてください。minメソッドは最小値を、argminメソッドは最小値のインデックスを取得することができます。\n",
    "\n",
    "\n",
    "また、最小のyをとる前後の勾配を表示してください。"
   ]
  },
  {
   "cell_type": "code",
   "execution_count": 13,
   "id": "0afa7713",
   "metadata": {},
   "outputs": [
    {
     "name": "stdout",
     "output_type": "stream",
     "text": [
      "-24.0\n",
      "0\n",
      "[[0.5]\n",
      " [0.5]]\n"
     ]
    }
   ],
   "source": [
    "#y = x/2 + 1\n",
    "s_min0, xi0, yj0 = compute_gradient(function0)\n",
    "print(np.min(yj0))\n",
    "print(np.argmin(yj0))\n",
    "print(xi0[0:2])"
   ]
  },
  {
   "cell_type": "code",
   "execution_count": 14,
   "id": "1dd80e16",
   "metadata": {},
   "outputs": [
    {
     "name": "stdout",
     "output_type": "stream",
     "text": [
      "5.048709793414476e-25\n",
      "500\n",
      "[[-0.1]\n",
      " [ 0.1]\n",
      " [ 0.3]]\n"
     ]
    }
   ],
   "source": [
    "#y = x^2  \n",
    "s_min1, xi1, yj1 = compute_gradient(function1)\n",
    "print(np.min(yj1))\n",
    "print(np.argmin(yj1))\n",
    "print(xi1[499:502])"
   ]
  },
  {
   "cell_type": "code",
   "execution_count": 15,
   "id": "f17cf134",
   "metadata": {},
   "outputs": [
    {
     "name": "stdout",
     "output_type": "stream",
     "text": [
      "0.9505505632959851\n",
      "498\n",
      "[[-0.41701833]\n",
      " [ 0.02482428]\n",
      " [ 0.46967008]]\n"
     ]
    }
   ],
   "source": [
    "#y = 2*x^2+2^x\n",
    "s_min2, xi2, yj2 = compute_gradient(function2)\n",
    "print(np.min(yj2))\n",
    "print(np.argmin(yj2))\n",
    "print(xi2[497:500])"
   ]
  },
  {
   "cell_type": "code",
   "execution_count": 16,
   "id": "ca432a44",
   "metadata": {},
   "outputs": [
    {
     "name": "stdout",
     "output_type": "stream",
     "text": [
      "-0.9999997540298113\n",
      "222\n",
      "[[-0.00063884]\n",
      " [ 0.00048745]\n",
      " [ 0.00160612]]\n"
     ]
    }
   ],
   "source": [
    "#y = sin(x^1/2)\n",
    "s_min3, xi3, yj3 = compute_gradient(function3,(0,50,0.1))\n",
    "print(np.min(yj3))\n",
    "print(np.argmin(yj3))\n",
    "print(xi3[221:224])"
   ]
  }
 ],
 "metadata": {
  "kernelspec": {
   "display_name": "Python 3",
   "language": "python",
   "name": "python3"
  },
  "language_info": {
   "codemirror_mode": {
    "name": "ipython",
    "version": 3
   },
   "file_extension": ".py",
   "mimetype": "text/x-python",
   "name": "python",
   "nbconvert_exporter": "python",
   "pygments_lexer": "ipython3",
   "version": "3.8.8"
  }
 },
 "nbformat": 4,
 "nbformat_minor": 5
}
