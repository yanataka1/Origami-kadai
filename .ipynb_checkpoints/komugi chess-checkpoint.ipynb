{
 "cells": [
  {
   "cell_type": "markdown",
   "id": "bf2cee11",
   "metadata": {},
   "source": [
    "# 小麦とチェス盤問題\n",
    "曽呂利新左衛門の米の逸話に似たものとして、小麦とチェス盤の話があります。これを題材に多次元配列を扱うための数値計算ライブラリ NumPy の使い方に慣れていきます。\n",
    "\n",
    "\n",
    "If a chessboard were to have wheat placed upon each square such that one grain were placed on the first square, two on the second, four on the third, and so on (doubling the number of grains on each subsequent square), how many grains of wheat would be on the chessboard at the finish?\n",
    "\n",
    "\n",
    "Wheat and chessboard problem - Wikipedia（最終閲覧日：2019年5月31日）\n",
    "\n",
    "\n",
    "8×8マスのチェス盤の上に、小麦の粒を1, 2, 4と順番に置いていくと最終的な小麦の数はどのようになるかという問題です。"
   ]
  },
  {
   "cell_type": "markdown",
   "id": "23a297c3",
   "metadata": {},
   "source": [
    "## 【問題1】2×2マスのチェス盤の小麦の数\n",
    "2×2マスのチェス盤をndarrayによって表現し、各マスの小麦の数を計算してください。左上のマスに小麦を1つ置いた後、その右が2つ、左下が4つ、右下が8つという風に進みます。\n",
    "\n",
    "\n",
    "サンプルコードで作成したndarrayのshapeの変形を行ってください。"
   ]
  },
  {
   "cell_type": "code",
   "execution_count": 5,
   "id": "81a3df6b",
   "metadata": {},
   "outputs": [
    {
     "name": "stdout",
     "output_type": "stream",
     "text": [
      "４マスの板に小麦を並べる（リスト）：[1, 2, 4, 8]\n",
      "4マスの板に小麦を並べる(ndarray) :[1 2 4 8]\n",
      "4マスの板に小麦を並べる(2×2) :\n",
      "[[1 2]\n",
      " [4 8]]\n"
     ]
    }
   ],
   "source": [
    "import numpy as np\n",
    "\n",
    "n_squares = 4\n",
    "small_board_list = [1]\n",
    "for _ in range(n_squares - 1):\n",
    "    small_board_list.append(2*small_board_list[-1])\n",
    "print(\"４マスの板に小麦を並べる（リスト）：{}\".format(small_board_list))\n",
    "\n",
    "small_board_ndarray = np.array(small_board_list)\n",
    "print(\"4マスの板に小麦を並べる(ndarray) :{}\".format(small_board_ndarray))\n",
    "print(\"4マスの板に小麦を並べる(2×2) :\\n{}\".format(small_board_ndarray.reshape(2,2)))"
   ]
  },
  {
   "cell_type": "markdown",
   "id": "b73d2699",
   "metadata": {},
   "source": [
    "## 【問題2】n×mマスへの拡張\n",
    "n×mマスのチェス盤の小麦の数を記したndarrayを返す関数を作成してください。そして、この関数を使い8×8マスのチェス盤の小麦の数を求めてください。"
   ]
  },
  {
   "cell_type": "code",
   "execution_count": 6,
   "id": "d2b8305c",
   "metadata": {},
   "outputs": [
    {
     "name": "stdout",
     "output_type": "stream",
     "text": [
      "[[1.00000000e+00 2.00000000e+00 4.00000000e+00 8.00000000e+00\n",
      "  1.60000000e+01 3.20000000e+01 6.40000000e+01 1.28000000e+02]\n",
      " [2.56000000e+02 5.12000000e+02 1.02400000e+03 2.04800000e+03\n",
      "  4.09600000e+03 8.19200000e+03 1.63840000e+04 3.27680000e+04]\n",
      " [6.55360000e+04 1.31072000e+05 2.62144000e+05 5.24288000e+05\n",
      "  1.04857600e+06 2.09715200e+06 4.19430400e+06 8.38860800e+06]\n",
      " [1.67772160e+07 3.35544320e+07 6.71088640e+07 1.34217728e+08\n",
      "  2.68435456e+08 5.36870912e+08 1.07374182e+09 2.14748365e+09]\n",
      " [4.29496730e+09 8.58993459e+09 1.71798692e+10 3.43597384e+10\n",
      "  6.87194767e+10 1.37438953e+11 2.74877907e+11 5.49755814e+11]\n",
      " [1.09951163e+12 2.19902326e+12 4.39804651e+12 8.79609302e+12\n",
      "  1.75921860e+13 3.51843721e+13 7.03687442e+13 1.40737488e+14]\n",
      " [2.81474977e+14 5.62949953e+14 1.12589991e+15 2.25179981e+15\n",
      "  4.50359963e+15 9.00719925e+15 1.80143985e+16 3.60287970e+16]\n",
      " [7.20575940e+16 1.44115188e+17 2.88230376e+17 5.76460752e+17\n",
      "  1.15292150e+18 2.30584301e+18 4.61168602e+18 9.22337204e+18]]\n"
     ]
    }
   ],
   "source": [
    "import numpy as np\n",
    "\n",
    "def ches_number(axis0, axis1):\n",
    "    n_squares = axis0 * axis1\n",
    "    board_list = [1]\n",
    "    \n",
    "    for _ in range(n_squares - 1):\n",
    "        board_list.append(2*board_list[-1])\n",
    "    \n",
    "    board_ndarray = np.array(board_list)\n",
    "    \n",
    "    return board_ndarray.reshape(axis0, axis1)\n",
    "\n",
    "#縦マスの数\n",
    "axis0 = 8\n",
    "#横マスの数\n",
    "axis1 = 8\n",
    "\n",
    "print(ches_number(axis0, axis1))"
   ]
  },
  {
   "cell_type": "markdown",
   "id": "9cd26b30",
   "metadata": {},
   "source": [
    "## 【問題3】小麦の数の合計\n",
    "8×8マスのチェス盤の小麦の数の合計を求めてください。また、各列の平均を求め、それを棒グラフで可視化してください。\n",
    "\n",
    "\n",
    "棒グラフはサンプルコードを用意しています。"
   ]
  },
  {
   "cell_type": "code",
   "execution_count": 7,
   "id": "455215df",
   "metadata": {},
   "outputs": [
    {
     "name": "stdout",
     "output_type": "stream",
     "text": [
      "合計値は1.8446744073709552e+19\n"
     ]
    }
   ],
   "source": [
    "#小麦の合計\n",
    "board_ndarray = ches_number(8, 8)\n",
    "print(\"合計値は{}\".format(board_ndarray.sum()))"
   ]
  },
  {
   "cell_type": "code",
   "execution_count": 13,
   "id": "2e25710b",
   "metadata": {},
   "outputs": [
    {
     "name": "stdout",
     "output_type": "stream",
     "text": [
      " 列の平均は[9.04252160e+15 1.80850432e+16 3.61700864e+16 7.23401728e+16\n",
      " 1.44680346e+17 2.89360691e+17 5.78721383e+17 1.15744277e+18]\n"
     ]
    }
   ],
   "source": [
    "#列の平均\n",
    "board_ndarray = ches_number(8, 8)\n",
    "print(\" 列の平均は{}\".format(board_ndarray.mean(axis = 0)))"
   ]
  },
  {
   "cell_type": "code",
   "execution_count": 19,
   "id": "55bf9eb4",
   "metadata": {},
   "outputs": [
    {
     "data": {
      "image/png": "[encoded data removed]",
      "text/plain": [
       "<Figure size 432x288 with 1 Axes>"
      ]
     },
     "metadata": {
      "needs_background": "light"
     },
     "output_type": "display_data"
    }
   ],
   "source": [
    "import matplotlib.pyplot as plt\n",
    "%matplotlib inline\n",
    "plt.xlabel(\"column\")\n",
    "plt.ylabel(\"number\")\n",
    "plt.title(\"number in each column\")\n",
    "plt.bar(np.arange(1,9), np.mean(board_ndarray, axis=0))\n",
    "plt.show()"
   ]
  },
  {
   "cell_type": "markdown",
   "id": "f5411981",
   "metadata": {},
   "source": [
    "## 【問題4】小麦の数のヒートマップ\n",
    "8×8マスのチェス盤の小麦の数をヒートマップとして可視化してください。\n"
   ]
  },
  {
   "cell_type": "code",
   "execution_count": 27,
   "id": "e74d573e",
   "metadata": {},
   "outputs": [
    {
     "data": {
      "image/png": "[encoded data removed]",
      "text/plain": [
       "<Figure size 432x288 with 1 Axes>"
      ]
     },
     "metadata": {
      "needs_background": "light"
     },
     "output_type": "display_data"
    }
   ],
   "source": [
    "board_ndarray = ches_number(8, 8)\n",
    "\n",
    "\n",
    "plt.xlabel(\"column\")\n",
    "plt.ylabel(\"row\")\n",
    "plt.title(\"heatmap\")\n",
    "plt.pcolor(board_ndarray)\n",
    "plt.show()"
   ]
  },
  {
   "cell_type": "markdown",
   "id": "65b3532f",
   "metadata": {},
   "source": [
    "## 【問題5】後半は前半の何倍か\n",
    "チェス盤の後半にある小麦の数は前半にある小麦の数の何倍かを求めてください。前半とは配列の0から3行目、後半は4から7行目です。"
   ]
  },
  {
   "cell_type": "code",
   "execution_count": 31,
   "id": "15ddb7cb",
   "metadata": {},
   "outputs": [
    {
     "name": "stdout",
     "output_type": "stream",
     "text": [
      "後半は前半の4294967296.0倍です。\n"
     ]
    }
   ],
   "source": [
    "board_ndarray = ches_number(8, 8)\n",
    "\n",
    "first_harf = board_ndarray[:4, :].sum()\n",
    "last_harf = board_ndarray[4: , :].sum()\n",
    "\n",
    "answer = last_harf / first_harf\n",
    "\n",
    "print(\"後半は前半の{}倍です。\".format(answer))"
   ]
  },
  {
   "cell_type": "markdown",
   "id": "ea0382b7",
   "metadata": {},
   "source": [
    "## 【問題6】他の計算方法によるn×mマスへの拡張"
   ]
  },
  {
   "cell_type": "code",
   "execution_count": 57,
   "id": "848aa3f2",
   "metadata": {},
   "outputs": [
    {
     "name": "stdout",
     "output_type": "stream",
     "text": [
      "[[                  1                   2                   4\n",
      "                    8                  16                  32\n",
      "                   64                 128]\n",
      " [                256                 512                1024\n",
      "                 2048                4096                8192\n",
      "                16384               32768]\n",
      " [              65536              131072              262144\n",
      "               524288             1048576             2097152\n",
      "              4194304             8388608]\n",
      " [           16777216            33554432            67108864\n",
      "            134217728           268435456           536870912\n",
      "           1073741824          2147483648]\n",
      " [         4294967296          8589934592         17179869184\n",
      "          34359738368         68719476736        137438953472\n",
      "         274877906944        549755813888]\n",
      " [      1099511627776       2199023255552       4398046511104\n",
      "        8796093022208      17592186044416      35184372088832\n",
      "       70368744177664     140737488355328]\n",
      " [    281474976710656     562949953421312    1125899906842624\n",
      "     2251799813685248    4503599627370496    9007199254740992\n",
      "    18014398509481984   36028797018963968]\n",
      " [  72057594037927936  144115188075855872  288230376151711744\n",
      "   576460752303423488 1152921504606846976 2305843009213693952\n",
      "  4611686018427387904 9223372036854775808]]\n"
     ]
    }
   ],
   "source": [
    "#np.append使用\n",
    "import numpy as np\n",
    "\n",
    "def ches_number(axis0, axis1):\n",
    "    n_squares = axis0 * axis1\n",
    "    board_list = [1]\n",
    "    \n",
    "    for _ in range(n_squares - 1):\n",
    "        board_list = np.append(board_list, 2*board_list[-1]).astype(np.uint64)\n",
    "    \n",
    "    board_ndarray = np.array(board_list)\n",
    "    \n",
    "    return board_ndarray.reshape(axis0, axis1)\n",
    "\n",
    "#縦マスの数\n",
    "axis0 = 8\n",
    "#横マスの数\n",
    "axis1 = 8\n",
    "\n",
    "print(ches_number(axis0, axis1))"
   ]
  },
  {
   "cell_type": "code",
   "execution_count": 56,
   "id": "da4e2513",
   "metadata": {},
   "outputs": [
    {
     "name": "stdout",
     "output_type": "stream",
     "text": [
      "[[                  1                   2                   4\n",
      "                    8                  16                  32\n",
      "                   64                 128]\n",
      " [                256                 512                1024\n",
      "                 2048                4096                8192\n",
      "                16384               32768]\n",
      " [              65536              131072              262144\n",
      "               524288             1048576             2097152\n",
      "              4194304             8388608]\n",
      " [           16777216            33554432            67108864\n",
      "            134217728           268435456           536870912\n",
      "           1073741824          2147483648]\n",
      " [         4294967296          8589934592         17179869184\n",
      "          34359738368         68719476736        137438953472\n",
      "         274877906944        549755813888]\n",
      " [      1099511627776       2199023255552       4398046511104\n",
      "        8796093022208      17592186044416      35184372088832\n",
      "       70368744177664     140737488355328]\n",
      " [    281474976710656     562949953421312    1125899906842624\n",
      "     2251799813685248    4503599627370496    9007199254740992\n",
      "    18014398509481984   36028797018963968]\n",
      " [  72057594037927936  144115188075855872  288230376151711744\n",
      "   576460752303423488 1152921504606846976 2305843009213693952\n",
      "  4611686018427387904 9223372036854775808]]\n"
     ]
    }
   ],
   "source": [
    "import numpy as np\n",
    "\n",
    "#ブロードキャスト\n",
    "def ches_number(axis0, axis1):\n",
    "    n_squares = axis0 * axis1\n",
    "    board_list = [1]\n",
    "    \n",
    "    indices_of_squares = np.arange(n_squares).astype(np.uint64)\n",
    "    small_board_ndarray = 2**indices_of_squares\n",
    "    \n",
    "    \n",
    "    \n",
    "    return small_board_ndarray.reshape(axis0, axis1)\n",
    "\n",
    "#縦マスの数\n",
    "axis0 = 8\n",
    "#横マスの数\n",
    "axis1 = 8\n",
    "print(ches_number(axis0, axis1))\n",
    "\n",
    "\n"
   ]
  },
  {
   "cell_type": "markdown",
   "id": "27411308",
   "metadata": {},
   "source": [
    "## 【問題7】計算時間の比較\n",
    "3種類の方法を見てきました。それぞれの計算時間をJupyter Notebookの%%timeitを用いて計測し、比較と考察を行ってください。\n",
    "\n",
    "\n",
    "%%timeitはセル内のコードを複数回実行し、その平均実行時間を出力する働きをします。"
   ]
  },
  {
   "cell_type": "code",
   "execution_count": 60,
   "id": "27ffa1ca",
   "metadata": {},
   "outputs": [
    {
     "name": "stdout",
     "output_type": "stream",
     "text": [
      "80.7 µs ± 18 µs per loop (mean ± std. dev. of 7 runs, 10000 loops each)\n"
     ]
    }
   ],
   "source": [
    "%%timeit\n",
    "#np.arrayの計算\n",
    "\n",
    "import numpy as np\n",
    "\n",
    "def ches_number(axis0, axis1):\n",
    "    n_squares = axis0 * axis1\n",
    "    board_list = [1]\n",
    "    \n",
    "    for _ in range(n_squares - 1):\n",
    "        board_list.append(2*board_list[-1])\n",
    "    \n",
    "    board_ndarray = np.array(board_list)\n",
    "    \n",
    "    return board_ndarray.reshape(axis0, axis1)\n",
    "\n",
    "#縦マスの数\n",
    "axis0 = 8\n",
    "#横マスの数\n",
    "axis1 = 8\n",
    "\n",
    "ches_number(axis0, axis1)"
   ]
  },
  {
   "cell_type": "code",
   "execution_count": 61,
   "id": "1439ae41",
   "metadata": {},
   "outputs": [
    {
     "name": "stdout",
     "output_type": "stream",
     "text": [
      "2.9 ms ± 517 µs per loop (mean ± std. dev. of 7 runs, 100 loops each)\n"
     ]
    }
   ],
   "source": [
    "%%timeit\n",
    "#np.appendの計算\n",
    "\n",
    "import numpy as np\n",
    "\n",
    "def ches_number(axis0, axis1):\n",
    "    n_squares = axis0 * axis1\n",
    "    board_list = [1]\n",
    "    \n",
    "    for _ in range(n_squares - 1):\n",
    "        board_list = np.append(board_list, 2*board_list[-1]).astype(np.uint64)\n",
    "    \n",
    "    board_ndarray = np.array(board_list)\n",
    "    \n",
    "    return board_ndarray.reshape(axis0, axis1)\n",
    "\n",
    "#縦マスの数\n",
    "axis0 = 8\n",
    "#横マスの数\n",
    "axis1 = 8\n",
    "\n",
    "ches_number(axis0, axis1)"
   ]
  },
  {
   "cell_type": "code",
   "execution_count": 58,
   "id": "e42bbfb8",
   "metadata": {},
   "outputs": [
    {
     "name": "stdout",
     "output_type": "stream",
     "text": [
      "17 µs ± 802 ns per loop (mean ± std. dev. of 7 runs, 100000 loops each)\n"
     ]
    }
   ],
   "source": [
    "%%timeit\n",
    "#ブロードキャストの計算\n",
    "\n",
    "import numpy as np\n",
    "\n",
    "\n",
    "def ches_number(axis0, axis1):\n",
    "    n_squares = axis0 * axis1\n",
    "    #board_list = [1]\n",
    "    \n",
    "    indices_of_squares = np.arange(n_squares).astype(np.uint64)\n",
    "    small_board_ndarray = 2**indices_of_squares\n",
    "    \n",
    "    \n",
    "    \n",
    "    return small_board_ndarray.reshape(axis0, axis1)\n",
    "\n",
    "#縦マスの数\n",
    "#axis0 = 8\n",
    "#横マスの数\n",
    "#axis1 = 8\n",
    "\n",
    "t = ches_number(8, 8)\n"
   ]
  },
  {
   "cell_type": "markdown",
   "id": "8c7b97c4",
   "metadata": {},
   "source": [
    "速さ順は\n",
    "１　ブロードキャスト\n",
    "２　np.array\n",
    "３　no.append"
   ]
  }
 ],
 "metadata": {
  "kernelspec": {
   "display_name": "Python 3",
   "language": "python",
   "name": "python3"
  },
  "language_info": {
   "codemirror_mode": {
    "name": "ipython",
    "version": 3
   },
   "file_extension": ".py",
   "mimetype": "text/x-python",
   "name": "python",
   "nbconvert_exporter": "python",
   "pygments_lexer": "ipython3",
   "version": "3.8.8"
  }
 },
 "nbformat": 4,
 "nbformat_minor": 5
}
