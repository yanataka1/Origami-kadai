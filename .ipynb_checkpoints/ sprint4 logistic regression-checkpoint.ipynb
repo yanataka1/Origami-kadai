{
 "cells": [
  {
   "cell_type": "markdown",
   "metadata": {},
   "source": [
    "# Sprint 4"
   ]
  },
  {
   "cell_type": "markdown",
   "metadata": {},
   "source": [
    "# ライブラリの読み込み"
   ]
  },
  {
   "cell_type": "code",
   "execution_count": 1,
   "metadata": {},
   "outputs": [],
   "source": [
    "import numpy as np\n",
    "import pandas as pd\n",
    "from sklearn.datasets import load_iris\n",
    "from sklearn.model_selection import train_test_split\n",
    "from sklearn.metrics import confusion_matrix,precision_score,recall_score,f1_score\n",
    "import matplotlib.pyplot as plt\n",
    "%matplotlib inline"
   ]
  },
  {
   "cell_type": "markdown",
   "metadata": {},
   "source": [
    "# スクラッチ実装"
   ]
  },
  {
   "cell_type": "code",
   "execution_count": 2,
   "metadata": {},
   "outputs": [],
   "source": [
    "class ScratchLogisticRegression():\n",
    "    \n",
    "    def __init__(self, iter_num, lr,lam):### 説明順番 ①\n",
    "        \"\"\"各種変数初期化＆定義\n",
    "        Parameters \n",
    "        ----------\n",
    "        iter:学習回数\n",
    "        lr:学習率\n",
    "        theta:重み(線形結合する時の)\n",
    "        lam:正則化パラメータ  L2正則化\n",
    "        train_loss:訓練データの損失\n",
    "        val_loss:評価データの損失\n",
    "        \"\"\"\n",
    "        self.iter_num = iter_num # 学習回数\n",
    "        self.lr = lr # 学習率\n",
    "        self.theta = np.ones(X.shape[1]+1) # θ +1はバイアス項  np.random.randで乱数にしてもok\n",
    "        self.lam = lam # L2正則化で使うパラメータ\n",
    "        \n",
    "        # 損失関数のグラフ可視化\n",
    "        # self.iter_num（学習)+1(学習前)\n",
    "        self.train_loss = np.zeros(self.iter_num+1) # 初期値0(zeros)  一番最初のlossを格納するために+1(学習前)にしてる。\n",
    "        self.val_loss = np.zeros(self.iter_num+1)\n",
    "\n",
    "    def fit(self, X_train, y_train, X_val=None, y_val=None): #とりあえず学習だけを行うためにvalの値はデフォルトはNone\n",
    "                                                             ###②\n",
    "        \"\"\"訓練　　　　　　　　　　　　　　　　　　　　　　　\n",
    "        Parameters\n",
    "        ----------\n",
    "        X_train:訓練データ（説明変数）\n",
    "        y_train:訓練データ（目的変数）\n",
    "        \"\"\"\n",
    "        #X_val:評価データ（説明変数）\n",
    "        #y_val:評価データ（目的変数）\n",
    "        \n",
    "        # 損失の初期値保存\n",
    "        #学習前に初期値\n",
    "        self.train_loss[0] = self.mean_crossentropy_error(X_train,y_train) ### ②\n",
    "        if X_val is not None:\n",
    "            self.val_loss[0] = self.mean_crossentropy_error(X_val,y_val)\n",
    "\n",
    "        # 学習回数分ループ                                               ### ④\n",
    "        for n in range(self.iter_num):\n",
    "            # Θを更新\n",
    "            self.gradient_descent(X_train,y_train)\n",
    "            # 損失計算と保存 \n",
    "            self.train_loss[n+1] = self.mean_crossentropy_error(X_train,y_train)\n",
    "            if X_val is not None:\n",
    "                self.val_loss[n+1] = self.mean_crossentropy_error(X_val,y_val)\n",
    "                \n",
    "        # 最終結果格納\n",
    "        self.prediction = self.predict_proba(X) # 予測の確率\n",
    "        self.prediction_class = np.where(self.prediction >= 0.5,1,0) # どちらのクラスが入るか0.5を閾値に0か１\n",
    "     \n",
    "    #問題2 最急降下法によるパラメータの更新値計算\n",
    "    def gradient_descent(self,X_train,y_train):    ### ⑤\n",
    "        \"\"\"Θ更新（最急降下法）⑤\n",
    "        Parameters\n",
    "        ----------\n",
    "        X_train:訓練データ（説明変数）\n",
    "        y_train:訓練データ（目的変数）\n",
    "        \"\"\"\n",
    "        # 誤差 \n",
    "        error = (self.predict_proba(X_train) - y_train.flatten()) # (hθ(x(i))−y(i))\n",
    "        # 勾配 問題2 最急降下法によるパラメータの更新値計算 \n",
    "        grad = np.dot(X_train.T,error)/ X_train.shape[0] #行列積実装の為x転置  x(i)/m  指摘！ np.sum(np.dotのはず\n",
    "        # 定数項の勾配\n",
    "        bias_grad = np.sum(np.sum(error))/ X_train.shape[0]\n",
    "        # l2正則化項\n",
    "        l2 = self.lam * self.theta[:-1] / X_train.shape[0]\n",
    "        # 学習率を考慮して更新\n",
    "        #重み テキストの一番下の式　元々のシータの値に学習率と勾配、L2正則をシータに代入して更新する\n",
    "        self.theta[:-1] = self.theta[:-1] - self.lr * (grad + l2) #重み テキストの一番下の式　\n",
    "        self.theta[-1] = self.theta[-1] - self.lr * bias_grad #定数項\n",
    "        \n",
    "    # 問題3 ロジスティック回帰でのラベル推定\n",
    "    def predict(self, X):\n",
    "        \"\"\"予測\n",
    "        Parameters\n",
    "        ----------\n",
    "        X:説明変数\n",
    "        \"\"\"\n",
    "        return  np.where(self.predict_proba(X) >= 0.5,1,0)\n",
    "    \n",
    "    # 問題3 ロジスティック回帰での確率の推定\n",
    "    def predict_proba(self, X): ### ⑥\n",
    "        \"\"\"確率予測\n",
    "        Parameters\n",
    "        ----------\n",
    "        X:説明変数\n",
    "        \"\"\"\n",
    "        # xとΘの積（定数項は別で扱う）線形結合の出力\n",
    "        _y = np.dot(self.theta[:-1],X.T) + self.theta[-1]\n",
    "        # sigmoid関数を適用\n",
    "        y = self.sigmoid(_y)\n",
    "        return y\n",
    "    \n",
    "    # 問題1 線形回帰の出力 → シグモイド関数 → 出力\n",
    "    def sigmoid(self,y): ### ⑥´\n",
    "        \"\"\"sigmoid関数\n",
    "        Parameters\n",
    "        ----------\n",
    "        y:sigmoid関数に通したい値\n",
    "        \"\"\"\n",
    "        return 1 / (1 + np.exp(-y))\n",
    "    \n",
    "    #問題4\n",
    "    def mean_crossentropy_error(self,X,y):   ### ③\n",
    "        \"\"\"クロスエントロピー誤差関数\n",
    "        Parameters\n",
    "        ----------\n",
    "        X:sigmoid関数に通したい値\n",
    "        \"\"\"\n",
    "        # 予測値を計算\n",
    "        prediction = self.predict_proba(X) # predict_proba 予測値を0から１の値で計算する関数 \n",
    "        # クロスエントロピー誤差　 diverの式　m = X.shape[0]\n",
    "        crossentropy =  -np.sum(y *  np.log(prediction) + (1-y) * np.log(1-prediction))/X.shape[0]\n",
    "        # l2正則化\n",
    "        l2_decay = np.sum(self.theta[:-1]**2)*self.lam/(2 * X.shape[0]) # [:-1]定数項バイアス\n",
    "        return crossentropy + l2_decay # 指摘！ 平均をとるはず、データ個数分で割るはず\n",
    "    \n",
    "        #正則化　L1は次元削減、L2は過学習防止"
   ]
  },
  {
   "cell_type": "markdown",
   "metadata": {},
   "source": [
    "## 【問題1】仮定関数\n",
    "ロジスティック回帰の仮定関数のメソッドをScratchLogisticRegressionクラスに実装してください。\n",
    "\n",
    "\n",
    "ロジスティック回帰の仮定関数は、線形回帰の仮定関数を シグモイド関数 に通したものです。シグモイド関数は以下の式で表されます。\n",
    "\n",
    "\n",
    "### $g(z) = \\frac{1}{1+e^{−z}}$\n",
    "\n",
    "線形回帰の仮定関数は次の式でした。\n",
    "\n",
    "### $h_\\theta(x) = \\theta^T \\cdot x$\n",
    "\n",
    "まとめて書くと、ロジスティック回帰の仮定関数は次のようになります。\n",
    "\n",
    "### $h_\\theta(x) = \\frac{1}{1+e^{−\\theta^T \\cdot x}}$\n",
    "\n",
    "$x$ : 特徴量ベクトル\n",
    "\n",
    "\n",
    "$\\theta$ : パラメータ（重み）ベクトル"
   ]
  },
  {
   "cell_type": "markdown",
   "metadata": {},
   "source": [
    "## 【問題2】最急降下法\n",
    "最急降下法により学習させる実装を行なってください。以下の式で表されるパラメータの更新式のメソッド_gradient_descentを追加し、fitメソッドから呼び出すようにしてください。\n",
    "\n",
    "\n",
    "\n",
    "### $\\theta_j := \\theta_j - \\alpha \\frac{\\partial J(\\theta)}{\\partial \\theta_j}\\\\ \\frac{\\partial J(\\theta)}{\\partial \\theta_0} = \\frac{1}{m}  \\sum_{i=1}^{m}(h_θ(x^{(i)}) − y^{(i)})x_j^{(i)}  ,j = 0\\\\ \\frac{\\partial J(\\theta)}{\\partial \\theta_j} = \\biggl(\\frac{1}{m}  \\sum_{i=1}^{m}(h_θ(x^{(i)}) − y^{(i)})x_j^{(i)} \\biggr) + \\frac{λ}{m}\\theta_j　 ,j\\geq 1$\n",
    "\n",
    "\n",
    "\n",
    "$\\alpha$ : 学習率\n",
    "\n",
    "\n",
    "$i$ : サンプルのインデックス\n",
    "\n",
    "\n",
    "$j$ : 特徴量のインデックス\n",
    "\n",
    "\n",
    "$m$ : 入力されるデータの数\n",
    "\n",
    "\n",
    "$h_\\theta()$ : 仮定関数\n",
    "\n",
    "\n",
    "$x$ : 特徴量ベクトル\n",
    "\n",
    "\n",
    "$\\theta$ : パラメータ（重み）ベクトル\n",
    "\n",
    "\n",
    "$x^{(i)}$ : i番目のサンプルの特徴量ベクトル\n",
    "\n",
    "\n",
    "$y^{(i)}$ : i番目のサンプルの正解ラベル\n",
    "\n",
    "\n",
    "$\\theta_j$ : j番目のパラメータ（重み）\n",
    "\n",
    "\n",
    "$λ$ : 正則化パラメータ\n",
    "\n",
    "\n",
    "以上の式には正則化項が含まれます。正則化項は過学習を防ぐ目的で用いられます。切片である$\\theta_0$が正則化項に含まれていないのは、切片を除いた、特徴量に対する係数を同じ視点で議論することができるようにするためです。"
   ]
  },
  {
   "cell_type": "markdown",
   "metadata": {},
   "source": [
    "## 【問題3】推定\n",
    "推定する仕組みを実装してください。ScratchLogisticRegressionクラスの雛形に含まれるpredictメソッドとpredict_probaメソッドに書き加えてください。\n",
    "\n",
    "\n",
    "仮定関数 $h_\\theta(x)$ の出力がpredict_probaの戻り値、さらにその値に閾値を設けて1と0のラベルとしたものがpredictの戻り値となります。"
   ]
  },
  {
   "cell_type": "markdown",
   "metadata": {},
   "source": [
    "## 【問題4】目的関数\n",
    "以下の数式で表されるロジスティック回帰の 目的関数（損失関数） を実装してください。そして、これをself.loss, self.val_lossに記録するようにしてください。\n",
    "\n",
    "\n",
    "なお、この数式には正則化項が含まれています。\n",
    "\n",
    "\n",
    "＊数式が見切れる場合、DIVERを全画面にして御覧ください。\n",
    "\n",
    "### $J(\\theta)=  \\frac{1}{m}  \\sum_{i=1}^{m}[−y^{(i)} log(h_θ(x^{(i)})) − (1−y^{(i)}) log(1−h_θ(x^{(i)}))] +\\frac{λ}{2m}\\sum_{j=1}^nθ^2_j$ \n",
    "\n",
    "\n",
    "$m$ : 入力されるデータの数\n",
    "\n",
    "\n",
    "$h_\\theta()$ : 仮定関数\n",
    "\n",
    "\n",
    "$x$ : 特徴量ベクトル\n",
    "\n",
    "\n",
    "$\\theta$ : パラメータ（重み）ベクトル\n",
    "\n",
    "\n",
    "$x^{(i)}$ : i番目のサンプルの特徴量ベクトル\n",
    "\n",
    "\n",
    "$y^{(i)}$ : i番目のサンプルの正解ラベル\n",
    "\n",
    "\n",
    "$\\theta_j$ : j番目のパラメータ（重み）\n",
    "\n",
    "\n",
    "$n$ : 特徴量の数\n",
    "\n",
    "\n",
    "$λ$ : 正則化パラメータ"
   ]
  },
  {
   "cell_type": "markdown",
   "metadata": {},
   "source": [
    "# データ読み込み＆前処理"
   ]
  },
  {
   "cell_type": "raw",
   "metadata": {},
   "source": [
    "# numpy.where() 使用例\n",
    "numpy.where()は、条件式conditionを満たす場合（真Trueの場合）はx、満たさない場合（偽Falseの場合）はyとするndarrayを返す関数。\n",
    "\n",
    "x, yを省略した場合は、条件を満たすindexを返す（最後に説明）。\n",
    "\n",
    "import numpy as np\n",
    "\n",
    "a = np.arange(9).reshape((3, 3))\n",
    "print(a)\n",
    "# [[0 1 2]\n",
    "#  [3 4 5]\n",
    "#  [6 7 8]]\n",
    "\n",
    "print(np.where(a < 4, -1, 100))\n",
    "# [[ -1  -1  -1]\n",
    "#  [ -1 100 100]\n",
    "#  [100 100 100]]"
   ]
  },
  {
   "cell_type": "code",
   "execution_count": 3,
   "metadata": {},
   "outputs": [],
   "source": [
    "iris = load_iris()\n",
    "X = iris.data[50:,:]\n",
    "y = iris.target[50:]\n",
    "y = np.where(y==1, 0, 1)\n",
    "X = np.array(X)\n",
    "y = np.array(y)\n",
    "y = y.reshape([100,1])"
   ]
  },
  {
   "cell_type": "code",
   "execution_count": 4,
   "metadata": {},
   "outputs": [
    {
     "data": {
      "text/html": [
       "<div>\n",
       "<style scoped>\n",
       "    .dataframe tbody tr th:only-of-type {\n",
       "        vertical-align: middle;\n",
       "    }\n",
       "\n",
       "    .dataframe tbody tr th {\n",
       "        vertical-align: top;\n",
       "    }\n",
       "\n",
       "    .dataframe thead th {\n",
       "        text-align: right;\n",
       "    }\n",
       "</style>\n",
       "<table border=\"1\" class=\"dataframe\">\n",
       "  <thead>\n",
       "    <tr style=\"text-align: right;\">\n",
       "      <th></th>\n",
       "      <th>sepal_length</th>\n",
       "      <th>sepal_width</th>\n",
       "      <th>petal_length</th>\n",
       "      <th>petal_width</th>\n",
       "    </tr>\n",
       "  </thead>\n",
       "  <tbody>\n",
       "    <tr>\n",
       "      <th>0</th>\n",
       "      <td>7.0</td>\n",
       "      <td>3.2</td>\n",
       "      <td>4.7</td>\n",
       "      <td>1.4</td>\n",
       "    </tr>\n",
       "    <tr>\n",
       "      <th>1</th>\n",
       "      <td>6.4</td>\n",
       "      <td>3.2</td>\n",
       "      <td>4.5</td>\n",
       "      <td>1.5</td>\n",
       "    </tr>\n",
       "    <tr>\n",
       "      <th>2</th>\n",
       "      <td>6.9</td>\n",
       "      <td>3.1</td>\n",
       "      <td>4.9</td>\n",
       "      <td>1.5</td>\n",
       "    </tr>\n",
       "    <tr>\n",
       "      <th>3</th>\n",
       "      <td>5.5</td>\n",
       "      <td>2.3</td>\n",
       "      <td>4.0</td>\n",
       "      <td>1.3</td>\n",
       "    </tr>\n",
       "    <tr>\n",
       "      <th>4</th>\n",
       "      <td>6.5</td>\n",
       "      <td>2.8</td>\n",
       "      <td>4.6</td>\n",
       "      <td>1.5</td>\n",
       "    </tr>\n",
       "  </tbody>\n",
       "</table>\n",
       "</div>"
      ],
      "text/plain": [
       "   sepal_length  sepal_width  petal_length  petal_width\n",
       "0           7.0          3.2           4.7          1.4\n",
       "1           6.4          3.2           4.5          1.5\n",
       "2           6.9          3.1           4.9          1.5\n",
       "3           5.5          2.3           4.0          1.3\n",
       "4           6.5          2.8           4.6          1.5"
      ]
     },
     "execution_count": 4,
     "metadata": {},
     "output_type": "execute_result"
    }
   ],
   "source": [
    "iris_df = pd.DataFrame(X, columns=[\"sepal_length\",\"sepal_width\", \"petal_length\", \"petal_width\"])\n",
    "iris_label = pd.DataFrame(y, columns=[\"Species\"])\n",
    "iris_df.head()"
   ]
  },
  {
   "cell_type": "code",
   "execution_count": 5,
   "metadata": {},
   "outputs": [],
   "source": [
    "(X_train, X_test, y_train, y_test) = train_test_split(X, y, test_size=0.3, random_state=0)"
   ]
  },
  {
   "cell_type": "markdown",
   "metadata": {},
   "source": [
    "## 【問題5】学習と推定\n",
    "機械学習スクラッチ入門のSprintで用意したirisデータセットのvirgicolorとvirginicaの2値分類に対してスクラッチ実装の学習と推定を行なってください。\n",
    "\n",
    "scikit-learnによる実装と比べ、正しく動いているかを確認してください。\n",
    "\n",
    "AccuracyやPrecision、Recallなどの指標値はscikit-learnを使用してください。\n",
    "\n",
    "# 学習"
   ]
  },
  {
   "cell_type": "code",
   "execution_count": 6,
   "metadata": {
    "scrolled": true
   },
   "outputs": [],
   "source": [
    "slr = ScratchLogisticRegression(iter_num=10000, lr=0.0001,lam = 0.1)\n",
    "slr.fit(X_train,y_train,X_test,y_test)"
   ]
  },
  {
   "cell_type": "markdown",
   "metadata": {},
   "source": [
    "# 推定"
   ]
  },
  {
   "cell_type": "code",
   "execution_count": 7,
   "metadata": {},
   "outputs": [
    {
     "data": {
      "text/plain": [
       "array([0.43276288, 0.51642385, 0.45696315, 0.5106425 , 0.47685454,\n",
       "       0.53041201, 0.55539457, 0.52368127, 0.43687856, 0.59013205,\n",
       "       0.48527976, 0.5549142 , 0.39365235, 0.5127384 , 0.53858342,\n",
       "       0.45576028, 0.5917319 , 0.45279824, 0.46579453, 0.47654   ,\n",
       "       0.62829762, 0.4790991 , 0.4810777 , 0.46917275, 0.45591057,\n",
       "       0.45976684, 0.42741866, 0.50970178, 0.53983163, 0.4498521 ,\n",
       "       0.47940152, 0.4601748 , 0.48658654, 0.55019768, 0.61352934,\n",
       "       0.59365332, 0.47729608, 0.42484845, 0.55166161, 0.52531233,\n",
       "       0.51921129, 0.51890878, 0.48041669, 0.50497359, 0.53094053,\n",
       "       0.523486  , 0.53423602, 0.47856953, 0.52289375, 0.52575364,\n",
       "       0.71828482, 0.62482703, 0.54708165, 0.57250561, 0.62945182,\n",
       "       0.49849798, 0.66550632, 0.46744133, 0.5004559 , 0.65001171,\n",
       "       0.60129476, 0.56126718, 0.57609358, 0.63753968, 0.71137956,\n",
       "       0.66447619, 0.55619791, 0.56481009, 0.49750541, 0.49434332,\n",
       "       0.61642285, 0.66678704, 0.45558216, 0.54998494, 0.61058317,\n",
       "       0.49730549, 0.56729855, 0.59382284, 0.6070088 , 0.44424918,\n",
       "       0.46452439, 0.50264863, 0.62416894, 0.50543983, 0.50122091,\n",
       "       0.51753167, 0.70560466, 0.57460054, 0.60363632, 0.57100256,\n",
       "       0.64654972, 0.60275888, 0.62482703, 0.62931049, 0.67696637,\n",
       "       0.61852911, 0.55454426, 0.58825989, 0.69799772, 0.61779048])"
      ]
     },
     "execution_count": 7,
     "metadata": {},
     "output_type": "execute_result"
    }
   ],
   "source": [
    "slr.prediction"
   ]
  },
  {
   "cell_type": "code",
   "execution_count": 8,
   "metadata": {},
   "outputs": [
    {
     "data": {
      "text/plain": [
       "array([0, 1, 0, 1, 0, 1, 1, 1, 0, 1, 0, 1, 0, 1, 1, 0, 1, 0, 0, 0, 1, 0,\n",
       "       0, 0, 0, 0, 0, 1, 1, 0, 0, 0, 0, 1, 1, 1, 0, 0, 1, 1, 1, 1, 0, 1,\n",
       "       1, 1, 1, 0, 1, 1, 1, 1, 1, 1, 1, 0, 1, 0, 1, 1, 1, 1, 1, 1, 1, 1,\n",
       "       1, 1, 0, 0, 1, 1, 0, 1, 1, 0, 1, 1, 1, 0, 0, 1, 1, 1, 1, 1, 1, 1,\n",
       "       1, 1, 1, 1, 1, 1, 1, 1, 1, 1, 1, 1])"
      ]
     },
     "execution_count": 8,
     "metadata": {},
     "output_type": "execute_result"
    }
   ],
   "source": [
    "slr.prediction_class"
   ]
  },
  {
   "cell_type": "markdown",
   "metadata": {},
   "source": [
    "# テストデータに対する評価"
   ]
  },
  {
   "cell_type": "code",
   "execution_count": 9,
   "metadata": {},
   "outputs": [],
   "source": [
    "y_pred = slr.predict(X_test)\n",
    "y_pred = y_pred.reshape(y_test.shape) #要確認"
   ]
  },
  {
   "cell_type": "code",
   "execution_count": 10,
   "metadata": {},
   "outputs": [
    {
     "data": {
      "text/plain": [
       "array([[0],\n",
       "       [1],\n",
       "       [0],\n",
       "       [0],\n",
       "       [0],\n",
       "       [1],\n",
       "       [1],\n",
       "       [1],\n",
       "       [1],\n",
       "       [1],\n",
       "       [1],\n",
       "       [1],\n",
       "       [1],\n",
       "       [1],\n",
       "       [1],\n",
       "       [0],\n",
       "       [0],\n",
       "       [0],\n",
       "       [1],\n",
       "       [0],\n",
       "       [1],\n",
       "       [1],\n",
       "       [1],\n",
       "       [1],\n",
       "       [1],\n",
       "       [1],\n",
       "       [1],\n",
       "       [1],\n",
       "       [1],\n",
       "       [1]])"
      ]
     },
     "execution_count": 10,
     "metadata": {},
     "output_type": "execute_result"
    }
   ],
   "source": [
    "y_pred"
   ]
  },
  {
   "cell_type": "code",
   "execution_count": 11,
   "metadata": {},
   "outputs": [
    {
     "data": {
      "text/plain": [
       "(30, 1)"
      ]
     },
     "execution_count": 11,
     "metadata": {},
     "output_type": "execute_result"
    }
   ],
   "source": [
    "y_pred.shape"
   ]
  },
  {
   "cell_type": "code",
   "execution_count": 12,
   "metadata": {},
   "outputs": [
    {
     "name": "stdout",
     "output_type": "stream",
     "text": [
      "(30, 1)\n"
     ]
    }
   ],
   "source": [
    "print(y_test.shape)"
   ]
  },
  {
   "cell_type": "code",
   "execution_count": 13,
   "metadata": {},
   "outputs": [
    {
     "name": "stdout",
     "output_type": "stream",
     "text": [
      "0.5909090909090909\n",
      "0.8666666666666667\n",
      "0.7027027027027029\n",
      "[[ 6  9]\n",
      " [ 2 13]]\n"
     ]
    }
   ],
   "source": [
    "print(\"{}\".format(precision_score(y_test,y_pred)))\n",
    "print(\"{}\".format(recall_score(y_test,y_pred)))\n",
    "print(\"{}\".format(f1_score(y_test,y_pred)))\n",
    "print(confusion_matrix(y_test, y_pred))"
   ]
  },
  {
   "cell_type": "markdown",
   "metadata": {},
   "source": [
    "## 【問題6】学習曲線のプロット\n",
    "学習曲線を見て損失が適切に下がっているかどうか確認してください。\n",
    "# 可視化"
   ]
  },
  {
   "cell_type": "code",
   "execution_count": 14,
   "metadata": {},
   "outputs": [
    {
     "data": {
      "text/plain": [
       "<matplotlib.legend.Legend at 0x1df0d741e80>"
      ]
     },
     "execution_count": 14,
     "metadata": {},
     "output_type": "execute_result"
    },
    {
     "data": {
      "image/png": "[encoded data removed]",
      "text/plain": [
       "<Figure size 432x288 with 1 Axes>"
      ]
     },
     "metadata": {
      "needs_background": "light"
     },
     "output_type": "display_data"
    }
   ],
   "source": [
    "plt.plot(np.arange(1,len(slr.train_loss)+1),slr.train_loss,label='train_loss',linewidth=5)\n",
    "plt.plot(np.arange(1,len(slr.val_loss)+1),slr.val_loss,label='val_loss',linewidth=5)\n",
    "plt.legend()"
   ]
  },
  {
   "cell_type": "code",
   "execution_count": 15,
   "metadata": {},
   "outputs": [
    {
     "data": {
      "text/plain": [
       "array([-0.45521257,  0.29379749,  0.04673142,  0.72525243,  0.74075751])"
      ]
     },
     "execution_count": 15,
     "metadata": {},
     "output_type": "execute_result"
    }
   ],
   "source": [
    "slr.theta"
   ]
  },
  {
   "cell_type": "markdown",
   "metadata": {},
   "source": [
    "## 【問題7】決定領域の可視化\n",
    "決定領域を可視化してください。"
   ]
  },
  {
   "cell_type": "code",
   "execution_count": 16,
   "metadata": {},
   "outputs": [],
   "source": [
    "from matplotlib.colors import ListedColormap\n",
    "import matplotlib.patches as mpatches\n",
    "\n",
    "def decision_region(X, y, model, step=0.01, title='decision region', xlabel='xlabel', ylabel='ylabel', target_names=['setosa','versicolor']):\n",
    "\n",
    "    # setting\n",
    "    scatter_color = ['red', 'blue']\n",
    "    contourf_color = ['pink', 'skyblue']\n",
    "    n_class = 2\n",
    "    marker = [\"o\", \"^\"]\n",
    "\n",
    "    # pred\n",
    "    mesh_f0, mesh_f1  = np.meshgrid(np.arange(np.min(X[:,0])-0.5, np.max(X[:,0])+0.5, step), np.arange(np.min(X[:,1])-0.5, np.max(X[:,1])+0.5, step))\n",
    "    mesh = np.c_[np.ravel(mesh_f0),np.ravel(mesh_f1)]\n",
    "    y_pred = model.predict(mesh).reshape(mesh_f0.shape)\n",
    "\n",
    "    # plot\n",
    "    plt.title(title)\n",
    "    plt.xlabel(xlabel)\n",
    "    plt.ylabel(ylabel)\n",
    "    plt.contourf(mesh_f0, mesh_f1, y_pred, n_class-1, cmap=ListedColormap(contourf_color)) # plt.contourf 等高線\n",
    "    plt.contour(mesh_f0, mesh_f1, y_pred, n_class-1, colors='y', linewidths=3, alpha=0.5) # plt.contour 等高線描写\n",
    "    for i, target in enumerate(set(y)):\n",
    "        plt.scatter(X[y==target][:, 0], X[y==target][:, 1], s=80, color=scatter_color[i], label=target_names[i], marker=marker[i])\n",
    "    patches = [mpatches.Patch(color=scatter_color[i], label=target_names[i]) for i in range(n_class)]\n",
    "    plt.legend(handles=patches)\n",
    "    plt.legend()\n",
    "    plt.show()"
   ]
  },
  {
   "cell_type": "code",
   "execution_count": 17,
   "metadata": {},
   "outputs": [
    {
     "name": "stdout",
     "output_type": "stream",
     "text": [
      "iris.data\n",
      "(150, 4)\n",
      "iris.target\n",
      "(150,)\n"
     ]
    }
   ],
   "source": [
    "print(\"iris.data\")\n",
    "print(iris.data.shape)\n",
    "print(\"iris.target\")\n",
    "print(iris.target.shape)"
   ]
  },
  {
   "cell_type": "code",
   "execution_count": 35,
   "metadata": {},
   "outputs": [],
   "source": [
    "X = iris.data[:100,:]\n",
    "y = iris.target[:100]\n",
    "X = X[:,[0,2]]            #要確認\n",
    "(X_train, X_test, y_train, y_test) = train_test_split(X, y, test_size=0.5, random_state=0,)"
   ]
  },
  {
   "cell_type": "code",
   "execution_count": 36,
   "metadata": {},
   "outputs": [
    {
     "name": "stdout",
     "output_type": "stream",
     "text": [
      "(100, 4)\n",
      "(100,)\n"
     ]
    }
   ],
   "source": [
    "print(iris.data[:100,:].shape)\n",
    "print(iris.target[:100].shape)"
   ]
  },
  {
   "cell_type": "code",
   "execution_count": 37,
   "metadata": {},
   "outputs": [],
   "source": [
    "slr = ScratchLogisticRegression(iter_num=10000, lr=0.0001,lam = 0.1)\n",
    "slr.fit(X_train, y_train,X_test,y_test)"
   ]
  },
  {
   "cell_type": "code",
   "execution_count": 38,
   "metadata": {},
   "outputs": [
    {
     "data": {
      "image/png": "[encoded data removed]",
      "text/plain": [
       "<Figure size 432x288 with 1 Axes>"
      ]
     },
     "metadata": {
      "needs_background": "light"
     },
     "output_type": "display_data"
    }
   ],
   "source": [
    "decision_region(X, y, slr, step=0.01, title='ScratchLogisticRegression', xlabel='xlabel', ylabel='ylabel', target_names=['setosa','versicolor'])"
   ]
  },
  {
   "cell_type": "code",
   "execution_count": null,
   "metadata": {},
   "outputs": [],
   "source": []
  }
 ],
 "metadata": {
  "kernelspec": {
   "display_name": "Python 3",
   "language": "python",
   "name": "python3"
  },
  "language_info": {
   "codemirror_mode": {
    "name": "ipython",
    "version": 3
   },
   "file_extension": ".py",
   "mimetype": "text/x-python",
   "name": "python",
   "nbconvert_exporter": "python",
   "pygments_lexer": "ipython3",
   "version": "3.8.8"
  }
 },
 "nbformat": 4,
 "nbformat_minor": 2
}
