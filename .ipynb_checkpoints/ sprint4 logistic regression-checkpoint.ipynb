{
 "cells": [
  {
   "cell_type": "markdown",
   "metadata": {},
   "source": [
    "# Sprint 4"
   ]
  },
  {
   "cell_type": "markdown",
   "metadata": {},
   "source": [
    "# ライブラリの読み込み"
   ]
  },
  {
   "cell_type": "code",
   "execution_count": 1,
   "metadata": {},
   "outputs": [],
   "source": [
    "import numpy as np\n",
    "import pandas as pd\n",
    "from sklearn.datasets import load_iris\n",
    "from sklearn.model_selection import train_test_split\n",
    "from sklearn.metrics import confusion_matrix,precision_score,recall_score,f1_score\n",
    "import matplotlib.pyplot as plt\n",
    "%matplotlib inline"
   ]
  },
  {
   "cell_type": "markdown",
   "metadata": {},
   "source": [
    "# スクラッチ実装"
   ]
  },
  {
   "cell_type": "code",
   "execution_count": 17,
   "metadata": {},
   "outputs": [],
   "source": [
    "class ScratchLogisticRegression():\n",
    "    \n",
    "    def __init__(self, iter_num, lr,lam):\n",
    "        \"\"\"各種変数初期化＆定義\n",
    "        Parameters\n",
    "        ----------\n",
    "        iter:学習回数\n",
    "        lr:学習率\n",
    "        theta:重み\n",
    "        lam:正則化パラメータ\n",
    "        train_loss:訓練データの損失\n",
    "        val_loss:評価データの損失\n",
    "        \"\"\"\n",
    "        self.iter_num = iter_num\n",
    "        self.lr = lr\n",
    "        self.theta = np.random.rand(X.shape[1]+1)\n",
    "        self.lam = lam\n",
    "        self.train_loss = np.zeros(self.iter_num+1)\n",
    "        self.val_loss = np.zeros(self.iter_num+1)\n",
    "\n",
    "    def fit(self, X_train, y_train, X_val=None, y_val=None):\n",
    "        \"\"\"訓練\n",
    "        Parameters\n",
    "        ----------\n",
    "        X_train:訓練データ（説明変数）\n",
    "        y_train:訓練データ（目的変数）\n",
    "        X_val:評価データ（説明変数）\n",
    "        y_val:評価データ（目的変数）\n",
    "        \"\"\"\n",
    "        # 損失の初期値保存\n",
    "        self.train_loss[0] = self.mean_crossentropy_error(X_train,y_train)\n",
    "        if X_val is not None:\n",
    "            self.val_loss[0] = self.mean_crossentropy_error(X_val,y_val)\n",
    "\n",
    "        # 学習回数分ループ\n",
    "        for n in range(self.iter_num):\n",
    "            # Θを更新\n",
    "            self.gradient_descent(X_train,y_train)\n",
    "            # 損失計算と保存\n",
    "            self.train_loss[n+1] = self.mean_crossentropy_error(X_train,y_train)\n",
    "            if X_val is not None:\n",
    "                self.val_loss[n+1] = self.mean_crossentropy_error(X_val,y_val)\n",
    "                \n",
    "        # 最終結果格納\n",
    "        self.prediction = self.predict_proba(X)\n",
    "        self.prediction_class = np.where(self.prediction >= 0.5,1,0)\n",
    "    \n",
    "    #問題2 最急降下法によるパラメータの更新値計算\n",
    "    def gradient_descent(self,X_train,y_train):\n",
    "        \"\"\"Θ更新（最急降下法）\n",
    "        Parameters\n",
    "        ----------\n",
    "        X_train:訓練データ（説明変数）\n",
    "        y_train:訓練データ（目的変数）\n",
    "        X_val:評価データ（説明変数）\n",
    "        y_val:評価データ（目的変数）\n",
    "        \"\"\"\n",
    "        # 誤差\n",
    "        error = (self.predict_proba(X_train) - y_train.flatten())\n",
    "        # 勾配 問題2 最急降下法によるパラメータの更新値計算\n",
    "        grad = np.dot(X_train.T,error)/ X_train.shape[0]\n",
    "        # 定数項の勾配\n",
    "        bias_grad = np.sum(error)/ X_train.shape[0]\n",
    "        # l2正則化項\n",
    "        l2 = self.lam * self.theta[:-1] / X_train.shape[0]\n",
    "        # 学習率を考慮して更新\n",
    "        self.theta[:-1] = self.theta[:-1] - self.lr * (grad + l2)\n",
    "        self.theta[-1] = self.theta[-1] - self.lr * bias_grad\n",
    "        \n",
    "    # 問題3 ロジスティック回帰でのラベル推定\n",
    "    def predict(self, X):\n",
    "        \"\"\"予測\n",
    "        Parameters\n",
    "        ----------\n",
    "        X:説明変数\n",
    "        \"\"\"\n",
    "        return  np.where(self.predict_proba(X) >= 0.5,1,0)\n",
    "    \n",
    "    # 問題3 ロジスティック回帰での確率の推定\n",
    "    def predict_proba(self, X):\n",
    "        \"\"\"確率予測\n",
    "        Parameters\n",
    "        ----------\n",
    "        X:説明変数\n",
    "        \"\"\"\n",
    "        # xとΘの積（定数項は別で扱う）\n",
    "        _y = np.dot(self.theta[:-1],X.T) + self.theta[-1]\n",
    "        # sigmoid関数を適用\n",
    "        y = self.sigmoid(_y)\n",
    "        return y\n",
    "    \n",
    "    # 問題1 線形回帰の出力 → シグモイド関数 → 出力\n",
    "    def sigmoid(self,y):\n",
    "        \"\"\"sigmoid関数\n",
    "        Parameters\n",
    "        ----------\n",
    "        y:sigmoid関数に通したい値\n",
    "        \"\"\"\n",
    "        return 1 / (1 + np.exp(-y))\n",
    "    \n",
    "    def mean_crossentropy_error(self,X,y):\n",
    "        \"\"\"クロスエントロピー誤差関数\n",
    "        Parameters\n",
    "        ----------\n",
    "        X:sigmoid関数に通したい値\n",
    "        \"\"\"\n",
    "        # 予測値を計算\n",
    "        prediction = self.predict_proba(X)\n",
    "        # クロスエントロピー誤差\n",
    "        crossentropy =  -np.sum(y *  np.log(prediction) + (1-y) * np.log(1-prediction))/X.shape[0]\n",
    "        # l2正則化\n",
    "        l2_decay = np.sum(self.theta[:-1]**2)*self.lam/(2 * X.shape[0])\n",
    "        return crossentropy + l2_decay"
   ]
  },
  {
   "cell_type": "markdown",
   "metadata": {},
   "source": [
    "## 【問題1】仮定関数\n",
    "ロジスティック回帰の仮定関数のメソッドをScratchLogisticRegressionクラスに実装してください。\n",
    "\n",
    "\n",
    "ロジスティック回帰の仮定関数は、線形回帰の仮定関数を シグモイド関数 に通したものです。シグモイド関数は以下の式で表されます。\n",
    "\n",
    "\n",
    "### $g(z) = \\frac{1}{1+e^{−z}}$\n",
    "\n",
    "線形回帰の仮定関数は次の式でした。\n",
    "\n",
    "### $h_\\theta(x) = \\theta^T \\cdot x$\n",
    "\n",
    "まとめて書くと、ロジスティック回帰の仮定関数は次のようになります。\n",
    "\n",
    "### $h_\\theta(x) = \\frac{1}{1+e^{−\\theta^T \\cdot x}}$\n",
    "\n",
    "$x$ : 特徴量ベクトル\n",
    "\n",
    "\n",
    "$\\theta$ : パラメータ（重み）ベクトル"
   ]
  },
  {
   "cell_type": "markdown",
   "metadata": {},
   "source": [
    "## 【問題2】最急降下法\n",
    "最急降下法により学習させる実装を行なってください。以下の式で表されるパラメータの更新式のメソッド_gradient_descentを追加し、fitメソッドから呼び出すようにしてください。\n",
    "\n",
    "\n",
    "\n",
    "### $\\theta_j := \\theta_j - \\alpha \\frac{\\partial J(\\theta)}{\\partial \\theta_j}\\\\ \\frac{\\partial J(\\theta)}{\\partial \\theta_0} = \\frac{1}{m}  \\sum_{i=1}^{m}(h_θ(x^{(i)}) − y^{(i)})x_j^{(i)}  ,j = 0\\\\ \\frac{\\partial J(\\theta)}{\\partial \\theta_j} = \\biggl(\\frac{1}{m}  \\sum_{i=1}^{m}(h_θ(x^{(i)}) − y^{(i)})x_j^{(i)} \\biggr) + \\frac{λ}{m}\\theta_j　 ,j\\geq 1$\n",
    "\n",
    "\n",
    "\n",
    "$\\alpha$ : 学習率\n",
    "\n",
    "\n",
    "$i$ : サンプルのインデックス\n",
    "\n",
    "\n",
    "$j$ : 特徴量のインデックス\n",
    "\n",
    "\n",
    "$m$ : 入力されるデータの数\n",
    "\n",
    "\n",
    "$h_\\theta()$ : 仮定関数\n",
    "\n",
    "\n",
    "$x$ : 特徴量ベクトル\n",
    "\n",
    "\n",
    "$\\theta$ : パラメータ（重み）ベクトル\n",
    "\n",
    "\n",
    "$x^{(i)}$ : i番目のサンプルの特徴量ベクトル\n",
    "\n",
    "\n",
    "$y^{(i)}$ : i番目のサンプルの正解ラベル\n",
    "\n",
    "\n",
    "$\\theta_j$ : j番目のパラメータ（重み）\n",
    "\n",
    "\n",
    "$λ$ : 正則化パラメータ\n",
    "\n",
    "\n",
    "以上の式には正則化項が含まれます。正則化項は過学習を防ぐ目的で用いられます。切片である$\\theta_0$が正則化項に含まれていないのは、切片を除いた、特徴量に対する係数を同じ視点で議論することができるようにするためです。"
   ]
  },
  {
   "cell_type": "markdown",
   "metadata": {},
   "source": [
    "## 【問題3】推定\n",
    "推定する仕組みを実装してください。ScratchLogisticRegressionクラスの雛形に含まれるpredictメソッドとpredict_probaメソッドに書き加えてください。\n",
    "\n",
    "\n",
    "仮定関数 $h_\\theta(x)$ の出力がpredict_probaの戻り値、さらにその値に閾値を設けて1と0のラベルとしたものがpredictの戻り値となります。"
   ]
  },
  {
   "cell_type": "markdown",
   "metadata": {},
   "source": [
    "## 【問題4】目的関数\n",
    "以下の数式で表されるロジスティック回帰の 目的関数（損失関数） を実装してください。そして、これをself.loss, self.val_lossに記録するようにしてください。\n",
    "\n",
    "\n",
    "なお、この数式には正則化項が含まれています。\n",
    "\n",
    "\n",
    "＊数式が見切れる場合、DIVERを全画面にして御覧ください。\n",
    "\n",
    "### $J(\\theta)=  \\frac{1}{m}  \\sum_{i=1}^{m}[−y^{(i)} log(h_θ(x^{(i)})) − (1−y^{(i)}) log(1−h_θ(x^{(i)}))] +\\frac{λ}{2m}\\sum_{j=1}^nθ^2_j$ \n",
    "\n",
    "\n",
    "$m$ : 入力されるデータの数\n",
    "\n",
    "\n",
    "$h_\\theta()$ : 仮定関数\n",
    "\n",
    "\n",
    "$x$ : 特徴量ベクトル\n",
    "\n",
    "\n",
    "$\\theta$ : パラメータ（重み）ベクトル\n",
    "\n",
    "\n",
    "$x^{(i)}$ : i番目のサンプルの特徴量ベクトル\n",
    "\n",
    "\n",
    "$y^{(i)}$ : i番目のサンプルの正解ラベル\n",
    "\n",
    "\n",
    "$\\theta_j$ : j番目のパラメータ（重み）\n",
    "\n",
    "\n",
    "$n$ : 特徴量の数\n",
    "\n",
    "\n",
    "$λ$ : 正則化パラメータ"
   ]
  },
  {
   "cell_type": "markdown",
   "metadata": {},
   "source": [
    "# データ読み込み＆前処理"
   ]
  },
  {
   "cell_type": "code",
   "execution_count": 18,
   "metadata": {},
   "outputs": [],
   "source": [
    "iris = load_iris()\n",
    "X = iris.data[50:,:]\n",
    "y = iris.target[50:]\n",
    "y = np.where(y==1, 0, 1)\n",
    "X = np.array(X)\n",
    "y = np.array(y)\n",
    "y = y.reshape([100,1])"
   ]
  },
  {
   "cell_type": "code",
   "execution_count": 19,
   "metadata": {},
   "outputs": [
    {
     "data": {
      "text/html": [
       "<div>\n",
       "<style scoped>\n",
       "    .dataframe tbody tr th:only-of-type {\n",
       "        vertical-align: middle;\n",
       "    }\n",
       "\n",
       "    .dataframe tbody tr th {\n",
       "        vertical-align: top;\n",
       "    }\n",
       "\n",
       "    .dataframe thead th {\n",
       "        text-align: right;\n",
       "    }\n",
       "</style>\n",
       "<table border=\"1\" class=\"dataframe\">\n",
       "  <thead>\n",
       "    <tr style=\"text-align: right;\">\n",
       "      <th></th>\n",
       "      <th>sepal_length</th>\n",
       "      <th>sepal_width</th>\n",
       "      <th>petal_length</th>\n",
       "      <th>petal_width</th>\n",
       "    </tr>\n",
       "  </thead>\n",
       "  <tbody>\n",
       "    <tr>\n",
       "      <th>0</th>\n",
       "      <td>7.0</td>\n",
       "      <td>3.2</td>\n",
       "      <td>4.7</td>\n",
       "      <td>1.4</td>\n",
       "    </tr>\n",
       "    <tr>\n",
       "      <th>1</th>\n",
       "      <td>6.4</td>\n",
       "      <td>3.2</td>\n",
       "      <td>4.5</td>\n",
       "      <td>1.5</td>\n",
       "    </tr>\n",
       "    <tr>\n",
       "      <th>2</th>\n",
       "      <td>6.9</td>\n",
       "      <td>3.1</td>\n",
       "      <td>4.9</td>\n",
       "      <td>1.5</td>\n",
       "    </tr>\n",
       "    <tr>\n",
       "      <th>3</th>\n",
       "      <td>5.5</td>\n",
       "      <td>2.3</td>\n",
       "      <td>4.0</td>\n",
       "      <td>1.3</td>\n",
       "    </tr>\n",
       "    <tr>\n",
       "      <th>4</th>\n",
       "      <td>6.5</td>\n",
       "      <td>2.8</td>\n",
       "      <td>4.6</td>\n",
       "      <td>1.5</td>\n",
       "    </tr>\n",
       "  </tbody>\n",
       "</table>\n",
       "</div>"
      ],
      "text/plain": [
       "   sepal_length  sepal_width  petal_length  petal_width\n",
       "0           7.0          3.2           4.7          1.4\n",
       "1           6.4          3.2           4.5          1.5\n",
       "2           6.9          3.1           4.9          1.5\n",
       "3           5.5          2.3           4.0          1.3\n",
       "4           6.5          2.8           4.6          1.5"
      ]
     },
     "execution_count": 19,
     "metadata": {},
     "output_type": "execute_result"
    }
   ],
   "source": [
    "iris_df = pd.DataFrame(X, columns=[\"sepal_length\",\"sepal_width\", \"petal_length\", \"petal_width\"])\n",
    "iris_label = pd.DataFrame(y, columns=[\"Species\"])\n",
    "iris_df.head()"
   ]
  },
  {
   "cell_type": "code",
   "execution_count": 20,
   "metadata": {},
   "outputs": [],
   "source": [
    "(X_train, X_test, y_train, y_test) = train_test_split(X, y, test_size=0.3, random_state=0,)"
   ]
  },
  {
   "cell_type": "markdown",
   "metadata": {},
   "source": [
    "## 【問題5】学習と推定\n",
    "機械学習スクラッチ入門のSprintで用意したirisデータセットのvirgicolorとvirginicaの2値分類に対してスクラッチ実装の学習と推定を行なってください。\n",
    "\n",
    "scikit-learnによる実装と比べ、正しく動いているかを確認してください。\n",
    "\n",
    "AccuracyやPrecision、Recallなどの指標値はscikit-learnを使用してください。\n",
    "\n",
    "# 学習"
   ]
  },
  {
   "cell_type": "code",
   "execution_count": 21,
   "metadata": {
    "scrolled": true
   },
   "outputs": [],
   "source": [
    "slr = ScratchLogisticRegression(iter_num=10000, lr=0.0001,lam = 0.1)\n",
    "slr.fit(X_train,y_train,X_test,y_test)"
   ]
  },
  {
   "cell_type": "markdown",
   "metadata": {},
   "source": [
    "# 推定"
   ]
  },
  {
   "cell_type": "code",
   "execution_count": 22,
   "metadata": {},
   "outputs": [
    {
     "data": {
      "text/plain": [
       "array([0.45423711, 0.51349399, 0.4748445 , 0.51830823, 0.49534348,\n",
       "       0.51627733, 0.5395735 , 0.51313293, 0.45670623, 0.56713585,\n",
       "       0.49461042, 0.54352215, 0.42973494, 0.50797712, 0.52921131,\n",
       "       0.47320619, 0.56286142, 0.45640331, 0.50006001, 0.48267167,\n",
       "       0.59744643, 0.49057171, 0.49984677, 0.47071383, 0.4715296 ,\n",
       "       0.47736656, 0.45674185, 0.52007932, 0.53285452, 0.46276287,\n",
       "       0.48720993, 0.47032625, 0.49161195, 0.54241187, 0.57637902,\n",
       "       0.56345702, 0.48935427, 0.46176084, 0.5300715 , 0.52374315,\n",
       "       0.50770785, 0.51107011, 0.48851906, 0.5035207 , 0.52155574,\n",
       "       0.5055553 , 0.52010998, 0.4852888 , 0.52046409, 0.51776286,\n",
       "       0.68171084, 0.60650642, 0.55805958, 0.55970981, 0.61523173,\n",
       "       0.5212427 , 0.6293989 , 0.48846653, 0.52077972, 0.6329008 ,\n",
       "       0.589826  , 0.56567992, 0.57980048, 0.62459111, 0.68767928,\n",
       "       0.64457902, 0.54914526, 0.55285858, 0.53686613, 0.51198442,\n",
       "       0.61099286, 0.63894957, 0.49125946, 0.55690657, 0.59368474,\n",
       "       0.5046396 , 0.56674055, 0.57845339, 0.60084207, 0.46541884,\n",
       "       0.49688057, 0.50581102, 0.61730511, 0.50726954, 0.49646461,\n",
       "       0.55062285, 0.67025379, 0.55864843, 0.58552263, 0.57609404,\n",
       "       0.63792728, 0.61052556, 0.60650642, 0.61682289, 0.65832097,\n",
       "       0.62064542, 0.5681977 , 0.58418577, 0.66166633, 0.59111973])"
      ]
     },
     "execution_count": 22,
     "metadata": {},
     "output_type": "execute_result"
    }
   ],
   "source": [
    "slr.prediction"
   ]
  },
  {
   "cell_type": "code",
   "execution_count": 23,
   "metadata": {},
   "outputs": [
    {
     "data": {
      "text/plain": [
       "array([0, 1, 0, 1, 0, 1, 1, 1, 0, 1, 0, 1, 0, 1, 1, 0, 1, 0, 1, 0, 1, 0,\n",
       "       0, 0, 0, 0, 0, 1, 1, 0, 0, 0, 0, 1, 1, 1, 0, 0, 1, 1, 1, 1, 0, 1,\n",
       "       1, 1, 1, 0, 1, 1, 1, 1, 1, 1, 1, 1, 1, 0, 1, 1, 1, 1, 1, 1, 1, 1,\n",
       "       1, 1, 1, 1, 1, 1, 0, 1, 1, 1, 1, 1, 1, 0, 0, 1, 1, 1, 0, 1, 1, 1,\n",
       "       1, 1, 1, 1, 1, 1, 1, 1, 1, 1, 1, 1])"
      ]
     },
     "execution_count": 23,
     "metadata": {},
     "output_type": "execute_result"
    }
   ],
   "source": [
    "slr.prediction_class"
   ]
  },
  {
   "cell_type": "markdown",
   "metadata": {},
   "source": [
    "# テストデータに対する評価"
   ]
  },
  {
   "cell_type": "code",
   "execution_count": 24,
   "metadata": {},
   "outputs": [],
   "source": [
    "y_pred = slr.predict(X_test)\n",
    "y_pred = y_pred.reshape(y_test.shape)"
   ]
  },
  {
   "cell_type": "code",
   "execution_count": 25,
   "metadata": {},
   "outputs": [
    {
     "name": "stdout",
     "output_type": "stream",
     "text": [
      "0.625\n",
      "1.0\n",
      "0.7692307692307693\n",
      "[[ 6  9]\n",
      " [ 0 15]]\n"
     ]
    }
   ],
   "source": [
    "print(\"{}\".format(precision_score(y_test,y_pred)))\n",
    "print(\"{}\".format(recall_score(y_test,y_pred)))\n",
    "print(\"{}\".format(f1_score(y_test,y_pred)))\n",
    "print(confusion_matrix(y_test, y_pred))"
   ]
  },
  {
   "cell_type": "markdown",
   "metadata": {},
   "source": [
    "## 【問題6】学習曲線のプロット\n",
    "学習曲線を見て損失が適切に下がっているかどうか確認してください。\n",
    "# 可視化"
   ]
  },
  {
   "cell_type": "code",
   "execution_count": 26,
   "metadata": {},
   "outputs": [
    {
     "data": {
      "text/plain": [
       "<matplotlib.legend.Legend at 0x1bbaa1ff160>"
      ]
     },
     "execution_count": 26,
     "metadata": {},
     "output_type": "execute_result"
    },
    {
     "data": {
      "image/png": "[encoded data removed]",
      "text/plain": [
       "<Figure size 432x288 with 1 Axes>"
      ]
     },
     "metadata": {
      "needs_background": "light"
     },
     "output_type": "display_data"
    }
   ],
   "source": [
    "plt.plot(np.arange(1,len(slr.train_loss)+1),slr.train_loss,label='train_loss',linewidth=5)\n",
    "plt.plot(np.arange(1,len(slr.val_loss)+1),slr.val_loss,label='val_loss',linewidth=5)\n",
    "plt.legend()"
   ]
  },
  {
   "cell_type": "code",
   "execution_count": 27,
   "metadata": {},
   "outputs": [
    {
     "data": {
      "text/plain": [
       "array([-0.27571567,  0.10889218, -0.0148726 ,  0.69150433,  0.49978463])"
      ]
     },
     "execution_count": 27,
     "metadata": {},
     "output_type": "execute_result"
    }
   ],
   "source": [
    "slr.theta"
   ]
  },
  {
   "cell_type": "markdown",
   "metadata": {},
   "source": [
    "## 【問題7】決定領域の可視化\n",
    "決定領域を可視化してください。"
   ]
  },
  {
   "cell_type": "code",
   "execution_count": 28,
   "metadata": {},
   "outputs": [],
   "source": [
    "from matplotlib.colors import ListedColormap\n",
    "import matplotlib.patches as mpatches\n",
    "\n",
    "def decision_region(X, y, model, step=0.01, title='decision region', xlabel='xlabel', ylabel='ylabel', target_names=['setosa','versicolor']):\n",
    "\n",
    "    # setting\n",
    "    scatter_color = ['red', 'blue']\n",
    "    contourf_color = ['pink', 'skyblue']\n",
    "    n_class = 2\n",
    "    marker = [\"o\", \"^\"]\n",
    "\n",
    "    # pred\n",
    "    mesh_f0, mesh_f1  = np.meshgrid(np.arange(np.min(X[:,0])-0.5, np.max(X[:,0])+0.5, step), np.arange(np.min(X[:,1])-0.5, np.max(X[:,1])+0.5, step))\n",
    "    mesh = np.c_[np.ravel(mesh_f0),np.ravel(mesh_f1)]\n",
    "    y_pred = model.predict(mesh).reshape(mesh_f0.shape)\n",
    "\n",
    "    # plot\n",
    "    plt.title(title)\n",
    "    plt.xlabel(xlabel)\n",
    "    plt.ylabel(ylabel)\n",
    "    plt.contourf(mesh_f0, mesh_f1, y_pred, n_class-1, cmap=ListedColormap(contourf_color))\n",
    "    plt.contour(mesh_f0, mesh_f1, y_pred, n_class-1, colors='y', linewidths=3, alpha=0.5)\n",
    "    for i, target in enumerate(set(y)):\n",
    "        plt.scatter(X[y==target][:, 0], X[y==target][:, 1], s=80, color=scatter_color[i], label=target_names[i], marker=marker[i])\n",
    "    patches = [mpatches.Patch(color=scatter_color[i], label=target_names[i]) for i in range(n_class)]\n",
    "    plt.legend(handles=patches)\n",
    "    plt.legend()\n",
    "    plt.show()"
   ]
  },
  {
   "cell_type": "code",
   "execution_count": 29,
   "metadata": {},
   "outputs": [],
   "source": [
    "X = iris.data[:100,:]\n",
    "y = iris.target[:100]\n",
    "X = X[:,[0,2]]\n",
    "(X_train, X_test, y_train, y_test) = train_test_split(X, y, test_size=0.5, random_state=0,)"
   ]
  },
  {
   "cell_type": "code",
   "execution_count": 30,
   "metadata": {},
   "outputs": [],
   "source": [
    "slr = ScratchLogisticRegression(iter_num=10000, lr=0.0001,lam = 0.1)\n",
    "slr.fit(X_train, y_train,X_test,y_test)"
   ]
  },
  {
   "cell_type": "code",
   "execution_count": 31,
   "metadata": {},
   "outputs": [
    {
     "data": {
      "image/png": "[encoded data removed]",
      "text/plain": [
       "<Figure size 432x288 with 1 Axes>"
      ]
     },
     "metadata": {
      "needs_background": "light"
     },
     "output_type": "display_data"
    }
   ],
   "source": [
    "decision_region(X, y, slr, step=0.01, title='ScratchLogisticRegression', xlabel='xlabel', ylabel='ylabel', target_names=['setosa','versicolor'])"
   ]
  },
  {
   "cell_type": "code",
   "execution_count": null,
   "metadata": {},
   "outputs": [],
   "source": []
  }
 ],
 "metadata": {
  "kernelspec": {
   "display_name": "Python 3",
   "language": "python",
   "name": "python3"
  },
  "language_info": {
   "codemirror_mode": {
    "name": "ipython",
    "version": 3
   },
   "file_extension": ".py",
   "mimetype": "text/x-python",
   "name": "python",
   "nbconvert_exporter": "python",
   "pygments_lexer": "ipython3",
   "version": "3.8.8"
  }
 },
 "nbformat": 4,
 "nbformat_minor": 2
}
