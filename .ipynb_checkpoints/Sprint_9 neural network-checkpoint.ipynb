{
 "cells": [
  {
   "cell_type": "markdown",
   "metadata": {},
   "source": [
    "# Sprint 9 ニューラルネットワーク"
   ]
  },
  {
   "cell_type": "markdown",
   "metadata": {},
   "source": [
    "# ライブラリのimport"
   ]
  },
  {
   "cell_type": "code",
   "execution_count": 2,
   "metadata": {},
   "outputs": [],
   "source": [
    "import numpy as np\n",
    "import pandas as pd\n",
    "from keras.datasets import mnist\n",
    "import matplotlib.pyplot as plt\n",
    "from sklearn.metrics import accuracy_score\n",
    "from sklearn.preprocessing import OneHotEncoder\n",
    "from sklearn.model_selection import train_test_split\n",
    "%matplotlib inline"
   ]
  },
  {
   "cell_type": "markdown",
   "metadata": {},
   "source": [
    "# データの準備"
   ]
  },
  {
   "cell_type": "code",
   "execution_count": 3,
   "metadata": {},
   "outputs": [],
   "source": [
    "# 読み込み\n",
    "(X_train, y_train), (X_test, y_test) = mnist.load_data()"
   ]
  },
  {
   "cell_type": "code",
   "execution_count": 4,
   "metadata": {},
   "outputs": [
    {
     "name": "stdout",
     "output_type": "stream",
     "text": [
      "訓練データ全体 (60000, 28, 28)\n",
      "テストデータ全体 (10000, 28, 28)\n",
      "訓練データの1つのデータ (28, 28)\n",
      "訓練データの1つのデータの型 uint8\n"
     ]
    }
   ],
   "source": [
    "# データの確認\n",
    "print(\"訓練データ全体\",X_train.shape) \n",
    "print(\"テストデータ全体\",X_test.shape) \n",
    "print(\"訓練データの1つのデータ\",X_train[0].shape)\n",
    "print(\"訓練データの1つのデータの型\",X_train[0].dtype) "
   ]
  },
  {
   "cell_type": "code",
   "execution_count": 5,
   "metadata": {},
   "outputs": [
    {
     "data": {
      "image/png": "[encoded data removed]",
      "text/plain": [
       "<Figure size 432x288 with 1 Axes>"
      ]
     },
     "metadata": {
      "needs_background": "light"
     },
     "output_type": "display_data"
    }
   ],
   "source": [
    "# 描画\n",
    "index = 0\n",
    "image = X_train[index]\n",
    "plt.imshow(image, 'gray')\n",
    "plt.title('label : {}'.format(y_train[index]))\n",
    "plt.show()"
   ]
  },
  {
   "cell_type": "code",
   "execution_count": 6,
   "metadata": {},
   "outputs": [],
   "source": [
    "# 2次元→1次元（画像データ→行データ）\n",
    "X_train = X_train.reshape(-1, 784)\n",
    "X_test = X_test.reshape(-1, 784)"
   ]
  },
  {
   "cell_type": "code",
   "execution_count": 7,
   "metadata": {},
   "outputs": [
    {
     "name": "stdout",
     "output_type": "stream",
     "text": [
      "訓練データ全体 (60000, 784)\n",
      "テストデータ全体 (10000, 784)\n",
      "訓練データの1つのデータ (784,)\n",
      "訓練データの1つのデータの型 uint8\n"
     ]
    }
   ],
   "source": [
    "# データの確認\n",
    "print(\"訓練データ全体\",X_train.shape) \n",
    "print(\"テストデータ全体\",X_test.shape) \n",
    "print(\"訓練データの1つのデータ\",X_train[0].shape)\n",
    "print(\"訓練データの1つのデータの型\",X_train[0].dtype) "
   ]
  },
  {
   "cell_type": "code",
   "execution_count": 8,
   "metadata": {},
   "outputs": [
    {
     "name": "stdout",
     "output_type": "stream",
     "text": [
      "1.0\n",
      "0.0\n"
     ]
    }
   ],
   "source": [
    "# NNの入力値にするため、0-1に収めてやる\n",
    "X_train = X_train.astype(np.float)\n",
    "X_test = X_test.astype(np.float)\n",
    "X_train /= 255\n",
    "X_test /= 255\n",
    "print(X_train.max()) \n",
    "print(X_train.min())"
   ]
  },
  {
   "cell_type": "code",
   "execution_count": 12,
   "metadata": {},
   "outputs": [],
   "source": [
    "# 訓練データとテストデータに分割\n",
    "X_train, X_val, y_train, y_val = train_test_split(X_train, y_train, test_size=0.2)"
   ]
  },
  {
   "cell_type": "code",
   "execution_count": 13,
   "metadata": {},
   "outputs": [
    {
     "name": "stdout",
     "output_type": "stream",
     "text": [
      "訓練データ 目的変数 (38400, 10)\n",
      "テストデータ 目的変数 (10000, 10)\n",
      "評価データ 目的変数 (9600, 10)\n"
     ]
    }
   ],
   "source": [
    "# one-hotベクトル化\n",
    "enc = OneHotEncoder(handle_unknown='ignore', sparse=False)\n",
    "y_train_one_hot = enc.fit_transform(y_train[:, np.newaxis])\n",
    "y_test_one_hot = enc.transform(y_test[:, np.newaxis])\n",
    "y_val_one_hot = enc.transform(y_val[:, np.newaxis]) # add\n",
    "\n",
    "print(\"訓練データ 目的変数\",y_train_one_hot.shape) \n",
    "print(\"テストデータ 目的変数\",y_test_one_hot.shape) \n",
    "print(\"評価データ 目的変数\",y_val_one_hot.shape)  # add"
   ]
  },
  {
   "cell_type": "markdown",
   "metadata": {},
   "source": [
    "# ミニバッチクラス\n",
    "\n",
    "イテレータというもので実現しますので、まずは、iterの基本動作を見ていきます。"
   ]
  },
  {
   "cell_type": "markdown",
   "metadata": {},
   "source": [
    "## イテレータの基本"
   ]
  },
  {
   "cell_type": "code",
   "execution_count": 14,
   "metadata": {},
   "outputs": [],
   "source": [
    "class SampleIterator:\n",
    "    def __init__(self, num):\n",
    "        \"\"\"通常のコンストラクタと同様の働き\n",
    "        \"\"\"\n",
    "        # 最大呼び出し回数\n",
    "        self.num = num\n",
    "\n",
    "    def __iter__(self):\n",
    "        \"\"\"\n",
    "        呼び出される際は、まずここが呼ばれる\n",
    "        return self 部分は、このインスタンス自身を返している\n",
    "        \"\"\"\n",
    "        # 現在位置\n",
    "        self.current = 0\n",
    "        return self\n",
    "\n",
    "    def __next__(self):\n",
    "        \"\"\"基本的にここに返してやりたい処理を書く\n",
    "        \"\"\"\n",
    "        # 現在位置が最大呼び出し回数に達したかの判定\n",
    "        if self.current == self.num:\n",
    "            raise StopIteration()\n",
    "        \n",
    "        # 返してやりたい値\n",
    "        value = self.current\n",
    "        \n",
    "        # 現在位置を進める\n",
    "        self.current += 1\n",
    "        \n",
    "        return value"
   ]
  },
  {
   "cell_type": "code",
   "execution_count": 15,
   "metadata": {},
   "outputs": [
    {
     "name": "stdout",
     "output_type": "stream",
     "text": [
      "0\n",
      "1\n",
      "2\n"
     ]
    }
   ],
   "source": [
    "sample_iter = SampleIterator(3)\n",
    "for i in sample_iter:\n",
    "    print(i)"
   ]
  },
  {
   "cell_type": "markdown",
   "metadata": {},
   "source": [
    "## ミニバッチイテレータ\n",
    "\n",
    "NNの学習の際、このクラスを呼び出すだけで、データを生成してくれるようにする"
   ]
  },
  {
   "cell_type": "code",
   "execution_count": 16,
   "metadata": {},
   "outputs": [],
   "source": [
    "class GetMiniBatch:\n",
    "\n",
    "    def __init__(self, X, y, batch_size = 20, seed=0):\n",
    "        \"\"\"通常のコンストラクタと同様の働き\n",
    "        Parameters\n",
    "        ----------\n",
    "        X : 説明変数（画像の1次元データ）\n",
    "        y : 目的変数（ラベル）\n",
    "        batch_size : 必要なミニバッチのデータ数\n",
    "        seed : ランダムシード固定\n",
    "        \"\"\"\n",
    "        # ランダムシードの固定（学習ごとに同じ生成順）\n",
    "        np.random.seed(seed)\n",
    "        # バッチ数のメンバ変数\n",
    "        self.batch_size = batch_size\n",
    "        # データ全体の長さ分のインデックスをランダムに並べ替え\n",
    "        # np.random.permutation:配列をランダムに並べ替え\n",
    "        shuffle_index = np.random.permutation(np.arange(X.shape[0]))\n",
    "        # 並べ替えたインデックスと同じ順番で説明変数と目的変数を並べ替え\n",
    "        self._X = X[shuffle_index]\n",
    "        self._y = y[shuffle_index]\n",
    "        # データ数をバッチ数で割って、何回呼び出せば、全データを学習したことになるかの判定\n",
    "        self._stop = np.ceil(X.shape[0]/self.batch_size).astype(np.int)\n",
    "\n",
    "    def __len__(self):\n",
    "        return self._stop\n",
    "    \n",
    "    def __iter__(self):\n",
    "        # 何回目の呼び出しか\n",
    "        self._counter = 0\n",
    "        return self\n",
    "\n",
    "    def __next__(self):\n",
    "        # 全データを学習すればストップ\n",
    "        if self._counter >= self._stop:\n",
    "            raise StopIteration()\n",
    "        # 並び変えた_X,_yの何番目のインデックスを採用するか\n",
    "        p0 = self._counter*self.batch_size\n",
    "        p1 = self._counter*self.batch_size + self.batch_size\n",
    "        # returnする前にカウンタに+1しておく\n",
    "        self._counter += 1\n",
    "        # 説明変数と目的変数を返す\n",
    "        return self._X[p0:p1], self._y[p0:p1]"
   ]
  },
  {
   "cell_type": "markdown",
   "metadata": {},
   "source": [
    "# NNクラスの作成"
   ]
  },
  {
   "cell_type": "code",
   "execution_count": 25,
   "metadata": {},
   "outputs": [],
   "source": [
    "class ScratchSimpleNeuralNetrowkClassifier():\n",
    "\n",
    "    def __init__(self,batch_size = 20,n_features = 784,n_nodes1 = 400,n_nodes2 = 200,n_output = 10,sigma = 0.02,lr = 0.01,epoch = 10, verbose=True):\n",
    "        \"\"\"学習に必要なメンバ変数の初期化\n",
    "        Parameters\n",
    "        ----------\n",
    "        verbose : 計算過程を出力するか否か\n",
    "        batch_size : ミニバッチのデータ数\n",
    "        n_features : 説明変数の数\n",
    "        n_nodes1 : 1層目のノードの数\n",
    "        n_nodes2 : 2層目のノードの数\n",
    "        n_output : 出力層のノードの数\n",
    "        sigma : 重みの初期化の際のガウス分布の標準偏差\n",
    "        lr : 学習率\n",
    "        epoch : 学習回数\n",
    "        \"\"\"\n",
    "        self.verbose = verbose\n",
    "        self.batch_size = batch_size\n",
    "        self.n_features = n_features\n",
    "        self.n_nodes1 = n_nodes1\n",
    "        self.n_nodes2 = n_nodes2 \n",
    "        self.n_output = n_output\n",
    "        self.sigma = sigma\n",
    "        self.lr = lr\n",
    "        self.epoch = epoch\n",
    "        # 損失記録用\n",
    "        self.loss_train = []\n",
    "        self.loss_val = [] # change\n",
    "        # 使用する重みの初期化\n",
    "        self.W1 = self.sigma * np.random.randn(self.n_features, self.n_nodes1)\n",
    "        self.W2 = self.sigma * np.random.randn(self.n_nodes1, self.n_nodes2)\n",
    "        self.W3 = self.sigma * np.random.randn(self.n_nodes2, self.n_output)\n",
    "        self.B1 = self.sigma * np.random.randn(1, self.n_nodes1)\n",
    "        self.B2 = self.sigma * np.random.randn(1, self.n_nodes2)\n",
    "        self.B3 = self.sigma * np.random.randn(1, self.n_output)\n",
    "    \n",
    "    def fit(self, X, y, X_val=None, y_val=None): # change\n",
    "        \"\"\"学習\n",
    "        Parameters\n",
    "        ----------\n",
    "        X : 説明変数\n",
    "        y : 目的変数\n",
    "        X_val : 説明変数 # change\n",
    "        y_val : 目的変数 # change\n",
    "        \n",
    "        Overview\n",
    "        ----------\n",
    "        学習回数分学習を繰り返すが、各学習の中でもミニバッチで全データ学習させている。\n",
    "        イメージとしては、下記\n",
    "        学習0回目\n",
    "        　ミニバッチ学習0回目→ミニバッチ学習1回目→・・・\n",
    "        学習1回目\n",
    "        　ミニバッチ学習0回目→ミニバッチ学習1回目→・・・\n",
    "        ・・・・\n",
    "        \"\"\"\n",
    "        # 学習回数分ループ\n",
    "        for _ in range(self.epoch):\n",
    "            \n",
    "            # 先ほど定義したミニバッチイテレータのインスタンス化\n",
    "            get_mini_batch = GetMiniBatch(X, y, batch_size=self.batch_size)\n",
    "            \n",
    "            # ミニバッチイテレータが停止するまでバッチ学習\n",
    "            # get_mini_batchを呼び出すたびに、説明変数と目的変数が返ってくる\n",
    "            for mini_X_train, mini_y_train in get_mini_batch:\n",
    "                # 順伝播\n",
    "                self.forward(mini_X_train)\n",
    "                # 逆伝播\n",
    "                self.backward(mini_X_train, mini_y_train)\n",
    "                \n",
    "            # ミニバッチ学習後のロス計算\n",
    "            self.forward(X)\n",
    "            self.loss_train.append(self.cross_entropy_error(y, self.Z3))\n",
    "            # 評価データがあるなら、こちらも計算\n",
    "            if X_val is not None:\n",
    "                self.forward(X_val)\n",
    "                self.loss_val.append(self.cross_entropy_error(y_val, self.Z3))\n",
    "        \n",
    "        # 学習過程の出力\n",
    "        if self.verbose:\n",
    "            if X_val is None: # change\n",
    "                print(self.loss_train)\n",
    "            else:\n",
    "                print(self.loss_train,self.loss_val) # change\n",
    "    \n",
    "    def forward(self, X):\n",
    "        \"\"\"順伝播\n",
    "        Parameters\n",
    "        ----------\n",
    "        X : 説明変数\n",
    "        \"\"\"\n",
    "        ## 1層目\n",
    "        # 活性化関数に通す前\n",
    "        self.A1 = X @ self.W1 + self.B1\n",
    "        # 上記を活性化関数に通す\n",
    "        self.Z1 = self.tanh_function(self.A1)\n",
    "        \n",
    "        ## 2層目\n",
    "        # 活性化関数に通す前\n",
    "        self.A2 = self.Z1 @ self.W2 + self.B2\n",
    "        # 上記を活性化関数に通す\n",
    "        self.Z2 = self.tanh_function(self.A2)\n",
    "        \n",
    "        ## 3層目（出力層）\n",
    "        # 活性化関数に通す前\n",
    "        self.A3 = self.Z2 @ self.W3 + self.B3\n",
    "        # 上記を活性化関数に通す\n",
    "        self.Z3 = self.softmax(self.A3)\n",
    "        \n",
    "        # メンバ変数self.Z3がNNの出力となる\n",
    "    \n",
    "    def backward(self, X, y):\n",
    "        \"\"\"順伝播\n",
    "        Parameters\n",
    "        ----------\n",
    "        X : 説明変数\n",
    "        \"\"\"\n",
    "        ## 3層目（出力層）\n",
    "        # 3層目の重みに対する勾配\n",
    "        dA3 = (self.Z3 - y)/self.batch_size # change\n",
    "        dW3 = self.Z2.T @ dA3\n",
    "        # 3層目のバイアス項に対する勾配\n",
    "        dB3 = np.sum(dA3, axis=0)\n",
    "        \n",
    "        ## 2層目\n",
    "        # 2層目の重みに対する勾配\n",
    "        dZ2 = dA3 @ self.W3.T\n",
    "        dA2 = dZ2 * (1 - self.tanh_function(self.A2)**2)\n",
    "        dW2 = self.Z1.T @ dA2\n",
    "        # 2層目のバイアス項に対する勾配\n",
    "        dB2 = np.sum(dA2, axis=0)\n",
    "        \n",
    "        ## 1層目\n",
    "        # 1層目の重みに対する勾配\n",
    "        dZ1 = dA2 @ self.W2.T\n",
    "        dA1 = dZ1 * (1 - self.tanh_function(self.A1)**2)\n",
    "        dW1 = X.T @ dA1\n",
    "        # 1層目のバイアス項に対する勾配\n",
    "        dB1 = np.sum(dA1, axis=0)\n",
    "        \n",
    "        # 各勾配に学習率を掛けて更新\n",
    "        self.W3 -= self.lr * dW3\n",
    "        self.B3 -= self.lr * dB3\n",
    "        self.W2 -= self.lr * dW2\n",
    "        self.B2 -= self.lr * dB2\n",
    "        self.W1 -= self.lr * dW1\n",
    "        self.B1 -= self.lr * dB1\n",
    "            \n",
    "    def tanh_function(self, A):\n",
    "        \"\"\"活性化関数tanh\n",
    "        Parameters\n",
    "        ----------\n",
    "        A : 何かしらの配列\n",
    "        \"\"\"\n",
    "        return np.tanh(A)\n",
    "    \n",
    "    def softmax(self, A):\n",
    "        \"\"\"活性化関数softmax\n",
    "        Parameters\n",
    "        ----------\n",
    "        A : 何かしらの配列\n",
    "        \"\"\"\n",
    "        return np.exp(A) / np.sum(np.exp(A), axis=1).reshape(-1, 1)\n",
    "\n",
    "    def cross_entropy_error(self, y, Z):\n",
    "        \"\"\"損失関数　クロスエントロピー誤差\n",
    "        Parameters\n",
    "        ----------\n",
    "        y : 正解データ\n",
    "        Z : 予測値\n",
    "        \"\"\"\n",
    "        L = - np.sum(y * np.log(Z)) / len(y)\n",
    "        return L\n",
    "        \n",
    "    def predict(self, X):\n",
    "        \"\"\"予測\n",
    "        Parameters\n",
    "        ----------\n",
    "        X : 説明変数\n",
    "        \"\"\"\n",
    "        # 順伝播処理\n",
    "        self.forward(X)\n",
    "        # 最も大きいインデックスをクラスとして採用\n",
    "        return np.argmax(self.Z3, axis=1)"
   ]
  },
  {
   "cell_type": "markdown",
   "metadata": {},
   "source": [
    "# 問題6"
   ]
  },
  {
   "cell_type": "code",
   "execution_count": 26,
   "metadata": {},
   "outputs": [
    {
     "name": "stdout",
     "output_type": "stream",
     "text": [
      "[1.7085581670568102, 0.8355287948561552, 0.5781335526596924, 0.46933346015239574, 0.4115475390079984, 0.3762003364438392, 0.35172650998127625, 0.33310189438820886, 0.3180239154970543, 0.3053283278247529] [1.718967161435174, 0.8510596750291599, 0.5950215077423415, 0.49041608317103036, 0.43807823170026183, 0.4079090173426131, 0.38811815655199644, 0.3738013513547884, 0.3627681790568271, 0.3539263078273372]\n"
     ]
    }
   ],
   "source": [
    "# インスタンス化\n",
    "nn = ScratchSimpleNeuralNetrowkClassifier(epoch=10)\n",
    "# 学習\n",
    "nn.fit(X_train[:10000],y_train_one_hot[:10000], X_val, y_val_one_hot)  # change"
   ]
  },
  {
   "cell_type": "code",
   "execution_count": 27,
   "metadata": {},
   "outputs": [],
   "source": [
    "# 予測\n",
    "pred_train = nn.predict(X_train)\n",
    "pred_test = nn.predict(X_test)"
   ]
  },
  {
   "cell_type": "code",
   "execution_count": 28,
   "metadata": {},
   "outputs": [
    {
     "data": {
      "text/plain": [
       "(0.9053645833333334, 0.9073)"
      ]
     },
     "execution_count": 28,
     "metadata": {},
     "output_type": "execute_result"
    }
   ],
   "source": [
    "# 正解率\n",
    "accuracy_score(y_train, pred_train),accuracy_score(y_test, pred_test)"
   ]
  },
  {
   "cell_type": "markdown",
   "metadata": {},
   "source": [
    "# 問題7"
   ]
  },
  {
   "cell_type": "code",
   "execution_count": 23,
   "metadata": {},
   "outputs": [
    {
     "data": {
      "image/png": "[encoded data removed]",
      "text/plain": [
       "<Figure size 432x288 with 1 Axes>"
      ]
     },
     "metadata": {
      "needs_background": "light"
     },
     "output_type": "display_data"
    }
   ],
   "source": [
    "plt.plot(list(range(1, nn.epoch+1)), nn.loss_train, label='train')\n",
    "plt.plot(list(range(1, nn.epoch+1)), nn.loss_val, label='test') # change\n",
    "plt.legend()\n",
    "plt.xticks(list(range(1, nn.epoch+1)));"
   ]
  }
 ],
 "metadata": {
  "kernelspec": {
   "display_name": "Python 3",
   "language": "python",
   "name": "python3"
  },
  "language_info": {
   "codemirror_mode": {
    "name": "ipython",
    "version": 3
   },
   "file_extension": ".py",
   "mimetype": "text/x-python",
   "name": "python",
   "nbconvert_exporter": "python",
   "pygments_lexer": "ipython3",
   "version": "3.6.8"
  }
 },
 "nbformat": 4,
 "nbformat_minor": 4
}
