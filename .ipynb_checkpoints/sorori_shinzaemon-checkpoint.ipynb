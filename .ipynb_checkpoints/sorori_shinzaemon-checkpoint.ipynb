{
 "cells": [
  {
   "cell_type": "markdown",
   "id": "83ac149f",
   "metadata": {},
   "source": [
    "# 曽呂利新左衛門問題\n",
    "## 【問題1】100日目の米粒の数\n",
    "### ・「その日にもらう米の数」と「その日までに累計で貰う米の数」の推移を折れ線グラフ"
   ]
  },
  {
   "cell_type": "code",
   "execution_count": 70,
   "id": "bb29d19c",
   "metadata": {},
   "outputs": [
    {
     "name": "stdout",
     "output_type": "stream",
     "text": [
      "100日目の米粒の数は1267650600228229401496703205376です。\n"
     ]
    }
   ],
   "source": [
    "grain_rice_list = []\n",
    "\n",
    "grain_rice = 1\n",
    "grain_rice_list.append(grain_rice)\n",
    "for _ in range(100):\n",
    "    grain_rice *= 2\n",
    "    \n",
    "    grain_rice_list.append(grain_rice)\n",
    "print(\"100日目の米粒の数は\" + str(grain_rice_list[100]) + \"です。\") "
   ]
  },
  {
   "cell_type": "code",
   "execution_count": 31,
   "id": "4c0947d9",
   "metadata": {},
   "outputs": [
    {
     "data": {
      "image/png": "[encoded data removed]",
      "text/plain": [
       "<Figure size 432x288 with 1 Axes>"
      ]
     },
     "metadata": {
      "needs_background": "light"
     },
     "output_type": "display_data"
    }
   ],
   "source": [
    "import matplotlib.pyplot as plt\n",
    "%matplotlib inline\n",
    "plt.title(\"rice to get by that day\")\n",
    "plt.xlabel(\"n_days\")\n",
    "plt.ylabel(\"number of rice grains\")\n",
    "plt.plot(grain_rice_list)\n",
    "plt.show()"
   ]
  },
  {
   "cell_type": "markdown",
   "id": "9e68595d",
   "metadata": {},
   "source": [
    "## 【問題2】100日目以外の米粒の数\n",
    "### ・日数を引数とした関数\n",
    "### ・コース受講日数でいくつ米がもらえるか\n",
    "### ・折れ線グラフ"
   ]
  },
  {
   "cell_type": "code",
   "execution_count": 2,
   "id": "b89c9f87",
   "metadata": {},
   "outputs": [
    {
     "name": "stdout",
     "output_type": "stream",
     "text": [
      "80日目の米粒の数は1208925819614629174706176です。\n"
     ]
    }
   ],
   "source": [
    "def compute_sorori_shinzaemon(n_days=100):\n",
    "    \"\"\"曽呂利新左衛門の米の逸話における、日にちごとの米の粒の数を計算する関数。\n",
    "    Parameteres\n",
    "    -----------\n",
    "    n_days: int\n",
    "        米を貰う日数 (default : 80)\n",
    "    Returns\n",
    "    -------\n",
    "    list_n_grains : list\n",
    "        ある日に貰う米の数のリスト (リストの長さはn_daysに等しい)\n",
    "    \"\"\"\n",
    "    #コース受講日数は８０日\n",
    "    \n",
    "    list_n_grains = []\n",
    "\n",
    "    g_rice = 1\n",
    "    list_n_grains.append(g_rice)\n",
    "    for _ in range(n_days):\n",
    "        g_rice *= 2\n",
    "        list_n_grains.append(g_rice)\n",
    "    \n",
    "\n",
    "    pass\n",
    "    return list_n_grains\n",
    "list_n_grains = compute_sorori_shinzaemon(80)\n",
    "print(\"80日目の米粒の数は\" + str(list_n_grains[-1]) + \"です。\") "
   ]
  },
  {
   "cell_type": "code",
   "execution_count": 119,
   "id": "e1ad55b9",
   "metadata": {},
   "outputs": [
    {
     "data": {
      "image/png": "[encoded data removed]",
      "text/plain": [
       "<Figure size 432x288 with 1 Axes>"
      ]
     },
     "metadata": {
      "needs_background": "light"
     },
     "output_type": "display_data"
    }
   ],
   "source": [
    "import matplotlib.pyplot as plt\n",
    "%matplotlib inline\n",
    "plt.title(\"grains can be obtained for the number of day\")\n",
    "plt.xlabel(\"n_days\")\n",
    "plt.ylabel(\"number of rice grains\")\n",
    "plt.plot(list_n_grains)\n",
    "plt.show()"
   ]
  },
  {
   "cell_type": "markdown",
   "id": "be030cad",
   "metadata": {},
   "source": [
    "## 【問題3】貰える米で何人が何日生活できるか"
   ]
  },
  {
   "cell_type": "code",
   "execution_count": 20,
   "id": "adf4d5e4",
   "metadata": {},
   "outputs": [
    {
     "name": "stdout",
     "output_type": "stream",
     "text": [
      "生活できる日数は80日です。\n"
     ]
    }
   ],
   "source": [
    "def people_can_live_with_the_rice(n_rice, n_person):\n",
    "    \"\"\"\n",
    "    この米があれば何人が何日生活できるか計算する関数\n",
    "    Parameteres\n",
    "    -----------\n",
    "    最低限の数\n",
    "    １日　１合３食は20000粒\n",
    "    \n",
    "    n_rice: int\n",
    "        米粒の数　\n",
    "        \n",
    "        \n",
    "    n_person: int\n",
    "        人数　\n",
    "    \n",
    "    n_days_live: int\n",
    "        生活できる日数(default : 100)\n",
    "            \n",
    "　  -----------\n",
    "    \n",
    "    Returns\n",
    "    -------\n",
    "    list_day_live : list\n",
    "         コースを受講する期間に貰える米粒で、このクラスにいる人数であれば、\n",
    "         何日間生活できるか(リストの長さはn_daysに等しい)\n",
    "    \"\"\"\n",
    "\n",
    "    pass\n",
    "    return n_rice / (n_person * 20000)\n",
    "\n",
    "#コース受講期間８０日\n",
    "\n",
    "#コース受講中に貰える米粒は22400000粒\n",
    "n_rice = 22400000\n",
    "#クラスの人数\n",
    "n_person = 14\n",
    "n_days_live = people_can_live_with_the_rice(n_rice, n_person)\n",
    "\n",
    "print(\"生活できる日数は{:.0f}日です。\".format(n_days_live))"
   ]
  },
  {
   "cell_type": "code",
   "execution_count": null,
   "id": "68025471",
   "metadata": {},
   "outputs": [],
   "source": []
  }
 ],
 "metadata": {
  "kernelspec": {
   "display_name": "Python 3",
   "language": "python",
   "name": "python3"
  },
  "language_info": {
   "codemirror_mode": {
    "name": "ipython",
    "version": 3
   },
   "file_extension": ".py",
   "mimetype": "text/x-python",
   "name": "python",
   "nbconvert_exporter": "python",
   "pygments_lexer": "ipython3",
   "version": "3.8.8"
  }
 },
 "nbformat": 4,
 "nbformat_minor": 5
}
