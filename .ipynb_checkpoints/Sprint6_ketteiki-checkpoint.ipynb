{
 "cells": [
  {
   "cell_type": "markdown",
   "metadata": {
    "id": "LnHoEM9EGHP6"
   },
   "source": [
    "# Sprint6 決定木"
   ]
  },
  {
   "cell_type": "markdown",
   "metadata": {},
   "source": [
    "# ライブラリのimport"
   ]
  },
  {
   "cell_type": "code",
   "execution_count": 1,
   "metadata": {
    "id": "aAA-EkjbGHQI"
   },
   "outputs": [],
   "source": [
    "import numpy as np\n",
    "import matplotlib.pyplot as plt\n",
    "import collections\n",
    "from sklearn.model_selection import train_test_split\n",
    "from sklearn.metrics import accuracy_score\n",
    "from sklearn.metrics import precision_score\n",
    "from sklearn.metrics import recall_score\n",
    "from sklearn.metrics import f1_score"
   ]
  },
  {
   "cell_type": "code",
   "execution_count": 32,
   "metadata": {
    "id": "kyVz2Iw2GHQI"
   },
   "outputs": [],
   "source": [
    "# Decision tree (depth 1) scratch\n",
    "class ScratchDecesionTreeClassifierDepth1():\n",
    "    \"\"\"\n",
    "    深さ1の決定木のスクラッチ\n",
    "    \"\"\"\n",
    "    def __init__(self, verbose=False): #パラメータを属性として記録\n",
    "        \"\"\"コンストラクタ\n",
    "        Parameters\n",
    "        ----------\n",
    "        verbose : 計算過程を表示するか否か　出力する場合はTrue\n",
    "        \"\"\"\n",
    "        self.verbose = verbose\n",
    "    \n",
    "    def calc_gini(self,y):\n",
    "        \"\"\"ジニ不純度の計算\n",
    "        Parameters\n",
    "        ----------\n",
    "        y : 目的変数\n",
    "        \"\"\"\n",
    "        # クラスとその数を求める\n",
    "        labels,counts = np.unique(y,return_counts=True) #labels ユニーク値\n",
    "                                                        #counts クラスの数\n",
    "        \n",
    "        # sum部分の計算のため、_giniに加えていく\n",
    "        _gini = 0 #仮のジニ不純度\n",
    "        for label in labels:\n",
    "            _gini += (counts[labels == label]/ np.sum(counts)) ** 2 # counts[labels == label] あるラベルのcount labelが等しいもの　N_t,i \n",
    "                                                                    # np.sum(counts) N_t,all\n",
    "        # 最終的なジニ不純度の計算\n",
    "        gini = 1 - _gini\n",
    "        \n",
    "        return gini\n",
    "    \n",
    "    def calc_gain(self,X,feature_index,y,threshold):\n",
    "        \"\"\"情報利得の計算\n",
    "        Parameters\n",
    "        ----------\n",
    "        X：親ノードのラベルに該当する説明変数\n",
    "        feature_index：どの説明変数を使用するか\n",
    "        y：親ノードのラベル\n",
    "        threshold：説明変数の閾値\n",
    "        \"\"\"\n",
    "        # 左右ノードのラベル取得\n",
    "        labels_l = y[X[:,feature_index] < threshold] # :,feature_index 全行、ある説明変数をもってくる\n",
    "        labels_r = y[X[:,feature_index] >= threshold]\n",
    "        \n",
    "        # 情報利得算出に必要な左右ノード部分の計算\n",
    "        #問題2の式\n",
    "        gain_l = (len(labels_l)/(len(labels_l)+len(labels_r)))*self.calc_gini(labels_l)\n",
    "        gain_r = (len(labels_r)/(len(labels_l)+len(labels_r)))*self.calc_gini(labels_r)\n",
    "        \n",
    "        # 最終的な情報利得の計算\n",
    "        gain = self.calc_gini(y) -gain_l -gain_r\n",
    "        \n",
    "        return gain\n",
    "        \n",
    "    \n",
    "    def fit(self, X, y):\n",
    "        #決定木分類器を学習する\n",
    "        \"\"\"\n",
    "        Train a decision tree classifier.\n",
    "        Parameters\n",
    "        ----------\n",
    "        X : 説明変数\n",
    "        y : 目的変数\n",
    "        \"\"\"\n",
    "        #情報利得が大きければ、決定木分岐していく、情報利得が改善されなければ次のループへ\n",
    "        \n",
    "        # 情報利得の初期値\n",
    "        self.gain = 0\n",
    "        # 説明変数の数でループ　　for X_idx in range(説明変数の数):\n",
    "        for feature_index in range(X.shape[1]):\n",
    "            # 該当説明変数の全値の重複をなくす\n",
    "            self.thresholds = np.unique(X[:,feature_index]) #Xの全行、ある変数のユニーク値\n",
    "            # 重複をなくした各値でループ\n",
    "            #for ある説明変数の任意の1つの値（閾値） in ループ中の説明変数の全値:\n",
    "            for threshold in self.thresholds[1:]: #全ての値、変数全探索\n",
    "                # 情報利得の計算\n",
    "                _gain = self.calc_gain(X,feature_index,y,threshold)\n",
    "                # 情報利得が大きければ各値を更新 \n",
    "                #if 現在の閾値における情報利得 > 現在までの情報利得の最大値:\n",
    "                if _gain > self.gain:\n",
    "                    #現在までの情報利得の最大値を更新\n",
    "                    #情報利得の最大値地点での変数名を更新\n",
    "                    #情報利得の最大値地点での閾値を更新\n",
    "                    #情報利得の最大値地点でのdiv_yの更新\n",
    "                    self.l_label = collections.Counter(y[X[:,feature_index] < threshold]).most_common()[0][0] \n",
    "                    self.r_label = collections.Counter(y[X[:,feature_index] >= threshold]).most_common()[0][0]\n",
    "                    self.feature = feature_index\n",
    "                    self.threshold = threshold\n",
    "                    self.gain = _gain\n",
    "                    \n",
    "                    # 更新仮定出力\n",
    "                    if self.verbose:\n",
    "                        print('feature',self.feature,\n",
    "                              'threshold',self.threshold,\n",
    "                              'gain',self.gain)\n",
    "            \n",
    "    def predict(self, X):\n",
    "        \"\"\"予測\n",
    "        Parameters\n",
    "        ----------\n",
    "        X : 説明変数\n",
    "        \"\"\"\n",
    "        # xの該当説明変数が閾値以上か以下かを判定し、ラベルを割り当てている\n",
    "        prediction = np.where(X[:,self.feature] < self.threshold,self.l_label,self.r_label)\n",
    "        return prediction"
   ]
  },
  {
   "cell_type": "markdown",
   "metadata": {},
   "source": [
    "# 問題1\n",
    "\n",
    "**例①**:クラス1:サンプル数15, クラス2:サンプル数15 → ジニ不純度0.500\n",
    "\n",
    "**例②**:クラス1:サンプル数15, クラス2:サンプル数15, クラス3:サンプル数15 → ジニ不純度0.667"
   ]
  },
  {
   "cell_type": "code",
   "execution_count": 33,
   "metadata": {},
   "outputs": [],
   "source": [
    "clf = ScratchDecesionTreeClassifierDepth1(verbose = True)"
   ]
  },
  {
   "cell_type": "code",
   "execution_count": 34,
   "metadata": {},
   "outputs": [
    {
     "data": {
      "text/plain": [
       "array([0.5])"
      ]
     },
     "execution_count": 34,
     "metadata": {},
     "output_type": "execute_result"
    }
   ],
   "source": [
    "# 例①\n",
    "y = np.array([1]*15+[2]*15)\n",
    "clf.calc_gini(y)"
   ]
  },
  {
   "cell_type": "code",
   "execution_count": 35,
   "metadata": {},
   "outputs": [
    {
     "data": {
      "text/plain": [
       "array([0.66666667])"
      ]
     },
     "execution_count": 35,
     "metadata": {},
     "output_type": "execute_result"
    }
   ],
   "source": [
    "# 例②\n",
    "y = np.array([1]*15+[2]*15+[3]*15)\n",
    "clf.calc_gini(y)"
   ]
  },
  {
   "cell_type": "markdown",
   "metadata": {},
   "source": [
    "# 問題2\n",
    "\n",
    "左ノードクラス1：サンプル数10\n",
    "\n",
    "左ノードクラス2：サンプル数30\n",
    "\n",
    "右ノードクラス1：サンプル数20\n",
    "\n",
    "右ノードクラス2：サンプル数5\n",
    "\n",
    "→ 情報利得0.143"
   ]
  },
  {
   "cell_type": "code",
   "execution_count": 36,
   "metadata": {},
   "outputs": [],
   "source": [
    "X = np.array([[0]]*10+[[0]]*30+[[1]]*20+[[1]]*5)\n",
    "feature_index = 0\n",
    "y = np.array([[1]]*10+[[2]]*30+[[1]]*20+[[2]]*5)\n",
    "threshold = 1"
   ]
  },
  {
   "cell_type": "code",
   "execution_count": 37,
   "metadata": {},
   "outputs": [
    {
     "data": {
      "text/plain": [
       "array([0.14319527])"
      ]
     },
     "execution_count": 37,
     "metadata": {},
     "output_type": "execute_result"
    }
   ],
   "source": [
    "clf.calc_gain(X,feature_index,y,threshold)"
   ]
  },
  {
   "cell_type": "markdown",
   "metadata": {},
   "source": [
    "# 問題3"
   ]
  },
  {
   "cell_type": "code",
   "execution_count": 38,
   "metadata": {},
   "outputs": [],
   "source": [
    "# サンプルデータ\n",
    "X=np.array([[-0.44699,-2.8073],[-1.4621,-2.4586],[0.10645,1.9242],[-3.5944,-4.0112],[-0.9888,4.5718],[-3.1625,-3.9606],[0.56421,0.72888],[-0.60216,8.4636],[-0.61251,-0.75345],[-0.73535,-2.2718],[-0.80647,-2.2135],[0.86291,2.3946],[-3.1108,0.15394],[-2.9362,2.5462],[-0.57242,-2.9915],[1.4771,3.4896],[0.58619,0.37158],[0.6017,4.3439],[-2.1086,8.3428],[-4.1013,-4.353],[-1.9948,-1.3927],[0.35084,-0.031994],[0.96765,7.8929],[-1.281,15.6824],[0.96765,10.083],[1.3763,1.3347],[-2.234,-2.5323],[-2.9452,-1.8219],[0.14654,-0.28733],[0.5461,5.8245],[-0.65259,9.3444],[0.59912,5.3524],[0.50214,-0.31818],[-3.0603,-3.6461],[-6.6797,0.67661],[-2.353,-0.72261],[1.1319,2.4023],[-0.12243,9.0162],[-2.5677,13.1779],[0.057313,5.4681]])\n",
    "y=np.array([0,0,0,0,0,0,0,0,0,0,0,0,0,0,0,0,0,0,0,0,1,1,1,1,1,1,1,1,1,1,1,1,1,1,1,1,1,1,1,1])"
   ]
  },
  {
   "cell_type": "code",
   "execution_count": 39,
   "metadata": {},
   "outputs": [
    {
     "data": {
      "image/png": "[encoded data removed]",
      "text/plain": [
       "<Figure size 864x576 with 1 Axes>"
      ]
     },
     "metadata": {
      "needs_background": "light"
     },
     "output_type": "display_data"
    }
   ],
   "source": [
    "# サンプルデータの可視化\n",
    "fig = plt.subplots(figsize=(12,8))\n",
    "plt.rcParams[\"font.size\"] = 20\n",
    "plt.scatter(X[y==1,0],X[y==1,1],s=80,label='y=1')\n",
    "plt.scatter(X[y==0,0],X[y==0,1],s=80,label='y=0')\n",
    "plt.legend();"
   ]
  },
  {
   "cell_type": "code",
   "execution_count": 40,
   "metadata": {},
   "outputs": [],
   "source": [
    "# 学習データとテストデータに分割\n",
    "X_train, X_test, y_train, y_test = train_test_split(X,y,test_size=0.2,random_state=None)"
   ]
  },
  {
   "cell_type": "code",
   "execution_count": 41,
   "metadata": {},
   "outputs": [
    {
     "name": "stdout",
     "output_type": "stream",
     "text": [
      "feature 0 threshold -4.1013 gain [0.02041331]\n",
      "feature 0 threshold -3.0603 gain [0.0208912]\n",
      "feature 0 threshold -0.44699 gain [0.02552083]\n",
      "feature 0 threshold 0.057313 gain [0.04142992]\n",
      "feature 1 threshold -1.8219 gain [0.05127841]\n",
      "feature 1 threshold 5.3524 gain [0.06510417]\n",
      "feature 1 threshold 10.083 gain [0.06546336]\n"
     ]
    }
   ],
   "source": [
    "# 訓練\n",
    "clf.fit(X_train,y_train)"
   ]
  },
  {
   "cell_type": "markdown",
   "metadata": {},
   "source": [
    "# 問題4"
   ]
  },
  {
   "cell_type": "code",
   "execution_count": 42,
   "metadata": {},
   "outputs": [],
   "source": [
    "# 予測\n",
    "train_prediction = clf.predict(X_train)\n",
    "test_prediction = clf.predict(X_test)"
   ]
  },
  {
   "cell_type": "code",
   "execution_count": 43,
   "metadata": {},
   "outputs": [
    {
     "name": "stdout",
     "output_type": "stream",
     "text": [
      "accuracy 0.65625\n",
      "precision 1.0\n",
      "recall 0.21428571428571427\n",
      "f1 0.35294117647058826\n"
     ]
    }
   ],
   "source": [
    "# 訓練データに対する評価\n",
    "accuracy = accuracy_score(y_train, train_prediction)\n",
    "precision = precision_score(y_train, train_prediction)\n",
    "recall = recall_score(y_train, train_prediction)\n",
    "f1 = f1_score(y_train, train_prediction)\n",
    "\n",
    "print('accuracy',accuracy)\n",
    "print('precision',precision)\n",
    "print('recall',recall)\n",
    "print('f1',f1)"
   ]
  },
  {
   "cell_type": "code",
   "execution_count": 44,
   "metadata": {},
   "outputs": [
    {
     "name": "stdout",
     "output_type": "stream",
     "text": [
      "accuracy 0.25\n",
      "precision 0.0\n",
      "recall 0.0\n",
      "f1 0.0\n"
     ]
    },
    {
     "name": "stderr",
     "output_type": "stream",
     "text": [
      "C:\\Users\\ren30\\anaconda3\\lib\\site-packages\\sklearn\\metrics\\_classification.py:1245: UndefinedMetricWarning: Precision is ill-defined and being set to 0.0 due to no predicted samples. Use `zero_division` parameter to control this behavior.\n",
      "  _warn_prf(average, modifier, msg_start, len(result))\n"
     ]
    }
   ],
   "source": [
    "# テストデータに対する評価\n",
    "accuracy = accuracy_score(y_test, test_prediction)\n",
    "precision = precision_score(y_test, test_prediction)\n",
    "recall = recall_score(y_test, test_prediction)\n",
    "f1 = f1_score(y_test, test_prediction)\n",
    "\n",
    "print('accuracy',accuracy)\n",
    "print('precision',precision)\n",
    "print('recall',recall)\n",
    "print('f1',f1)"
   ]
  },
  {
   "cell_type": "markdown",
   "metadata": {
    "id": "4VXVubuLGHQP"
   },
   "source": [
    "# 問題6\n",
    "\n",
    "決定領域の可視化の関数詳細の説明は省略します（今までの講座を参考にしてください）"
   ]
  },
  {
   "cell_type": "code",
   "execution_count": 45,
   "metadata": {},
   "outputs": [],
   "source": [
    "# Visualizing the decision area\n",
    "from matplotlib.colors import ListedColormap\n",
    "import matplotlib.patches as mpatches\n",
    "\n",
    "def decision_region(X,y,model,step=0.01,\n",
    "                    title='decision region', xlabel='xlabel', ylabel='ylabel',\n",
    "                    target_names=['versicolor', 'virginica']\n",
    "                   ):\n",
    "    \n",
    "    # setting\n",
    "    scatter_color = ['red', 'blue']\n",
    "    contourf_color = ['pink', 'skyblue']\n",
    "    n_class = 2\n",
    "    \n",
    "    # pred\n",
    "    mesh_f0, mesh_f1  = np.meshgrid(np.arange(np.min(X[:,0])-0.5, np.max(X[:,0])+0.5, step), np.arange(np.min(X[:,1])-0.5, np.max(X[:,1])+0.5, step))\n",
    "    mesh = np.c_[np.ravel(mesh_f0),np.ravel(mesh_f1)]\n",
    "    y_pred = model.predict(mesh).reshape(mesh_f0.shape)\n",
    "    \n",
    "    # plot\n",
    "    plt.title(title)\n",
    "    plt.xlabel(xlabel)\n",
    "    plt.ylabel(ylabel)\n",
    "    plt.contourf(mesh_f0, mesh_f1, y_pred, n_class-1, cmap=ListedColormap(contourf_color))\n",
    "    plt.contour(mesh_f0, mesh_f1, y_pred, n_class-1, colors='y', linewidths=3, alpha=0.5)\n",
    "    for i, target in enumerate(set(y)):\n",
    "        plt.scatter(X[y==target][:, 0], X[y==target][:, 1], s=80, color=scatter_color[i], label=target_names[i], marker='o')\n",
    "    patches = [mpatches.Patch(color=scatter_color[i], label=target_names[i]) for i in range(n_class)]\n",
    "    plt.legend(handles=patches)\n",
    "    plt.legend()\n",
    "    plt.show()"
   ]
  },
  {
   "cell_type": "code",
   "execution_count": 46,
   "metadata": {
    "id": "ZFLqYbASGHQQ",
    "outputId": "41ddad2e-072c-41fb-ecf4-5fc1dddcff50"
   },
   "outputs": [
    {
     "data": {
      "image/png": "[encoded data removed]",
      "text/plain": [
       "<Figure size 864x864 with 1 Axes>"
      ]
     },
     "metadata": {
      "needs_background": "light"
     },
     "output_type": "display_data"
    }
   ],
   "source": [
    "# Results of Scratch Decision Tree Classification\n",
    "fit,ax = plt.subplots(figsize=(12,12))\n",
    "plt.rcParams[\"font.size\"] = 20\n",
    "decision_region(X_train,y_train,clf,target_names=['0', '1'],title='TRAIN')"
   ]
  }
 ],
 "metadata": {
  "colab": {
   "collapsed_sections": [
    "VKYZbKmCGHQJ"
   ],
   "name": "mep_day13_decision_tree",
   "provenance": []
  },
  "kernelspec": {
   "display_name": "Python 3",
   "language": "python",
   "name": "python3"
  },
  "language_info": {
   "codemirror_mode": {
    "name": "ipython",
    "version": 3
   },
   "file_extension": ".py",
   "mimetype": "text/x-python",
   "name": "python",
   "nbconvert_exporter": "python",
   "pygments_lexer": "ipython3",
   "version": "3.8.8"
  },
  "toc": {
   "base_numbering": 1,
   "nav_menu": {},
   "number_sections": true,
   "sideBar": true,
   "skip_h1_title": true,
   "title_cell": "目次",
   "title_sidebar": "Contents",
   "toc_cell": true,
   "toc_position": {},
   "toc_section_display": true,
   "toc_window_display": true
  }
 },
 "nbformat": 4,
 "nbformat_minor": 1
}
