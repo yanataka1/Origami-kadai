{
 "cells": [
  {
   "cell_type": "markdown",
   "id": "97d1b6f5",
   "metadata": {},
   "source": [
    "# 機械学習スクラッチ\n",
    "\n",
    "NumPy などに備わっている基本的なライブラリを組み合わせることで、scikit-learn などの応用的なライブラリに実装されている機能と等価なクラス・関数を自作することができます。これをスクラッチと呼びます。\n",
    "\n",
    "\n",
    "スクラッチを通して、scikit-learnなどのライブラリを動かすだけでは掴みづらい、アルゴリズムの深い理解を目指します。コーディングのスキル向上も兼ねていますが、それは主な目的ではありません。\n",
    "\n",
    "\n",
    "以下のような効果を狙っています。\n",
    "\n",
    "\n",
    "新たな手法に出会った時に理論・数式を理解しやすくする\n",
    "ライブラリを使う上での曖昧さを減らす\n",
    "既存の実装を読みやすくする\n",
    "\n",
    "今回はまず、機械学習のプログラムを完全にはスクラッチせず、scikit-learn を用いて実装します。そして、次回から段階的に scikit-learn を用いた実装をスクラッチに移行していきます。\n",
    "\n",
    "\n",
    "## 【問題1】train_test_split のスクラッチ\n",
    "まずは、scikit-learnの train_test_split をスクラッチしてみます。以下の雛形をベースに関数を実装してください。\n",
    "\n",
    "\n",
    "https://scikit-learn.org/stable/modules/generated/sklearn.model_selection.train_test_split.html\n",
    "\n",
    "\n",
    "なお、作成した関数がscikit-learnの train_test_split と同じ動作をするか必ず確認をしましょう。\n",
    "\n",
    "scikit-learnを使ったコードを実装しベースラインモデルを作成していきます。\n",
    "\n",
    "\n",
    "検証データの分割には問題1で作成した自作の関数を用いてください。クロスバリデーションではなくホールドアウト法で構いません。"
   ]
  },
  {
   "cell_type": "code",
   "execution_count": 56,
   "id": "4ede68cb",
   "metadata": {},
   "outputs": [],
   "source": [
    "import numpy as np\n",
    "import pandas as pd\n",
    "import matplotlib.pyplot as plt\n",
    "import seaborn as sns\n",
    "from sklearn.datasets import load_iris\n",
    "from sklearn.model_selection import train_test_split\n",
    "from sklearn.linear_model import SGDClassifier\n",
    "from sklearn.linear_model import SGDRegressor\n",
    "from sklearn.svm import SVC\n",
    "from sklearn.metrics import accuracy_score\n",
    "from sklearn.model_selection import cross_val_score\n",
    "from sklearn.tree import DecisionTreeClassifier\n",
    "from sklearn.preprocessing import StandardScaler\n",
    "from sklearn.pipeline import make_pipeline\n",
    "%matplotlib inline"
   ]
  },
  {
   "cell_type": "code",
   "execution_count": 57,
   "id": "3d3bb4e8",
   "metadata": {},
   "outputs": [],
   "source": [
    "def scratch_train_test_split(X, y, train_size=0.8):\n",
    "    \"\"\"検証データを分割する。\n",
    "    Parameters\n",
    "    ----------\n",
    "    X : ndarray\n",
    "      訓練データ (n_samples, n_features)\n",
    "    y : ndarray\n",
    "      正解値 (n_samples,)\n",
    "    train_size : float\n",
    "      何割をtrainとするか指定 (0 < train_size < 1)\n",
    "    Returns\n",
    "    -------\n",
    "    X_train : ndarray\n",
    "      訓練データ (n_samples, n_features)\n",
    "    X_test : ndarray\n",
    "      検証データ (n_samples, n_features)\n",
    "    y_train : ndarray\n",
    "      訓練データの正解値 (n_samples,)\n",
    "    y_test : ndarray\n",
    "      検証データの正解値 (n_samples,)\n",
    "    \"\"\"\n",
    "    # Error if feature samples number does not corresponds to y number.\n",
    "    if X.shape[0] != y.shape[0]:\n",
    "        raise ValueError(\"X samples number({}) is not same as y {}.\".format(\n",
    "                X.shape[0], y.shape[0]))\n",
    "\n",
    "    # make several parameters to be used\n",
    "    n_samples = X.shape[0]\n",
    "    test_size = (1 - train_size)\n",
    "    n_train = np.floor((1-test_size) * n_samples).astype(int)\n",
    "    n_test = n_samples - n_train\n",
    "    classes = np.unique(y)\n",
    "    n_classes = len(classes)\n",
    "    class_counts = np.bincount(y)\n",
    "    class_indices = np.split(np.argsort(y, kind='mergesort'),\n",
    "                             np.cumsum(class_counts)[:-1])\n",
    "    X_test = X[:n_test]\n",
    "    X_train = X[n_test:(n_test + n_train)]\n",
    "    y_test = y[:n_test]\n",
    "    y_train = y[n_test:(n_test + n_train)]\n",
    "\n",
    "    return X_train, X_test, y_train, y_test"
   ]
  },
  {
   "cell_type": "code",
   "execution_count": 58,
   "id": "4f475da8",
   "metadata": {
    "scrolled": true
   },
   "outputs": [
    {
     "data": {
      "text/plain": [
       "(array([[2, 3],\n",
       "        [4, 5],\n",
       "        [6, 7],\n",
       "        [8, 9]]),\n",
       " array([[0, 1]]),\n",
       " array([1, 0, 1, 0]),\n",
       " array([1]))"
      ]
     },
     "execution_count": 58,
     "metadata": {},
     "output_type": "execute_result"
    }
   ],
   "source": [
    "X = np.arange(10).reshape((5, 2))\n",
    "y = np.array([1,1,0,1,0])\n",
    "scratch_train_test_split(X, y)"
   ]
  },
  {
   "cell_type": "markdown",
   "id": "d3d49ad9",
   "metadata": {},
   "source": [
    "分類問題\n",
    "分類は3種類の手法をscikit-learnを使って実装します。\n",
    "\n",
    "ロジスティック回帰\n",
    "SVM\n",
    "決定木\n",
    "\n",
    "scikit-learnにおいてLogisticRegressionクラスとSGDClassifierクラスの2種類から使用できます。ここでは勾配降下法を用いて計算するSGDClassifierクラスを利用してください。引数でloss=”log”とすることでロジスティック回帰の計算になります。\n",
    "\n",
    "scikit-learn にはロジスティック回帰に使える分類器として LogisticRegression クラスと SGDClassifier クラスが用意されています。ここでは勾配降下法を用いて計算する SGDClassifier クラスを用います。引数で loss=\"log\" を指定することでロジスティック回帰の計算ができます。\n",
    "\n",
    "https://scikit-learn.org/stable/modules/generated/sklearn.linear_model.SGDClassifier.html#sklearn.linear_model.SGDClassifier https://scikit-learn.org/stable/modules/generated/sklearn.svm.SVC.html#sklearn.svm.SVC https://scikit-learn.org/stable/modules/generated/sklearn.tree.DecisionTreeClassifier.html#sklearn.tree.DecisionTreeClassifier\n",
    "\n",
    "3種類のデータセットを用いて動作を確認します。\n",
    "\n",
    "1つ目は事前学習期間同様のirisデータセットです。 https://scikit-learn.org/stable/modules/generated/sklearn.datasets.load_iris.html 2値分類としたいため、以下の2つの目的変数のみ利用します。特徴量は4種類すべて使います。\n",
    "\n",
    "virgicolorとvirginica\n",
    "\n",
    "残り2つは特徴量が2つのデータセットを人工的に用意します。以下のコードで説明変数X,目的変数yが作成可能です。「シンプルデータセット1」「シンプルデータセット2」とします。特徴量が2つであるため可視化が容易です。\n",
    "\n",
    "シンプルデータセット1作成コード\n",
    "\n",
    "## 【問題2】 分類問題を解くコードの作成\n",
    "上記3種類の手法で3種類のデータセットを学習・推定するコードを作成してください。"
   ]
  },
  {
   "cell_type": "markdown",
   "id": "99ed7082",
   "metadata": {},
   "source": [
    "##### ロジスティック回帰"
   ]
  },
  {
   "cell_type": "code",
   "execution_count": 59,
   "id": "6e147f36",
   "metadata": {},
   "outputs": [
    {
     "data": {
      "text/plain": [
       "array(['setosa', 'versicolor', 'virginica'], dtype='<U10')"
      ]
     },
     "metadata": {},
     "output_type": "display_data"
    },
    {
     "data": {
      "text/plain": [
       "['sepal length (cm)',\n",
       " 'sepal width (cm)',\n",
       " 'petal length (cm)',\n",
       " 'petal width (cm)']"
      ]
     },
     "metadata": {},
     "output_type": "display_data"
    }
   ],
   "source": [
    "# アイリスデータを抽出\n",
    "iris_dataset = load_iris()\n",
    "#display(iris_dataset)\n",
    "display(iris_dataset[\"target_names\"])\n",
    "display(iris_dataset[\"feature_names\"])"
   ]
  },
  {
   "cell_type": "code",
   "execution_count": 60,
   "id": "26c49e1b",
   "metadata": {},
   "outputs": [
    {
     "data": {
      "text/plain": [
       "(100, 4)"
      ]
     },
     "metadata": {},
     "output_type": "display_data"
    },
    {
     "data": {
      "text/plain": [
       "(100,)"
      ]
     },
     "metadata": {},
     "output_type": "display_data"
    }
   ],
   "source": [
    "X = iris_dataset.data[50:]\n",
    "y = iris_dataset.target[50:]\n",
    "display(X.shape)\n",
    "display(y.shape)"
   ]
  },
  {
   "cell_type": "code",
   "execution_count": 61,
   "id": "94f4d77e",
   "metadata": {},
   "outputs": [
    {
     "data": {
      "text/plain": [
       "(80, 4)"
      ]
     },
     "execution_count": 61,
     "metadata": {},
     "output_type": "execute_result"
    }
   ],
   "source": [
    "X_train, X_test, y_train, y_test = scratch_train_test_split(X, y)\n",
    "X_train.shape"
   ]
  },
  {
   "cell_type": "code",
   "execution_count": 62,
   "id": "c3f6acc8",
   "metadata": {},
   "outputs": [
    {
     "data": {
      "text/plain": [
       "SGDClassifier(loss='log')"
      ]
     },
     "execution_count": 62,
     "metadata": {},
     "output_type": "execute_result"
    }
   ],
   "source": [
    "rog = SGDClassifier(loss=\"log\")\n",
    "rog.fit(X_train, y_train)"
   ]
  },
  {
   "cell_type": "code",
   "execution_count": 63,
   "id": "9ab9e828",
   "metadata": {},
   "outputs": [
    {
     "data": {
      "text/plain": [
       "array([1, 1, 1, 1, 1, 1, 1, 1, 1, 1, 1, 1, 1, 1, 1, 1, 1, 1, 2, 1])"
      ]
     },
     "execution_count": 63,
     "metadata": {},
     "output_type": "execute_result"
    }
   ],
   "source": [
    "y_pred = rog.predict(X_test)\n",
    "y_pred"
   ]
  },
  {
   "cell_type": "code",
   "execution_count": 64,
   "id": "e206ca82",
   "metadata": {},
   "outputs": [
    {
     "data": {
      "text/plain": [
       "0.95"
      ]
     },
     "execution_count": 64,
     "metadata": {},
     "output_type": "execute_result"
    }
   ],
   "source": [
    "accuracy_score(y_test, y_pred)"
   ]
  },
  {
   "cell_type": "markdown",
   "id": "46c6672a",
   "metadata": {},
   "source": [
    "##### SVM"
   ]
  },
  {
   "cell_type": "code",
   "execution_count": 65,
   "id": "62e8a893",
   "metadata": {},
   "outputs": [],
   "source": [
    "np.random.seed(seed=0)\n",
    "n_samples = 500\n",
    "f0 = [-1, 2]\n",
    "f1 = [2, -1]\n",
    "cov = [[1.0,0.8], [0.8, 1.0]]\n",
    "f0 = np.random.multivariate_normal(f0, cov, n_samples // 2)\n",
    "f1 = np.random.multivariate_normal(f1, cov, n_samples // 2)\n",
    "X1 = np.concatenate([f0, f1])\n",
    "y1 = np.concatenate([\n",
    "    np.full(n_samples // 2, 1),\n",
    "    np.full(n_samples // 2, -1)\n",
    "])\n",
    "#random_index = np.random.permutation(np.arange(n_samples))\n",
    "#X = X[random]"
   ]
  },
  {
   "cell_type": "code",
   "execution_count": 66,
   "id": "d1bd3310",
   "metadata": {},
   "outputs": [
    {
     "data": {
      "text/plain": [
       "(80, 4)"
      ]
     },
     "execution_count": 66,
     "metadata": {},
     "output_type": "execute_result"
    }
   ],
   "source": [
    "X_train1, X_test1, y_train1, y_test1 = scratch_train_test_split(X, y)\n",
    "X_train1.shape"
   ]
  },
  {
   "cell_type": "code",
   "execution_count": 67,
   "id": "f6c08a21",
   "metadata": {},
   "outputs": [
    {
     "data": {
      "text/plain": [
       "array([1, 1, 1, 1, 1, 1, 1, 1, 1, 1, 1, 1, 1, 1, 1, 1, 1, 1, 2, 1])"
      ]
     },
     "execution_count": 67,
     "metadata": {},
     "output_type": "execute_result"
    }
   ],
   "source": [
    "svm = SVC()\n",
    "svm.fit(X_train1, y_train1)\n",
    "y_pred1 = rog.predict(X_test1)\n",
    "y_pred1"
   ]
  },
  {
   "cell_type": "markdown",
   "id": "7aa31fa7",
   "metadata": {},
   "source": [
    "##### 決定木"
   ]
  },
  {
   "cell_type": "code",
   "execution_count": 68,
   "id": "f11aedcf",
   "metadata": {},
   "outputs": [],
   "source": [
    "X = np.array([\n",
    "    [-0.44699 , -2.8073  ],[-1.4621  , -2.4586  ],\n",
    "    [ 0.10645 ,  1.9242  ],[-3.5944  , -4.0112  ],\n",
    "    [-0.9888  ,  4.5718  ],[-3.1625  , -3.9606  ],\n",
    "    [ 0.56421 ,  0.72888 ],[-0.60216 ,  8.4636  ],\n",
    "    [-0.61251 , -0.75345 ],[-0.73535 , -2.2718  ],\n",
    "    [-0.80647 , -2.2135  ],[ 0.86291 ,  2.3946  ],\n",
    "    [-3.1108  ,  0.15394 ],[-2.9362  ,  2.5462  ],\n",
    "    [-0.57242 , -2.9915  ],[ 1.4771  ,  3.4896  ],\n",
    "    [ 0.58619 ,  0.37158 ],[ 0.6017  ,  4.3439  ],\n",
    "    [-2.1086  ,  8.3428  ],[-4.1013  , -4.353   ],\n",
    "    [-1.9948  , -1.3927  ],[ 0.35084 , -0.031994],\n",
    "    [ 0.96765 ,  7.8929  ],[-1.281   , 15.6824  ],\n",
    "    [ 0.96765 , 10.083   ],[ 1.3763  ,  1.3347  ],\n",
    "    [-2.234   , -2.5323  ],[-2.9452  , -1.8219  ],\n",
    "    [ 0.14654 , -0.28733 ],[ 0.5461  ,  5.8245  ],\n",
    "    [-0.65259 ,  9.3444  ],[ 0.59912 ,  5.3524  ],\n",
    "    [ 0.50214 , -0.31818 ],[-3.0603  , -3.6461  ],\n",
    "    [-6.6797  ,  0.67661 ],[-2.353   , -0.72261 ],\n",
    "    [ 1.1319  ,  2.4023  ],[-0.12243 ,  9.0162  ],\n",
    "    [-2.5677  , 13.1779  ],[ 0.057313,  5.4681  ],\n",
    "])\n",
    "y = np.array([0, 0, 0, 0, 0, 0, 0, 0, 0, 0, 0, 0, 0, 0, 0, 0, 0, 0, 0, 0, 1, 1,\n",
    "       1, 1, 1, 1, 1, 1, 1, 1, 1, 1, 1, 1, 1, 1, 1, 1, 1, 1])"
   ]
  },
  {
   "cell_type": "code",
   "execution_count": 69,
   "id": "1cd5d92c",
   "metadata": {},
   "outputs": [
    {
     "name": "stdout",
     "output_type": "stream",
     "text": [
      "(40, 2) (32, 2)\n"
     ]
    }
   ],
   "source": [
    "X_train, X_test, y_train, y_test = scratch_train_test_split(X, y)\n",
    "print(X.shape,X_train.shape)"
   ]
  },
  {
   "cell_type": "code",
   "execution_count": 70,
   "id": "1d3db444",
   "metadata": {},
   "outputs": [
    {
     "data": {
      "text/plain": [
       "DecisionTreeClassifier()"
      ]
     },
     "execution_count": 70,
     "metadata": {},
     "output_type": "execute_result"
    }
   ],
   "source": [
    "tree =DecisionTreeClassifier()\n",
    "tree.fit(X_train, y_train)"
   ]
  },
  {
   "cell_type": "code",
   "execution_count": 71,
   "id": "d025231d",
   "metadata": {},
   "outputs": [
    {
     "data": {
      "text/plain": [
       "array([0, 0, 0, 0, 0, 1, 0, 1])"
      ]
     },
     "execution_count": 71,
     "metadata": {},
     "output_type": "execute_result"
    }
   ],
   "source": [
    "y_pred2 = tree.predict(X_test)\n",
    "y_pred2"
   ]
  },
  {
   "cell_type": "markdown",
   "id": "bc7d2e96",
   "metadata": {},
   "source": [
    "##### 回帰問題\n",
    "次に回帰は1種類をscikit-learnを使って実装します。\n",
    "\n",
    "\n",
    "線形回帰\n",
    "\n",
    "線形回帰は勾配降下法を用いて計算する SGDRegressor クラスを利用してください。\n",
    "\n",
    "\n",
    "https://scikit-learn.org/stable/modules/generated/sklearn.linear_model.SGDRegressor.html\n",
    "\n",
    "\n",
    "データセットは事前学習期間同様にHouse Pricesコンペティションのものを使います。\n",
    "\n",
    "\n",
    "https://www.kaggle.com/c/house-prices-advanced-regression-techniques/data\n",
    "\n",
    "\n",
    "train.csvをダウンロードし、目的変数としてSalePrice、説明変数として、GrLivAreaとYearBuiltを使います。\n",
    "\n",
    "## 【問題3】 回帰問題を解くコードの作成\n",
    "線形回帰でHouse Pricesデータセットを学習・推定するコードを作成してください。"
   ]
  },
  {
   "cell_type": "code",
   "execution_count": 72,
   "id": "94dd2200",
   "metadata": {},
   "outputs": [
    {
     "data": {
      "text/html": [
       "<div>\n",
       "<style scoped>\n",
       "    .dataframe tbody tr th:only-of-type {\n",
       "        vertical-align: middle;\n",
       "    }\n",
       "\n",
       "    .dataframe tbody tr th {\n",
       "        vertical-align: top;\n",
       "    }\n",
       "\n",
       "    .dataframe thead th {\n",
       "        text-align: right;\n",
       "    }\n",
       "</style>\n",
       "<table border=\"1\" class=\"dataframe\">\n",
       "  <thead>\n",
       "    <tr style=\"text-align: right;\">\n",
       "      <th></th>\n",
       "      <th>Id</th>\n",
       "      <th>MSSubClass</th>\n",
       "      <th>MSZoning</th>\n",
       "      <th>LotFrontage</th>\n",
       "      <th>LotArea</th>\n",
       "      <th>Street</th>\n",
       "      <th>Alley</th>\n",
       "      <th>LotShape</th>\n",
       "      <th>LandContour</th>\n",
       "      <th>Utilities</th>\n",
       "      <th>...</th>\n",
       "      <th>PoolArea</th>\n",
       "      <th>PoolQC</th>\n",
       "      <th>Fence</th>\n",
       "      <th>MiscFeature</th>\n",
       "      <th>MiscVal</th>\n",
       "      <th>MoSold</th>\n",
       "      <th>YrSold</th>\n",
       "      <th>SaleType</th>\n",
       "      <th>SaleCondition</th>\n",
       "      <th>SalePrice</th>\n",
       "    </tr>\n",
       "  </thead>\n",
       "  <tbody>\n",
       "    <tr>\n",
       "      <th>0</th>\n",
       "      <td>1</td>\n",
       "      <td>60</td>\n",
       "      <td>RL</td>\n",
       "      <td>65.0</td>\n",
       "      <td>8450</td>\n",
       "      <td>Pave</td>\n",
       "      <td>NaN</td>\n",
       "      <td>Reg</td>\n",
       "      <td>Lvl</td>\n",
       "      <td>AllPub</td>\n",
       "      <td>...</td>\n",
       "      <td>0</td>\n",
       "      <td>NaN</td>\n",
       "      <td>NaN</td>\n",
       "      <td>NaN</td>\n",
       "      <td>0</td>\n",
       "      <td>2</td>\n",
       "      <td>2008</td>\n",
       "      <td>WD</td>\n",
       "      <td>Normal</td>\n",
       "      <td>208500</td>\n",
       "    </tr>\n",
       "    <tr>\n",
       "      <th>1</th>\n",
       "      <td>2</td>\n",
       "      <td>20</td>\n",
       "      <td>RL</td>\n",
       "      <td>80.0</td>\n",
       "      <td>9600</td>\n",
       "      <td>Pave</td>\n",
       "      <td>NaN</td>\n",
       "      <td>Reg</td>\n",
       "      <td>Lvl</td>\n",
       "      <td>AllPub</td>\n",
       "      <td>...</td>\n",
       "      <td>0</td>\n",
       "      <td>NaN</td>\n",
       "      <td>NaN</td>\n",
       "      <td>NaN</td>\n",
       "      <td>0</td>\n",
       "      <td>5</td>\n",
       "      <td>2007</td>\n",
       "      <td>WD</td>\n",
       "      <td>Normal</td>\n",
       "      <td>181500</td>\n",
       "    </tr>\n",
       "    <tr>\n",
       "      <th>2</th>\n",
       "      <td>3</td>\n",
       "      <td>60</td>\n",
       "      <td>RL</td>\n",
       "      <td>68.0</td>\n",
       "      <td>11250</td>\n",
       "      <td>Pave</td>\n",
       "      <td>NaN</td>\n",
       "      <td>IR1</td>\n",
       "      <td>Lvl</td>\n",
       "      <td>AllPub</td>\n",
       "      <td>...</td>\n",
       "      <td>0</td>\n",
       "      <td>NaN</td>\n",
       "      <td>NaN</td>\n",
       "      <td>NaN</td>\n",
       "      <td>0</td>\n",
       "      <td>9</td>\n",
       "      <td>2008</td>\n",
       "      <td>WD</td>\n",
       "      <td>Normal</td>\n",
       "      <td>223500</td>\n",
       "    </tr>\n",
       "    <tr>\n",
       "      <th>3</th>\n",
       "      <td>4</td>\n",
       "      <td>70</td>\n",
       "      <td>RL</td>\n",
       "      <td>60.0</td>\n",
       "      <td>9550</td>\n",
       "      <td>Pave</td>\n",
       "      <td>NaN</td>\n",
       "      <td>IR1</td>\n",
       "      <td>Lvl</td>\n",
       "      <td>AllPub</td>\n",
       "      <td>...</td>\n",
       "      <td>0</td>\n",
       "      <td>NaN</td>\n",
       "      <td>NaN</td>\n",
       "      <td>NaN</td>\n",
       "      <td>0</td>\n",
       "      <td>2</td>\n",
       "      <td>2006</td>\n",
       "      <td>WD</td>\n",
       "      <td>Abnorml</td>\n",
       "      <td>140000</td>\n",
       "    </tr>\n",
       "    <tr>\n",
       "      <th>4</th>\n",
       "      <td>5</td>\n",
       "      <td>60</td>\n",
       "      <td>RL</td>\n",
       "      <td>84.0</td>\n",
       "      <td>14260</td>\n",
       "      <td>Pave</td>\n",
       "      <td>NaN</td>\n",
       "      <td>IR1</td>\n",
       "      <td>Lvl</td>\n",
       "      <td>AllPub</td>\n",
       "      <td>...</td>\n",
       "      <td>0</td>\n",
       "      <td>NaN</td>\n",
       "      <td>NaN</td>\n",
       "      <td>NaN</td>\n",
       "      <td>0</td>\n",
       "      <td>12</td>\n",
       "      <td>2008</td>\n",
       "      <td>WD</td>\n",
       "      <td>Normal</td>\n",
       "      <td>250000</td>\n",
       "    </tr>\n",
       "  </tbody>\n",
       "</table>\n",
       "<p>5 rows × 81 columns</p>\n",
       "</div>"
      ],
      "text/plain": [
       "   Id  MSSubClass MSZoning  LotFrontage  LotArea Street Alley LotShape  \\\n",
       "0   1          60       RL         65.0     8450   Pave   NaN      Reg   \n",
       "1   2          20       RL         80.0     9600   Pave   NaN      Reg   \n",
       "2   3          60       RL         68.0    11250   Pave   NaN      IR1   \n",
       "3   4          70       RL         60.0     9550   Pave   NaN      IR1   \n",
       "4   5          60       RL         84.0    14260   Pave   NaN      IR1   \n",
       "\n",
       "  LandContour Utilities  ... PoolArea PoolQC Fence MiscFeature MiscVal MoSold  \\\n",
       "0         Lvl    AllPub  ...        0    NaN   NaN         NaN       0      2   \n",
       "1         Lvl    AllPub  ...        0    NaN   NaN         NaN       0      5   \n",
       "2         Lvl    AllPub  ...        0    NaN   NaN         NaN       0      9   \n",
       "3         Lvl    AllPub  ...        0    NaN   NaN         NaN       0      2   \n",
       "4         Lvl    AllPub  ...        0    NaN   NaN         NaN       0     12   \n",
       "\n",
       "  YrSold  SaleType  SaleCondition  SalePrice  \n",
       "0   2008        WD         Normal     208500  \n",
       "1   2007        WD         Normal     181500  \n",
       "2   2008        WD         Normal     223500  \n",
       "3   2006        WD        Abnorml     140000  \n",
       "4   2008        WD         Normal     250000  \n",
       "\n",
       "[5 rows x 81 columns]"
      ]
     },
     "execution_count": 72,
     "metadata": {},
     "output_type": "execute_result"
    }
   ],
   "source": [
    "df = pd.read_csv(\"train.csv\")\n",
    "df.head()"
   ]
  },
  {
   "cell_type": "code",
   "execution_count": 76,
   "id": "f79c58e3",
   "metadata": {},
   "outputs": [
    {
     "data": {
      "text/plain": [
       "array([-5.21660024e+15, -5.55528114e+15, -5.03721547e+15, -4.20296408e+15,\n",
       "       -5.00491126e+15, -4.60376602e+15, -5.09447408e+15, -4.89202315e+15,\n",
       "       -5.69314849e+15, -5.22173839e+15, -5.22044433e+15, -5.45477694e+15,\n",
       "       -5.30507213e+15, -4.43053609e+15, -5.04388695e+15, -5.02346327e+15,\n",
       "       -4.51300822e+15, -4.89331556e+15, -4.49027379e+15, -5.23121240e+15,\n",
       "       -5.02866902e+15, -4.57043186e+15, -4.55257477e+15, -5.10320876e+15,\n",
       "       -5.06276901e+15, -4.46395442e+15, -4.61564324e+15, -4.18808285e+15,\n",
       "       -4.61324996e+15, -5.59510351e+15, -4.63590023e+15, -4.38934376e+15,\n",
       "       -4.61521575e+15, -4.51258405e+15, -5.14429869e+15, -4.62974704e+15,\n",
       "       -4.74152766e+15, -4.90108127e+15, -5.30069319e+15, -5.97523422e+15,\n",
       "       -4.86475635e+15, -4.81639249e+15, -4.56137871e+15, -4.51659316e+15,\n",
       "       -4.67188514e+15, -5.27120809e+15, -4.34609485e+15, -4.51197496e+15,\n",
       "       -5.30968205e+15, -5.17652370e+15, -4.75340654e+15, -5.26095168e+15,\n",
       "       -4.27440569e+15, -4.93620956e+15, -4.49403370e+15, -4.50139346e+15,\n",
       "       -4.85501326e+15, -4.71247170e+15, -4.78450914e+15, -4.90919692e+15,\n",
       "       -4.46155783e+15, -5.29103427e+15, -4.95971314e+15, -5.24336367e+15,\n",
       "       -4.92030500e+15, -5.00371463e+15, -4.58086489e+15, -4.56650526e+15,\n",
       "       -5.30146731e+15, -4.85826813e+15, -4.73127788e+15, -5.33001327e+15,\n",
       "       -4.91278518e+15, -5.20310056e+15, -4.35969694e+15, -4.41558227e+15,\n",
       "       -4.92620235e+15, -4.57009185e+15, -5.20617383e+15, -4.90032206e+15,\n",
       "       -4.78913065e+15, -4.69229557e+15, -5.33293477e+15, -5.37154063e+15,\n",
       "       -5.40256072e+15, -4.90903189e+15, -4.50770505e+15, -4.94423441e+15,\n",
       "       -4.39823187e+15, -4.36644264e+15, -4.61282910e+15, -5.50733648e+15,\n",
       "       -5.03371305e+15, -4.84715178e+15, -4.40241762e+15, -4.83673862e+15,\n",
       "       -4.38242309e+15, -5.17720370e+15, -4.52514459e+15, -4.91501839e+15,\n",
       "       -4.88919742e+15, -4.64871991e+15, -4.45539968e+15, -4.67742924e+15,\n",
       "       -4.83819109e+15, -4.88543751e+15, -4.70495022e+15, -4.49275289e+15,\n",
       "       -4.87484110e+15, -4.41967556e+15, -4.98337512e+15, -5.17062137e+15,\n",
       "       -4.95961902e+15, -4.74938914e+15, -4.59205714e+15, -5.00133461e+15,\n",
       "       -4.46668438e+15, -4.96476048e+15, -5.27009728e+15, -4.45497882e+15,\n",
       "       -4.63932013e+15, -5.01619265e+15, -5.00696785e+15, -4.78373833e+15,\n",
       "       -5.59681347e+15, -4.37609659e+15, -4.43335850e+15, -5.54092150e+15,\n",
       "       -4.68444734e+15, -4.78827568e+15, -4.86458635e+15, -4.88945491e+15,\n",
       "       -4.46907765e+15, -4.16330840e+15, -4.53386767e+15, -5.29770077e+15,\n",
       "       -4.45685877e+15, -4.54103921e+15, -5.02696072e+15, -5.66552843e+15,\n",
       "       -4.97040201e+15, -5.17703039e+15, -4.96542889e+15, -5.08405429e+15,\n",
       "       -4.87271857e+15, -4.99039157e+15, -4.87142119e+15, -4.64043757e+15,\n",
       "       -5.07755448e+15, -5.21061541e+15, -4.70734846e+15, -4.82493066e+15,\n",
       "       -4.38737798e+15, -4.68923554e+15, -4.87571099e+15, -4.57206261e+15,\n",
       "       -5.01362938e+15, -5.09594146e+15, -4.97987104e+15, -5.40872053e+15,\n",
       "       -4.37609824e+15, -5.01909758e+15, -5.10062726e+15, -4.92765482e+15,\n",
       "       -4.91073356e+15, -5.94378996e+15, -4.56736024e+15, -4.82339568e+15,\n",
       "       -4.48566056e+15, -5.72757524e+15, -4.74305933e+15, -4.60445265e+15,\n",
       "       -4.58137821e+15, -4.94765929e+15, -4.86638047e+15, -5.11131944e+15,\n",
       "       -4.37918146e+15, -4.45660294e+15, -4.52087633e+15, -4.35370381e+15,\n",
       "       -5.08498847e+15, -4.77588017e+15, -4.51231993e+15, -4.72084815e+15,\n",
       "       -4.90885361e+15, -5.23642477e+15, -4.98423010e+15, -5.32608004e+15,\n",
       "       -5.04364271e+15, -4.62991704e+15, -4.87945599e+15, -5.63151261e+15,\n",
       "       -4.38566802e+15, -4.41934881e+15, -4.39489780e+15, -5.01877084e+15,\n",
       "       -4.50352428e+15, -5.08217599e+15, -5.15335680e+15, -5.13498805e+15,\n",
       "       -4.35558874e+15, -4.58821803e+15, -5.27530966e+15, -4.97662776e+15,\n",
       "       -4.36994340e+15, -4.32533946e+15, -4.69487541e+15, -4.87075444e+15,\n",
       "       -5.29351337e+15, -4.22620687e+15, -4.99552640e+15, -4.60616095e+15,\n",
       "       -4.87518442e+15, -4.44241993e+15, -4.53129446e+15, -4.89962549e+15,\n",
       "       -5.10302219e+15, -4.70503439e+15, -4.53898428e+15, -5.54486964e+15,\n",
       "       -4.68572152e+15, -5.95387140e+15, -4.87330115e+15, -4.95457499e+15,\n",
       "       -4.25030794e+15, -4.68358739e+15, -4.36806345e+15, -4.41779560e+15,\n",
       "       -4.90544033e+15, -4.98543833e+15, -4.76059298e+15, -4.97398197e+15,\n",
       "       -5.04849686e+15, -4.93415794e+15, -5.43520659e+15, -6.09249962e+15,\n",
       "       -4.82006491e+15, -5.11994841e+15, -4.65710133e+15, -4.89560809e+15,\n",
       "       -5.17959366e+15, -5.51742124e+15, -5.12754743e+15, -5.33974808e+15,\n",
       "       -4.59581208e+15, -4.65692305e+15, -4.66187628e+15, -4.26278596e+15,\n",
       "       -4.71366005e+15, -5.10832537e+15, -5.75705371e+15, -4.48839383e+15,\n",
       "       -5.86755352e+15, -4.74536843e+15, -5.09396904e+15, -4.55710548e+15,\n",
       "       -5.15455344e+15, -4.48326729e+15, -4.82331979e+15, -4.16398840e+15,\n",
       "       -5.42864580e+15, -5.06388313e+15, -4.70220866e+15, -4.55231231e+15,\n",
       "       -4.71469497e+15, -5.32915001e+15, -4.66760198e+15, -4.39011291e+15,\n",
       "       -4.51009501e+15, -5.13892459e+15, -5.20677132e+15, -4.84621097e+15,\n",
       "       -5.48974682e+15, -5.08370601e+15, -4.98833167e+15, -5.01619265e+15,\n",
       "       -4.33525752e+15, -4.76947281e+15, -5.14438452e+15, -4.31798467e+15,\n",
       "       -5.08490596e+15, -4.56719686e+15, -5.12917156e+15, -4.43634761e+15,\n",
       "       -4.78383245e+15, -4.79091815e+15, -4.82425231e+15, -4.90424701e+15,\n",
       "       -4.44165410e+15, -5.03713462e+15, -5.90242432e+15, -4.37600910e+15,\n",
       "       -4.43438017e+15, -4.97013126e+15, -5.03978040e+15, -4.40259259e+15,\n",
       "       -4.37241919e+15, -5.01056770e+15, -5.34863453e+15, -5.61348718e+15,\n",
       "       -4.85509909e+15, -5.78192393e+15, -4.56983934e+15, -4.98346592e+15,\n",
       "       -5.07533287e+15, -4.78289330e+15, -4.92664475e+15, -5.07157461e+15,\n",
       "       -4.37669739e+15, -4.50146935e+15, -4.85450491e+15, -4.18808285e+15,\n",
       "       -4.48352312e+15, -4.35370381e+15, -4.49214877e+15, -6.22095725e+15,\n",
       "       -5.67672233e+15, -4.91767081e+15, -5.22395006e+15, -4.86271633e+15,\n",
       "       -4.77510936e+15, -5.36692408e+15, -4.31140565e+15, -5.08491921e+15,\n",
       "       -4.44190165e+15, -4.88492585e+15, -5.31070040e+15, -5.02106337e+15,\n",
       "       -4.36122860e+15, -5.04242951e+15, -4.46583437e+15, -5.03345556e+15,\n",
       "       -4.80194702e+15, -5.04559027e+15, -5.24702450e+15, -4.23107427e+15,\n",
       "       -4.45993371e+15, -4.44651819e+15, -5.76517268e+15, -4.74024851e+15,\n",
       "       -4.62426889e+15, -4.35370381e+15, -4.85236912e+15, -5.16395653e+15,\n",
       "       -4.43789419e+15, -4.68974058e+15, -4.67349601e+15, -4.28329381e+15,\n",
       "       -4.36874345e+15, -5.20164312e+15, -4.35088968e+15, -5.77901734e+15,\n",
       "       -5.23113154e+15, -4.94885924e+15, -4.65085569e+15, -4.74939908e+15,\n",
       "       -4.94014278e+15, -5.78705545e+15, -4.81194098e+15, -4.48454975e+15,\n",
       "       -4.55863881e+15, -5.14815602e+15, -5.41845699e+15, -4.78373833e+15,\n",
       "       -6.03199111e+15])"
      ]
     },
     "execution_count": 76,
     "metadata": {},
     "output_type": "execute_result"
    }
   ],
   "source": [
    "X = df.loc[:,[\"GrLivArea\",\"YearBuilt\"]].values\n",
    "y = df.loc[:,[\"SalePrice\"]].values\n",
    "X_train, X_test, y_train, y_test = train_test_split(X, y)\n",
    "reg = SGDRegressor()\n",
    "reg.fit(X_train, y_train.ravel())\n",
    "y_pred = reg.predict(X_test)\n",
    "y_pred"
   ]
  },
  {
   "cell_type": "code",
   "execution_count": null,
   "id": "feccf6e1",
   "metadata": {},
   "outputs": [],
   "source": []
  }
 ],
 "metadata": {
  "kernelspec": {
   "display_name": "Python 3",
   "language": "python",
   "name": "python3"
  },
  "language_info": {
   "codemirror_mode": {
    "name": "ipython",
    "version": 3
   },
   "file_extension": ".py",
   "mimetype": "text/x-python",
   "name": "python",
   "nbconvert_exporter": "python",
   "pygments_lexer": "ipython3",
   "version": "3.8.8"
  }
 },
 "nbformat": 4,
 "nbformat_minor": 5
}
