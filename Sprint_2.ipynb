{
 "cells": [
  {
   "cell_type": "markdown",
   "metadata": {
    "id": "1o1-TyRiZnp8"
   },
   "source": [
    "# Sprint Introduction to Machine Learning Scratch"
   ]
  },
  {
   "cell_type": "markdown",
   "metadata": {
    "id": "0PAoyDj8ZnqE",
    "toc": true
   },
   "source": [
    "<h1>Agenda<span class=\"tocSkip\"></span></h1>\n",
    "<div class=\"toc\"><ul class=\"toc-item\"><li><span><a href=\"#About this Sprint\" data-toc-modified-id=\"About this Sprint-1\"><span class=\"toc-item-num\">1&nbsp;&nbsp;</span>About this Sprint</a></span><ul class=\"toc-item\"><li><span><a href=\"#Purpose of Sprint\" data-toc-modified-id=\"Purpose of Sprint-1.1\"><span class=\"toc-item-num\">1.1&nbsp;&nbsp;</span>Purpose of Sprint</a></span></li><li><span><a href=\"#How to learn\" data-toc-modified-id=\"How to learn-1.2\"><span class=\"toc-item-num\">1.2&nbsp;&nbsp;</span>How to learn</a></span></li></ul></li><li><span><a href=\"#Scratch\" data-toc-modified-id=\"Scratch-2\"><span class=\"toc-item-num\">2&nbsp;&nbsp;</span>Scratch</a></span><ul class=\"toc-item\"><li><span><a href=\"#Significance of Scratch\" data-toc-modified-id=\"Significance of Scratch-2.1\"><span class=\"toc-item-num\">2.1&nbsp;&nbsp;</span>Significance of Scratch</a></span></li><li><span><a href=\"#[Problem 1] Scratching the train_test_split\" data-toc-modified-id=\"[Problem 1] Scratching the train_test_split-2.2\"><span class=\"toc-item-num\">2.2&nbsp;&nbsp;</span>[Problem 1] Scratching the train_test_split</a></span></li></ul></li><li><span><a href=\"#Create code to perform machine learning using scikit-learn\" data-toc-modified-id=\"Create code to perform machine learning using scikit-learn-3\"><span class=\"toc-item-num\">3&nbsp;&nbsp;</span>Create code to perform machine learning using scikit-learn</a></span><ul class=\"toc-item\"><li><span><a href=\"#Classification Problems\" data-toc-modified-id=\"Classification Problems-3.1\"><span class=\"toc-item-num\">3.1&nbsp;&nbsp;</span>Classification Problems</a></span></li><li><span><a href=\"#Problem 2 - Creating a code to solve a classification problem\" data-toc-modified-id=\"Problem 2 - Creating a code to solve a classification problem-3.2\"><span class=\"toc-item-num\">3.2&nbsp;&nbsp;</span>Problem 2 - Creating a code to solve a classification problem</a></span></li><li><span><a href=\"#Regression problem\" data-toc-modified-id=\"Regression problem-3.3\"><span class=\"toc-item-num\">3.3&nbsp;&nbsp;</span>Regression problem</a></span></li><li><span><a href=\"#Problem 3 - Creating a code to solve a regression problem\" data-toc-modified-id=\"Problem 3 - Creating a code to solve a regression problem-3.4\"><span class=\"toc-item-num\">3.4&nbsp;&nbsp;</span>Problem 3 - Creating a code to solve a regression problem</a></span></li><li><span><a href=\"#[Problem 1] Code improvement\" data-toc-modified-id=\"[Problem 1] Code improvement-3.5\"><span class=\"toc-item-num\">3.5&nbsp;&nbsp;</span>[Problem 1] Code improvement</a></span></li></ul></li></ul></div>"
   ]
  },
  {
   "cell_type": "markdown",
   "metadata": {
    "id": "vGcIe38SZnqF"
   },
   "source": [
    "## About this Sprint"
   ]
  },
  {
   "cell_type": "markdown",
   "metadata": {
    "id": "6W-7wpKDZnqF"
   },
   "source": [
    "### Purpose of Sprint\n",
    "* Preparing for Machine Learning Scratch"
   ]
  },
  {
   "cell_type": "markdown",
   "metadata": {
    "id": "tVVJqLtTZnqF"
   },
   "source": [
    "### How to learn\n",
    "We will use scikit-learn to run the models that we will create in the future machine learning scratch assignments.  \n",
    "This is a preparation for the scratch assignment as well as a review of the previous steps."
   ]
  },
  {
   "cell_type": "markdown",
   "metadata": {
    "id": "lJIBYewfZnqF"
   },
   "source": [
    "## Scratch"
   ]
  },
  {
   "cell_type": "markdown",
   "metadata": {
    "id": "j5c6ol7aZnqG"
   },
   "source": [
    "In this Sprint, we will prepare to work on a scratch assignment on machine learning methods.  \n",
    "We will write code to solve classification and regression problems using scikit-learn, and in future Sprint, we will create a class that does the same thing from scratch."
   ]
  },
  {
   "cell_type": "markdown",
   "metadata": {
    "id": "y-omAgSJZnqG"
   },
   "source": [
    "### Significance of Scratch\n",
    "Scratch here means to combine basic libraries such as NumPy to create your own classes and functions with the same functionality as applied libraries such as scikit-learn.\n",
    "\n",
    "The goal is to gain a deeper understanding of the algorithm, which is difficult to grasp just by running a library such as scikit-learn. It will also improve your coding skills, but that is not the main purpose.\n",
    "\n",
    "We aim to achieve the following effects.\n",
    "\n",
    "* Make it easier to understand the theory and formulas when encountering a new method\n",
    "* Reduce ambiguity in using the library\n",
    "* Make it easier to read existing implementations"
   ]
  },
  {
   "cell_type": "markdown",
   "metadata": {
    "id": "GPB3NF7cZnqG"
   },
   "source": [
    "### [Problem 1] Scratching the train_test_split\n",
    "As an exercise in scratch, let's make our own train_test_split in scikit-learn.  \n",
    "Please complete the function based on the following template.  \n",
    "\n",
    "sklearn.model_selection.train_test_split — scikit-learn 0.21.3 documentation  \n",
    "http://scikit-learn.org/stable/modules/generated/sklearn.model_selection.train_test_split.html  \n",
    "  \n",
    "Be sure to check that the function you have created works the same as scikit-learn's train_test_split."
   ]
  },
  {
   "cell_type": "code",
   "execution_count": null,
   "metadata": {
    "id": "qAxJWfkaZnqH"
   },
   "outputs": [],
   "source": [
    "# import\n",
    "import numpy as np\n",
    "import matplotlib.pyplot as plt\n",
    "import seaborn as sns"
   ]
  },
  {
   "cell_type": "code",
   "execution_count": null,
   "metadata": {
    "id": "wmEnhiRUZnqH"
   },
   "outputs": [],
   "source": [
    "def scratch_train_test_split(X,y,train_size=0.8,random_state=0):\n",
    "    \"\"\"\n",
    "    Split the verification data.\n",
    "\n",
    "    Parameters\n",
    "    ----------\n",
    "    X : The following form of ndarray, shape (n_samples, n_features)\n",
    "      Training data\n",
    "    y : The following form of ndarray, shape (n_samples, )\n",
    "      correct value\n",
    "    train_size : float (0<train_size<1)\n",
    "      Specify how much of the train should be used as train.\n",
    "\n",
    "    Returns\n",
    "    ----------\n",
    "    X_train : The following form of ndarray, shape (n_samples, n_features)\n",
    "      Training data\n",
    "    X_test : The following form of ndarray, shape (n_samples, n_features)\n",
    "      Verification data\n",
    "    y_train : The following form of ndarray, shape (n_samples, )\n",
    "      Correct answer value of training data\n",
    "    y_test : The following form of ndarray, shape (n_samples, )\n",
    "      Correct value of validation data\n",
    "    \"\"\"\n",
    "    # Seed value of random number\n",
    "    np.random.seed(random_state)\n",
    "    \n",
    "    # Merge X,y data horizontally\n",
    "    y = y.reshape(-1,1)\n",
    "    Xy = np.concatenate([X,y],axis=1)\n",
    "    \n",
    "    # Split into train data and test data\n",
    "    size = len(Xy)\n",
    "    pick = int(np.round(size*train_size))\n",
    "    train_pick = np.random.choice(np.arange(size),pick,replace=False)\n",
    "    test_pick = np.delete(np.arange(size),train_pick)\n",
    "    \n",
    "    train = Xy[train_pick,:]\n",
    "    test = Xy[test_pick,:]\n",
    "\n",
    "    X_train = train[:,0:(Xy.shape[1]-y.shape[1])].reshape(-1,X.shape[1])\n",
    "    y_train = train[:,-y.shape[1]].reshape(-1,)\n",
    "    X_test = test[:,0:(Xy.shape[1]-y.shape[1])].reshape(-1,X.shape[1])\n",
    "    y_test = test[:,-y.shape[1]].reshape(-1,)\n",
    "    \n",
    "    return X_train, X_test, y_train, y_test"
   ]
  },
  {
   "cell_type": "code",
   "execution_count": null,
   "metadata": {
    "colab": {
     "base_uri": "https://localhost:8080/"
    },
    "id": "cnebFFn4ZnqJ",
    "outputId": "a7282c90-0e27-47be-e5ac-13b4292d8fca"
   },
   "outputs": [
    {
     "name": "stdout",
     "output_type": "stream",
     "text": [
      "X:\n",
      " (30, 3)\n",
      "y:\n",
      " (30,)\n"
     ]
    }
   ],
   "source": [
    "# Generate a multidimensional array\n",
    "s = 30\n",
    "r = 3\n",
    "\n",
    "X = np.arange(s*r).reshape(-1,r)\n",
    "y = np.arange(s)\n",
    "print('X:\\n',X.shape)\n",
    "print('y:\\n',y.shape)\n"
   ]
  },
  {
   "cell_type": "code",
   "execution_count": null,
   "metadata": {
    "colab": {
     "base_uri": "https://localhost:8080/"
    },
    "id": "qCt282OoZnqK",
    "outputId": "bdb3166e-9551-4073-90ae-0cd85fcb626b",
    "scrolled": false
   },
   "outputs": [
    {
     "name": "stdout",
     "output_type": "stream",
     "text": [
      "(24, 3)\n",
      "(24,)\n",
      "(6, 3)\n",
      "(6,)\n",
      "[[ 6  7  8]\n",
      " [84 85 86]\n",
      " [39 40 41]\n",
      " [30 31 32]\n",
      " [78 79 80]\n",
      " [72 73 74]\n",
      " [81 82 83]\n",
      " [33 34 35]\n",
      " [51 52 53]\n",
      " [66 67 68]\n",
      " [15 16 17]\n",
      " [48 49 50]\n",
      " [24 25 26]\n",
      " [42 43 44]\n",
      " [69 70 71]\n",
      " [60 61 62]\n",
      " [ 3  4  5]\n",
      " [87 88 89]\n",
      " [18 19 20]\n",
      " [12 13 14]\n",
      " [54 55 56]\n",
      " [57 58 59]\n",
      " [27 28 29]\n",
      " [21 22 23]]\n",
      "[ 2 28 13 10 26 24 27 11 17 22  5 16  8 14 23 20  1 29  6  4 18 19  9  7]\n",
      "[[ 0  1  2]\n",
      " [ 9 10 11]\n",
      " [36 37 38]\n",
      " [45 46 47]\n",
      " [63 64 65]\n",
      " [75 76 77]]\n",
      "[ 0  3 12 15 21 25]\n"
     ]
    }
   ],
   "source": [
    "# Use actual scratched functions.\n",
    "X_train, X_test, y_train, y_test = \\\n",
    "scratch_train_test_split(X,y,train_size=0.8,random_state=0)\n",
    "\n",
    "print(X_train.shape)\n",
    "print(y_train.shape)\n",
    "print(X_test.shape)\n",
    "print(y_test.shape)\n",
    "print(X_train)\n",
    "print(y_train)\n",
    "print(X_test)\n",
    "print(y_test)"
   ]
  },
  {
   "cell_type": "code",
   "execution_count": null,
   "metadata": {
    "colab": {
     "base_uri": "https://localhost:8080/"
    },
    "id": "9DZszmK1ZnqK",
    "outputId": "a659b3c9-86e5-47a0-e4a5-035d251234a1"
   },
   "outputs": [
    {
     "name": "stdout",
     "output_type": "stream",
     "text": [
      "(24, 3)\n",
      "(24,)\n",
      "(6, 3)\n",
      "(6,)\n",
      "[[81 82 83]\n",
      " [33 34 35]\n",
      " [51 52 53]\n",
      " [66 67 68]\n",
      " [15 16 17]\n",
      " [48 49 50]\n",
      " [24 25 26]\n",
      " [42 43 44]\n",
      " [69 70 71]\n",
      " [60 61 62]\n",
      " [ 3  4  5]\n",
      " [87 88 89]\n",
      " [18 19 20]\n",
      " [12 13 14]\n",
      " [54 55 56]\n",
      " [57 58 59]\n",
      " [27 28 29]\n",
      " [21 22 23]\n",
      " [75 76 77]\n",
      " [ 9 10 11]\n",
      " [ 0  1  2]\n",
      " [63 64 65]\n",
      " [45 46 47]\n",
      " [36 37 38]]\n",
      "[27 11 17 22  5 16  8 14 23 20  1 29  6  4 18 19  9  7 25  3  0 21 15 12]\n",
      "[[ 6  7  8]\n",
      " [84 85 86]\n",
      " [39 40 41]\n",
      " [30 31 32]\n",
      " [78 79 80]\n",
      " [72 73 74]]\n",
      "[ 2 28 13 10 26 24]\n"
     ]
    }
   ],
   "source": [
    "# Use sklearn　train_test_split\n",
    "from sklearn.model_selection import train_test_split\n",
    "X_train, X_test, y_train, y_test = \\\n",
    "train_test_split(X,y,train_size=0.8,random_state=0)\n",
    "\n",
    "print(X_train.shape)\n",
    "print(y_train.shape)\n",
    "print(X_test.shape)\n",
    "print(y_test.shape)\n",
    "print(X_train)\n",
    "print(y_train)\n",
    "print(X_test)\n",
    "print(y_test)"
   ]
  },
  {
   "cell_type": "markdown",
   "metadata": {
    "id": "eABvaoN-ZnqL"
   },
   "source": [
    "* Confirmed that the combination of the split data in sklearn and the split data in scratch is different, but the split is possible while maintaining the correspondence between X and y. (The reason is that the data for split is selected by random numbers?"
   ]
  },
  {
   "cell_type": "markdown",
   "metadata": {
    "id": "A9Gqc2bLZnqL"
   },
   "source": [
    "## Create code to perform machine learning using scikit-learn"
   ]
  },
  {
   "cell_type": "markdown",
   "metadata": {
    "id": "t6gwtK9BZnqL"
   },
   "source": [
    "We will create the code using scikit-learn.\n",
    "\n",
    "Please use your own function created in question 1 to split the validation data. You can use the holdout method instead of cross-validation."
   ]
  },
  {
   "cell_type": "markdown",
   "metadata": {
    "id": "mMFPT-yVZnqL"
   },
   "source": [
    "### Classification Problems\n",
    "The classification scrutinizes three different methods.\n",
    "\n",
    "* Logistic regression\n",
    "* SVM\n",
    "* Decision tree\n",
    "\n",
    "Logistic regression can be used in scikit-learn from two types of classes: LogisticRegression class and SGDClassifier class. Here we will use SGDClassifier class which is calculated using gradient descent method.  \n",
    "By setting loss=\"log\" as an argument, you can calculate logistic regression.\n",
    "\n",
    "* sklearn.linear_model.SGDClassifier — scikit-learn 0.21.3 documentation  \n",
    "  https://scikit-learn.org/stable/modules/generated/sklearn.linear_model.SGDClassifier.html#sklearn.linear_model.SGDClassifier\n",
    "* sklearn.svm.SVC — scikit-learn 0.21.3 documentation  \n",
    "  https://scikit-learn.org/stable/modules/generated/sklearn.svm.SVC.html#sklearn.svm.SVC\n",
    "* sklearn.tree.DecisionTreeClassifier — scikit-learn 0.21.3 documentation  \n",
    "  https://scikit-learn.org/stable/modules/generated/sklearn.tree.DecisionTreeClassifier.html#sklearn.tree.DecisionTreeClassifier"
   ]
  },
  {
   "cell_type": "markdown",
   "metadata": {
    "id": "f8sWra93ZnqM"
   },
   "source": [
    "We will prepare three types of data sets.\n",
    "\n",
    "The first is the iris data set as well as the pre-training period.\n",
    "\n",
    "sklearn.datasets.load_iris — scikit-learn 0.20.2 documentation  \n",
    "https://scikit-learn.org/stable/modules/generated/sklearn.datasets.load_iris.html\n",
    "\n",
    "Since we want to use a binary classification, we will use only the following two objective variables. We will use all four types of features.\n",
    "\n",
    "* virgicolor and virginica"
   ]
  },
  {
   "cell_type": "code",
   "execution_count": null,
   "metadata": {
    "id": "2xvJnyGCZnqM",
    "scrolled": false
   },
   "outputs": [],
   "source": [
    "from sklearn.datasets import load_iris\n",
    "data = load_iris().data\n",
    "target = load_iris().target.reshape(-1,1)"
   ]
  },
  {
   "cell_type": "code",
   "execution_count": null,
   "metadata": {
    "colab": {
     "base_uri": "https://localhost:8080/"
    },
    "id": "bMTPlax6ZnqM",
    "outputId": "a455fb29-3e6f-4cd9-f19a-72c9a7b49691",
    "scrolled": false
   },
   "outputs": [
    {
     "data": {
      "text/plain": [
       "(150, 5)"
      ]
     },
     "execution_count": 7,
     "metadata": {
      "tags": []
     },
     "output_type": "execute_result"
    }
   ],
   "source": [
    "import pandas as pd\n",
    "\n",
    "iris = np.concatenate([data,target],axis=1)\n",
    "iris = pd.DataFrame(iris)\n",
    "iris.shape"
   ]
  },
  {
   "cell_type": "code",
   "execution_count": null,
   "metadata": {
    "colab": {
     "base_uri": "https://localhost:8080/"
    },
    "id": "FieQY-tcZnqM",
    "outputId": "fea276de-25c4-4557-8322-c64e5a2d4028",
    "scrolled": false
   },
   "outputs": [
    {
     "name": "stdout",
     "output_type": "stream",
     "text": [
      "iris_X.shape: (100, 4)\n",
      "iris_y.shape: (100,)\n"
     ]
    }
   ],
   "source": [
    "iris_X = iris.loc[iris[4]!=0,0:3].values\n",
    "iris_y = iris.loc[iris[4]!=0,4].values\n",
    "print('iris_X.shape:',iris_X.shape)\n",
    "print('iris_y.shape:',iris_y.shape)"
   ]
  },
  {
   "cell_type": "markdown",
   "metadata": {
    "id": "7P_KwRMuZnqN"
   },
   "source": [
    "For the other two, we will artificially prepare a data set with two feature values. We can create explanatory variable X and objective variable y with the following code. Let's call them \"Simple Data Set 1\" and \"Simple Data Set 2\". Since there are only two feature values, visualization is easy."
   ]
  },
  {
   "cell_type": "markdown",
   "metadata": {
    "id": "2kdWeCrIZnqN"
   },
   "source": [
    "* Simple Data Set 1 Creation Code"
   ]
  },
  {
   "cell_type": "code",
   "execution_count": null,
   "metadata": {
    "id": "uoMLO9W7ZnqN",
    "scrolled": true
   },
   "outputs": [],
   "source": [
    "import numpy as np\n",
    "np.random.seed(seed=0)\n",
    "\n",
    "n_samples = 500\n",
    "f0 = [-1, 2]\n",
    "f1 = [2, -1]\n",
    "cov = [[1.0,0.8], [0.8, 1.0]]\n",
    "f0 = np.random.multivariate_normal(f0, cov, int(n_samples/2))\n",
    "f1 = np.random.multivariate_normal(f1, cov, int(n_samples/2))\n",
    "X = np.concatenate((f0, f1))\n",
    "y = np.concatenate((np.ones((int(n_samples/2))), np.ones((int(n_samples/2))) *(-1))).astype(np.int)\n",
    "random_index = np.random.permutation(np.arange(n_samples))\n",
    "sample1_X = X[random_index]\n",
    "sample1_y = y[random_index]"
   ]
  },
  {
   "cell_type": "code",
   "execution_count": null,
   "metadata": {
    "colab": {
     "base_uri": "https://localhost:8080/"
    },
    "id": "xSLUayQ0ZnqN",
    "outputId": "1ea91f6c-0c76-4473-894b-c7d82c8b2902",
    "scrolled": true
   },
   "outputs": [
    {
     "name": "stdout",
     "output_type": "stream",
     "text": [
      "sample1_X:\n",
      " [[ 7.72382751e-01 -2.29167329e+00]\n",
      " [-5.93349449e-01  1.66788336e+00]\n",
      " [-2.07648560e+00  4.87468451e-01]\n",
      " [ 1.19226877e-01  3.62537974e+00]\n",
      " [-3.13000578e+00 -1.56731551e-01]\n",
      " [-1.78109832e+00  1.22224904e+00]\n",
      " [ 3.99770982e+00  1.25164011e+00]\n",
      " [ 2.15604470e+00 -3.85824429e-01]\n",
      " [ 1.94741552e+00 -1.29638961e+00]\n",
      " [ 1.58757396e+00 -1.85989193e+00]\n",
      " [ 2.05369045e+00 -9.47185530e-01]\n",
      " [-1.97439392e+00  1.22718715e+00]\n",
      " [-3.47487306e+00  3.70421433e-01]\n",
      " [ 1.68094977e+00 -6.36507554e-01]\n",
      " [-9.51997101e-01  1.41989638e+00]\n",
      " [-1.23054341e+00  2.48848983e+00]\n",
      " [-6.96789478e-01  1.88359001e+00]\n",
      " [ 1.03842491e+00 -8.88815671e-01]\n",
      " [ 3.68706491e+00  4.30242556e-01]\n",
      " [-1.03002856e+00  1.27865865e+00]\n",
      " [-1.26658152e+00  1.97258945e+00]\n",
      " [-1.97638843e-02  2.54412654e+00]\n",
      " [ 8.60592217e-01 -2.46186096e+00]\n",
      " [ 1.18894987e+00 -8.80504418e-01]\n",
      " [-1.87575023e+00  1.56364771e+00]\n",
      " [ 2.46165485e+00 -2.00601784e+00]\n",
      " [-1.59848154e+00  1.10652913e+00]\n",
      " [ 3.98744618e+00 -1.36849117e-01]\n",
      " [-9.99508672e-01  2.50800932e+00]\n",
      " [ 2.17823407e+00 -1.06919332e+00]\n",
      " [ 4.37387107e-01  2.46038808e+00]\n",
      " [-1.46418280e+00  1.92088385e+00]\n",
      " [-1.50642737e+00  2.11125339e+00]\n",
      " [ 2.15843150e+00 -7.81996060e-01]\n",
      " [ 5.65369677e-01  3.79019610e+00]\n",
      " [-3.69047331e-03  2.72794750e+00]\n",
      " [-1.22189723e+00  1.92494695e+00]\n",
      " [-5.36952994e-01  2.27185396e+00]\n",
      " [ 2.13597636e+00 -1.03095228e+00]\n",
      " [ 2.91278930e+00 -1.22014572e+00]\n",
      " [-1.76664555e+00  1.49105594e+00]\n",
      " [ 2.15599603e+00 -1.04483586e+00]\n",
      " [ 1.53977368e+00 -1.39831137e+00]\n",
      " [-1.03192065e+00  2.22776465e+00]\n",
      " [ 2.57976714e+00 -9.22805001e-01]\n",
      " [ 1.45602953e+00 -1.01904114e+00]\n",
      " [-1.60698852e+00  9.81266740e-01]\n",
      " [ 7.77219278e-01  3.89661335e+00]\n",
      " [-1.97239779e+00  4.69511546e-01]\n",
      " [ 2.75279055e+00  2.67120713e-02]\n",
      " [ 3.56988241e+00  5.27423038e-01]\n",
      " [ 2.75783315e-01  3.55367903e+00]\n",
      " [ 5.98352316e-01  3.46380355e+00]\n",
      " [ 1.08352182e+00  3.74234076e+00]\n",
      " [-1.35893493e+00  2.04269421e+00]\n",
      " [ 1.00671761e+00 -8.95416111e-01]\n",
      " [-9.06280325e-01  2.15314091e+00]\n",
      " [-3.89297162e-01  1.89728583e+00]\n",
      " [-1.96062277e+00  2.31759741e+00]\n",
      " [ 2.20548127e+00 -8.33735998e-02]\n",
      " [ 2.50666130e+00 -1.04875504e+00]\n",
      " [ 4.88495790e-01  3.73343347e+00]\n",
      " [-3.77970230e-01  2.34496725e+00]\n",
      " [-3.71240616e-01  2.15602745e+00]\n",
      " [ 2.43630970e+00  2.66388843e-01]\n",
      " [-1.52762184e+00  1.64889382e+00]\n",
      " [ 2.57058557e+00 -3.18216758e-01]\n",
      " [ 3.80018635e+00  2.39083859e-01]\n",
      " [ 2.80157344e+00 -1.83905534e-01]\n",
      " [ 2.49976803e+00 -4.84164303e-01]\n",
      " [ 2.40204230e+00  9.43523973e-02]\n",
      " [-5.12748844e-01  1.43945252e+00]\n",
      " [ 2.82156680e+00 -2.38335869e-02]\n",
      " [ 2.88120325e-01  2.96758152e+00]\n",
      " [ 2.35349177e-01  2.30790100e+00]\n",
      " [-2.06609890e+00  1.75726095e+00]\n",
      " [ 3.75359794e+00 -1.20166732e-02]\n",
      " [ 2.98163968e+00 -3.92257345e-01]\n",
      " [ 3.08688312e-01  3.69472613e+00]\n",
      " [ 3.00061418e-01  2.83794023e+00]\n",
      " [-3.17641786e-01  3.34925204e+00]\n",
      " [-6.16562961e-01  2.64657019e+00]\n",
      " [-1.99259968e+00  1.52823007e+00]\n",
      " [ 1.78281415e-01 -3.63073110e+00]\n",
      " [-1.46776276e+00  1.39140514e+00]\n",
      " [ 1.20537304e+00 -2.14408437e+00]\n",
      " [ 2.56918586e+00  2.12406411e-01]\n",
      " [-1.60770945e+00  1.29136745e+00]\n",
      " [-1.27705618e+00  2.09163610e+00]\n",
      " [ 1.79240083e+00 -2.25848620e+00]\n",
      " [ 3.63463384e+00  8.26649805e-01]\n",
      " [-2.22624630e-01  2.70755905e+00]\n",
      " [ 1.21528645e+00  4.62867115e+00]\n",
      " [ 1.09307168e+00 -1.40306864e+00]\n",
      " [-1.99153536e+00  1.22347738e+00]\n",
      " [-2.69336749e+00 -6.13189111e-01]\n",
      " [-6.94267835e-01  2.05600741e+00]\n",
      " [ 1.53578871e+00 -1.48077671e+00]\n",
      " [-2.98577562e+00  1.10178815e+00]\n",
      " [ 1.76601743e+00 -5.17359929e-01]\n",
      " [ 4.02583151e-01 -1.24784007e+00]\n",
      " [ 2.66532883e+00 -8.59586868e-01]\n",
      " [-3.53448569e+00 -5.81239759e-01]\n",
      " [ 2.30117990e+00 -2.90851319e-01]\n",
      " [-5.69041796e-01  1.92015645e+00]\n",
      " [-6.02323788e-02  2.42558571e+00]\n",
      " [ 1.99714260e+00 -7.46863553e-01]\n",
      " [ 3.28429301e+00 -5.14541559e-01]\n",
      " [-1.02691331e+00  1.43290911e+00]\n",
      " [ 2.41142257e+00 -1.21344472e+00]\n",
      " [ 1.99620094e+00 -1.51071019e+00]\n",
      " [ 1.36445671e+00 -1.36824948e+00]\n",
      " [-1.55687772e-01  2.87716538e+00]\n",
      " [ 3.00374604e+00 -5.57735421e-01]\n",
      " [-2.85048086e+00 -5.20893727e-01]\n",
      " [ 1.45521972e+00 -1.34780386e+00]\n",
      " [ 2.48267455e+00 -1.06055410e+00]\n",
      " [-3.29244287e+00  6.43916901e-01]\n",
      " [-7.41133059e-01  2.65121598e+00]\n",
      " [-1.78423050e+00  1.26526558e+00]\n",
      " [-7.43536346e-01  1.78969192e+00]\n",
      " [-1.02829008e+00  2.38985937e-01]\n",
      " [ 2.56168968e+00 -9.69756632e-01]\n",
      " [-9.78549936e-01  3.41889078e-01]\n",
      " [ 5.23186072e-01  3.80838207e+00]\n",
      " [ 1.17377524e+00 -2.22554200e+00]\n",
      " [ 2.65868801e+00 -8.87782023e-01]\n",
      " [ 3.97475019e+00  1.52122485e+00]\n",
      " [ 1.86302626e-01 -3.00771309e+00]\n",
      " [-8.29308952e-01  3.14238122e+00]\n",
      " [ 3.94345251e-01  3.10241351e+00]\n",
      " [-7.22196357e-01  2.31332572e+00]\n",
      " [-1.66380709e+00  1.33857783e+00]\n",
      " [ 2.73740093e+00 -7.78550942e-01]\n",
      " [ 2.70084367e+00 -2.78406254e-01]\n",
      " [-5.73371318e-01  2.43768347e+00]\n",
      " [ 1.59515499e+00 -1.14372258e+00]\n",
      " [-1.87419420e+00  1.70906051e+00]\n",
      " [ 2.52838664e+00 -7.94350822e-01]\n",
      " [ 1.19051713e+00 -1.97872465e+00]\n",
      " [ 1.38620926e+00 -1.01343456e+00]\n",
      " [-2.12626741e-01  2.46214314e+00]\n",
      " [-2.36031478e+00 -2.12712451e-01]\n",
      " [-1.09595569e+00  8.81391515e-01]\n",
      " [-1.03601260e+00  2.06576731e+00]\n",
      " [-2.57440562e-01  2.49529881e+00]\n",
      " [ 1.87114563e+00 -1.94127658e+00]\n",
      " [-2.06592156e+00  1.30230961e+00]\n",
      " [ 3.12139823e-02  3.06420608e+00]\n",
      " [ 1.14273301e+00 -1.29086765e+00]\n",
      " [ 1.47005378e+00 -8.45670304e-01]\n",
      " [ 3.09916323e+00 -4.69377712e-01]\n",
      " [ 7.81673591e-01 -2.41002258e+00]\n",
      " [ 1.96719085e-01  2.99920812e+00]\n",
      " [-1.53531181e-01  1.82412078e+00]\n",
      " [-1.10871442e+00  2.16218644e+00]\n",
      " [ 1.81402421e+00 -1.12505681e+00]\n",
      " [-1.08653152e+00  9.00238252e-01]\n",
      " [ 2.85774215e+00  4.69608816e-01]\n",
      " [ 2.01038460e+00 -1.12402677e+00]\n",
      " [-6.29747850e-01  2.96682261e+00]\n",
      " [-1.87030384e+00  8.42949799e-01]\n",
      " [-5.01797790e-01  7.44660583e-01]\n",
      " [ 1.42062857e-01  3.31096066e+00]\n",
      " [ 2.22723283e+00 -8.42263142e-01]\n",
      " [ 2.53006043e+00 -2.63150265e-01]\n",
      " [-1.02637206e+00  2.11308923e+00]\n",
      " [ 2.37832028e+00 -1.74843901e+00]\n",
      " [ 1.65327168e+00 -4.81783879e-01]\n",
      " [ 1.43527880e+00 -2.07369216e+00]\n",
      " [ 1.03397960e+00 -2.11415148e+00]\n",
      " [ 3.11366621e+00 -1.07825054e+00]\n",
      " [ 3.52040615e+00  1.47220925e-01]\n",
      " [-1.96378474e+00  1.23684168e+00]\n",
      " [ 1.09164925e+00  4.25070196e+00]\n",
      " [-9.84217610e-01  1.89739693e+00]\n",
      " [ 3.20196495e+00 -2.45262780e-02]\n",
      " [ 3.40980745e-01 -4.07908535e+00]\n",
      " [ 2.56494873e-02  2.76631129e+00]\n",
      " [ 5.01240191e-01 -3.51756877e+00]\n",
      " [ 2.51343386e+00 -8.54192601e-01]\n",
      " [-2.63714503e+00  1.78012027e+00]\n",
      " [ 1.28107479e+00 -2.13209644e-01]\n",
      " [ 2.75242509e+00 -4.31238160e-01]\n",
      " [-3.21207263e-02  2.44519365e+00]\n",
      " [ 1.72206123e+00 -7.92274647e-01]\n",
      " [ 2.73481741e+00 -2.96858554e-01]\n",
      " [-1.56406257e+00  2.86321469e+00]\n",
      " [-1.21773886e+00  2.42747501e+00]\n",
      " [ 1.24251698e+00 -9.36666250e-01]\n",
      " [-1.11362696e+00  8.93023580e-01]\n",
      " [ 2.90777324e+00 -2.98198217e-01]\n",
      " [ 2.09038183e+00 -8.97424817e-01]\n",
      " [ 2.81410717e+00 -8.51160223e-01]\n",
      " [-4.40119046e-01  2.90093209e+00]\n",
      " [ 2.00693738e+00 -9.85790073e-01]\n",
      " [ 2.34412574e+00 -4.87838432e-01]\n",
      " [ 3.88638073e+00 -3.58686842e-01]\n",
      " [ 2.49429941e+00 -5.53011414e-01]\n",
      " [ 2.30584953e+00 -8.09412196e-01]\n",
      " [-1.01262257e-01  3.51183805e+00]\n",
      " [ 2.46665690e+00 -5.19839400e-01]\n",
      " [-1.39671937e+00  1.69312840e+00]\n",
      " [ 6.78049440e-01 -2.19208684e+00]\n",
      " [ 1.19550297e+00 -1.14170124e+00]\n",
      " [ 2.05014131e+00 -3.56556878e-01]\n",
      " [-5.01704405e-01  3.72754957e+00]\n",
      " [-2.69645762e-01  2.47909748e+00]\n",
      " [-2.91877408e+00  1.01053000e+00]\n",
      " [ 4.06506577e+00  2.40822679e-01]\n",
      " [ 3.30008676e+00 -6.74898717e-01]\n",
      " [-1.43168929e+00  1.49488013e+00]\n",
      " [-9.07603154e-01  2.02453103e+00]\n",
      " [ 3.02667361e+00  5.74160591e-01]\n",
      " [ 7.91720923e-01 -1.34817210e+00]\n",
      " [-1.08205095e+00  2.47462307e+00]\n",
      " [ 1.71360029e+00 -1.38302274e+00]\n",
      " [ 2.10579726e+00 -1.53724472e+00]\n",
      " [-3.70337574e-01  2.64979384e+00]\n",
      " [ 4.00372673e-01  2.46950248e+00]\n",
      " [ 1.42036126e+00 -1.42396121e+00]\n",
      " [-2.35253112e+00  5.17715398e-01]\n",
      " [-1.24751958e+00  2.00672082e+00]\n",
      " [ 1.74948383e+00 -2.90283491e-01]\n",
      " [-1.65940413e+00  1.56173677e+00]\n",
      " [-2.05735708e+00  1.59371720e+00]\n",
      " [-3.05823847e+00  5.14794484e-01]\n",
      " [ 2.86944472e+00 -8.79816865e-01]\n",
      " [ 2.31777590e+00 -6.94489123e-02]\n",
      " [ 2.26984975e+00 -1.41136751e+00]\n",
      " [ 2.74365309e+00 -1.03186148e+00]\n",
      " [ 1.67681476e+00 -7.74671336e-01]\n",
      " [ 3.25187589e+00  5.89999541e-02]\n",
      " [ 6.64710835e-01 -1.44205469e+00]\n",
      " [ 1.34573151e+00 -1.37659334e+00]\n",
      " [-1.50185568e-01  3.34388749e+00]\n",
      " [ 8.77442098e-02  2.86642059e+00]\n",
      " [ 1.34670812e+00 -7.74719237e-01]\n",
      " [-1.57470303e+00  2.55478064e+00]\n",
      " [ 1.28473978e+00 -8.07655295e-01]\n",
      " [-2.58411905e-01  2.00830617e+00]\n",
      " [ 3.13049119e-01 -2.82240177e+00]\n",
      " [-1.73246402e+00  1.34911194e+00]\n",
      " [ 2.68225498e+00 -1.65457625e-01]\n",
      " [ 3.33552790e+00 -1.59102212e+00]\n",
      " [-2.66091933e+00  8.78281862e-01]\n",
      " [ 2.91973767e+00 -4.16479425e-01]\n",
      " [ 2.42340322e+00  4.86925716e-01]\n",
      " [-1.12890544e+00  1.26102035e+00]\n",
      " [ 2.46463255e+00 -2.36692124e-01]\n",
      " [-4.87252366e-01  3.21921076e+00]\n",
      " [-1.42059019e-01  2.11124362e+00]\n",
      " [ 2.83308619e+00  3.29536916e-01]\n",
      " [-1.23452191e+00  1.70340233e+00]\n",
      " [ 9.47990645e-01  4.02623925e+00]\n",
      " [-7.12452053e-01  2.59206357e+00]\n",
      " [ 2.51904564e+00 -1.61572459e+00]\n",
      " [ 1.46316117e+00  3.81647106e+00]\n",
      " [ 2.25701854e+00 -9.84595570e-01]\n",
      " [-2.16365424e-01  2.45400551e+00]\n",
      " [ 2.68917783e+00 -3.85119596e-01]\n",
      " [ 2.63050568e+00 -7.80171688e-01]\n",
      " [ 1.07907137e+00 -2.32057966e+00]\n",
      " [-2.43460308e+00  1.24820767e+00]\n",
      " [-2.84866758e-01  3.76382716e+00]\n",
      " [-2.17474619e+00  1.54695000e+00]\n",
      " [-1.79508154e-01  3.39022454e+00]\n",
      " [ 8.99637951e-01  3.59734065e+00]\n",
      " [ 1.82516149e+00 -8.41531780e-01]\n",
      " [-2.45429196e+00  1.36664921e+00]\n",
      " [ 2.79104935e+00 -4.92577630e-02]\n",
      " [ 8.00341682e-01 -2.45920655e+00]\n",
      " [-6.32919648e-01  2.21942307e+00]\n",
      " [-1.44217612e+00  1.44932846e+00]\n",
      " [-1.47706687e+00  2.60654621e+00]\n",
      " [-3.55952028e+00  3.78209935e-02]\n",
      " [-1.03368808e+00  1.76435089e+00]\n",
      " [ 1.99299116e+00 -1.05105404e+00]\n",
      " [-6.40692482e-01  2.47399601e+00]\n",
      " [ 1.98902294e+00 -8.47350414e-01]\n",
      " [ 2.45780120e+00 -1.53325327e+00]\n",
      " [-1.00408384e+00  2.76905831e+00]\n",
      " [-1.31224540e+00  1.32359431e+00]\n",
      " [ 3.64650383e-02  2.26861507e+00]\n",
      " [-1.04126693e+00  1.70462449e+00]\n",
      " [ 8.50494201e-01 -2.04040443e+00]\n",
      " [-1.71955579e+00  1.12267275e+00]\n",
      " [-1.52496818e+00  1.53095485e+00]\n",
      " [ 3.60284402e+00  1.70598757e-01]\n",
      " [ 1.67552825e+00 -1.44664743e+00]\n",
      " [ 2.67469298e+00 -6.22964411e-01]\n",
      " [-2.29374113e-01  1.90103034e+00]\n",
      " [ 2.27035200e-01  2.95013349e+00]\n",
      " [-1.79135526e+00  1.24591256e+00]\n",
      " [-7.86985150e-01  3.42104600e+00]\n",
      " [ 1.21732779e+00 -3.02963561e-01]\n",
      " [ 2.01065812e+00 -1.22913585e+00]\n",
      " [ 9.79230393e-01 -1.76449604e+00]\n",
      " [ 1.53466373e+00 -1.13643371e+00]\n",
      " [-1.58538300e+00  9.45230629e-01]\n",
      " [ 4.41723194e-01  3.48173359e+00]\n",
      " [-1.85346966e+00  1.05080363e+00]\n",
      " [ 2.65071067e+00 -9.47349274e-01]\n",
      " [ 1.04664333e+00 -2.56342734e+00]\n",
      " [-6.64707546e-01  2.39496564e+00]\n",
      " [-5.74065014e-01  2.27453830e+00]\n",
      " [ 2.23162545e+00  3.84417076e-01]\n",
      " [ 2.34433267e+00 -8.19838226e-01]\n",
      " [-4.82333787e-01  2.03605625e+00]\n",
      " [-2.46267867e+00 -8.07634741e-02]\n",
      " [-2.54738211e+00  1.21306967e+00]\n",
      " [-1.17307052e+00  1.79492499e+00]\n",
      " [-7.91893978e-02  2.21505538e+00]\n",
      " [-7.35868118e-01  2.32573316e+00]\n",
      " [ 4.12751644e-01 -2.09026238e+00]\n",
      " [ 2.49992329e+00 -1.07755871e+00]\n",
      " [-1.56151690e+00  1.88535921e+00]\n",
      " [ 2.55107739e+00 -1.13452757e+00]\n",
      " [ 6.68319643e-01 -1.49110721e+00]\n",
      " [-2.61549146e+00  4.88375293e-01]\n",
      " [ 1.79600164e-01  2.27026099e+00]\n",
      " [-3.58098765e-01  2.49142632e+00]\n",
      " [ 1.00907041e+00 -1.44233297e+00]\n",
      " [-7.19383440e-01  2.37950033e+00]\n",
      " [ 1.55554594e+00 -1.51796418e+00]\n",
      " [-5.45254415e-01  2.62544809e+00]\n",
      " [ 6.70989412e-01 -5.83841181e-01]\n",
      " [-2.86026191e+00  5.72654606e-01]\n",
      " [ 9.15904777e-03  2.64306238e+00]\n",
      " [-2.52029691e-01  2.44374205e+00]\n",
      " [-2.25044128e+00  1.16398389e+00]\n",
      " [-1.79448774e+00  1.13271191e+00]\n",
      " [-1.17196563e+00  2.99761144e+00]\n",
      " [ 2.00639182e+00 -3.20305422e-01]\n",
      " [ 1.27787649e+00 -2.05456781e+00]\n",
      " [ 1.40960484e-01  1.74864676e+00]\n",
      " [ 3.13691841e-01  1.90748822e+00]\n",
      " [ 1.84369341e+00 -2.00474362e+00]\n",
      " [ 5.70732833e-01 -2.59280286e+00]\n",
      " [ 2.14327955e+00 -1.72829696e+00]\n",
      " [ 5.06984244e-01  3.19498136e+00]\n",
      " [-5.14040279e-01  2.03708834e+00]\n",
      " [-4.93047871e-01  2.32963975e+00]\n",
      " [ 3.33889863e+00  6.02834223e-01]\n",
      " [ 1.25820207e-01  2.25090402e+00]\n",
      " [ 1.17922837e+00 -7.18611120e-01]\n",
      " [-2.48347312e-01  2.52425130e+00]\n",
      " [-1.10375132e+00  2.13604529e+00]\n",
      " [ 1.62980998e-02  2.79748001e+00]\n",
      " [ 3.21868697e+00 -6.67602876e-01]\n",
      " [-1.92838580e+00  1.12698647e+00]\n",
      " [ 3.78218715e+00  1.02054480e+00]\n",
      " [-1.72731635e+00  5.89674989e-01]\n",
      " [ 1.88965323e+00 -1.34422956e+00]\n",
      " [ 4.81516717e+00  1.08534488e+00]\n",
      " [-1.59653339e+00  2.32322993e+00]\n",
      " [ 2.10157755e+00  1.65318260e-01]\n",
      " [ 1.37648523e+00 -9.92881987e-01]\n",
      " [ 4.13450350e+00  5.57208533e-01]\n",
      " [ 3.30309335e+00  2.76909177e-01]\n",
      " [ 2.06497072e+00 -6.53337854e-01]\n",
      " [ 1.25656319e+00 -2.69654629e+00]\n",
      " [ 1.46837064e+00 -1.14147604e+00]\n",
      " [ 2.71714245e+00  9.80760821e-01]\n",
      " [ 1.94856855e+00 -9.88530927e-01]\n",
      " [ 1.50063060e+00 -1.40548164e+00]\n",
      " [ 1.66986100e+00 -2.62498015e+00]\n",
      " [-7.38071324e-01  2.49597257e+00]\n",
      " [-1.48649411e+00  1.22212111e+00]\n",
      " [-1.15875379e+00  2.03254623e+00]\n",
      " [-2.22752761e+00  1.08617093e+00]\n",
      " [ 2.82851195e+00  6.35572859e-01]\n",
      " [-7.79768671e-01  2.03189184e+00]\n",
      " [-1.20311996e+00  2.10920984e+00]\n",
      " [-1.70237362e+00  2.13650647e+00]\n",
      " [-1.91192573e+00  1.26318344e+00]\n",
      " [-1.00944756e+00  1.29523033e+00]\n",
      " [ 7.15879717e-01 -1.41451665e+00]\n",
      " [ 3.47775866e+00 -2.43364801e-01]\n",
      " [ 2.81099346e+00 -6.70983068e-02]\n",
      " [-1.76046080e+00  1.31649324e+00]\n",
      " [ 3.11776321e+00 -1.58460687e-01]\n",
      " [ 2.07897140e+00  6.06961859e-02]\n",
      " [-2.34370202e-01  3.19670802e+00]\n",
      " [-1.83999024e+00  1.38534913e+00]\n",
      " [ 2.01124972e+00 -7.93478851e-01]\n",
      " [ 1.12270765e+00 -1.89948849e+00]\n",
      " [ 4.00197345e-01  3.69288654e+00]\n",
      " [ 1.33097722e+00  4.71444736e+00]\n",
      " [ 1.67209737e+00 -1.99907854e+00]\n",
      " [ 2.50525998e+00 -7.75446608e-01]\n",
      " [ 7.32960556e-01 -2.13327699e+00]\n",
      " [-2.22729008e+00  9.73162033e-01]\n",
      " [-1.33286769e+00  9.15177500e-01]\n",
      " [-1.52660272e+00  1.68443145e+00]\n",
      " [-1.78283255e-01  3.02082463e+00]\n",
      " [ 1.04332199e+00 -1.58526257e+00]\n",
      " [-9.78696997e-01  1.45783883e+00]\n",
      " [-1.16513883e+00  1.40174924e+00]\n",
      " [-9.58084065e-03  2.94117949e+00]\n",
      " [ 1.52506018e+00 -1.36186128e+00]\n",
      " [ 2.55065361e+00 -9.78358468e-02]\n",
      " [-4.17663593e-01  2.54908993e+00]\n",
      " [ 1.75434389e+00 -7.26153381e-01]\n",
      " [-7.03575436e-01  2.39553278e+00]\n",
      " [-2.72835142e-01  2.97186348e+00]\n",
      " [ 5.24785748e-01 -2.22470710e+00]\n",
      " [-1.76320579e+00 -7.23792667e-02]\n",
      " [ 1.47905484e+00 -1.76254884e+00]\n",
      " [ 6.91658195e-01  2.83991926e+00]\n",
      " [ 9.82995796e-01 -6.09193398e-01]\n",
      " [-3.01141280e+00  1.18765280e+00]\n",
      " [-1.84962363e+00  1.05233938e+00]\n",
      " [ 1.64375738e+00 -1.07181971e+00]\n",
      " [-8.69270953e-01  1.94928566e+00]\n",
      " [ 2.73626473e-01  4.57932640e+00]\n",
      " [-2.83520396e-01  2.48706195e+00]\n",
      " [-2.93756476e-01  2.61160633e+00]\n",
      " [ 8.17476452e-01 -2.14150494e+00]\n",
      " [-1.04460808e-01  3.42956123e+00]\n",
      " [ 1.49215226e+00 -5.15360816e-01]\n",
      " [ 2.75808474e+00 -1.09787353e+00]\n",
      " [ 1.70466022e+00 -1.38677186e+00]\n",
      " [ 3.87606107e+00  3.13826215e-01]\n",
      " [-2.97889968e+00  2.67817001e-01]\n",
      " [ 1.78641748e+00 -2.83215302e+00]\n",
      " [ 3.51914096e+00 -1.27358871e+00]\n",
      " [ 1.06056690e-01 -2.92214793e+00]\n",
      " [ 1.45353052e+00 -1.88744690e+00]\n",
      " [ 2.82061179e+00 -2.87985590e-02]\n",
      " [-1.48113223e+00  1.38712807e+00]\n",
      " [ 2.23281686e+00  5.36466096e-02]\n",
      " [ 4.23642198e+00  1.24928245e+00]\n",
      " [ 1.33370272e+00 -2.29635748e+00]\n",
      " [ 3.11792569e+00 -5.89356869e-01]\n",
      " [ 4.06032004e+00  6.42967865e-01]\n",
      " [-5.73580044e-02  3.43437007e+00]\n",
      " [ 3.63716050e+00  5.66030764e-01]\n",
      " [-1.09046373e-01  1.99482352e+00]\n",
      " [ 2.90876329e+00 -3.84909651e-01]\n",
      " [-1.21397208e+00  2.46765295e+00]\n",
      " [-2.06139126e+00  8.24814280e-01]\n",
      " [-1.99505148e-01  2.18142849e+00]\n",
      " [ 1.76248711e+00 -7.82123555e-01]\n",
      " [-1.13769654e+00  3.08264668e+00]\n",
      " [ 1.17277691e+00 -1.93810291e+00]\n",
      " [ 2.17965959e+00 -1.58470950e+00]\n",
      " [-1.61844165e+00  1.80967258e+00]\n",
      " [ 4.43793785e-01  2.54569559e+00]\n",
      " [ 1.04672524e+00 -1.99899308e+00]\n",
      " [ 2.93889877e+00 -1.74050891e-01]\n",
      " [ 1.30622360e+00 -1.67821032e+00]\n",
      " [ 2.30833046e+00 -8.82829052e-01]\n",
      " [ 1.66745754e+00 -1.08394764e+00]\n",
      " [ 3.39914935e+00  2.88901434e-02]\n",
      " [ 1.62020196e-01  2.66040873e+00]\n",
      " [ 2.05134476e+00 -1.51073129e+00]\n",
      " [ 2.62947558e+00 -2.46210601e-01]\n",
      " [ 1.59113450e+00 -1.28850191e+00]\n",
      " [ 4.68610353e-01  2.21584467e+00]\n",
      " [ 2.14811940e+00 -2.00911004e+00]\n",
      " [ 1.55545312e+00 -1.67467139e+00]\n",
      " [-6.10690435e-01  2.81712354e+00]\n",
      " [-9.79919738e-01  2.14296191e+00]\n",
      " [ 4.22222154e-01 -2.24807641e+00]\n",
      " [-2.80006782e+00  4.53013823e-01]\n",
      " [ 2.70709974e+00  5.30195126e-01]\n",
      " [ 2.51444885e+00 -6.22624163e-01]\n",
      " [-7.86332996e-01  3.18955512e+00]\n",
      " [-3.33521045e-01 -3.58905350e+00]\n",
      " [-1.69044419e+00  5.28583390e-01]\n",
      " [-3.91383359e-01  3.37461218e+00]\n",
      " [ 2.62997884e+00 -1.42033994e+00]\n",
      " [ 1.67483664e+00 -1.55932524e+00]\n",
      " [-2.96409458e+00  6.64815650e-01]\n",
      " [-9.55963270e-01  1.07243091e+00]\n",
      " [ 2.48073663e+00 -1.35309013e+00]\n",
      " [-1.76845618e-01  1.76315650e+00]\n",
      " [ 3.51958499e+00  3.79236842e-02]\n",
      " [ 1.68340741e+00 -1.10812071e+00]\n",
      " [-1.28587103e+00  3.23989864e+00]\n",
      " [ 4.04462479e+00  5.30814218e-02]\n",
      " [-6.72808510e-01  1.89700902e+00]\n",
      " [ 1.64773650e+00 -1.37392022e+00]\n",
      " [-8.75886327e-01  3.17370576e+00]\n",
      " [ 2.45372019e+00 -1.16225960e-01]\n",
      " [ 2.49174927e+00  2.78093496e-01]\n",
      " [ 3.77128579e-01 -2.70698068e+00]\n",
      " [ 1.54634728e+00 -1.21380311e+00]\n",
      " [ 2.30299287e+00 -4.41960241e-01]\n",
      " [-2.58876732e-01  3.25989355e+00]\n",
      " [ 1.82068657e-03  4.23559938e+00]\n",
      " [ 1.29767058e+00 -6.45532254e-01]\n",
      " [ 2.16044089e+00 -1.49708407e-01]\n",
      " [ 1.66573303e+00 -2.03180611e+00]\n",
      " [ 1.24814437e+00 -2.16798041e+00]\n",
      " [-2.61058479e+00  7.39246641e-01]\n",
      " [ 3.17316787e-01  2.22551981e+00]\n",
      " [-1.35919625e+00  8.92051885e-01]\n",
      " [ 1.10298263e+00 -5.48525150e-01]]\n",
      "sample1_y:\n",
      " [-1  1  1  1  1  1 -1 -1 -1 -1 -1  1  1 -1  1  1  1 -1 -1  1  1  1 -1 -1\n",
      "  1 -1  1 -1  1 -1  1  1  1 -1  1  1  1  1 -1 -1  1 -1 -1  1 -1 -1  1  1\n",
      "  1 -1 -1  1  1  1  1 -1  1  1  1 -1 -1  1  1  1 -1  1 -1 -1 -1 -1 -1  1\n",
      " -1  1  1  1 -1 -1  1  1  1  1  1 -1  1 -1 -1  1  1 -1 -1  1  1 -1  1  1\n",
      "  1 -1  1 -1 -1 -1  1 -1  1  1 -1 -1  1 -1 -1 -1  1 -1  1 -1 -1  1  1  1\n",
      "  1  1 -1  1  1 -1 -1 -1 -1  1  1  1  1 -1 -1  1 -1  1 -1 -1 -1  1  1  1\n",
      "  1  1 -1  1  1 -1 -1 -1 -1  1  1  1 -1  1 -1 -1  1  1  1  1 -1 -1  1 -1\n",
      " -1 -1 -1 -1 -1  1  1  1 -1 -1  1 -1 -1  1 -1 -1  1 -1 -1  1  1 -1  1 -1\n",
      " -1 -1  1 -1 -1 -1 -1 -1  1 -1  1 -1 -1 -1  1  1  1 -1 -1  1  1 -1 -1  1\n",
      " -1 -1  1  1 -1  1  1 -1  1  1  1 -1 -1 -1 -1 -1 -1 -1 -1  1  1 -1  1 -1\n",
      "  1 -1  1 -1 -1  1 -1 -1  1 -1  1  1 -1  1  1  1 -1  1 -1  1 -1 -1 -1  1\n",
      "  1  1  1  1 -1  1 -1 -1  1  1  1  1  1 -1  1 -1 -1  1  1  1  1 -1  1  1\n",
      " -1 -1 -1  1  1  1  1 -1 -1 -1 -1  1  1  1 -1 -1  1  1 -1 -1  1  1  1  1\n",
      "  1  1 -1 -1  1 -1 -1  1  1  1 -1  1 -1  1 -1  1  1  1  1  1  1 -1 -1  1\n",
      "  1 -1 -1 -1  1  1  1 -1  1 -1  1  1  1 -1  1 -1  1 -1 -1  1 -1 -1 -1 -1\n",
      " -1 -1 -1 -1 -1 -1 -1  1  1  1  1 -1  1  1  1  1  1 -1 -1 -1  1 -1 -1  1\n",
      "  1 -1 -1  1  1 -1 -1 -1  1  1  1  1 -1  1  1  1 -1 -1  1 -1  1  1 -1  1\n",
      " -1  1 -1  1  1 -1  1  1  1  1 -1  1 -1 -1 -1 -1  1 -1 -1 -1 -1 -1  1 -1\n",
      " -1 -1 -1 -1  1 -1  1 -1  1  1  1 -1  1 -1 -1  1  1 -1 -1 -1 -1 -1 -1  1\n",
      " -1 -1 -1  1 -1 -1  1  1 -1  1 -1 -1  1 -1  1  1 -1 -1  1  1 -1  1 -1 -1\n",
      "  1 -1  1 -1  1 -1 -1 -1 -1 -1  1  1 -1 -1 -1 -1  1  1  1 -1]\n"
     ]
    }
   ],
   "source": [
    "print('sample1_X:\\n',sample1_X)\n",
    "print('sample1_y:\\n',sample1_y)"
   ]
  },
  {
   "cell_type": "markdown",
   "metadata": {
    "id": "gAAU7dqFZnqO"
   },
   "source": [
    "* Simple Data Set 2 Creation Code"
   ]
  },
  {
   "cell_type": "code",
   "execution_count": null,
   "metadata": {
    "id": "TbRkJZmkZnqO"
   },
   "outputs": [],
   "source": [
    "X = np.array([[-0.44699 , -2.8073  ],[-1.4621  , -2.4586  ],\n",
    "              [ 0.10645 ,  1.9242  ],[-3.5944  , -4.0112  ],\n",
    "              [-0.9888  ,  4.5718  ],[-3.1625  , -3.9606  ],\n",
    "              [ 0.56421 ,  0.72888 ],[-0.60216 ,  8.4636  ],\n",
    "              [-0.61251 , -0.75345 ],[-0.73535 , -2.2718  ],\n",
    "              [-0.80647 , -2.2135  ],[ 0.86291 ,  2.3946  ],\n",
    "              [-3.1108  ,  0.15394 ],[-2.9362  ,  2.5462  ],\n",
    "              [-0.57242 , -2.9915  ],[ 1.4771  ,  3.4896  ],\n",
    "              [ 0.58619 ,  0.37158 ],[ 0.6017  ,  4.3439  ],\n",
    "              [-2.1086  ,  8.3428  ],[-4.1013  , -4.353   ],\n",
    "              [-1.9948  , -1.3927  ],[ 0.35084 , -0.031994],\n",
    "              [ 0.96765 ,  7.8929  ],[-1.281   , 15.6824  ],\n",
    "              [ 0.96765 , 10.083   ],[ 1.3763  ,  1.3347  ],\n",
    "              [-2.234   , -2.5323  ],[-2.9452  , -1.8219  ],\n",
    "              [ 0.14654 , -0.28733 ],[ 0.5461  ,  5.8245  ],\n",
    "              [-0.65259 ,  9.3444  ],[ 0.59912 ,  5.3524  ],\n",
    "              [ 0.50214 , -0.31818 ],[-3.0603  , -3.6461  ],\n",
    "              [-6.6797  ,  0.67661 ],[-2.353   , -0.72261 ],\n",
    "              [ 1.1319  ,  2.4023  ],[-0.12243 ,  9.0162  ],\n",
    "              [-2.5677  , 13.1779  ],[ 0.057313,  5.4681  ]])\n",
    "\n",
    "y = np.array([0, 0, 0, 0, 0, 0, 0, 0, 0, 0, 0, 0, 0, 0, 0, 0, 0, 0, 0, 0, 1, 1,\n",
    "              1, 1, 1, 1, 1, 1, 1, 1, 1, 1, 1, 1, 1, 1, 1, 1, 1, 1])\n",
    "\n",
    "sample2_X = X\n",
    "sample2_y = y"
   ]
  },
  {
   "cell_type": "code",
   "execution_count": null,
   "metadata": {
    "id": "nwjHNz5zZnqO"
   },
   "outputs": [],
   "source": [
    "from matplotlib.colors import ListedColormap\n",
    "import matplotlib.patches as mpatches\n",
    "\n",
    "def decision_region(X,y,model,step=0.01,\n",
    "                    title='decision region', xlabel='xlabel', ylabel='ylabel',\n",
    "                    target_names=['versicolor', 'virginica']\n",
    "                   ):\n",
    "    \n",
    "    # setting\n",
    "    scatter_color = ['red', 'blue']\n",
    "    contourf_color = ['pink', 'skyblue']\n",
    "    n_class = 2\n",
    "    \n",
    "    # pred\n",
    "    mesh_f0, mesh_f1  = np.meshgrid(np.arange(np.min(X[:,0])-0.5, np.max(X[:,0])+0.5, step), np.arange(np.min(X[:,1])-0.5, np.max(X[:,1])+0.5, step))\n",
    "    mesh = np.c_[np.ravel(mesh_f0),np.ravel(mesh_f1)]\n",
    "    y_pred = model.predict(mesh).reshape(mesh_f0.shape)\n",
    "    \n",
    "    # plot\n",
    "    plt.title(title)\n",
    "    plt.xlabel(xlabel)\n",
    "    plt.ylabel(ylabel)\n",
    "    plt.contourf(mesh_f0, mesh_f1, y_pred, n_class-1, cmap=ListedColormap(contourf_color))\n",
    "    plt.contour(mesh_f0, mesh_f1, y_pred, n_class-1, colors='y', linewidths=3, alpha=0.5)\n",
    "    for i, target in enumerate(set(y)):\n",
    "        plt.scatter(X[y==target][:, 0], X[y==target][:, 1], s=80, color=scatter_color[i], label=target_names[i], marker='o')\n",
    "    patches = [mpatches.Patch(color=scatter_color[i], label=target_names[i]) for i in range(n_class)]\n",
    "    plt.legend(handles=patches)\n",
    "    plt.legend()\n",
    "    plt.show()"
   ]
  },
  {
   "cell_type": "markdown",
   "metadata": {
    "id": "PW2Op1CcZnqO"
   },
   "source": [
    "###[Problem 2]Create a code to solve a classification problem.\n",
    "Create a code to train and estimate three different datasets using the above three methods."
   ]
  },
  {
   "cell_type": "code",
   "execution_count": null,
   "metadata": {
    "colab": {
     "base_uri": "https://localhost:8080/"
    },
    "id": "kR8W8jyoZnqP",
    "outputId": "bb422dc6-ac19-40a3-c732-8141ca8572ac"
   },
   "outputs": [
    {
     "name": "stdout",
     "output_type": "stream",
     "text": [
      "X_train.shape: (80, 4)\n",
      "y_train.shape: (80,)\n",
      "X_test.shape: (20, 4)\n",
      "y_test.shape: (20,)\n"
     ]
    }
   ],
   "source": [
    "# Train and estimate on Iris dataset\n",
    "X = iris_X\n",
    "y = iris_y\n",
    "\n",
    "X_train, X_test, y_train, y_test = \\\n",
    "scratch_train_test_split(X,y,train_size=0.8,random_state=0)\n",
    "\n",
    "print('X_train.shape:',X_train.shape)\n",
    "print('y_train.shape:',y_train.shape)\n",
    "print('X_test.shape:',X_test.shape)\n",
    "print('y_test.shape:',y_test.shape)"
   ]
  },
  {
   "cell_type": "code",
   "execution_count": null,
   "metadata": {
    "colab": {
     "base_uri": "https://localhost:8080/",
     "height": 854
    },
    "id": "RDDwFxwuZnqP",
    "outputId": "4b1d5958-6eae-4748-9264-5e9313d42e59"
   },
   "outputs": [
    {
     "data": {
      "image/png": "[encoded data removed]",
      "text/plain": [
       "<Figure size 900x900 with 30 Axes>"
      ]
     },
     "metadata": {
      "needs_background": "light",
      "tags": []
     },
     "output_type": "display_data"
    }
   ],
   "source": [
    "sns.pairplot(iris,palette='tab10')\n",
    "plt.show()"
   ]
  },
  {
   "cell_type": "code",
   "execution_count": null,
   "metadata": {
    "id": "ALXcRm0RZnqP"
   },
   "outputs": [],
   "source": [
    "# Learning, estimation\n",
    "# logistic regression\n",
    "from sklearn.linear_model import SGDClassifier\n",
    "\n",
    "clf = SGDClassifier(loss=\"log\")\n",
    "\n",
    "clf.fit(X_train,y_train)\n",
    "\n",
    "y_pred = clf.predict(X_test)"
   ]
  },
  {
   "cell_type": "code",
   "execution_count": null,
   "metadata": {
    "colab": {
     "base_uri": "https://localhost:8080/"
    },
    "id": "iZ79niqdZnqP",
    "outputId": "02b99b82-ab9a-44e7-9a60-4bedd9fd80dd"
   },
   "outputs": [
    {
     "name": "stdout",
     "output_type": "stream",
     "text": [
      "accuracy 1.0\n",
      "precision 1.0\n",
      "recall 1.0\n",
      "f1 1.0\n"
     ]
    }
   ],
   "source": [
    "# Evaluation index\n",
    "from sklearn.metrics import accuracy_score\n",
    "from sklearn.metrics import precision_score\n",
    "from sklearn.metrics import recall_score\n",
    "from sklearn.metrics import f1_score\n",
    "\n",
    "accuracy = accuracy_score(y_test, y_pred)\n",
    "precision = precision_score(y_test, y_pred)\n",
    "recall = recall_score(y_test, y_pred)\n",
    "f1 = f1_score(y_test, y_pred)\n",
    "\n",
    "print('accuracy',accuracy)\n",
    "print('precision',precision)\n",
    "print('recall',recall)\n",
    "print('f1',f1)"
   ]
  },
  {
   "cell_type": "code",
   "execution_count": null,
   "metadata": {
    "id": "Ia76hoUgZnqQ"
   },
   "outputs": [],
   "source": [
    "# SVM\n",
    "from sklearn.svm import SVC\n",
    "clf = SVC(gamma='auto')\n",
    "\n",
    "clf.fit(X_train,y_train)\n",
    "\n",
    "y_pred = clf.predict(X_test)"
   ]
  },
  {
   "cell_type": "code",
   "execution_count": null,
   "metadata": {
    "colab": {
     "base_uri": "https://localhost:8080/"
    },
    "id": "iXJEm3lAZnqQ",
    "outputId": "a9eca4a5-e7c5-403a-8a09-757c326888bb"
   },
   "outputs": [
    {
     "name": "stdout",
     "output_type": "stream",
     "text": [
      "accuracy 1.0\n",
      "precision 1.0\n",
      "recall 1.0\n",
      "f1 1.0\n"
     ]
    }
   ],
   "source": [
    "# Evaluation index\n",
    "accuracy = accuracy_score(y_test, y_pred)\n",
    "precision = precision_score(y_test, y_pred)\n",
    "recall = recall_score(y_test, y_pred)\n",
    "f1 = f1_score(y_test, y_pred)\n",
    "\n",
    "print('accuracy',accuracy)\n",
    "print('precision',precision)\n",
    "print('recall',recall)\n",
    "print('f1',f1)"
   ]
  },
  {
   "cell_type": "code",
   "execution_count": null,
   "metadata": {
    "id": "jhzDO-VLZnqS"
   },
   "outputs": [],
   "source": [
    "# decision tree\n",
    "from sklearn.tree import DecisionTreeClassifier\n",
    "clf = DecisionTreeClassifier(random_state=0)\n",
    "\n",
    "clf.fit(X_train,y_train)\n",
    "\n",
    "y_pred = clf.predict(X_test)"
   ]
  },
  {
   "cell_type": "code",
   "execution_count": null,
   "metadata": {
    "colab": {
     "base_uri": "https://localhost:8080/"
    },
    "id": "2eoqDXyIZnqS",
    "outputId": "6be7b188-4392-45d6-d426-68a504011ded"
   },
   "outputs": [
    {
     "name": "stdout",
     "output_type": "stream",
     "text": [
      "accuracy 0.9\n",
      "precision 0.8333333333333334\n",
      "recall 1.0\n",
      "f1 0.9090909090909091\n"
     ]
    }
   ],
   "source": [
    "# Evaluation index\n",
    "accuracy = accuracy_score(y_test, y_pred)\n",
    "precision = precision_score(y_test, y_pred)\n",
    "recall = recall_score(y_test, y_pred)\n",
    "f1 = f1_score(y_test, y_pred)\n",
    "\n",
    "print('accuracy',accuracy)\n",
    "print('precision',precision)\n",
    "print('recall',recall)\n",
    "print('f1',f1)"
   ]
  },
  {
   "cell_type": "code",
   "execution_count": null,
   "metadata": {
    "colab": {
     "base_uri": "https://localhost:8080/"
    },
    "id": "MxUfNH_uZnqU",
    "outputId": "ee40c516-cf24-4bc8-cd0e-513f7b138be8"
   },
   "outputs": [
    {
     "name": "stdout",
     "output_type": "stream",
     "text": [
      "X_train.shape: (400, 2)\n",
      "y_train.shape: (400,)\n",
      "X_test.shape: (100, 2)\n",
      "y_test.shape: (100,)\n"
     ]
    }
   ],
   "source": [
    "# Train and estimate on simple data set 1\n",
    "X = sample1_X\n",
    "y = sample1_y\n",
    "\n",
    "X_train, X_test, y_train, y_test = \\\n",
    "scratch_train_test_split(X,y,train_size=0.8,random_state=0)\n",
    "\n",
    "print('X_train.shape:',X_train.shape)\n",
    "print('y_train.shape:',y_train.shape)\n",
    "print('X_test.shape:',X_test.shape)\n",
    "print('y_test.shape:',y_test.shape)"
   ]
  },
  {
   "cell_type": "code",
   "execution_count": null,
   "metadata": {
    "id": "lRQSFFkdZnqU"
   },
   "outputs": [],
   "source": [
    "# logistic regression\n",
    "clf = SGDClassifier(loss=\"log\")\n",
    "\n",
    "clf.fit(X_train,y_train)\n",
    "\n",
    "y_pred = clf.predict(X_test)"
   ]
  },
  {
   "cell_type": "code",
   "execution_count": null,
   "metadata": {
    "colab": {
     "base_uri": "https://localhost:8080/"
    },
    "id": "FGP3vFV7ZnqU",
    "outputId": "412dcc5e-17db-4535-9752-3a6936e2207b"
   },
   "outputs": [
    {
     "name": "stdout",
     "output_type": "stream",
     "text": [
      "accuracy 1.0\n",
      "precision 1.0\n",
      "recall 1.0\n",
      "f1 1.0\n"
     ]
    }
   ],
   "source": [
    "accuracy = accuracy_score(y_test, y_pred)\n",
    "precision = precision_score(y_test, y_pred)\n",
    "recall = recall_score(y_test, y_pred)\n",
    "f1 = f1_score(y_test, y_pred)\n",
    "\n",
    "print('accuracy',accuracy)\n",
    "print('precision',precision)\n",
    "print('recall',recall)\n",
    "print('f1',f1)"
   ]
  },
  {
   "cell_type": "code",
   "execution_count": null,
   "metadata": {
    "colab": {
     "base_uri": "https://localhost:8080/",
     "height": 573
    },
    "id": "2JQZ4fuPZnqU",
    "outputId": "45c5a7b0-1c4c-4800-c5d1-9d9b16ea4744"
   },
   "outputs": [
    {
     "data": {
      "image/png": "[encoded data removed]",
      "text/plain": [
       "<Figure size 432x288 with 1 Axes>"
      ]
     },
     "metadata": {
      "needs_background": "light",
      "tags": []
     },
     "output_type": "display_data"
    },
    {
     "data": {
      "image/png": "[encoded data removed]",
      "text/plain": [
       "<Figure size 432x288 with 1 Axes>"
      ]
     },
     "metadata": {
      "needs_background": "light",
      "tags": []
     },
     "output_type": "display_data"
    }
   ],
   "source": [
    "decision_region(X_train,y_train,clf,target_names=['-1', '1'],title='TRAIN')\n",
    "decision_region(X_test,y_test,clf,target_names=['-1', '1'],title='TEST')"
   ]
  },
  {
   "cell_type": "code",
   "execution_count": null,
   "metadata": {
    "id": "ScBrxNvZZnqV"
   },
   "outputs": [],
   "source": [
    "# SVM\n",
    "clf = SVC(gamma='auto')\n",
    "\n",
    "clf.fit(X_train,y_train)\n",
    "\n",
    "y_pred = clf.predict(X_test)"
   ]
  },
  {
   "cell_type": "code",
   "execution_count": null,
   "metadata": {
    "colab": {
     "base_uri": "https://localhost:8080/"
    },
    "id": "7mMJMtaSZnqV",
    "outputId": "284c8b09-bda5-44d8-8560-cdb5bc7cb5d1"
   },
   "outputs": [
    {
     "name": "stdout",
     "output_type": "stream",
     "text": [
      "accuracy 1.0\n",
      "precision 1.0\n",
      "recall 1.0\n",
      "f1 1.0\n"
     ]
    }
   ],
   "source": [
    "accuracy = accuracy_score(y_test, y_pred)\n",
    "precision = precision_score(y_test, y_pred)\n",
    "recall = recall_score(y_test, y_pred)\n",
    "f1 = f1_score(y_test, y_pred)\n",
    "\n",
    "print('accuracy',accuracy)\n",
    "print('precision',precision)\n",
    "print('recall',recall)\n",
    "print('f1',f1)"
   ]
  },
  {
   "cell_type": "code",
   "execution_count": null,
   "metadata": {
    "colab": {
     "base_uri": "https://localhost:8080/",
     "height": 573
    },
    "id": "JjbCjE26ZnqV",
    "outputId": "d4aede42-d1d0-412b-f7ed-676ea832af65"
   },
   "outputs": [
    {
     "data": {
      "image/png": "[encoded data removed]",
      "text/plain": [
       "<Figure size 432x288 with 1 Axes>"
      ]
     },
     "metadata": {
      "needs_background": "light",
      "tags": []
     },
     "output_type": "display_data"
    },
    {
     "data": {
      "image/png": "[encoded data removed]",
      "text/plain": [
       "<Figure size 432x288 with 1 Axes>"
      ]
     },
     "metadata": {
      "needs_background": "light",
      "tags": []
     },
     "output_type": "display_data"
    }
   ],
   "source": [
    "decision_region(X_train,y_train,clf,target_names=['-1', '1'],title='TRAIN')\n",
    "decision_region(X_test,y_test,clf,target_names=['-1', '1'],title='TEST')"
   ]
  },
  {
   "cell_type": "code",
   "execution_count": null,
   "metadata": {
    "id": "CxLVjqmOZnqV"
   },
   "outputs": [],
   "source": [
    "# decision tree\n",
    "clf = DecisionTreeClassifier(random_state=0)\n",
    "\n",
    "clf.fit(X_train,y_train)\n",
    "\n",
    "y_pred = clf.predict(X_test)"
   ]
  },
  {
   "cell_type": "code",
   "execution_count": null,
   "metadata": {
    "colab": {
     "base_uri": "https://localhost:8080/"
    },
    "id": "l1dWbio3ZnqW",
    "outputId": "74fc339e-0a4b-4078-c928-9dde11e700f0"
   },
   "outputs": [
    {
     "name": "stdout",
     "output_type": "stream",
     "text": [
      "accuracy 1.0\n",
      "precision 1.0\n",
      "recall 1.0\n",
      "f1 1.0\n"
     ]
    }
   ],
   "source": [
    "accuracy = accuracy_score(y_test, y_pred)\n",
    "precision = precision_score(y_test, y_pred)\n",
    "recall = recall_score(y_test, y_pred)\n",
    "f1 = f1_score(y_test, y_pred)\n",
    "\n",
    "print('accuracy',accuracy)\n",
    "print('precision',precision)\n",
    "print('recall',recall)\n",
    "print('f1',f1)"
   ]
  },
  {
   "cell_type": "code",
   "execution_count": null,
   "metadata": {
    "colab": {
     "base_uri": "https://localhost:8080/",
     "height": 573
    },
    "id": "B57p5c7FZnqW",
    "outputId": "61430839-3055-4d50-f031-df16cc1e8e6a"
   },
   "outputs": [
    {
     "data": {
      "image/png": "[encoded data removed]",
      "text/plain": [
       "<Figure size 432x288 with 1 Axes>"
      ]
     },
     "metadata": {
      "needs_background": "light",
      "tags": []
     },
     "output_type": "display_data"
    },
    {
     "data": {
      "image/png": "[encoded data removed]",
      "text/plain": [
       "<Figure size 432x288 with 1 Axes>"
      ]
     },
     "metadata": {
      "needs_background": "light",
      "tags": []
     },
     "output_type": "display_data"
    }
   ],
   "source": [
    "decision_region(X_train,y_train,clf,target_names=['-1', '1'],title='TRAIN')\n",
    "decision_region(X_test,y_test,clf,target_names=['-1', '1'],title='TEST')"
   ]
  },
  {
   "cell_type": "code",
   "execution_count": null,
   "metadata": {
    "colab": {
     "base_uri": "https://localhost:8080/"
    },
    "id": "vbRazBqtZnqX",
    "outputId": "50378ba0-6c7f-4c39-c140-e1cd35556fca"
   },
   "outputs": [
    {
     "name": "stdout",
     "output_type": "stream",
     "text": [
      "X_train.shape: (32, 2)\n",
      "y_train.shape: (32,)\n",
      "X_test.shape: (8, 2)\n",
      "y_test.shape: (8,)\n"
     ]
    }
   ],
   "source": [
    "# Train and estimate on Simple Data Set 2\n",
    "X = sample2_X\n",
    "y = sample2_y\n",
    "\n",
    "X_train, X_test, y_train, y_test = \\\n",
    "scratch_train_test_split(X,y,train_size=0.8,random_state=0)\n",
    "\n",
    "print('X_train.shape:',X_train.shape)\n",
    "print('y_train.shape:',y_train.shape)\n",
    "print('X_test.shape:',X_test.shape)\n",
    "print('y_test.shape:',y_test.shape)"
   ]
  },
  {
   "cell_type": "code",
   "execution_count": null,
   "metadata": {
    "id": "6UsOpX95ZnqY"
   },
   "outputs": [],
   "source": [
    "# logistic regression\n",
    "clf = SGDClassifier(loss=\"log\")\n",
    "\n",
    "clf.fit(X_train,y_train)\n",
    "\n",
    "y_pred = clf.predict(X_test)"
   ]
  },
  {
   "cell_type": "code",
   "execution_count": null,
   "metadata": {
    "colab": {
     "base_uri": "https://localhost:8080/"
    },
    "id": "lY_ZdUk4ZnqY",
    "outputId": "b62dab58-c2fa-4c33-af0a-5b930064a3af"
   },
   "outputs": [
    {
     "name": "stdout",
     "output_type": "stream",
     "text": [
      "accuracy 0.75\n",
      "precision 0.6666666666666666\n",
      "recall 0.6666666666666666\n",
      "f1 0.6666666666666666\n"
     ]
    }
   ],
   "source": [
    "accuracy = accuracy_score(y_test, y_pred)\n",
    "precision = precision_score(y_test, y_pred)\n",
    "recall = recall_score(y_test, y_pred)\n",
    "f1 = f1_score(y_test, y_pred)\n",
    "\n",
    "print('accuracy',accuracy)\n",
    "print('precision',precision)\n",
    "print('recall',recall)\n",
    "print('f1',f1)"
   ]
  },
  {
   "cell_type": "code",
   "execution_count": null,
   "metadata": {
    "colab": {
     "base_uri": "https://localhost:8080/",
     "height": 573
    },
    "id": "-Yf5FCf7ZnqY",
    "outputId": "d6dd781e-aa43-44f6-dba4-117aaf25d695"
   },
   "outputs": [
    {
     "data": {
      "image/png": "[encoded data removed]",
      "text/plain": [
       "<Figure size 432x288 with 1 Axes>"
      ]
     },
     "metadata": {
      "needs_background": "light",
      "tags": []
     },
     "output_type": "display_data"
    },
    {
     "data": {
      "image/png": "[encoded data removed]",
      "text/plain": [
       "<Figure size 432x288 with 1 Axes>"
      ]
     },
     "metadata": {
      "needs_background": "light",
      "tags": []
     },
     "output_type": "display_data"
    }
   ],
   "source": [
    "decision_region(X_train,y_train,clf,target_names=['0', '1'],title='TRAIN')\n",
    "decision_region(X_test,y_test,clf,target_names=['0', '1'],title='TEST')"
   ]
  },
  {
   "cell_type": "code",
   "execution_count": null,
   "metadata": {
    "id": "BhfxpMuiZnqY"
   },
   "outputs": [],
   "source": [
    "# SVM\n",
    "clf = SVC(gamma='auto')\n",
    "\n",
    "clf.fit(X_train,y_train)\n",
    "\n",
    "y_pred = clf.predict(X_test)"
   ]
  },
  {
   "cell_type": "code",
   "execution_count": null,
   "metadata": {
    "colab": {
     "base_uri": "https://localhost:8080/"
    },
    "id": "Oko9heJKZnqZ",
    "outputId": "4e20c6f8-a49f-4762-9862-ddf4cbf804ea"
   },
   "outputs": [
    {
     "name": "stdout",
     "output_type": "stream",
     "text": [
      "accuracy 0.75\n",
      "precision 0.6\n",
      "recall 1.0\n",
      "f1 0.7499999999999999\n"
     ]
    }
   ],
   "source": [
    "accuracy = accuracy_score(y_test, y_pred)\n",
    "precision = precision_score(y_test, y_pred)\n",
    "recall = recall_score(y_test, y_pred)\n",
    "f1 = f1_score(y_test, y_pred)\n",
    "\n",
    "print('accuracy',accuracy)\n",
    "print('precision',precision)\n",
    "print('recall',recall)\n",
    "print('f1',f1)"
   ]
  },
  {
   "cell_type": "code",
   "execution_count": null,
   "metadata": {
    "colab": {
     "base_uri": "https://localhost:8080/",
     "height": 573
    },
    "id": "Pql4LwuVZnqZ",
    "outputId": "a4f9c023-b561-46cb-fe03-0db09e151023"
   },
   "outputs": [
    {
     "data": {
      "image/png": "[encoded data removed]",
      "text/plain": [
       "<Figure size 432x288 with 1 Axes>"
      ]
     },
     "metadata": {
      "needs_background": "light",
      "tags": []
     },
     "output_type": "display_data"
    },
    {
     "data": {
      "image/png": "[encoded data removed]",
      "text/plain": [
       "<Figure size 432x288 with 1 Axes>"
      ]
     },
     "metadata": {
      "needs_background": "light",
      "tags": []
     },
     "output_type": "display_data"
    }
   ],
   "source": [
    "decision_region(X_train,y_train,clf,target_names=['0', '1'],title='TRAIN')\n",
    "decision_region(X_test,y_test,clf,target_names=['0', '1'],title='TEST')"
   ]
  },
  {
   "cell_type": "code",
   "execution_count": null,
   "metadata": {
    "id": "n3T7l5CKZnqZ"
   },
   "outputs": [],
   "source": [
    "# decision tree\n",
    "clf = DecisionTreeClassifier(random_state=0)\n",
    "\n",
    "clf.fit(X_train,y_train)\n",
    "\n",
    "y_pred = clf.predict(X_test)"
   ]
  },
  {
   "cell_type": "code",
   "execution_count": null,
   "metadata": {
    "colab": {
     "base_uri": "https://localhost:8080/"
    },
    "id": "8_B0IodPZnqZ",
    "outputId": "992ac304-0a08-4dd6-a3db-5f82c1c710ec"
   },
   "outputs": [
    {
     "name": "stdout",
     "output_type": "stream",
     "text": [
      "accuracy 1.0\n",
      "precision 1.0\n",
      "recall 1.0\n",
      "f1 1.0\n"
     ]
    }
   ],
   "source": [
    "accuracy = accuracy_score(y_test, y_pred)\n",
    "precision = precision_score(y_test, y_pred)\n",
    "recall = recall_score(y_test, y_pred)\n",
    "f1 = f1_score(y_test, y_pred)\n",
    "\n",
    "print('accuracy',accuracy)\n",
    "print('precision',precision)\n",
    "print('recall',recall)\n",
    "print('f1',f1)"
   ]
  },
  {
   "cell_type": "code",
   "execution_count": null,
   "metadata": {
    "colab": {
     "base_uri": "https://localhost:8080/",
     "height": 573
    },
    "id": "CS4CeJqGZnqZ",
    "outputId": "86c60457-d91c-4435-e6a1-b027a5bcbf13"
   },
   "outputs": [
    {
     "data": {
      "image/png": "[encoded data removed]",
      "text/plain": [
       "<Figure size 432x288 with 1 Axes>"
      ]
     },
     "metadata": {
      "needs_background": "light",
      "tags": []
     },
     "output_type": "display_data"
    },
    {
     "data": {
      "image/png": "[encoded data removed]",
      "text/plain": [
       "<Figure size 432x288 with 1 Axes>"
      ]
     },
     "metadata": {
      "needs_background": "light",
      "tags": []
     },
     "output_type": "display_data"
    }
   ],
   "source": [
    "decision_region(X_train,y_train,clf,target_names=['0', '1'],title='TRAIN')\n",
    "decision_region(X_test,y_test,clf,target_names=['0', '1'],title='TEST')"
   ]
  },
  {
   "cell_type": "markdown",
   "metadata": {
    "id": "_IW6De_tZnqa"
   },
   "source": [
    "### Regression problem\n",
    "Scratch one type of regression.\n",
    "\n",
    "* linear regression\n",
    "\n",
    "Use the SGDRegressor class, which uses gradient descent to calculate linear regression.  \n",
    "  \n",
    "sklearn.linear_model.SGDRegressor — scikit-learn 0.21.3 documentation  \n",
    "https://scikit-learn.org/stable/modules/generated/sklearn.linear_model.SGDRegressor.html  \n",
    "  \n",
    "As in the pre-training period, we will use the dataset from the House Prices competition.  \n",
    "  \n",
    "House Prices: Advanced Regression Techniques  \n",
    "https://www.kaggle.com/c/house-prices-advanced-regression-techniques/data  \n",
    "\n",
    "Download train.csv and use SalePrice as the objective variable and GrLivArea and YearBuilt as the explanatory variables."
   ]
  },
  {
   "cell_type": "markdown",
   "metadata": {
    "id": "vLd7PL6kZnqa"
   },
   "source": [
    "### [Problem 3] Writing code to solve regression problems\n",
    "Write code to train and estimate the House Prices dataset using linear regression."
   ]
  },
  {
   "cell_type": "code",
   "execution_count": null,
   "metadata": {
    "colab": {
     "base_uri": "https://localhost:8080/",
     "height": 270
    },
    "id": "_4Zjni-JZnqa",
    "outputId": "4ef4925e-5811-4649-8853-20812a72d75a"
   },
   "outputs": [
    {
     "name": "stdout",
     "output_type": "stream",
     "text": [
      "shape: (1460, 81)\n"
     ]
    },
    {
     "data": {
      "text/html": [
       "<div>\n",
       "<style scoped>\n",
       "    .dataframe tbody tr th:only-of-type {\n",
       "        vertical-align: middle;\n",
       "    }\n",
       "\n",
       "    .dataframe tbody tr th {\n",
       "        vertical-align: top;\n",
       "    }\n",
       "\n",
       "    .dataframe thead th {\n",
       "        text-align: right;\n",
       "    }\n",
       "</style>\n",
       "<table border=\"1\" class=\"dataframe\">\n",
       "  <thead>\n",
       "    <tr style=\"text-align: right;\">\n",
       "      <th></th>\n",
       "      <th>Id</th>\n",
       "      <th>MSSubClass</th>\n",
       "      <th>MSZoning</th>\n",
       "      <th>LotFrontage</th>\n",
       "      <th>LotArea</th>\n",
       "      <th>Street</th>\n",
       "      <th>Alley</th>\n",
       "      <th>LotShape</th>\n",
       "      <th>LandContour</th>\n",
       "      <th>Utilities</th>\n",
       "      <th>LotConfig</th>\n",
       "      <th>LandSlope</th>\n",
       "      <th>Neighborhood</th>\n",
       "      <th>Condition1</th>\n",
       "      <th>Condition2</th>\n",
       "      <th>BldgType</th>\n",
       "      <th>HouseStyle</th>\n",
       "      <th>OverallQual</th>\n",
       "      <th>OverallCond</th>\n",
       "      <th>YearBuilt</th>\n",
       "      <th>YearRemodAdd</th>\n",
       "      <th>RoofStyle</th>\n",
       "      <th>RoofMatl</th>\n",
       "      <th>Exterior1st</th>\n",
       "      <th>Exterior2nd</th>\n",
       "      <th>MasVnrType</th>\n",
       "      <th>MasVnrArea</th>\n",
       "      <th>ExterQual</th>\n",
       "      <th>ExterCond</th>\n",
       "      <th>Foundation</th>\n",
       "      <th>BsmtQual</th>\n",
       "      <th>BsmtCond</th>\n",
       "      <th>BsmtExposure</th>\n",
       "      <th>BsmtFinType1</th>\n",
       "      <th>BsmtFinSF1</th>\n",
       "      <th>BsmtFinType2</th>\n",
       "      <th>BsmtFinSF2</th>\n",
       "      <th>BsmtUnfSF</th>\n",
       "      <th>TotalBsmtSF</th>\n",
       "      <th>Heating</th>\n",
       "      <th>...</th>\n",
       "      <th>CentralAir</th>\n",
       "      <th>Electrical</th>\n",
       "      <th>1stFlrSF</th>\n",
       "      <th>2ndFlrSF</th>\n",
       "      <th>LowQualFinSF</th>\n",
       "      <th>GrLivArea</th>\n",
       "      <th>BsmtFullBath</th>\n",
       "      <th>BsmtHalfBath</th>\n",
       "      <th>FullBath</th>\n",
       "      <th>HalfBath</th>\n",
       "      <th>BedroomAbvGr</th>\n",
       "      <th>KitchenAbvGr</th>\n",
       "      <th>KitchenQual</th>\n",
       "      <th>TotRmsAbvGrd</th>\n",
       "      <th>Functional</th>\n",
       "      <th>Fireplaces</th>\n",
       "      <th>FireplaceQu</th>\n",
       "      <th>GarageType</th>\n",
       "      <th>GarageYrBlt</th>\n",
       "      <th>GarageFinish</th>\n",
       "      <th>GarageCars</th>\n",
       "      <th>GarageArea</th>\n",
       "      <th>GarageQual</th>\n",
       "      <th>GarageCond</th>\n",
       "      <th>PavedDrive</th>\n",
       "      <th>WoodDeckSF</th>\n",
       "      <th>OpenPorchSF</th>\n",
       "      <th>EnclosedPorch</th>\n",
       "      <th>3SsnPorch</th>\n",
       "      <th>ScreenPorch</th>\n",
       "      <th>PoolArea</th>\n",
       "      <th>PoolQC</th>\n",
       "      <th>Fence</th>\n",
       "      <th>MiscFeature</th>\n",
       "      <th>MiscVal</th>\n",
       "      <th>MoSold</th>\n",
       "      <th>YrSold</th>\n",
       "      <th>SaleType</th>\n",
       "      <th>SaleCondition</th>\n",
       "      <th>SalePrice</th>\n",
       "    </tr>\n",
       "  </thead>\n",
       "  <tbody>\n",
       "    <tr>\n",
       "      <th>0</th>\n",
       "      <td>1</td>\n",
       "      <td>60</td>\n",
       "      <td>RL</td>\n",
       "      <td>65.0</td>\n",
       "      <td>8450</td>\n",
       "      <td>Pave</td>\n",
       "      <td>NaN</td>\n",
       "      <td>Reg</td>\n",
       "      <td>Lvl</td>\n",
       "      <td>AllPub</td>\n",
       "      <td>Inside</td>\n",
       "      <td>Gtl</td>\n",
       "      <td>CollgCr</td>\n",
       "      <td>Norm</td>\n",
       "      <td>Norm</td>\n",
       "      <td>1Fam</td>\n",
       "      <td>2Story</td>\n",
       "      <td>7</td>\n",
       "      <td>5</td>\n",
       "      <td>2003</td>\n",
       "      <td>2003</td>\n",
       "      <td>Gable</td>\n",
       "      <td>CompShg</td>\n",
       "      <td>VinylSd</td>\n",
       "      <td>VinylSd</td>\n",
       "      <td>BrkFace</td>\n",
       "      <td>196.0</td>\n",
       "      <td>Gd</td>\n",
       "      <td>TA</td>\n",
       "      <td>PConc</td>\n",
       "      <td>Gd</td>\n",
       "      <td>TA</td>\n",
       "      <td>No</td>\n",
       "      <td>GLQ</td>\n",
       "      <td>706</td>\n",
       "      <td>Unf</td>\n",
       "      <td>0</td>\n",
       "      <td>150</td>\n",
       "      <td>856</td>\n",
       "      <td>GasA</td>\n",
       "      <td>...</td>\n",
       "      <td>Y</td>\n",
       "      <td>SBrkr</td>\n",
       "      <td>856</td>\n",
       "      <td>854</td>\n",
       "      <td>0</td>\n",
       "      <td>1710</td>\n",
       "      <td>1</td>\n",
       "      <td>0</td>\n",
       "      <td>2</td>\n",
       "      <td>1</td>\n",
       "      <td>3</td>\n",
       "      <td>1</td>\n",
       "      <td>Gd</td>\n",
       "      <td>8</td>\n",
       "      <td>Typ</td>\n",
       "      <td>0</td>\n",
       "      <td>NaN</td>\n",
       "      <td>Attchd</td>\n",
       "      <td>2003.0</td>\n",
       "      <td>RFn</td>\n",
       "      <td>2</td>\n",
       "      <td>548</td>\n",
       "      <td>TA</td>\n",
       "      <td>TA</td>\n",
       "      <td>Y</td>\n",
       "      <td>0</td>\n",
       "      <td>61</td>\n",
       "      <td>0</td>\n",
       "      <td>0</td>\n",
       "      <td>0</td>\n",
       "      <td>0</td>\n",
       "      <td>NaN</td>\n",
       "      <td>NaN</td>\n",
       "      <td>NaN</td>\n",
       "      <td>0</td>\n",
       "      <td>2</td>\n",
       "      <td>2008</td>\n",
       "      <td>WD</td>\n",
       "      <td>Normal</td>\n",
       "      <td>208500</td>\n",
       "    </tr>\n",
       "    <tr>\n",
       "      <th>1</th>\n",
       "      <td>2</td>\n",
       "      <td>20</td>\n",
       "      <td>RL</td>\n",
       "      <td>80.0</td>\n",
       "      <td>9600</td>\n",
       "      <td>Pave</td>\n",
       "      <td>NaN</td>\n",
       "      <td>Reg</td>\n",
       "      <td>Lvl</td>\n",
       "      <td>AllPub</td>\n",
       "      <td>FR2</td>\n",
       "      <td>Gtl</td>\n",
       "      <td>Veenker</td>\n",
       "      <td>Feedr</td>\n",
       "      <td>Norm</td>\n",
       "      <td>1Fam</td>\n",
       "      <td>1Story</td>\n",
       "      <td>6</td>\n",
       "      <td>8</td>\n",
       "      <td>1976</td>\n",
       "      <td>1976</td>\n",
       "      <td>Gable</td>\n",
       "      <td>CompShg</td>\n",
       "      <td>MetalSd</td>\n",
       "      <td>MetalSd</td>\n",
       "      <td>None</td>\n",
       "      <td>0.0</td>\n",
       "      <td>TA</td>\n",
       "      <td>TA</td>\n",
       "      <td>CBlock</td>\n",
       "      <td>Gd</td>\n",
       "      <td>TA</td>\n",
       "      <td>Gd</td>\n",
       "      <td>ALQ</td>\n",
       "      <td>978</td>\n",
       "      <td>Unf</td>\n",
       "      <td>0</td>\n",
       "      <td>284</td>\n",
       "      <td>1262</td>\n",
       "      <td>GasA</td>\n",
       "      <td>...</td>\n",
       "      <td>Y</td>\n",
       "      <td>SBrkr</td>\n",
       "      <td>1262</td>\n",
       "      <td>0</td>\n",
       "      <td>0</td>\n",
       "      <td>1262</td>\n",
       "      <td>0</td>\n",
       "      <td>1</td>\n",
       "      <td>2</td>\n",
       "      <td>0</td>\n",
       "      <td>3</td>\n",
       "      <td>1</td>\n",
       "      <td>TA</td>\n",
       "      <td>6</td>\n",
       "      <td>Typ</td>\n",
       "      <td>1</td>\n",
       "      <td>TA</td>\n",
       "      <td>Attchd</td>\n",
       "      <td>1976.0</td>\n",
       "      <td>RFn</td>\n",
       "      <td>2</td>\n",
       "      <td>460</td>\n",
       "      <td>TA</td>\n",
       "      <td>TA</td>\n",
       "      <td>Y</td>\n",
       "      <td>298</td>\n",
       "      <td>0</td>\n",
       "      <td>0</td>\n",
       "      <td>0</td>\n",
       "      <td>0</td>\n",
       "      <td>0</td>\n",
       "      <td>NaN</td>\n",
       "      <td>NaN</td>\n",
       "      <td>NaN</td>\n",
       "      <td>0</td>\n",
       "      <td>5</td>\n",
       "      <td>2007</td>\n",
       "      <td>WD</td>\n",
       "      <td>Normal</td>\n",
       "      <td>181500</td>\n",
       "    </tr>\n",
       "    <tr>\n",
       "      <th>2</th>\n",
       "      <td>3</td>\n",
       "      <td>60</td>\n",
       "      <td>RL</td>\n",
       "      <td>68.0</td>\n",
       "      <td>11250</td>\n",
       "      <td>Pave</td>\n",
       "      <td>NaN</td>\n",
       "      <td>IR1</td>\n",
       "      <td>Lvl</td>\n",
       "      <td>AllPub</td>\n",
       "      <td>Inside</td>\n",
       "      <td>Gtl</td>\n",
       "      <td>CollgCr</td>\n",
       "      <td>Norm</td>\n",
       "      <td>Norm</td>\n",
       "      <td>1Fam</td>\n",
       "      <td>2Story</td>\n",
       "      <td>7</td>\n",
       "      <td>5</td>\n",
       "      <td>2001</td>\n",
       "      <td>2002</td>\n",
       "      <td>Gable</td>\n",
       "      <td>CompShg</td>\n",
       "      <td>VinylSd</td>\n",
       "      <td>VinylSd</td>\n",
       "      <td>BrkFace</td>\n",
       "      <td>162.0</td>\n",
       "      <td>Gd</td>\n",
       "      <td>TA</td>\n",
       "      <td>PConc</td>\n",
       "      <td>Gd</td>\n",
       "      <td>TA</td>\n",
       "      <td>Mn</td>\n",
       "      <td>GLQ</td>\n",
       "      <td>486</td>\n",
       "      <td>Unf</td>\n",
       "      <td>0</td>\n",
       "      <td>434</td>\n",
       "      <td>920</td>\n",
       "      <td>GasA</td>\n",
       "      <td>...</td>\n",
       "      <td>Y</td>\n",
       "      <td>SBrkr</td>\n",
       "      <td>920</td>\n",
       "      <td>866</td>\n",
       "      <td>0</td>\n",
       "      <td>1786</td>\n",
       "      <td>1</td>\n",
       "      <td>0</td>\n",
       "      <td>2</td>\n",
       "      <td>1</td>\n",
       "      <td>3</td>\n",
       "      <td>1</td>\n",
       "      <td>Gd</td>\n",
       "      <td>6</td>\n",
       "      <td>Typ</td>\n",
       "      <td>1</td>\n",
       "      <td>TA</td>\n",
       "      <td>Attchd</td>\n",
       "      <td>2001.0</td>\n",
       "      <td>RFn</td>\n",
       "      <td>2</td>\n",
       "      <td>608</td>\n",
       "      <td>TA</td>\n",
       "      <td>TA</td>\n",
       "      <td>Y</td>\n",
       "      <td>0</td>\n",
       "      <td>42</td>\n",
       "      <td>0</td>\n",
       "      <td>0</td>\n",
       "      <td>0</td>\n",
       "      <td>0</td>\n",
       "      <td>NaN</td>\n",
       "      <td>NaN</td>\n",
       "      <td>NaN</td>\n",
       "      <td>0</td>\n",
       "      <td>9</td>\n",
       "      <td>2008</td>\n",
       "      <td>WD</td>\n",
       "      <td>Normal</td>\n",
       "      <td>223500</td>\n",
       "    </tr>\n",
       "    <tr>\n",
       "      <th>3</th>\n",
       "      <td>4</td>\n",
       "      <td>70</td>\n",
       "      <td>RL</td>\n",
       "      <td>60.0</td>\n",
       "      <td>9550</td>\n",
       "      <td>Pave</td>\n",
       "      <td>NaN</td>\n",
       "      <td>IR1</td>\n",
       "      <td>Lvl</td>\n",
       "      <td>AllPub</td>\n",
       "      <td>Corner</td>\n",
       "      <td>Gtl</td>\n",
       "      <td>Crawfor</td>\n",
       "      <td>Norm</td>\n",
       "      <td>Norm</td>\n",
       "      <td>1Fam</td>\n",
       "      <td>2Story</td>\n",
       "      <td>7</td>\n",
       "      <td>5</td>\n",
       "      <td>1915</td>\n",
       "      <td>1970</td>\n",
       "      <td>Gable</td>\n",
       "      <td>CompShg</td>\n",
       "      <td>Wd Sdng</td>\n",
       "      <td>Wd Shng</td>\n",
       "      <td>None</td>\n",
       "      <td>0.0</td>\n",
       "      <td>TA</td>\n",
       "      <td>TA</td>\n",
       "      <td>BrkTil</td>\n",
       "      <td>TA</td>\n",
       "      <td>Gd</td>\n",
       "      <td>No</td>\n",
       "      <td>ALQ</td>\n",
       "      <td>216</td>\n",
       "      <td>Unf</td>\n",
       "      <td>0</td>\n",
       "      <td>540</td>\n",
       "      <td>756</td>\n",
       "      <td>GasA</td>\n",
       "      <td>...</td>\n",
       "      <td>Y</td>\n",
       "      <td>SBrkr</td>\n",
       "      <td>961</td>\n",
       "      <td>756</td>\n",
       "      <td>0</td>\n",
       "      <td>1717</td>\n",
       "      <td>1</td>\n",
       "      <td>0</td>\n",
       "      <td>1</td>\n",
       "      <td>0</td>\n",
       "      <td>3</td>\n",
       "      <td>1</td>\n",
       "      <td>Gd</td>\n",
       "      <td>7</td>\n",
       "      <td>Typ</td>\n",
       "      <td>1</td>\n",
       "      <td>Gd</td>\n",
       "      <td>Detchd</td>\n",
       "      <td>1998.0</td>\n",
       "      <td>Unf</td>\n",
       "      <td>3</td>\n",
       "      <td>642</td>\n",
       "      <td>TA</td>\n",
       "      <td>TA</td>\n",
       "      <td>Y</td>\n",
       "      <td>0</td>\n",
       "      <td>35</td>\n",
       "      <td>272</td>\n",
       "      <td>0</td>\n",
       "      <td>0</td>\n",
       "      <td>0</td>\n",
       "      <td>NaN</td>\n",
       "      <td>NaN</td>\n",
       "      <td>NaN</td>\n",
       "      <td>0</td>\n",
       "      <td>2</td>\n",
       "      <td>2006</td>\n",
       "      <td>WD</td>\n",
       "      <td>Abnorml</td>\n",
       "      <td>140000</td>\n",
       "    </tr>\n",
       "    <tr>\n",
       "      <th>4</th>\n",
       "      <td>5</td>\n",
       "      <td>60</td>\n",
       "      <td>RL</td>\n",
       "      <td>84.0</td>\n",
       "      <td>14260</td>\n",
       "      <td>Pave</td>\n",
       "      <td>NaN</td>\n",
       "      <td>IR1</td>\n",
       "      <td>Lvl</td>\n",
       "      <td>AllPub</td>\n",
       "      <td>FR2</td>\n",
       "      <td>Gtl</td>\n",
       "      <td>NoRidge</td>\n",
       "      <td>Norm</td>\n",
       "      <td>Norm</td>\n",
       "      <td>1Fam</td>\n",
       "      <td>2Story</td>\n",
       "      <td>8</td>\n",
       "      <td>5</td>\n",
       "      <td>2000</td>\n",
       "      <td>2000</td>\n",
       "      <td>Gable</td>\n",
       "      <td>CompShg</td>\n",
       "      <td>VinylSd</td>\n",
       "      <td>VinylSd</td>\n",
       "      <td>BrkFace</td>\n",
       "      <td>350.0</td>\n",
       "      <td>Gd</td>\n",
       "      <td>TA</td>\n",
       "      <td>PConc</td>\n",
       "      <td>Gd</td>\n",
       "      <td>TA</td>\n",
       "      <td>Av</td>\n",
       "      <td>GLQ</td>\n",
       "      <td>655</td>\n",
       "      <td>Unf</td>\n",
       "      <td>0</td>\n",
       "      <td>490</td>\n",
       "      <td>1145</td>\n",
       "      <td>GasA</td>\n",
       "      <td>...</td>\n",
       "      <td>Y</td>\n",
       "      <td>SBrkr</td>\n",
       "      <td>1145</td>\n",
       "      <td>1053</td>\n",
       "      <td>0</td>\n",
       "      <td>2198</td>\n",
       "      <td>1</td>\n",
       "      <td>0</td>\n",
       "      <td>2</td>\n",
       "      <td>1</td>\n",
       "      <td>4</td>\n",
       "      <td>1</td>\n",
       "      <td>Gd</td>\n",
       "      <td>9</td>\n",
       "      <td>Typ</td>\n",
       "      <td>1</td>\n",
       "      <td>TA</td>\n",
       "      <td>Attchd</td>\n",
       "      <td>2000.0</td>\n",
       "      <td>RFn</td>\n",
       "      <td>3</td>\n",
       "      <td>836</td>\n",
       "      <td>TA</td>\n",
       "      <td>TA</td>\n",
       "      <td>Y</td>\n",
       "      <td>192</td>\n",
       "      <td>84</td>\n",
       "      <td>0</td>\n",
       "      <td>0</td>\n",
       "      <td>0</td>\n",
       "      <td>0</td>\n",
       "      <td>NaN</td>\n",
       "      <td>NaN</td>\n",
       "      <td>NaN</td>\n",
       "      <td>0</td>\n",
       "      <td>12</td>\n",
       "      <td>2008</td>\n",
       "      <td>WD</td>\n",
       "      <td>Normal</td>\n",
       "      <td>250000</td>\n",
       "    </tr>\n",
       "  </tbody>\n",
       "</table>\n",
       "<p>5 rows × 81 columns</p>\n",
       "</div>"
      ],
      "text/plain": [
       "   Id  MSSubClass MSZoning  ...  SaleType  SaleCondition SalePrice\n",
       "0   1          60       RL  ...        WD         Normal    208500\n",
       "1   2          20       RL  ...        WD         Normal    181500\n",
       "2   3          60       RL  ...        WD         Normal    223500\n",
       "3   4          70       RL  ...        WD        Abnorml    140000\n",
       "4   5          60       RL  ...        WD         Normal    250000\n",
       "\n",
       "[5 rows x 81 columns]"
      ]
     },
     "execution_count": 41,
     "metadata": {
      "tags": []
     },
     "output_type": "execute_result"
    }
   ],
   "source": [
    "# Load the train data of House Prices.\n",
    "train = pd.read_csv('train.csv')\n",
    "print('shape:',train.shape)\n",
    "train.head()"
   ]
  },
  {
   "cell_type": "code",
   "execution_count": null,
   "metadata": {
    "colab": {
     "base_uri": "https://localhost:8080/"
    },
    "id": "sUCT8XLHZnqa",
    "outputId": "0a709297-c585-4c95-e7af-8761c881fd4e"
   },
   "outputs": [
    {
     "name": "stdout",
     "output_type": "stream",
     "text": [
      "X.shape: (1460, 2) y.shape: (1460, 1)\n"
     ]
    }
   ],
   "source": [
    "X = train[['GrLivArea','YearBuilt']].values\n",
    "y = train[['SalePrice']].values\n",
    "print('X.shape:',X.shape,'y.shape:',y.shape)"
   ]
  },
  {
   "cell_type": "code",
   "execution_count": null,
   "metadata": {
    "colab": {
     "base_uri": "https://localhost:8080/"
    },
    "id": "SoliHqntZnqb",
    "outputId": "3ba5777a-9803-4dbf-a945-67c285ae09b2"
   },
   "outputs": [
    {
     "name": "stdout",
     "output_type": "stream",
     "text": [
      "X_train.shape: (1168, 2)\n",
      "y_train.shape: (1168,)\n",
      "X_test.shape: (292, 2)\n",
      "y_test.shape: (292,)\n"
     ]
    }
   ],
   "source": [
    "# Split into training data and validation data\n",
    "X_train, X_test, y_train, y_test = \\\n",
    "scratch_train_test_split(X,y,train_size=0.8,random_state=0)\n",
    "\n",
    "print('X_train.shape:',X_train.shape)\n",
    "print('y_train.shape:',y_train.shape)\n",
    "print('X_test.shape:',X_test.shape)\n",
    "print('y_test.shape:',y_test.shape)"
   ]
  },
  {
   "cell_type": "code",
   "execution_count": null,
   "metadata": {
    "colab": {
     "base_uri": "https://localhost:8080/",
     "height": 284
    },
    "id": "Z6LdMYUCZnqb",
    "outputId": "1cbad97f-7ca8-4cbf-bd5a-6f00557ebd00"
   },
   "outputs": [
    {
     "data": {
      "image/png": "[encoded data removed]",
      "text/plain": [
       "<Figure size 1152x360 with 2 Axes>"
      ]
     },
     "metadata": {
      "needs_background": "light",
      "tags": []
     },
     "output_type": "display_data"
    }
   ],
   "source": [
    "# Plotting the data\n",
    "fig,ax = plt.subplots(1,2,sharey=True,figsize=(16, 5))\n",
    "\n",
    "ax[0].scatter(X_train[:,0],y_train)\n",
    "ax[1].scatter(X_train[:,1],y_train);"
   ]
  },
  {
   "cell_type": "code",
   "execution_count": null,
   "metadata": {
    "id": "iFPuXUR5Znqb"
   },
   "outputs": [],
   "source": [
    "# standardization\n",
    "from sklearn.preprocessing import StandardScaler\n",
    "\n",
    "scaler = StandardScaler()\n",
    "scaler.fit(X_train)\n",
    "X_train_std = scaler.transform(X_train)\n",
    "X_test_std = scaler.transform(X_test)"
   ]
  },
  {
   "cell_type": "code",
   "execution_count": null,
   "metadata": {
    "id": "eOh1zCOMZnqb"
   },
   "outputs": [],
   "source": [
    "# linear regression\n",
    "from sklearn.linear_model import SGDRegressor\n",
    "\n",
    "reg = SGDRegressor()\n",
    "\n",
    "reg.fit(X_train_std, y_train)\n",
    "\n",
    "y_pred = reg.predict(X_test_std)"
   ]
  },
  {
   "cell_type": "code",
   "execution_count": null,
   "metadata": {
    "colab": {
     "base_uri": "https://localhost:8080/"
    },
    "id": "Eg-YfCU6Znqb",
    "outputId": "fb1e7ce6-1d42-410a-b758-df882ed30ee7"
   },
   "outputs": [
    {
     "name": "stdout",
     "output_type": "stream",
     "text": [
      "MSE : 1724280326.017\n",
      "RMSE : 41524.455\n",
      "R2 : 0.650\n"
     ]
    }
   ],
   "source": [
    "# Evaluation index\n",
    "from sklearn.metrics import mean_squared_error\n",
    "from sklearn.metrics import r2_score\n",
    "\n",
    "mse = mean_squared_error(y_test,y_pred)\n",
    "rmse = np.sqrt(mse)\n",
    "r2 = r2_score(y_test,y_pred)\n",
    "\n",
    "print('MSE : {:.3f}'.format(mse))\n",
    "print('RMSE : {:.3f}'.format(rmse))\n",
    "print('R2 : {:.3f}'.format(r2))"
   ]
  },
  {
   "cell_type": "code",
   "execution_count": null,
   "metadata": {
    "colab": {
     "base_uri": "https://localhost:8080/",
     "height": 501
    },
    "id": "jZ-lVb2oZnqb",
    "outputId": "5d96b8fe-8cfb-4401-f5be-85b5f965f5ad",
    "scrolled": false
   },
   "outputs": [
    {
     "data": {
      "image/png": "[encoded data removed]",
      "text/plain": [
       "<Figure size 1152x648 with 1 Axes>"
      ]
     },
     "metadata": {
      "needs_background": "light",
      "tags": []
     },
     "output_type": "display_data"
    }
   ],
   "source": [
    "# Result Plot\n",
    "fig,ax = plt.subplots(figsize=(16, 9))\n",
    "\n",
    "plt.scatter(X_test[:,0],y_test,label='test_data')\n",
    "plt.scatter(X_test[:,0],y_pred,label='predict_data')\n",
    "\n",
    "plt.title('SalePrice - GrLivArea',size=20)\n",
    "plt.xlabel('GrLivArea',size=16)\n",
    "plt.ylabel('SalePrice',size=16)\n",
    "plt.legend();"
   ]
  },
  {
   "cell_type": "markdown",
   "metadata": {
    "id": "bQPNU-pQZnqc"
   },
   "source": [
    "### [Problem 1] Code improvement"
   ]
  },
  {
   "cell_type": "code",
   "execution_count": null,
   "metadata": {
    "colab": {
     "base_uri": "https://localhost:8080/"
    },
    "id": "XAMR53W-Znqc",
    "outputId": "0bc72cb0-58a1-4ee4-f244-876a51222769"
   },
   "outputs": [
    {
     "name": "stdout",
     "output_type": "stream",
     "text": [
      "X:\n",
      " (30, 3)\n",
      "y:\n",
      " (30,)\n"
     ]
    }
   ],
   "source": [
    "s = 30\n",
    "r = 3\n",
    "\n",
    "train_size=0.8\n",
    "random_state=0\n",
    "X = np.arange(s*r).reshape(-1,r)\n",
    "y = np.arange(s)\n",
    "print('X:\\n',X.shape)\n",
    "print('y:\\n',y.shape)\n",
    "\n",
    "# Split into train data and test data\n",
    "size = len(X)\n",
    "pick = int(np.round(size*train_size))\n",
    "train_pick = np.random.choice(np.arange(size),pick,replace=False)\n",
    "test_pick = np.delete(np.arange(size),train_pick)\n",
    "    \n",
    "X_train = X[train_pick,:]\n",
    "X_test = X[test_pick,:]\n",
    "y_train = y[train_pick]\n",
    "y_test = y[test_pick]"
   ]
  },
  {
   "cell_type": "code",
   "execution_count": null,
   "metadata": {
    "colab": {
     "base_uri": "https://localhost:8080/"
    },
    "id": "j88GPyB3Znqc",
    "outputId": "552ea8c4-88c4-4162-901a-2f5bb216ea56"
   },
   "outputs": [
    {
     "name": "stdout",
     "output_type": "stream",
     "text": [
      "(24, 3)\n",
      "(24,)\n",
      "(6, 3)\n",
      "(6,)\n",
      "[[87 88 89]\n",
      " [60 61 62]\n",
      " [81 82 83]\n",
      " [27 28 29]\n",
      " [36 37 38]\n",
      " [30 31 32]\n",
      " [24 25 26]\n",
      " [69 70 71]\n",
      " [ 3  4  5]\n",
      " [78 79 80]\n",
      " [ 6  7  8]\n",
      " [ 9 10 11]\n",
      " [75 76 77]\n",
      " [18 19 20]\n",
      " [63 64 65]\n",
      " [33 34 35]\n",
      " [ 0  1  2]\n",
      " [42 43 44]\n",
      " [45 46 47]\n",
      " [57 58 59]\n",
      " [39 40 41]\n",
      " [12 13 14]\n",
      " [51 52 53]\n",
      " [21 22 23]]\n",
      "[29 20 27  9 12 10  8 23  1 26  2  3 25  6 21 11  0 14 15 19 13  4 17  7]\n",
      "[[15 16 17]\n",
      " [48 49 50]\n",
      " [54 55 56]\n",
      " [66 67 68]\n",
      " [72 73 74]\n",
      " [84 85 86]]\n",
      "[ 5 16 18 22 24 28]\n"
     ]
    }
   ],
   "source": [
    "print(X_train.shape)\n",
    "print(y_train.shape)\n",
    "print(X_test.shape)\n",
    "print(y_test.shape)\n",
    "print(X_train)\n",
    "print(y_train)\n",
    "print(X_test)\n",
    "print(y_test)"
   ]
  }
 ],
 "metadata": {
  "colab": {
   "name": "mep_day9_sprint2_getting_started_with_scratch_en",
   "provenance": []
  },
  "kernelspec": {
   "display_name": "Python 3",
   "language": "python",
   "name": "python3"
  },
  "language_info": {
   "codemirror_mode": {
    "name": "ipython",
    "version": 3
   },
   "file_extension": ".py",
   "mimetype": "text/x-python",
   "name": "python",
   "nbconvert_exporter": "python",
   "pygments_lexer": "ipython3",
   "version": "3.8.8"
  },
  "toc": {
   "base_numbering": 1,
   "nav_menu": {},
   "number_sections": true,
   "sideBar": true,
   "skip_h1_title": true,
   "title_cell": "目次",
   "title_sidebar": "Contents",
   "toc_cell": true,
   "toc_position": {
    "height": "calc(100% - 180px)",
    "left": "10px",
    "top": "150px",
    "width": "381.59375px"
   },
   "toc_section_display": true,
   "toc_window_display": true
  }
 },
 "nbformat": 4,
 "nbformat_minor": 1
}
