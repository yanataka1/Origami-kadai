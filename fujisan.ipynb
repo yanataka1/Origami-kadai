{
 "cells": [
  {
   "cell_type": "markdown",
   "id": "b70fefb9",
   "metadata": {},
   "source": [
    "## 【問題1】何回折ったら富士山を超えるか \n",
    "### 厚さが「富士山(3776m)」を超えるのは何回紙を折った時か計算するプログラムを作成してください。"
   ]
  },
  {
   "cell_type": "code",
   "execution_count": 1,
   "id": "261f020b",
   "metadata": {},
   "outputs": [
    {
     "name": "stdout",
     "output_type": "stream",
     "text": [
      "厚さ: 5368.70912メートル、回数: 26回\n"
     ]
    }
   ],
   "source": [
    "#厚さが富士山を超えるのは\n",
    "\n",
    "folded_thickness = 0.00008\n",
    "num = 0\n",
    "\n",
    "while folded_thickness <= 3776:\n",
    "    folded_thickness *= 2\n",
    "    num += 1\n",
    "\n",
    "print('厚さ: {}メートル、回数: {}回'.format(folded_thickness, num))    \n"
   ]
  },
  {
   "cell_type": "markdown",
   "id": "b0367422",
   "metadata": {},
   "source": [
    "## 【問題2】任意の厚さに対応した関数\n",
    "高さを入力すると、それを超えるのに必要な紙を折る最小回数を出力する関数を実装してください。引数として、折る前の厚さ \n",
    "$t_{0}$\n",
    " も設定できるようにしましょう。\n",
    "\n",
    "\n",
    "高さを入力すると、それを超えるのに必要な紙を折る最小回数を出力する関数"
   ]
  },
  {
   "cell_type": "code",
   "execution_count": 2,
   "id": "4e962309",
   "metadata": {},
   "outputs": [
    {
     "name": "stdout",
     "output_type": "stream",
     "text": [
      "厚さ: 4.7223664828696456e+16メートル、回数: 69回 \n"
     ]
    }
   ],
   "source": [
    "#高さを入力すると、それを超えるのに必要な紙を折る最小回数を出力する関数\n",
    "\n",
    "def folded_thickness_over(distance, thickness=0.00008):\n",
    "    num = 0\n",
    "    while thickness <= distance:\n",
    "        thickness *= 2\n",
    "        num += 1\n",
    "    return thickness, num\n",
    "\n",
    "#最も近い太陽以外の恒星(プロキシマ・ケンタウリ)の場合\n",
    "proxima_distance, proxima_num = folded_thickness_over(4.0175 * (10**16))\n",
    "print(\"厚さ: {}メートル、回数: {}回 \".format(proxima_distance, proxima_num))\n",
    "    "
   ]
  },
  {
   "cell_type": "markdown",
   "id": "0ef5913e",
   "metadata": {},
   "source": [
    "## 【問題3】必要な紙の長さ\n",
    "実際のところ身近にある紙は43回はおろか10回も折れません。しかし、大きな紙ほどたくさん折ることができ、トイレットペーパーのような長い紙を一方向に折ることを考えた時の折れる回数を求める公式が存在します。\n",
    "\n",
    "\n",
    "厚さ \n",
    "$t_{0}$\n",
    " の紙をn回折るために必要な紙の長さLは以下の公式で求まります。\n",
    " \n",
    " $$L=\\frac{πt_{0}}{6}(2^n+4)(2^n−1)$$\n",
    "\n",
    "この公式を利用して、実際に紙を折り任意の厚さに到達するために必要な紙の長さを求める関数を実装してください。\n",
    "\n",
    "\n",
    "そしてこれを使って「月」「富士山」「最も近い太陽以外の恒星」に届くために必要な紙の長さを求めてください。"
   ]
  },
  {
   "cell_type": "code",
   "execution_count": 8,
   "id": "e4de27c3",
   "metadata": {},
   "outputs": [
    {
     "name": "stdout",
     "output_type": "stream",
     "text": [
      "月に届くのに必要な紙の長さは3.240919444170781e+21m\n",
      "富士山に届くのに必要な紙の長さは188646348487.24017m\n",
      "プロキシマ・ケンタウリに届くのに必要な紙の長さは1.4595803601100348e+37m\n"
     ]
    }
   ],
   "source": [
    "import math\n",
    "def paper_length(number, thickness=0.00008):\n",
    "    a, b = folded_thickness_over(number)\n",
    "    l = (math.pi * thickness / 6) * (2**b + 4) * (2**b - 1)\n",
    "    return l\n",
    "\n",
    " #月に届くのに必要な紙の長さ: 月までの距離384400000m\n",
    "moon = paper_length(384400000)\n",
    "print(\"月に届くのに必要な紙の長さは{}m\".format(moon))\n",
    "\n",
    "#富士山に届くのに必要な紙の長さ： 富士山までの距離3776m\n",
    "fuji = paper_length(3776)\n",
    "print(\"富士山に届くのに必要な紙の長さは{}m\".format(fuji))\n",
    "\n",
    "#プロキシマ・ケンタウリに届くのに必要な紙の長さ；　プロキシマまでの距離4.0175×10^16\n",
    "proxim = paper_length(4.0175*10**16)\n",
    "print(\"プロキシマ・ケンタウリに届くのに必要な紙の長さは{}m\".format(proxim))\n",
    "    "
   ]
  }
 ],
 "metadata": {
  "kernelspec": {
   "display_name": "Python 3",
   "language": "python",
   "name": "python3"
  },
  "language_info": {
   "codemirror_mode": {
    "name": "ipython",
    "version": 3
   },
   "file_extension": ".py",
   "mimetype": "text/x-python",
   "name": "python",
   "nbconvert_exporter": "python",
   "pygments_lexer": "ipython3",
   "version": "3.8.8"
  }
 },
 "nbformat": 4,
 "nbformat_minor": 5
}
