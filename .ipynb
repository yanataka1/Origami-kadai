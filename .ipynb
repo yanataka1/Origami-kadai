{
 "cells": [
  {
   "cell_type": "code",
   "execution_count": 1,
   "id": "860e5baa-50ca-4d80-9ecd-5b70bb0f8dc3",
   "metadata": {},
   "outputs": [],
   "source": [
    "sdgf=0"
   ]
  },
  {
   "cell_type": "code",
   "execution_count": 2,
   "id": "989e93c1-af00-4bd9-85c1-02edc9c52563",
   "metadata": {},
   "outputs": [],
   "source": [
    "sdgf= 0"
   ]
  },
  {
   "cell_type": "code",
   "execution_count": 3,
   "id": "9ca83698-5704-4136-89ca-e1439c3217d1",
   "metadata": {},
   "outputs": [],
   "source": [
    "sdgt = 1"
   ]
  },
  {
   "cell_type": "code",
   "execution_count": null,
   "id": "1046a6d0-0d71-475d-a50b-86d44725e86f",
   "metadata": {},
   "outputs": [],
   "source": []
  }
 ],
 "metadata": {
  "kernelspec": {
   "display_name": "Python 3",
   "language": "python",
   "name": "python3"
  },
  "language_info": {
   "codemirror_mode": {
    "name": "ipython",
    "version": 3
   },
   "file_extension": ".py",
   "mimetype": "text/x-python",
   "name": "python",
   "nbconvert_exporter": "python",
   "pygments_lexer": "ipython3",
   "version": "3.8.8"
  }
 },
 "nbformat": 4,
 "nbformat_minor": 5
}
