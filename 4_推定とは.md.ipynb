{
 "cells": [
  {
   "cell_type": "markdown",
   "id": "d36a758d",
   "metadata": {},
   "source": [
    "# 推定とは\n",
    "## ゴール\n",
    "- **【Sprint 機械学習スクラッチ 線形回帰】を解くうえで必要な知識や技術について理解する**\n",
    "\n",
    "## このヒント集について\n",
    "### Sprintの目的\n",
    "- 線形回帰における推定の概念を理解する\n",
    "\n",
    "### どのように学ぶか\n",
    "\n",
    "【Sprint 機械学習スクラッチ 線形回帰】の目次と照らし合わせながら、進めていきましょう。\n",
    "\n",
    "## 推定\n",
    "### 推定とは\n",
    "パラメータを決定した後、そのパラメータを用いて、予測結果を出力しなければなりません。これを推定と言います。\n",
    "\n",
    "## 【問題3】推定\n",
    "\n",
    "【問題1】で既に、仮定関数の出力は実装しているかと思いますが、【問題1】で作成した関数は、クラスの外から呼び出せない仕様になっています。\n",
    "```predict```メソッドを作成して、予測値を出力できる様にしましょう。```predict```メソッドで更新されたパラメータを使うためには```self```を利用しましょう。\n",
    "\n",
    "## まとめ\n",
    "- 推定とは更新されたパラメータを利用して予測値を出力することです"
   ]
  },
  {
   "cell_type": "code",
   "execution_count": null,
   "id": "7c71e201",
   "metadata": {},
   "outputs": [],
   "source": []
  }
 ],
 "metadata": {
  "kernelspec": {
   "display_name": "Python 3",
   "language": "python",
   "name": "python3"
  },
  "language_info": {
   "codemirror_mode": {
    "name": "ipython",
    "version": 3
   },
   "file_extension": ".py",
   "mimetype": "text/x-python",
   "name": "python",
   "nbconvert_exporter": "python",
   "pygments_lexer": "ipython3",
   "version": "3.8.8"
  }
 },
 "nbformat": 4,
 "nbformat_minor": 5
}
