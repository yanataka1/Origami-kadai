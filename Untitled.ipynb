{
 "cells": [
  {
   "cell_type": "code",
   "execution_count": 6,
   "id": "ab3dd053",
   "metadata": {},
   "outputs": [],
   "source": [
    "import numpy as np\n",
    "import pandas as pd\n",
    "import matplotlib.pyplot as plt\n",
    "import seaborn as sns\n",
    "from numpy.random import *\n",
    "import random\n",
    "from sklearn.model_selection import train_test_split\n",
    "from sklearn.preprocessing import StandardScaler\n",
    "from sklearn.metrics import confusion_matrix\n",
    "sns.set()\n",
    "%matplotlib inline"
   ]
  },
  {
   "cell_type": "code",
   "execution_count": 48,
   "id": "fd12a81b",
   "metadata": {},
   "outputs": [],
   "source": [
    "def _gradient_descent(X,error,theta):\n",
    "    #global theta\n",
    "    error = y_hat - y\n",
    "    \n",
    "    #self.Theta = self.Theta - 0.01 * ((self.error.T * X).sum()) / x.shape[0]\n",
    "    theta = theta - alpha * (error.T @ X) / X.shape[0]\n",
    "    \n",
    "    return theta"
   ]
  },
  {
   "cell_type": "code",
   "execution_count": 49,
   "id": "f7f99807",
   "metadata": {},
   "outputs": [
    {
     "data": {
      "text/plain": [
       "array([[0.4   , 1.7125]])"
      ]
     },
     "execution_count": 49,
     "metadata": {},
     "output_type": "execute_result"
    }
   ],
   "source": [
    "#_gradient_descent()\n",
    "theta = np.array([[0,0]])\n",
    "\n",
    "\n",
    "x = np.linspace(1,6,5)\n",
    "y = 2*x + 1\n",
    "y = y.reshape(-1,1)\n",
    "X = np.c_[np.ones(5),x]\n",
    "alpha = 0.05\n",
    "y_hat = X @ theta.T\n",
    "#error = y_hat - y\n",
    "\n",
    "#theta = theta - alpha * (error.T @ X) / X.shape[0]\n",
    "_gradient_descent(X,error,theta)\n"
   ]
  },
  {
   "cell_type": "code",
   "execution_count": null,
   "id": "73e0599f",
   "metadata": {},
   "outputs": [],
   "source": []
  },
  {
   "cell_type": "code",
   "execution_count": null,
   "id": "bf2d993e",
   "metadata": {},
   "outputs": [],
   "source": []
  }
 ],
 "metadata": {
  "kernelspec": {
   "display_name": "Python 3",
   "language": "python",
   "name": "python3"
  },
  "language_info": {
   "codemirror_mode": {
    "name": "ipython",
    "version": 3
   },
   "file_extension": ".py",
   "mimetype": "text/x-python",
   "name": "python",
   "nbconvert_exporter": "python",
   "pygments_lexer": "ipython3",
   "version": "3.8.8"
  }
 },
 "nbformat": 4,
 "nbformat_minor": 5
}
