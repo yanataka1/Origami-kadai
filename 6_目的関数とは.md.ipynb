{
 "cells": [
  {
   "cell_type": "code",
   "execution_count": null,
   "id": "9c8e1799",
   "metadata": {},
   "outputs": [],
   "source": []
  },
  {
   "cell_type": "markdown",
   "id": "958554e4",
   "metadata": {},
   "source": [
    "# 目的関数　スクラッチ\n",
    "## ゴール\n",
    "- **【Sprint 機械学習スクラッチ 線形回帰】の【問題5】を解くうえで必要な知識や技術について理解する**\n",
    "\n",
    "### Sprintの目的\n",
    "- 目的関数について理解する\n",
    "- 目的関数の実装方法について理解する\n",
    "\n",
    "## どのように学ぶか\n",
    "\n",
    "【Sprint 機械学習スクラッチ 線形回帰】の【問題5】と照らし合わせながら、進めていきましょう。\n",
    "\n",
    "\n",
    "## 【問題5】目的関数\n",
    "\n",
    "目的関数は以下の式で表せます。\n",
    "$$\n",
    "J(\\theta)=  \\frac{1 }{ 2m}  \\sum_{i=1}^{m} (h_\\theta(x^{(i)})-y^{(i)})^2.\n",
    "$$\n",
    "平均二乗誤差をさらに2で割った式になります。最小化させるべき目的の関数という意味で目的関数と呼ばれます。\n",
    "\n",
    "### トイデータ\n",
    "\n",
    "作成した関数に、下記の変数を引数として与えてみましょう。\n",
    "\n",
    "```python\n",
    "import numpy as np\n",
    "y_pred = np.array([0,1,2,3,4,5])\n",
    "y = np.array([1,3,5,7,9,11])\n",
    "```\n",
    "\n",
    "戻り値として、下記の出力があれば、正常に作成できています。\n",
    "\n",
    "```python\n",
    "5.5\n",
    "```\n",
    "\n",
    "## まとめ\n",
    "- 目的関数は教師データと平均二乗誤差を2で割ったものと等価になります\n",
    "- numpyを使うことで簡単に計算することができます"
   ]
  },
  {
   "cell_type": "code",
   "execution_count": null,
   "id": "0e6d1ef2",
   "metadata": {},
   "outputs": [],
   "source": []
  }
 ],
 "metadata": {
  "kernelspec": {
   "display_name": "Python 3",
   "language": "python",
   "name": "python3"
  },
  "language_info": {
   "codemirror_mode": {
    "name": "ipython",
    "version": 3
   },
   "file_extension": ".py",
   "mimetype": "text/x-python",
   "name": "python",
   "nbconvert_exporter": "python",
   "pygments_lexer": "ipython3",
   "version": "3.8.8"
  }
 },
 "nbformat": 4,
 "nbformat_minor": 5
}
