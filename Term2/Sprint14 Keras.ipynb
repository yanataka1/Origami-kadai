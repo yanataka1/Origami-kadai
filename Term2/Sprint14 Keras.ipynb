{
 "cells": [
  {
   "cell_type": "markdown",
   "source": [
    "# Sprint 14　Keras"
   ],
   "metadata": {}
  },
  {
   "cell_type": "markdown",
   "source": [],
   "metadata": {}
  },
  {
   "cell_type": "markdown",
   "source": [
    "# ライブラリimport"
   ],
   "metadata": {}
  },
  {
   "cell_type": "code",
   "execution_count": 1,
   "source": [
    "import tensorflow as tf\r\n",
    "import matplotlib as mpl\r\n",
    "import matplotlib.pyplot as plt\r\n",
    "import numpy as np\r\n",
    "import os\r\n",
    "import pandas as pd\r\n",
    "from keras import backend as K\r\n",
    "from sklearn.model_selection import train_test_split\r\n",
    "from sklearn.preprocessing import StandardScaler\r\n",
    "from keras.optimizers import Adam\r\n",
    "from sklearn.datasets import load_iris\r\n",
    "from sklearn.preprocessing import OneHotEncoder\r\n",
    "from keras.datasets import mnist\r\n",
    "\r\n",
    "mpl.rcParams['figure.figsize'] = (8, 6)\r\n",
    "mpl.rcParams['axes.grid'] = False"
   ],
   "outputs": [],
   "metadata": {}
  },
  {
   "cell_type": "markdown",
   "source": [
    "# 問題1　公式チュートリアルモデルを分担して実行"
   ],
   "metadata": {}
  },
  {
   "cell_type": "markdown",
   "source": [
    "こちらのチュートリアルを実行：https://www.tensorflow.org/tutorials/quickstart/beginner"
   ],
   "metadata": {}
  },
  {
   "cell_type": "code",
   "execution_count": 2,
   "source": [
    "# MNIST読み込み\r\n",
    "mnist = tf.keras.datasets.mnist\r\n",
    "(x_train, y_train), (x_test, y_test) = mnist.load_data()\r\n",
    "\r\n",
    "# 正規化\r\n",
    "x_train, x_test = x_train / 255.0, x_test / 255.0"
   ],
   "outputs": [],
   "metadata": {}
  },
  {
   "cell_type": "code",
   "execution_count": 3,
   "source": [
    "# モデル王増の定義\r\n",
    "model = tf.keras.models.Sequential([\r\n",
    "  tf.keras.layers.Flatten(input_shape=(28, 28)),\r\n",
    "  tf.keras.layers.Dense(128, activation='relu'),\r\n",
    "  tf.keras.layers.Dropout(0.2),\r\n",
    "  tf.keras.layers.Dense(10)\r\n",
    "])"
   ],
   "outputs": [],
   "metadata": {}
  },
  {
   "cell_type": "code",
   "execution_count": 4,
   "source": [
    "# 予測値を出してみる（1データだけ使用）\r\n",
    "predictions = model(x_train[:1]).numpy()\r\n",
    "predictions"
   ],
   "outputs": [
    {
     "output_type": "execute_result",
     "data": {
      "text/plain": [
       "array([[-0.13093692, -0.47392577,  0.26107258,  0.35263106, -0.0790967 ,\n",
       "        -0.9014666 , -0.54679674,  0.05213387,  0.17111629, -0.5176721 ]],\n",
       "      dtype=float32)"
      ]
     },
     "metadata": {},
     "execution_count": 4
    }
   ],
   "metadata": {}
  },
  {
   "cell_type": "code",
   "execution_count": 5,
   "source": [
    "# softmax関数に通す\r\n",
    "tf.nn.softmax(predictions).numpy()"
   ],
   "outputs": [
    {
     "output_type": "execute_result",
     "data": {
      "text/plain": [
       "array([[0.09784736, 0.069437  , 0.14480938, 0.15869382, 0.10305357,\n",
       "        0.04528061, 0.06455702, 0.11750484, 0.13235159, 0.06646487]],\n",
       "      dtype=float32)"
      ]
     },
     "metadata": {},
     "execution_count": 5
    }
   ],
   "metadata": {}
  },
  {
   "cell_type": "code",
   "execution_count": 6,
   "source": [
    "# 損失関数定義\r\n",
    "loss_fn = tf.keras.losses.SparseCategoricalCrossentropy(from_logits=True)"
   ],
   "outputs": [],
   "metadata": {}
  },
  {
   "cell_type": "code",
   "execution_count": 7,
   "source": [
    "# 損失算出\r\n",
    "loss_fn(y_train[:1], predictions).numpy()"
   ],
   "outputs": [
    {
     "output_type": "execute_result",
     "data": {
      "text/plain": [
       "3.0948763"
      ]
     },
     "metadata": {},
     "execution_count": 7
    }
   ],
   "metadata": {}
  },
  {
   "cell_type": "code",
   "execution_count": 8,
   "source": [
    "# コンパイル（計算や予測を出来る状態にする）\r\n",
    "model.compile(\r\n",
    "    optimizer='adam',\r\n",
    "    loss=loss_fn,\r\n",
    "    metrics=['accuracy']\r\n",
    ")"
   ],
   "outputs": [],
   "metadata": {}
  },
  {
   "cell_type": "code",
   "execution_count": 9,
   "source": [
    "# 学習実行\r\n",
    "model.fit(x_train, y_train, epochs=5)"
   ],
   "outputs": [
    {
     "output_type": "stream",
     "name": "stdout",
     "text": [
      "Epoch 1/5\n",
      "1875/1875 [==============================] - 5s 3ms/step - loss: 0.2990 - accuracy: 0.9124\n",
      "Epoch 2/5\n",
      "1875/1875 [==============================] - 4s 2ms/step - loss: 0.1454 - accuracy: 0.9568\n",
      "Epoch 3/5\n",
      "1875/1875 [==============================] - 5s 2ms/step - loss: 0.1080 - accuracy: 0.9671\n",
      "Epoch 4/5\n",
      "1875/1875 [==============================] - 3s 2ms/step - loss: 0.0884 - accuracy: 0.9729\n",
      "Epoch 5/5\n",
      "1875/1875 [==============================] - 4s 2ms/step - loss: 0.0757 - accuracy: 0.9766\n"
     ]
    },
    {
     "output_type": "execute_result",
     "data": {
      "text/plain": [
       "<tensorflow.python.keras.callbacks.History at 0x20a69033640>"
      ]
     },
     "metadata": {},
     "execution_count": 9
    }
   ],
   "metadata": {}
  },
  {
   "cell_type": "code",
   "execution_count": 10,
   "source": [
    "# 評価(損失とACC)\r\n",
    "model.evaluate(x_test,  y_test, verbose=3)"
   ],
   "outputs": [
    {
     "output_type": "execute_result",
     "data": {
      "text/plain": [
       "[0.07326526194810867, 0.9776999950408936]"
      ]
     },
     "metadata": {},
     "execution_count": 10
    }
   ],
   "metadata": {}
  },
  {
   "cell_type": "code",
   "execution_count": 11,
   "source": [
    "# モデルが直接確率を返してくれるようにする\r\n",
    "probability_model = tf.keras.Sequential([\r\n",
    "  model,\r\n",
    "  tf.keras.layers.Softmax()\r\n",
    "])"
   ],
   "outputs": [],
   "metadata": {}
  },
  {
   "cell_type": "code",
   "execution_count": 12,
   "source": [
    "# 試しに予測\r\n",
    "probability_model(x_test[:5])"
   ],
   "outputs": [
    {
     "output_type": "execute_result",
     "data": {
      "text/plain": [
       "<tf.Tensor: shape=(5, 10), dtype=float32, numpy=\n",
       "array([[8.3041796e-09, 5.6546340e-10, 1.0115916e-05, 5.3007196e-05,\n",
       "        5.4635467e-12, 1.8159639e-07, 2.8282157e-14, 9.9992692e-01,\n",
       "        1.8998624e-07, 9.5465602e-06],\n",
       "       [1.2725554e-08, 1.6306241e-05, 9.9997079e-01, 1.2123411e-05,\n",
       "        2.0013726e-12, 4.6414650e-07, 2.1152909e-08, 2.1683359e-14,\n",
       "        2.2905856e-07, 4.3922043e-11],\n",
       "       [9.4939040e-08, 9.9940300e-01, 8.9352703e-05, 1.3640619e-05,\n",
       "        2.9713123e-05, 3.0299407e-06, 3.1929144e-06, 3.9627586e-04,\n",
       "        6.1507861e-05, 3.4474957e-07],\n",
       "       [9.9968910e-01, 1.8258562e-07, 3.8924311e-05, 9.3883294e-08,\n",
       "        3.5771245e-07, 5.4292595e-06, 2.3342160e-04, 2.5478857e-05,\n",
       "        8.0399296e-09, 6.8240870e-06],\n",
       "       [2.0514960e-06, 7.9705620e-09, 3.0756717e-06, 6.9470184e-07,\n",
       "        9.9769837e-01, 2.9296822e-07, 5.1633247e-05, 2.2097697e-04,\n",
       "        5.1294965e-06, 2.0178349e-03]], dtype=float32)>"
      ]
     },
     "metadata": {},
     "execution_count": 12
    }
   ],
   "metadata": {}
  },
  {
   "cell_type": "markdown",
   "source": [
    "# 問題3"
   ],
   "metadata": {}
  },
  {
   "cell_type": "markdown",
   "source": [
    "## データ準備"
   ],
   "metadata": {}
  },
  {
   "cell_type": "code",
   "execution_count": 13,
   "source": [
    "# 読み込み\r\n",
    "iris_dataset = load_iris()\r\n",
    "\r\n",
    "# 整形\r\n",
    "iris_dataframe = pd.DataFrame(data=iris_dataset.data, columns=iris_dataset.feature_names)\r\n",
    "iris_datalabel = pd.DataFrame(data=iris_dataset.target,columns=['Species'])\r\n",
    "df = pd.concat([iris_dataframe,iris_datalabel],axis=1)"
   ],
   "outputs": [],
   "metadata": {}
  },
  {
   "cell_type": "code",
   "execution_count": 14,
   "source": [
    "# 2値分類のため絞り込み\r\n",
    "df2 = df[(df[\"Species\"] == 0)|(df[\"Species\"] == 1)]\r\n",
    "\r\n",
    "# 説明変数と目的変数に分割\r\n",
    "y = df2[\"Species\"]\r\n",
    "X = df2.loc[:, [\"sepal length (cm)\", \"sepal width (cm)\", \"petal length (cm)\", \"petal width (cm)\"]]\r\n",
    "y = np.array(y)\r\n",
    "X = np.array(X)\r\n",
    "y = y.astype(np.int)[:, np.newaxis]\r\n",
    "\r\n",
    "# 訓練データ/テストデータ/評価データに分割\r\n",
    "X_train, X_test, y_train, y_test = train_test_split(X, y, test_size=0.2, random_state=0)\r\n",
    "X_train, X_val, y_train, y_val = train_test_split(X_train, y_train, test_size=0.2, random_state=0)\r\n",
    "\r\n",
    "# 正規化\r\n",
    "X_train /= 255\r\n",
    "X_test /= 255\r\n",
    "X_val /= 255"
   ],
   "outputs": [
    {
     "output_type": "stream",
     "name": "stderr",
     "text": [
      "<ipython-input-14-74baac333f80>:9: DeprecationWarning: `np.int` is a deprecated alias for the builtin `int`. To silence this warning, use `int` by itself. Doing this will not modify any behavior and is safe. When replacing `np.int`, you may wish to use e.g. `np.int64` or `np.int32` to specify the precision. If you wish to review your current use, check the release note link for additional information.\n",
      "Deprecated in NumPy 1.20; for more details and guidance: https://numpy.org/devdocs/release/1.20.0-notes.html#deprecations\n",
      "  y = y.astype(np.int)[:, np.newaxis]\n"
     ]
    }
   ],
   "metadata": {}
  },
  {
   "cell_type": "markdown",
   "source": [
    "## モデル定義"
   ],
   "metadata": {}
  },
  {
   "cell_type": "code",
   "execution_count": 15,
   "source": [
    "model = tf.keras.Sequential()\r\n",
    "model.add(tf.keras.layers.Dense(50, activation = tf.nn.relu, input_shape=(4,)))\r\n",
    "model.add(tf.keras.layers.Dense(100))\r\n",
    "model.add(tf.keras.layers.Dense(1, activation = tf.nn.sigmoid))"
   ],
   "outputs": [],
   "metadata": {}
  },
  {
   "cell_type": "code",
   "execution_count": 16,
   "source": [
    "# モデル構造の確認\r\n",
    "model.summary()"
   ],
   "outputs": [
    {
     "output_type": "stream",
     "name": "stdout",
     "text": [
      "Model: \"sequential_2\"\n",
      "_________________________________________________________________\n",
      "Layer (type)                 Output Shape              Param #   \n",
      "=================================================================\n",
      "dense_2 (Dense)              (None, 50)                250       \n",
      "_________________________________________________________________\n",
      "dense_3 (Dense)              (None, 100)               5100      \n",
      "_________________________________________________________________\n",
      "dense_4 (Dense)              (None, 1)                 101       \n",
      "=================================================================\n",
      "Total params: 5,451\n",
      "Trainable params: 5,451\n",
      "Non-trainable params: 0\n",
      "_________________________________________________________________\n"
     ]
    }
   ],
   "metadata": {}
  },
  {
   "cell_type": "code",
   "execution_count": 17,
   "source": [
    "# 損失が3回改善しなかったら早期学習終了\r\n",
    "callback = tf.keras.callbacks.EarlyStopping(monitor='loss', patience=3)"
   ],
   "outputs": [],
   "metadata": {}
  },
  {
   "cell_type": "code",
   "execution_count": 18,
   "source": [
    "# モデルのコンパイル\r\n",
    "model.compile(\r\n",
    "    loss='binary_crossentropy',\r\n",
    "    optimizer=tf.optimizers.Adam(learning_rate=0.01),\r\n",
    "    metrics=['accuracy']\r\n",
    ")"
   ],
   "outputs": [],
   "metadata": {}
  },
  {
   "cell_type": "code",
   "execution_count": 19,
   "source": [
    "# 学習実行\r\n",
    "model.fit(\r\n",
    "    X_train,\r\n",
    "    y_train,\r\n",
    "    batch_size=10,\r\n",
    "    epochs=100,\r\n",
    "    verbose=1,\r\n",
    "    callbacks=[callback],\r\n",
    "    validation_data=(X_val, y_val)\r\n",
    ")"
   ],
   "outputs": [
    {
     "output_type": "stream",
     "name": "stdout",
     "text": [
      "Epoch 1/100\n",
      "7/7 [==============================] - 0s 30ms/step - loss: 0.6986 - accuracy: 0.5312 - val_loss: 0.7122 - val_accuracy: 0.3750\n",
      "Epoch 2/100\n",
      "7/7 [==============================] - 0s 6ms/step - loss: 0.6911 - accuracy: 0.5312 - val_loss: 0.7110 - val_accuracy: 0.3750\n",
      "Epoch 3/100\n",
      "7/7 [==============================] - 0s 7ms/step - loss: 0.7003 - accuracy: 0.4062 - val_loss: 0.6720 - val_accuracy: 0.6250\n",
      "Epoch 4/100\n",
      "7/7 [==============================] - 0s 7ms/step - loss: 0.6800 - accuracy: 0.4844 - val_loss: 0.7139 - val_accuracy: 0.3750\n",
      "Epoch 5/100\n",
      "7/7 [==============================] - 0s 7ms/step - loss: 0.6821 - accuracy: 0.5312 - val_loss: 0.7098 - val_accuracy: 0.3750\n",
      "Epoch 6/100\n",
      "7/7 [==============================] - 0s 4ms/step - loss: 0.6625 - accuracy: 0.6562 - val_loss: 0.6427 - val_accuracy: 0.8750\n",
      "Epoch 7/100\n",
      "7/7 [==============================] - 0s 7ms/step - loss: 0.6604 - accuracy: 0.6406 - val_loss: 0.6316 - val_accuracy: 1.0000\n",
      "Epoch 8/100\n",
      "7/7 [==============================] - 0s 6ms/step - loss: 0.6271 - accuracy: 0.6094 - val_loss: 0.6380 - val_accuracy: 0.3750\n",
      "Epoch 9/100\n",
      "7/7 [==============================] - 0s 4ms/step - loss: 0.5700 - accuracy: 0.7969 - val_loss: 0.4961 - val_accuracy: 1.0000\n",
      "Epoch 10/100\n",
      "7/7 [==============================] - 0s 5ms/step - loss: 0.4877 - accuracy: 0.8281 - val_loss: 0.3718 - val_accuracy: 1.0000\n",
      "Epoch 11/100\n",
      "7/7 [==============================] - 0s 4ms/step - loss: 0.4321 - accuracy: 0.9219 - val_loss: 0.2603 - val_accuracy: 1.0000\n",
      "Epoch 12/100\n",
      "7/7 [==============================] - 0s 4ms/step - loss: 0.3085 - accuracy: 0.8906 - val_loss: 0.2035 - val_accuracy: 0.9375\n",
      "Epoch 13/100\n",
      "7/7 [==============================] - 0s 5ms/step - loss: 0.3715 - accuracy: 0.7656 - val_loss: 0.0942 - val_accuracy: 1.0000\n",
      "Epoch 14/100\n",
      "7/7 [==============================] - 0s 7ms/step - loss: 0.1554 - accuracy: 0.9688 - val_loss: 0.1401 - val_accuracy: 1.0000\n",
      "Epoch 15/100\n",
      "7/7 [==============================] - 0s 7ms/step - loss: 0.1150 - accuracy: 1.0000 - val_loss: 0.0414 - val_accuracy: 1.0000\n",
      "Epoch 16/100\n",
      "7/7 [==============================] - 0s 4ms/step - loss: 0.0798 - accuracy: 1.0000 - val_loss: 0.0339 - val_accuracy: 1.0000\n",
      "Epoch 17/100\n",
      "7/7 [==============================] - 0s 7ms/step - loss: 0.0583 - accuracy: 0.9844 - val_loss: 0.0569 - val_accuracy: 1.0000\n",
      "Epoch 18/100\n",
      "7/7 [==============================] - 0s 7ms/step - loss: 0.0422 - accuracy: 1.0000 - val_loss: 0.0202 - val_accuracy: 1.0000\n",
      "Epoch 19/100\n",
      "7/7 [==============================] - 0s 7ms/step - loss: 0.0365 - accuracy: 1.0000 - val_loss: 0.0184 - val_accuracy: 1.0000\n",
      "Epoch 20/100\n",
      "7/7 [==============================] - 0s 7ms/step - loss: 0.0142 - accuracy: 1.0000 - val_loss: 0.0069 - val_accuracy: 1.0000\n",
      "Epoch 21/100\n",
      "7/7 [==============================] - 0s 7ms/step - loss: 0.0152 - accuracy: 1.0000 - val_loss: 0.0089 - val_accuracy: 1.0000\n",
      "Epoch 22/100\n",
      "7/7 [==============================] - 0s 7ms/step - loss: 0.0114 - accuracy: 1.0000 - val_loss: 0.0044 - val_accuracy: 1.0000\n",
      "Epoch 23/100\n",
      "7/7 [==============================] - 0s 7ms/step - loss: 0.0086 - accuracy: 1.0000 - val_loss: 0.0048 - val_accuracy: 1.0000\n",
      "Epoch 24/100\n",
      "7/7 [==============================] - 0s 9ms/step - loss: 0.0099 - accuracy: 1.0000 - val_loss: 0.0038 - val_accuracy: 1.0000\n",
      "Epoch 25/100\n",
      "7/7 [==============================] - 0s 6ms/step - loss: 0.0063 - accuracy: 1.0000 - val_loss: 0.0028 - val_accuracy: 1.0000\n",
      "Epoch 26/100\n",
      "7/7 [==============================] - 0s 5ms/step - loss: 0.0075 - accuracy: 1.0000 - val_loss: 0.0031 - val_accuracy: 1.0000\n",
      "Epoch 27/100\n",
      "7/7 [==============================] - 0s 2ms/step - loss: 0.0070 - accuracy: 1.0000 - val_loss: 0.0030 - val_accuracy: 1.0000\n",
      "Epoch 28/100\n",
      "7/7 [==============================] - 0s 4ms/step - loss: 0.0059 - accuracy: 1.0000 - val_loss: 0.0020 - val_accuracy: 1.0000\n",
      "Epoch 29/100\n",
      "7/7 [==============================] - 0s 4ms/step - loss: 0.0049 - accuracy: 1.0000 - val_loss: 0.0028 - val_accuracy: 1.0000\n",
      "Epoch 30/100\n",
      "7/7 [==============================] - 0s 4ms/step - loss: 0.0051 - accuracy: 1.0000 - val_loss: 0.0022 - val_accuracy: 1.0000\n",
      "Epoch 31/100\n",
      "7/7 [==============================] - 0s 4ms/step - loss: 0.0047 - accuracy: 1.0000 - val_loss: 0.0015 - val_accuracy: 1.0000\n",
      "Epoch 32/100\n",
      "7/7 [==============================] - 0s 4ms/step - loss: 0.0048 - accuracy: 1.0000 - val_loss: 0.0026 - val_accuracy: 1.0000\n",
      "Epoch 33/100\n",
      "7/7 [==============================] - 0s 2ms/step - loss: 0.0040 - accuracy: 1.0000 - val_loss: 0.0014 - val_accuracy: 1.0000\n",
      "Epoch 34/100\n",
      "7/7 [==============================] - 0s 4ms/step - loss: 0.0041 - accuracy: 1.0000 - val_loss: 0.0014 - val_accuracy: 1.0000\n",
      "Epoch 35/100\n",
      "7/7 [==============================] - 0s 4ms/step - loss: 0.0033 - accuracy: 1.0000 - val_loss: 0.0016 - val_accuracy: 1.0000\n",
      "Epoch 36/100\n",
      "7/7 [==============================] - 0s 7ms/step - loss: 0.0032 - accuracy: 1.0000 - val_loss: 0.0012 - val_accuracy: 1.0000\n",
      "Epoch 37/100\n",
      "7/7 [==============================] - 0s 5ms/step - loss: 0.0029 - accuracy: 1.0000 - val_loss: 0.0012 - val_accuracy: 1.0000\n",
      "Epoch 38/100\n",
      "7/7 [==============================] - 0s 2ms/step - loss: 0.0029 - accuracy: 1.0000 - val_loss: 0.0012 - val_accuracy: 1.0000\n",
      "Epoch 39/100\n",
      "7/7 [==============================] - 0s 5ms/step - loss: 0.0027 - accuracy: 1.0000 - val_loss: 0.0010 - val_accuracy: 1.0000\n",
      "Epoch 40/100\n",
      "7/7 [==============================] - 0s 4ms/step - loss: 0.0025 - accuracy: 1.0000 - val_loss: 0.0010 - val_accuracy: 1.0000\n",
      "Epoch 41/100\n",
      "7/7 [==============================] - 0s 5ms/step - loss: 0.0024 - accuracy: 1.0000 - val_loss: 8.9948e-04 - val_accuracy: 1.0000\n",
      "Epoch 42/100\n",
      "7/7 [==============================] - 0s 4ms/step - loss: 0.0024 - accuracy: 1.0000 - val_loss: 7.9460e-04 - val_accuracy: 1.0000\n",
      "Epoch 43/100\n",
      "7/7 [==============================] - 0s 7ms/step - loss: 0.0024 - accuracy: 1.0000 - val_loss: 0.0011 - val_accuracy: 1.0000\n",
      "Epoch 44/100\n",
      "7/7 [==============================] - 0s 4ms/step - loss: 0.0021 - accuracy: 1.0000 - val_loss: 7.1607e-04 - val_accuracy: 1.0000\n",
      "Epoch 45/100\n",
      "7/7 [==============================] - 0s 4ms/step - loss: 0.0023 - accuracy: 1.0000 - val_loss: 6.5726e-04 - val_accuracy: 1.0000\n",
      "Epoch 46/100\n",
      "7/7 [==============================] - 0s 4ms/step - loss: 0.0027 - accuracy: 1.0000 - val_loss: 0.0013 - val_accuracy: 1.0000\n",
      "Epoch 47/100\n",
      "7/7 [==============================] - 0s 4ms/step - loss: 0.0019 - accuracy: 1.0000 - val_loss: 5.3676e-04 - val_accuracy: 1.0000\n",
      "Epoch 48/100\n",
      "7/7 [==============================] - 0s 4ms/step - loss: 0.0021 - accuracy: 1.0000 - val_loss: 5.3685e-04 - val_accuracy: 1.0000\n",
      "Epoch 49/100\n",
      "7/7 [==============================] - 0s 4ms/step - loss: 0.0017 - accuracy: 1.0000 - val_loss: 7.4553e-04 - val_accuracy: 1.0000\n",
      "Epoch 50/100\n",
      "7/7 [==============================] - 0s 4ms/step - loss: 0.0017 - accuracy: 1.0000 - val_loss: 5.7591e-04 - val_accuracy: 1.0000\n",
      "Epoch 51/100\n",
      "7/7 [==============================] - 0s 7ms/step - loss: 0.0018 - accuracy: 1.0000 - val_loss: 5.1106e-04 - val_accuracy: 1.0000\n",
      "Epoch 52/100\n",
      "7/7 [==============================] - 0s 4ms/step - loss: 0.0015 - accuracy: 1.0000 - val_loss: 5.6837e-04 - val_accuracy: 1.0000\n",
      "Epoch 53/100\n",
      "7/7 [==============================] - 0s 4ms/step - loss: 0.0014 - accuracy: 1.0000 - val_loss: 4.4567e-04 - val_accuracy: 1.0000\n",
      "Epoch 54/100\n",
      "7/7 [==============================] - 0s 2ms/step - loss: 0.0014 - accuracy: 1.0000 - val_loss: 4.5222e-04 - val_accuracy: 1.0000\n",
      "Epoch 55/100\n",
      "7/7 [==============================] - 0s 4ms/step - loss: 0.0014 - accuracy: 1.0000 - val_loss: 4.7171e-04 - val_accuracy: 1.0000\n",
      "Epoch 56/100\n",
      "7/7 [==============================] - 0s 4ms/step - loss: 0.0013 - accuracy: 1.0000 - val_loss: 4.6193e-04 - val_accuracy: 1.0000\n",
      "Epoch 57/100\n",
      "7/7 [==============================] - 0s 4ms/step - loss: 0.0012 - accuracy: 1.0000 - val_loss: 4.1761e-04 - val_accuracy: 1.0000\n",
      "Epoch 58/100\n",
      "7/7 [==============================] - 0s 4ms/step - loss: 0.0012 - accuracy: 1.0000 - val_loss: 3.4242e-04 - val_accuracy: 1.0000\n",
      "Epoch 59/100\n",
      "7/7 [==============================] - 0s 4ms/step - loss: 0.0013 - accuracy: 1.0000 - val_loss: 3.9373e-04 - val_accuracy: 1.0000\n",
      "Epoch 60/100\n",
      "7/7 [==============================] - 0s 2ms/step - loss: 0.0011 - accuracy: 1.0000 - val_loss: 3.6268e-04 - val_accuracy: 1.0000\n",
      "Epoch 61/100\n",
      "7/7 [==============================] - 0s 3ms/step - loss: 0.0011 - accuracy: 1.0000 - val_loss: 3.5731e-04 - val_accuracy: 1.0000\n",
      "Epoch 62/100\n",
      "7/7 [==============================] - 0s 7ms/step - loss: 0.0011 - accuracy: 1.0000 - val_loss: 3.3649e-04 - val_accuracy: 1.0000\n",
      "Epoch 63/100\n",
      "7/7 [==============================] - 0s 8ms/step - loss: 0.0011 - accuracy: 1.0000 - val_loss: 3.8241e-04 - val_accuracy: 1.0000\n",
      "Epoch 64/100\n",
      "7/7 [==============================] - 0s 7ms/step - loss: 9.9477e-04 - accuracy: 1.0000 - val_loss: 2.9169e-04 - val_accuracy: 1.0000\n",
      "Epoch 65/100\n",
      "7/7 [==============================] - 0s 7ms/step - loss: 9.9686e-04 - accuracy: 1.0000 - val_loss: 2.7556e-04 - val_accuracy: 1.0000\n",
      "Epoch 66/100\n",
      "7/7 [==============================] - 0s 6ms/step - loss: 9.5438e-04 - accuracy: 1.0000 - val_loss: 2.7287e-04 - val_accuracy: 1.0000\n",
      "Epoch 67/100\n",
      "7/7 [==============================] - 0s 7ms/step - loss: 9.2752e-04 - accuracy: 1.0000 - val_loss: 2.7672e-04 - val_accuracy: 1.0000\n",
      "Epoch 68/100\n",
      "7/7 [==============================] - 0s 2ms/step - loss: 9.2651e-04 - accuracy: 1.0000 - val_loss: 3.0068e-04 - val_accuracy: 1.0000\n",
      "Epoch 69/100\n",
      "7/7 [==============================] - 0s 2ms/step - loss: 8.6397e-04 - accuracy: 1.0000 - val_loss: 2.5129e-04 - val_accuracy: 1.0000\n",
      "Epoch 70/100\n",
      "7/7 [==============================] - 0s 4ms/step - loss: 9.1043e-04 - accuracy: 1.0000 - val_loss: 2.1060e-04 - val_accuracy: 1.0000\n",
      "Epoch 71/100\n",
      "7/7 [==============================] - 0s 7ms/step - loss: 8.9069e-04 - accuracy: 1.0000 - val_loss: 2.8655e-04 - val_accuracy: 1.0000\n",
      "Epoch 72/100\n",
      "7/7 [==============================] - 0s 7ms/step - loss: 8.4354e-04 - accuracy: 1.0000 - val_loss: 2.4613e-04 - val_accuracy: 1.0000\n",
      "Epoch 73/100\n",
      "7/7 [==============================] - 0s 7ms/step - loss: 7.6728e-04 - accuracy: 1.0000 - val_loss: 3.0400e-04 - val_accuracy: 1.0000\n",
      "Epoch 74/100\n",
      "7/7 [==============================] - 0s 5ms/step - loss: 8.0361e-04 - accuracy: 1.0000 - val_loss: 2.4164e-04 - val_accuracy: 1.0000\n",
      "Epoch 75/100\n",
      "7/7 [==============================] - 0s 4ms/step - loss: 7.9020e-04 - accuracy: 1.0000 - val_loss: 1.9740e-04 - val_accuracy: 1.0000\n",
      "Epoch 76/100\n",
      "7/7 [==============================] - 0s 4ms/step - loss: 7.2502e-04 - accuracy: 1.0000 - val_loss: 2.1858e-04 - val_accuracy: 1.0000\n",
      "Epoch 77/100\n",
      "7/7 [==============================] - 0s 5ms/step - loss: 7.4489e-04 - accuracy: 1.0000 - val_loss: 2.2430e-04 - val_accuracy: 1.0000\n",
      "Epoch 78/100\n",
      "7/7 [==============================] - 0s 4ms/step - loss: 6.8153e-04 - accuracy: 1.0000 - val_loss: 1.8813e-04 - val_accuracy: 1.0000\n",
      "Epoch 79/100\n",
      "7/7 [==============================] - 0s 7ms/step - loss: 6.6471e-04 - accuracy: 1.0000 - val_loss: 1.7335e-04 - val_accuracy: 1.0000\n",
      "Epoch 80/100\n",
      "7/7 [==============================] - 0s 7ms/step - loss: 6.8261e-04 - accuracy: 1.0000 - val_loss: 1.8909e-04 - val_accuracy: 1.0000\n",
      "Epoch 81/100\n",
      "7/7 [==============================] - 0s 4ms/step - loss: 6.4367e-04 - accuracy: 1.0000 - val_loss: 1.8371e-04 - val_accuracy: 1.0000\n",
      "Epoch 82/100\n",
      "7/7 [==============================] - 0s 7ms/step - loss: 6.6804e-04 - accuracy: 1.0000 - val_loss: 1.6070e-04 - val_accuracy: 1.0000\n",
      "Epoch 83/100\n",
      "7/7 [==============================] - 0s 7ms/step - loss: 6.3879e-04 - accuracy: 1.0000 - val_loss: 2.6882e-04 - val_accuracy: 1.0000\n",
      "Epoch 84/100\n",
      "7/7 [==============================] - 0s 7ms/step - loss: 6.5397e-04 - accuracy: 1.0000 - val_loss: 1.7289e-04 - val_accuracy: 1.0000\n",
      "Epoch 85/100\n",
      "7/7 [==============================] - 0s 5ms/step - loss: 7.0276e-04 - accuracy: 1.0000 - val_loss: 1.2345e-04 - val_accuracy: 1.0000\n",
      "Epoch 86/100\n",
      "7/7 [==============================] - 0s 4ms/step - loss: 6.2603e-04 - accuracy: 1.0000 - val_loss: 1.7198e-04 - val_accuracy: 1.0000\n",
      "Epoch 87/100\n",
      "7/7 [==============================] - 0s 7ms/step - loss: 5.7854e-04 - accuracy: 1.0000 - val_loss: 1.7200e-04 - val_accuracy: 1.0000\n",
      "Epoch 88/100\n",
      "7/7 [==============================] - 0s 4ms/step - loss: 5.8505e-04 - accuracy: 1.0000 - val_loss: 1.3059e-04 - val_accuracy: 1.0000\n",
      "Epoch 89/100\n",
      "7/7 [==============================] - 0s 4ms/step - loss: 5.6630e-04 - accuracy: 1.0000 - val_loss: 1.2953e-04 - val_accuracy: 1.0000\n",
      "Epoch 90/100\n",
      "7/7 [==============================] - 0s 4ms/step - loss: 5.2153e-04 - accuracy: 1.0000 - val_loss: 1.4714e-04 - val_accuracy: 1.0000\n",
      "Epoch 91/100\n",
      "7/7 [==============================] - 0s 4ms/step - loss: 5.1109e-04 - accuracy: 1.0000 - val_loss: 1.5355e-04 - val_accuracy: 1.0000\n",
      "Epoch 92/100\n",
      "7/7 [==============================] - 0s 7ms/step - loss: 5.0382e-04 - accuracy: 1.0000 - val_loss: 1.3514e-04 - val_accuracy: 1.0000\n",
      "Epoch 93/100\n",
      "7/7 [==============================] - 0s 4ms/step - loss: 4.9966e-04 - accuracy: 1.0000 - val_loss: 1.2495e-04 - val_accuracy: 1.0000\n",
      "Epoch 94/100\n",
      "7/7 [==============================] - 0s 4ms/step - loss: 4.7630e-04 - accuracy: 1.0000 - val_loss: 1.1387e-04 - val_accuracy: 1.0000\n",
      "Epoch 95/100\n",
      "7/7 [==============================] - 0s 4ms/step - loss: 5.0238e-04 - accuracy: 1.0000 - val_loss: 1.0397e-04 - val_accuracy: 1.0000\n",
      "Epoch 96/100\n",
      "7/7 [==============================] - 0s 4ms/step - loss: 5.3659e-04 - accuracy: 1.0000 - val_loss: 1.4701e-04 - val_accuracy: 1.0000\n",
      "Epoch 97/100\n",
      "7/7 [==============================] - 0s 4ms/step - loss: 4.6595e-04 - accuracy: 1.0000 - val_loss: 1.1341e-04 - val_accuracy: 1.0000\n",
      "Epoch 98/100\n",
      "7/7 [==============================] - 0s 4ms/step - loss: 4.4497e-04 - accuracy: 1.0000 - val_loss: 1.0198e-04 - val_accuracy: 1.0000\n",
      "Epoch 99/100\n",
      "7/7 [==============================] - 0s 2ms/step - loss: 4.4323e-04 - accuracy: 1.0000 - val_loss: 1.0259e-04 - val_accuracy: 1.0000\n",
      "Epoch 100/100\n",
      "7/7 [==============================] - 0s 4ms/step - loss: 4.3467e-04 - accuracy: 1.0000 - val_loss: 9.4660e-05 - val_accuracy: 1.0000\n"
     ]
    },
    {
     "output_type": "execute_result",
     "data": {
      "text/plain": [
       "<tensorflow.python.keras.callbacks.History at 0x20a7b4cbeb0>"
      ]
     },
     "metadata": {},
     "execution_count": 19
    }
   ],
   "metadata": {
    "scrolled": true
   }
  },
  {
   "cell_type": "code",
   "execution_count": 20,
   "source": [
    "# 2値分類のうちどちらに分類されるか\r\n",
    "y_pred_proba = model.predict(X_test)[:, 0]\r\n",
    "y_pred = np.where(y_pred_proba >0.5, 1, 0)\r\n",
    "print(\"y_pred_proba\", y_pred_proba)\r\n",
    "print(\"y_pred\", y_pred)\r\n",
    "print('y_test', y_test.ravel())"
   ],
   "outputs": [
    {
     "output_type": "stream",
     "name": "stdout",
     "text": [
      "y_pred_proba [6.7043304e-04 9.9999952e-01 6.5224071e-05 9.9999660e-01 9.9999797e-01\n",
      " 9.9707991e-01 9.1292561e-05 9.9999815e-01 9.9999940e-01 9.9996769e-01\n",
      " 9.9998474e-01 9.9996465e-01 9.9999869e-01 1.5782511e-05 1.4558434e-04\n",
      " 3.4368038e-04 7.3590263e-06 7.8523159e-04 3.0973708e-05 1.4168024e-04]\n",
      "y_pred [0 1 0 1 1 1 0 1 1 1 1 1 1 0 0 0 0 0 0 0]\n",
      "y_test [0 1 0 1 1 1 0 1 1 1 1 1 1 0 0 0 0 0 0 0]\n"
     ]
    }
   ],
   "metadata": {}
  },
  {
   "cell_type": "code",
   "execution_count": 21,
   "source": [
    "# 損失とACC\r\n",
    "score = model.evaluate(X_test, y_test, verbose=0)\r\n",
    "print('test loss:', score[0])\r\n",
    "print('test accuracy:', score[1])"
   ],
   "outputs": [
    {
     "output_type": "stream",
     "name": "stdout",
     "text": [
      "test loss: 0.00026573744253255427\n",
      "test accuracy: 1.0\n"
     ]
    }
   ],
   "metadata": {}
  },
  {
   "cell_type": "markdown",
   "source": [
    "# 問題4"
   ],
   "metadata": {}
  },
  {
   "cell_type": "markdown",
   "source": [
    "## データ準備"
   ],
   "metadata": {}
  },
  {
   "cell_type": "code",
   "execution_count": 22,
   "source": [
    "# 説明変数と目的変数に分割\r\n",
    "y = df[\"Species\"]\r\n",
    "X = df.loc[:, [\"sepal length (cm)\", \"sepal width (cm)\", \"petal length (cm)\", \"petal width (cm)\"]]\r\n",
    "y = np.array(y)\r\n",
    "X = np.array(X)\r\n",
    "y = y.astype(np.int)[:, np.newaxis]\r\n",
    "\r\n",
    "# 訓練データ/テストデータ/評価データに分割\r\n",
    "X_train, X_test, y_train, y_test = train_test_split(X, y, test_size=0.2, random_state=0)\r\n",
    "X_train, X_val, y_train, y_val = train_test_split(X_train, y_train, test_size=0.2, random_state=0)\r\n",
    "\r\n",
    "# onehotベクトル化\r\n",
    "enc = OneHotEncoder(handle_unknown='ignore', sparse=False)\r\n",
    "y_train_one_hot = enc.fit_transform(y_train)\r\n",
    "y_val_one_hot = enc.transform(y_val)\r\n",
    "y_test_one_hot = enc.transform(y_test)\r\n",
    "\r\n",
    "# 正規化\r\n",
    "X_train /= 255\r\n",
    "X_test /= 255\r\n",
    "X_val /= 255"
   ],
   "outputs": [
    {
     "output_type": "stream",
     "name": "stderr",
     "text": [
      "<ipython-input-22-2db749e1cff2>:6: DeprecationWarning: `np.int` is a deprecated alias for the builtin `int`. To silence this warning, use `int` by itself. Doing this will not modify any behavior and is safe. When replacing `np.int`, you may wish to use e.g. `np.int64` or `np.int32` to specify the precision. If you wish to review your current use, check the release note link for additional information.\n",
      "Deprecated in NumPy 1.20; for more details and guidance: https://numpy.org/devdocs/release/1.20.0-notes.html#deprecations\n",
      "  y = y.astype(np.int)[:, np.newaxis]\n"
     ]
    }
   ],
   "metadata": {}
  },
  {
   "cell_type": "markdown",
   "source": [
    "## モデル定義"
   ],
   "metadata": {}
  },
  {
   "cell_type": "code",
   "execution_count": 23,
   "source": [
    "model = tf.keras.Sequential()\r\n",
    "model.add(tf.keras.layers.Dense(50, activation = tf.nn.relu, input_shape=(4,)))\r\n",
    "model.add(tf.keras.layers.Dense(100))\r\n",
    "model.add(tf.keras.layers.Dense(3, activation = tf.nn.softmax))"
   ],
   "outputs": [],
   "metadata": {}
  },
  {
   "cell_type": "code",
   "execution_count": 24,
   "source": [
    "# モデル構造の確認\r\n",
    "model.summary()"
   ],
   "outputs": [
    {
     "output_type": "stream",
     "name": "stdout",
     "text": [
      "Model: \"sequential_3\"\n",
      "_________________________________________________________________\n",
      "Layer (type)                 Output Shape              Param #   \n",
      "=================================================================\n",
      "dense_5 (Dense)              (None, 50)                250       \n",
      "_________________________________________________________________\n",
      "dense_6 (Dense)              (None, 100)               5100      \n",
      "_________________________________________________________________\n",
      "dense_7 (Dense)              (None, 3)                 303       \n",
      "=================================================================\n",
      "Total params: 5,653\n",
      "Trainable params: 5,653\n",
      "Non-trainable params: 0\n",
      "_________________________________________________________________\n"
     ]
    }
   ],
   "metadata": {}
  },
  {
   "cell_type": "code",
   "execution_count": 25,
   "source": [
    "# 損失が3回改善しなかったら早期学習終了\r\n",
    "callback = tf.keras.callbacks.EarlyStopping(monitor='loss', patience=3)"
   ],
   "outputs": [],
   "metadata": {}
  },
  {
   "cell_type": "code",
   "execution_count": 26,
   "source": [
    "# モデルのコンパイル\r\n",
    "model.compile(\r\n",
    "    loss='categorical_crossentropy',\r\n",
    "    optimizer=tf.optimizers.Adam(learning_rate=0.01),\r\n",
    "    metrics=['accuracy']\r\n",
    ")"
   ],
   "outputs": [],
   "metadata": {}
  },
  {
   "cell_type": "code",
   "execution_count": 27,
   "source": [
    "# 学習実行\r\n",
    "model.fit(\r\n",
    "    X_train,\r\n",
    "    y_train_one_hot,\r\n",
    "    batch_size=10,\r\n",
    "    epochs=100,\r\n",
    "    verbose=1,\r\n",
    "    callbacks=[callback],\r\n",
    "    validation_data=(X_val, y_val_one_hot)\r\n",
    ")"
   ],
   "outputs": [
    {
     "output_type": "stream",
     "name": "stdout",
     "text": [
      "Epoch 1/100\n",
      "10/10 [==============================] - 0s 19ms/step - loss: 1.1175 - accuracy: 0.2396 - val_loss: 1.0890 - val_accuracy: 0.3750\n",
      "Epoch 2/100\n",
      "10/10 [==============================] - 0s 3ms/step - loss: 1.0898 - accuracy: 0.3646 - val_loss: 1.0738 - val_accuracy: 0.3750\n",
      "Epoch 3/100\n",
      "10/10 [==============================] - 0s 3ms/step - loss: 1.0713 - accuracy: 0.5521 - val_loss: 1.0471 - val_accuracy: 0.3750\n",
      "Epoch 4/100\n",
      "10/10 [==============================] - 0s 3ms/step - loss: 1.0475 - accuracy: 0.4167 - val_loss: 0.9922 - val_accuracy: 0.5417\n",
      "Epoch 5/100\n",
      "10/10 [==============================] - 0s 3ms/step - loss: 0.9515 - accuracy: 0.6146 - val_loss: 0.9026 - val_accuracy: 0.6667\n",
      "Epoch 6/100\n",
      "10/10 [==============================] - 0s 3ms/step - loss: 0.9013 - accuracy: 0.6562 - val_loss: 0.7241 - val_accuracy: 0.7083\n",
      "Epoch 7/100\n",
      "10/10 [==============================] - 0s 3ms/step - loss: 0.7279 - accuracy: 0.6875 - val_loss: 0.6673 - val_accuracy: 0.7500\n",
      "Epoch 8/100\n",
      "10/10 [==============================] - 0s 5ms/step - loss: 0.6267 - accuracy: 0.6875 - val_loss: 0.4776 - val_accuracy: 0.7083\n",
      "Epoch 9/100\n",
      "10/10 [==============================] - 0s 5ms/step - loss: 0.4975 - accuracy: 0.7292 - val_loss: 0.4288 - val_accuracy: 0.7083\n",
      "Epoch 10/100\n",
      "10/10 [==============================] - 0s 3ms/step - loss: 0.3995 - accuracy: 0.8438 - val_loss: 0.3608 - val_accuracy: 0.8333\n",
      "Epoch 11/100\n",
      "10/10 [==============================] - 0s 5ms/step - loss: 0.3688 - accuracy: 0.8646 - val_loss: 0.3169 - val_accuracy: 0.9167\n",
      "Epoch 12/100\n",
      "10/10 [==============================] - 0s 3ms/step - loss: 0.3185 - accuracy: 0.9375 - val_loss: 0.2855 - val_accuracy: 0.9167\n",
      "Epoch 13/100\n",
      "10/10 [==============================] - 0s 6ms/step - loss: 0.2471 - accuracy: 0.9688 - val_loss: 0.2842 - val_accuracy: 0.8750\n",
      "Epoch 14/100\n",
      "10/10 [==============================] - 0s 4ms/step - loss: 0.2389 - accuracy: 0.8958 - val_loss: 0.2241 - val_accuracy: 0.9583\n",
      "Epoch 15/100\n",
      "10/10 [==============================] - 0s 5ms/step - loss: 0.1942 - accuracy: 0.9583 - val_loss: 0.2032 - val_accuracy: 0.9167\n",
      "Epoch 16/100\n",
      "10/10 [==============================] - 0s 6ms/step - loss: 0.1802 - accuracy: 0.9375 - val_loss: 0.2394 - val_accuracy: 0.8750\n",
      "Epoch 17/100\n",
      "10/10 [==============================] - 0s 5ms/step - loss: 0.1764 - accuracy: 0.9479 - val_loss: 0.1858 - val_accuracy: 0.9167\n",
      "Epoch 18/100\n",
      "10/10 [==============================] - 0s 6ms/step - loss: 0.1478 - accuracy: 0.9583 - val_loss: 0.2074 - val_accuracy: 0.9167\n",
      "Epoch 19/100\n",
      "10/10 [==============================] - 0s 4ms/step - loss: 0.1356 - accuracy: 0.9583 - val_loss: 0.1661 - val_accuracy: 0.9583\n",
      "Epoch 20/100\n",
      "10/10 [==============================] - 0s 5ms/step - loss: 0.1345 - accuracy: 0.9375 - val_loss: 0.3606 - val_accuracy: 0.8333\n",
      "Epoch 21/100\n",
      "10/10 [==============================] - 0s 5ms/step - loss: 0.1937 - accuracy: 0.9062 - val_loss: 0.2508 - val_accuracy: 0.8750\n",
      "Epoch 22/100\n",
      "10/10 [==============================] - 0s 5ms/step - loss: 0.1627 - accuracy: 0.9375 - val_loss: 0.2551 - val_accuracy: 0.8750\n",
      "Epoch 23/100\n",
      "10/10 [==============================] - 0s 5ms/step - loss: 0.2268 - accuracy: 0.9271 - val_loss: 0.1564 - val_accuracy: 0.9583\n"
     ]
    },
    {
     "output_type": "execute_result",
     "data": {
      "text/plain": [
       "<tensorflow.python.keras.callbacks.History at 0x20a6c19f7c0>"
      ]
     },
     "metadata": {},
     "execution_count": 27
    }
   ],
   "metadata": {
    "scrolled": true
   }
  },
  {
   "cell_type": "code",
   "execution_count": 28,
   "source": [
    "# 予測値の最大インデックスを出力クラスとする\r\n",
    "y_pred_proba = model.predict(X_test)\r\n",
    "y_pred = np.argmax(y_pred_proba, axis=1)\r\n",
    "print(\"y_pred\", y_pred)\r\n",
    "print('y_test', y_test.ravel())"
   ],
   "outputs": [
    {
     "output_type": "stream",
     "name": "stdout",
     "text": [
      "y_pred [2 1 0 2 0 2 0 1 1 1 2 1 1 1 1 0 1 1 0 0 2 1 0 0 2 0 0 1 1 0]\n",
      "y_test [2 1 0 2 0 2 0 1 1 1 2 1 1 1 1 0 1 1 0 0 2 1 0 0 2 0 0 1 1 0]\n"
     ]
    }
   ],
   "metadata": {}
  },
  {
   "cell_type": "code",
   "execution_count": 29,
   "source": [
    "# 損失とACC\r\n",
    "score = model.evaluate(X_test, y_test_one_hot, verbose=0)\r\n",
    "print('Train loss:', score[0])\r\n",
    "print('Train accuracy:', score[1])"
   ],
   "outputs": [
    {
     "output_type": "stream",
     "name": "stdout",
     "text": [
      "Train loss: 0.12088367342948914\n",
      "Train accuracy: 1.0\n"
     ]
    }
   ],
   "metadata": {}
  },
  {
   "cell_type": "markdown",
   "source": [
    "# 問題5"
   ],
   "metadata": {}
  },
  {
   "cell_type": "markdown",
   "source": [
    "## データの準備"
   ],
   "metadata": {}
  },
  {
   "cell_type": "code",
   "execution_count": 30,
   "source": [
    "dataset_path =\"train.csv\"\r\n",
    "df = pd.read_csv(dataset_path)\r\n",
    "\r\n",
    "y = df[\"SalePrice\"]\r\n",
    "X = df.loc[:, [\"GrLivArea\", \"YearBuilt\"]]\r\n",
    "y = np.array(y)\r\n",
    "X = np.array(X)\r\n",
    "y = y.astype(np.int)[:, np.newaxis]\r\n",
    "y = np.log(y)\r\n",
    "\r\n",
    "X_train, X_test, y_train, y_test = train_test_split(X, y, test_size=0.2, random_state=0)\r\n",
    "X_train, X_val, y_train, y_val = train_test_split(X_train, y_train, test_size=0.2, random_state=0)"
   ],
   "outputs": [
    {
     "output_type": "stream",
     "name": "stderr",
     "text": [
      "<ipython-input-30-1c57680061e4>:8: DeprecationWarning: `np.int` is a deprecated alias for the builtin `int`. To silence this warning, use `int` by itself. Doing this will not modify any behavior and is safe. When replacing `np.int`, you may wish to use e.g. `np.int64` or `np.int32` to specify the precision. If you wish to review your current use, check the release note link for additional information.\n",
      "Deprecated in NumPy 1.20; for more details and guidance: https://numpy.org/devdocs/release/1.20.0-notes.html#deprecations\n",
      "  y = y.astype(np.int)[:, np.newaxis]\n"
     ]
    }
   ],
   "metadata": {}
  },
  {
   "cell_type": "markdown",
   "source": [
    "## モデル定義"
   ],
   "metadata": {}
  },
  {
   "cell_type": "code",
   "execution_count": 31,
   "source": [
    "model = tf.keras.Sequential()\r\n",
    "model.add(tf.keras.layers.Dense(50, activation = tf.nn.relu, input_shape=(2,)))\r\n",
    "model.add(tf.keras.layers.Dense(100))\r\n",
    "model.add(tf.keras.layers.Dense(3, activation = tf.keras.activations.linear))"
   ],
   "outputs": [],
   "metadata": {}
  },
  {
   "cell_type": "code",
   "execution_count": 32,
   "source": [
    "# モデル構造の確認\r\n",
    "model.summary()"
   ],
   "outputs": [
    {
     "output_type": "stream",
     "name": "stdout",
     "text": [
      "Model: \"sequential_4\"\n",
      "_________________________________________________________________\n",
      "Layer (type)                 Output Shape              Param #   \n",
      "=================================================================\n",
      "dense_8 (Dense)              (None, 50)                150       \n",
      "_________________________________________________________________\n",
      "dense_9 (Dense)              (None, 100)               5100      \n",
      "_________________________________________________________________\n",
      "dense_10 (Dense)             (None, 3)                 303       \n",
      "=================================================================\n",
      "Total params: 5,553\n",
      "Trainable params: 5,553\n",
      "Non-trainable params: 0\n",
      "_________________________________________________________________\n"
     ]
    }
   ],
   "metadata": {}
  },
  {
   "cell_type": "code",
   "execution_count": 33,
   "source": [
    "# 損失が3回改善しなかったら早期学習終了\r\n",
    "callback = tf.keras.callbacks.EarlyStopping(monitor='loss', patience=3)"
   ],
   "outputs": [],
   "metadata": {}
  },
  {
   "cell_type": "code",
   "execution_count": 34,
   "source": [
    "# モデルのコンパイル\r\n",
    "model.compile(\r\n",
    "    loss='mse',\r\n",
    "    optimizer=tf.optimizers.Adam(learning_rate=0.01),\r\n",
    "    metrics=['mse']\r\n",
    ")"
   ],
   "outputs": [],
   "metadata": {}
  },
  {
   "cell_type": "code",
   "execution_count": 35,
   "source": [
    "# 学習実行\r\n",
    "model.fit(\r\n",
    "    X_train,\r\n",
    "    y_train,\r\n",
    "    batch_size=10,\r\n",
    "    epochs=100,\r\n",
    "    verbose=1,\r\n",
    "    callbacks=[callback],\r\n",
    "    validation_data=(X_val, y_val)\r\n",
    ")"
   ],
   "outputs": [
    {
     "output_type": "stream",
     "name": "stdout",
     "text": [
      "Epoch 1/100\n",
      "94/94 [==============================] - 0s 3ms/step - loss: 10664.7930 - mse: 10664.7930 - val_loss: 10.2554 - val_mse: 10.2554\n",
      "Epoch 2/100\n",
      "94/94 [==============================] - 0s 2ms/step - loss: 8.8311 - mse: 8.8311 - val_loss: 5.1220 - val_mse: 5.1220\n",
      "Epoch 3/100\n",
      "94/94 [==============================] - 0s 2ms/step - loss: 4.6454 - mse: 4.6454 - val_loss: 2.1140 - val_mse: 2.1140\n",
      "Epoch 4/100\n",
      "94/94 [==============================] - 0s 2ms/step - loss: 2.3891 - mse: 2.3891 - val_loss: 0.9837 - val_mse: 0.9837\n",
      "Epoch 5/100\n",
      "94/94 [==============================] - 0s 3ms/step - loss: 1.1244 - mse: 1.1244 - val_loss: 1.9387 - val_mse: 1.9387\n",
      "Epoch 6/100\n",
      "94/94 [==============================] - 0s 3ms/step - loss: 1.1501 - mse: 1.1501 - val_loss: 0.5399 - val_mse: 0.5399\n",
      "Epoch 7/100\n",
      "94/94 [==============================] - 0s 2ms/step - loss: 0.6936 - mse: 0.6936 - val_loss: 0.8943 - val_mse: 0.8943\n",
      "Epoch 8/100\n",
      "94/94 [==============================] - 0s 2ms/step - loss: 0.6152 - mse: 0.6152 - val_loss: 0.3259 - val_mse: 0.3259\n",
      "Epoch 9/100\n",
      "94/94 [==============================] - 0s 2ms/step - loss: 0.4194 - mse: 0.4194 - val_loss: 0.1873 - val_mse: 0.1873\n",
      "Epoch 10/100\n",
      "94/94 [==============================] - 0s 2ms/step - loss: 0.3135 - mse: 0.3135 - val_loss: 0.2375 - val_mse: 0.2375\n",
      "Epoch 11/100\n",
      "94/94 [==============================] - 0s 2ms/step - loss: 0.9359 - mse: 0.9359 - val_loss: 0.4495 - val_mse: 0.4495\n",
      "Epoch 12/100\n",
      "94/94 [==============================] - 0s 2ms/step - loss: 0.5248 - mse: 0.5248 - val_loss: 1.6182 - val_mse: 1.6182\n",
      "Epoch 13/100\n",
      "94/94 [==============================] - 0s 2ms/step - loss: 0.8182 - mse: 0.8182 - val_loss: 0.6751 - val_mse: 0.6751\n"
     ]
    },
    {
     "output_type": "execute_result",
     "data": {
      "text/plain": [
       "<tensorflow.python.keras.callbacks.History at 0x20a6a60a820>"
      ]
     },
     "metadata": {},
     "execution_count": 35
    }
   ],
   "metadata": {
    "scrolled": true
   }
  },
  {
   "cell_type": "code",
   "execution_count": 36,
   "source": [
    "# 予測値出力\r\n",
    "y_pred_proba = model.predict(X_test)\r\n",
    "y_pred = y_pred_proba\r\n",
    "print(\"y_pred\", y_pred.ravel()[:5])\r\n",
    "print('y_test', y_test.ravel()[:5])"
   ],
   "outputs": [
    {
     "output_type": "stream",
     "name": "stdout",
     "text": [
      "y_pred [11.802851  12.634994  10.108998  11.290144  11.7639885]\n",
      "y_test [12.20918779 11.79810441 11.60823564 12.16525065 11.38509209]\n"
     ]
    }
   ],
   "metadata": {}
  },
  {
   "cell_type": "code",
   "execution_count": 37,
   "source": [
    "# 損失とACC\r\n",
    "score = model.evaluate(X_test, y_test, verbose=0)\r\n",
    "print('loss (test):', score[0])\r\n",
    "print('Mean Squared Error (test):', score[1])"
   ],
   "outputs": [
    {
     "output_type": "stream",
     "name": "stdout",
     "text": [
      "loss (test): 10.607439994812012\n",
      "Mean Squared Error (test): 10.607439994812012\n"
     ]
    }
   ],
   "metadata": {}
  },
  {
   "cell_type": "markdown",
   "source": [
    "# 問題6"
   ],
   "metadata": {}
  },
  {
   "cell_type": "markdown",
   "source": [
    "## データ準備"
   ],
   "metadata": {}
  },
  {
   "cell_type": "code",
   "execution_count": 38,
   "source": [
    "# 読み込み\r\n",
    "(X_train, y_train), (X_test, y_test) = mnist.load_data()\r\n",
    "\r\n",
    "#　平滑化\r\n",
    "X_train = X_train.reshape(-1, 784)\r\n",
    "X_test = X_test.reshape(-1, 784)\r\n",
    "\r\n",
    "# 正規化\r\n",
    "X_train = X_train.astype(np.float)\r\n",
    "X_test = X_test.astype(np.float)\r\n",
    "X_train /= 255\r\n",
    "X_test /= 255\r\n",
    "\r\n",
    "# 変形\r\n",
    "y_train = y_train.astype(np.int)[:, np.newaxis]\r\n",
    "y_test = y_test.astype(np.int)[:, np.newaxis]\r\n",
    "\r\n",
    "# one-hotベクトル化\r\n",
    "enc = OneHotEncoder(handle_unknown='ignore', sparse=False)\r\n",
    "y_train_one_hot = enc.fit_transform(y_train[:])\r\n",
    "y_test_one_hot = enc.fit_transform(y_test[:])\r\n",
    "\r\n",
    "# 分割\r\n",
    "X_train, X_val, y_train, y_val = train_test_split(X_train, y_train_one_hot, test_size=0.2)"
   ],
   "outputs": [
    {
     "output_type": "stream",
     "name": "stderr",
     "text": [
      "<ipython-input-38-3971c584dfe3>:9: DeprecationWarning: `np.float` is a deprecated alias for the builtin `float`. To silence this warning, use `float` by itself. Doing this will not modify any behavior and is safe. If you specifically wanted the numpy scalar type, use `np.float64` here.\n",
      "Deprecated in NumPy 1.20; for more details and guidance: https://numpy.org/devdocs/release/1.20.0-notes.html#deprecations\n",
      "  X_train = X_train.astype(np.float)\n",
      "<ipython-input-38-3971c584dfe3>:10: DeprecationWarning: `np.float` is a deprecated alias for the builtin `float`. To silence this warning, use `float` by itself. Doing this will not modify any behavior and is safe. If you specifically wanted the numpy scalar type, use `np.float64` here.\n",
      "Deprecated in NumPy 1.20; for more details and guidance: https://numpy.org/devdocs/release/1.20.0-notes.html#deprecations\n",
      "  X_test = X_test.astype(np.float)\n",
      "<ipython-input-38-3971c584dfe3>:15: DeprecationWarning: `np.int` is a deprecated alias for the builtin `int`. To silence this warning, use `int` by itself. Doing this will not modify any behavior and is safe. When replacing `np.int`, you may wish to use e.g. `np.int64` or `np.int32` to specify the precision. If you wish to review your current use, check the release note link for additional information.\n",
      "Deprecated in NumPy 1.20; for more details and guidance: https://numpy.org/devdocs/release/1.20.0-notes.html#deprecations\n",
      "  y_train = y_train.astype(np.int)[:, np.newaxis]\n",
      "<ipython-input-38-3971c584dfe3>:16: DeprecationWarning: `np.int` is a deprecated alias for the builtin `int`. To silence this warning, use `int` by itself. Doing this will not modify any behavior and is safe. When replacing `np.int`, you may wish to use e.g. `np.int64` or `np.int32` to specify the precision. If you wish to review your current use, check the release note link for additional information.\n",
      "Deprecated in NumPy 1.20; for more details and guidance: https://numpy.org/devdocs/release/1.20.0-notes.html#deprecations\n",
      "  y_test = y_test.astype(np.int)[:, np.newaxis]\n"
     ]
    }
   ],
   "metadata": {}
  },
  {
   "cell_type": "markdown",
   "source": [
    "## モデル定義"
   ],
   "metadata": {}
  },
  {
   "cell_type": "code",
   "execution_count": 39,
   "source": [
    "model = tf.keras.Sequential()\r\n",
    "model.add(tf.keras.layers.Dense(50, activation = tf.nn.relu, input_shape=(784,)))\r\n",
    "model.add(tf.keras.layers.Dense(100))\r\n",
    "model.add(tf.keras.layers.Dense(10, activation = tf.nn.softmax))"
   ],
   "outputs": [],
   "metadata": {}
  },
  {
   "cell_type": "code",
   "execution_count": 40,
   "source": [
    "# 損失が3回改善しなかったら早期学習終了\r\n",
    "callback = tf.keras.callbacks.EarlyStopping(monitor='loss', patience=3)"
   ],
   "outputs": [],
   "metadata": {}
  },
  {
   "cell_type": "code",
   "execution_count": 41,
   "source": [
    "# モデルのコンパイル\r\n",
    "model.compile(\r\n",
    "    loss='categorical_crossentropy',\r\n",
    "    optimizer=tf.optimizers.Adam(learning_rate=0.01),\r\n",
    "    metrics=['accuracy']\r\n",
    ")"
   ],
   "outputs": [],
   "metadata": {}
  },
  {
   "cell_type": "code",
   "execution_count": 42,
   "source": [
    "# 学習実行\r\n",
    "model.fit(\r\n",
    "    X_train[:1000],\r\n",
    "    y_train[:1000],\r\n",
    "    batch_size=10,\r\n",
    "    epochs=100,\r\n",
    "    verbose=1,\r\n",
    "    callbacks=[callback],\r\n",
    "    validation_data=(X_val, y_val)\r\n",
    ")"
   ],
   "outputs": [
    {
     "output_type": "stream",
     "name": "stdout",
     "text": [
      "Epoch 1/100\n",
      "100/100 [==============================] - 2s 20ms/step - loss: 1.1006 - accuracy: 0.6640 - val_loss: 0.6760 - val_accuracy: 0.7893\n",
      "Epoch 2/100\n",
      "100/100 [==============================] - 2s 20ms/step - loss: 0.5357 - accuracy: 0.8330 - val_loss: 0.7307 - val_accuracy: 0.7933\n",
      "Epoch 3/100\n",
      "100/100 [==============================] - 2s 20ms/step - loss: 0.4875 - accuracy: 0.8560 - val_loss: 0.7576 - val_accuracy: 0.8017\n",
      "Epoch 4/100\n",
      "100/100 [==============================] - 2s 20ms/step - loss: 0.3722 - accuracy: 0.8780 - val_loss: 0.5802 - val_accuracy: 0.8620\n",
      "Epoch 5/100\n",
      "100/100 [==============================] - 2s 19ms/step - loss: 0.2032 - accuracy: 0.9320 - val_loss: 0.5259 - val_accuracy: 0.8704\n",
      "Epoch 6/100\n",
      "100/100 [==============================] - 2s 20ms/step - loss: 0.2137 - accuracy: 0.9340 - val_loss: 0.6747 - val_accuracy: 0.8608\n",
      "Epoch 7/100\n",
      "100/100 [==============================] - 2s 20ms/step - loss: 0.2170 - accuracy: 0.9420 - val_loss: 0.6722 - val_accuracy: 0.8645\n",
      "Epoch 8/100\n",
      "100/100 [==============================] - 2s 20ms/step - loss: 0.2662 - accuracy: 0.9200 - val_loss: 1.4491 - val_accuracy: 0.7825\n"
     ]
    },
    {
     "output_type": "execute_result",
     "data": {
      "text/plain": [
       "<tensorflow.python.keras.callbacks.History at 0x20a6bf4f9d0>"
      ]
     },
     "metadata": {},
     "execution_count": 42
    }
   ],
   "metadata": {
    "scrolled": true
   }
  },
  {
   "cell_type": "code",
   "execution_count": 43,
   "source": [
    "# 予測値出力\r\n",
    "y_pred_proba = model.predict(X_test)\r\n",
    "y_pred = np.argmax(y_pred_proba, axis=1)\r\n",
    "print(\"y_pred\", y_pred[:10])\r\n",
    "print('y_test', y_test.ravel()[:10])"
   ],
   "outputs": [
    {
     "output_type": "stream",
     "name": "stdout",
     "text": [
      "y_pred [7 2 1 0 4 1 9 9 6 9]\n",
      "y_test [7 2 1 0 4 1 4 9 5 9]\n"
     ]
    }
   ],
   "metadata": {}
  },
  {
   "cell_type": "code",
   "execution_count": 44,
   "source": [
    "# 損失とACC\r\n",
    "score = model.evaluate(X_test, y_test_one_hot, verbose=0)\r\n",
    "print('Test loss:', score[0])\r\n",
    "print('Test accuracy:', score[1])"
   ],
   "outputs": [
    {
     "output_type": "stream",
     "name": "stdout",
     "text": [
      "Test loss: 1.4795786142349243\n",
      "Test accuracy: 0.7802000045776367\n"
     ]
    }
   ],
   "metadata": {}
  }
 ],
 "metadata": {
  "kernelspec": {
   "name": "python3",
   "display_name": "Python 3.8.8 64-bit ('base': conda)"
  },
  "language_info": {
   "codemirror_mode": {
    "name": "ipython",
    "version": 3
   },
   "file_extension": ".py",
   "mimetype": "text/x-python",
   "name": "python",
   "nbconvert_exporter": "python",
   "pygments_lexer": "ipython3",
   "version": "3.8.8"
  },
  "interpreter": {
   "hash": "c0e7542060152442cda46a8ea5ee9890ba277873b640c3e9a10ae027319e8fa8"
  }
 },
 "nbformat": 4,
 "nbformat_minor": 2
}